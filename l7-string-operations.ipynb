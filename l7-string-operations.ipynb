{
 "cells": [
  {
   "cell_type": "markdown",
   "id": "ba9ce190",
   "metadata": {
    "papermill": {
     "duration": 0.022871,
     "end_time": "2022-03-06T14:16:40.004515",
     "exception": false,
     "start_time": "2022-03-06T14:16:39.981644",
     "status": "completed"
    },
    "tags": []
   },
   "source": [
    "# Introduction \n",
    "\n",
    "Hi Folks,\n",
    "We are starting the Full DataFlow Journey in which we are covering everything like ​​Importing Data, Cleaning Data, Merging, Joining, and Concatenating Data, GroupBy Operations, Reshaping and Pivoting DataFrames, Data Preparation and Feature Creation, etc.<br><br>\n",
    "\n",
    "### Lecture Agenda\n",
    "In this particular lecture we are going to learn why and how to clean the text data using Python and Pandas\n",
    "\n",
    "#### Technologies Used\n",
    "Python, Pandas\n",
    "\n",
    "\n",
    "### Data Used\n",
    "Data Professionals Salary - 2022\n",
    "Salaries of Data Scientists, ML Engineers, Data Analysts, Data Engineers in 2022\n",
    "\n",
    "### Getting Started\n",
    "\n",
    "we will walk you through this part of the pandas' library and show you the most useful pandas string processing functions. You will learn how to use:\n",
    "* upper()\n",
    "* lower()\n",
    "* isupper()\n",
    "* slower()\n",
    "* isnumeric()\n",
    "* replace()\n",
    "* split()\n",
    "* contains()\n",
    "* find()\n",
    "* findall()\n",
    "\n",
    "\n",
    "\n",
    "[Official Documentation](https://pandas.pydata.org/pandas-docs/stable/user_guide/text.html)"
   ]
  },
  {
   "cell_type": "code",
   "execution_count": 1,
   "id": "18c9b3f3",
   "metadata": {
    "_cell_guid": "b1076dfc-b9ad-4769-8c92-a6c4dae69d19",
    "_uuid": "8f2839f25d086af736a60e9eeb907d3b93b6e0e5",
    "execution": {
     "iopub.execute_input": "2022-03-06T14:16:40.061290Z",
     "iopub.status.busy": "2022-03-06T14:16:40.060547Z",
     "iopub.status.idle": "2022-03-06T14:16:40.076967Z",
     "shell.execute_reply": "2022-03-06T14:16:40.077466Z",
     "shell.execute_reply.started": "2022-03-06T14:03:31.204651Z"
    },
    "papermill": {
     "duration": 0.048812,
     "end_time": "2022-03-06T14:16:40.077816",
     "exception": false,
     "start_time": "2022-03-06T14:16:40.029004",
     "status": "completed"
    },
    "tags": []
   },
   "outputs": [
    {
     "name": "stdout",
     "output_type": "stream",
     "text": [
      "/kaggle/input/analytics-industry-salaries-2022-india/info.txt\n",
      "/kaggle/input/analytics-industry-salaries-2022-india/Salary Dataset.csv\n"
     ]
    }
   ],
   "source": [
    "# This Python 3 environment comes with many helpful analytics libraries installed\n",
    "# It is defined by the kaggle/python Docker image: https://github.com/kaggle/docker-python\n",
    "# For example, here's several helpful packages to load\n",
    "\n",
    "import numpy as np # linear algebra\n",
    "import pandas as pd # data processing, CSV file I/O (e.g. pd.read_csv)\n",
    "\n",
    "# Input data files are available in the read-only \"../input/\" directory\n",
    "# For example, running this (by clicking run or pressing Shift+Enter) will list all files under the input directory\n",
    "\n",
    "import os\n",
    "for dirname, _, filenames in os.walk('/kaggle/input'):\n",
    "    for filename in filenames:\n",
    "        print(os.path.join(dirname, filename))\n",
    "\n",
    "# You can write up to 20GB to the current directory (/kaggle/working/) that gets preserved as output when you create a version using \"Save & Run All\" \n",
    "# You can also write temporary files to /kaggle/temp/, but they won't be saved outside of the current session"
   ]
  },
  {
   "cell_type": "code",
   "execution_count": 2,
   "id": "166d2cb2",
   "metadata": {
    "execution": {
     "iopub.execute_input": "2022-03-06T14:16:40.126996Z",
     "iopub.status.busy": "2022-03-06T14:16:40.126353Z",
     "iopub.status.idle": "2022-03-06T14:16:40.156438Z",
     "shell.execute_reply": "2022-03-06T14:16:40.156981Z",
     "shell.execute_reply.started": "2022-03-06T14:03:31.242123Z"
    },
    "papermill": {
     "duration": 0.05637,
     "end_time": "2022-03-06T14:16:40.157189",
     "exception": false,
     "start_time": "2022-03-06T14:16:40.100819",
     "status": "completed"
    },
    "tags": []
   },
   "outputs": [],
   "source": [
    "df=pd.read_csv(\"../input/analytics-industry-salaries-2022-india/Salary Dataset.csv\")"
   ]
  },
  {
   "cell_type": "code",
   "execution_count": 3,
   "id": "7486b1ec",
   "metadata": {
    "execution": {
     "iopub.execute_input": "2022-03-06T14:16:40.210950Z",
     "iopub.status.busy": "2022-03-06T14:16:40.209898Z",
     "iopub.status.idle": "2022-03-06T14:16:40.231533Z",
     "shell.execute_reply": "2022-03-06T14:16:40.231020Z",
     "shell.execute_reply.started": "2022-03-06T14:03:31.271913Z"
    },
    "papermill": {
     "duration": 0.052261,
     "end_time": "2022-03-06T14:16:40.231690",
     "exception": false,
     "start_time": "2022-03-06T14:16:40.179429",
     "status": "completed"
    },
    "tags": []
   },
   "outputs": [
    {
     "data": {
      "text/html": [
       "<div>\n",
       "<style scoped>\n",
       "    .dataframe tbody tr th:only-of-type {\n",
       "        vertical-align: middle;\n",
       "    }\n",
       "\n",
       "    .dataframe tbody tr th {\n",
       "        vertical-align: top;\n",
       "    }\n",
       "\n",
       "    .dataframe thead th {\n",
       "        text-align: right;\n",
       "    }\n",
       "</style>\n",
       "<table border=\"1\" class=\"dataframe\">\n",
       "  <thead>\n",
       "    <tr style=\"text-align: right;\">\n",
       "      <th></th>\n",
       "      <th>Company Name</th>\n",
       "      <th>Job Title</th>\n",
       "      <th>Salaries Reported</th>\n",
       "      <th>Location</th>\n",
       "      <th>Salary</th>\n",
       "    </tr>\n",
       "  </thead>\n",
       "  <tbody>\n",
       "    <tr>\n",
       "      <th>0</th>\n",
       "      <td>Mu Sigma</td>\n",
       "      <td>Data Scientist</td>\n",
       "      <td>105.0</td>\n",
       "      <td>Bangalore</td>\n",
       "      <td>₹6,48,573/yr</td>\n",
       "    </tr>\n",
       "    <tr>\n",
       "      <th>1</th>\n",
       "      <td>IBM</td>\n",
       "      <td>Data Scientist</td>\n",
       "      <td>95.0</td>\n",
       "      <td>Bangalore</td>\n",
       "      <td>₹11,91,950/yr</td>\n",
       "    </tr>\n",
       "    <tr>\n",
       "      <th>2</th>\n",
       "      <td>Tata Consultancy Services</td>\n",
       "      <td>Data Scientist</td>\n",
       "      <td>66.0</td>\n",
       "      <td>Bangalore</td>\n",
       "      <td>₹8,36,874/yr</td>\n",
       "    </tr>\n",
       "    <tr>\n",
       "      <th>3</th>\n",
       "      <td>Impact Analytics</td>\n",
       "      <td>Data Scientist</td>\n",
       "      <td>40.0</td>\n",
       "      <td>Bangalore</td>\n",
       "      <td>₹6,69,578/yr</td>\n",
       "    </tr>\n",
       "    <tr>\n",
       "      <th>4</th>\n",
       "      <td>Accenture</td>\n",
       "      <td>Data Scientist</td>\n",
       "      <td>32.0</td>\n",
       "      <td>Bangalore</td>\n",
       "      <td>₹9,44,110/yr</td>\n",
       "    </tr>\n",
       "    <tr>\n",
       "      <th>...</th>\n",
       "      <td>...</td>\n",
       "      <td>...</td>\n",
       "      <td>...</td>\n",
       "      <td>...</td>\n",
       "      <td>...</td>\n",
       "    </tr>\n",
       "    <tr>\n",
       "      <th>4339</th>\n",
       "      <td>TaiyōAI</td>\n",
       "      <td>Machine Learning Scientist</td>\n",
       "      <td>1.0</td>\n",
       "      <td>Mumbai</td>\n",
       "      <td>₹5,180/mo</td>\n",
       "    </tr>\n",
       "    <tr>\n",
       "      <th>4340</th>\n",
       "      <td>Decimal Point Analytics</td>\n",
       "      <td>Machine Learning Developer</td>\n",
       "      <td>1.0</td>\n",
       "      <td>Mumbai</td>\n",
       "      <td>₹7,51,286/yr</td>\n",
       "    </tr>\n",
       "    <tr>\n",
       "      <th>4341</th>\n",
       "      <td>MyWays</td>\n",
       "      <td>Machine Learning Developer</td>\n",
       "      <td>1.0</td>\n",
       "      <td>Mumbai</td>\n",
       "      <td>₹4,10,952/yr</td>\n",
       "    </tr>\n",
       "    <tr>\n",
       "      <th>4342</th>\n",
       "      <td>Market Pulse Technologies</td>\n",
       "      <td>Software Engineer - Machine Learning</td>\n",
       "      <td>1.0</td>\n",
       "      <td>Mumbai</td>\n",
       "      <td>₹16,12,324/yr</td>\n",
       "    </tr>\n",
       "    <tr>\n",
       "      <th>4343</th>\n",
       "      <td>vPhrase</td>\n",
       "      <td>Machine Learning Engineer</td>\n",
       "      <td>1.0</td>\n",
       "      <td>Mumbai</td>\n",
       "      <td>₹9,39,843/yr</td>\n",
       "    </tr>\n",
       "  </tbody>\n",
       "</table>\n",
       "<p>4344 rows × 5 columns</p>\n",
       "</div>"
      ],
      "text/plain": [
       "                   Company Name                             Job Title  \\\n",
       "0                      Mu Sigma                        Data Scientist   \n",
       "1                           IBM                        Data Scientist   \n",
       "2     Tata Consultancy Services                        Data Scientist   \n",
       "3              Impact Analytics                        Data Scientist   \n",
       "4                     Accenture                        Data Scientist   \n",
       "...                         ...                                   ...   \n",
       "4339                    TaiyōAI            Machine Learning Scientist   \n",
       "4340    Decimal Point Analytics            Machine Learning Developer   \n",
       "4341                     MyWays            Machine Learning Developer   \n",
       "4342  Market Pulse Technologies  Software Engineer - Machine Learning   \n",
       "4343                    vPhrase             Machine Learning Engineer   \n",
       "\n",
       "      Salaries Reported   Location         Salary  \n",
       "0                 105.0  Bangalore   ₹6,48,573/yr  \n",
       "1                  95.0  Bangalore  ₹11,91,950/yr  \n",
       "2                  66.0  Bangalore   ₹8,36,874/yr  \n",
       "3                  40.0  Bangalore   ₹6,69,578/yr  \n",
       "4                  32.0  Bangalore   ₹9,44,110/yr  \n",
       "...                 ...        ...            ...  \n",
       "4339                1.0     Mumbai      ₹5,180/mo  \n",
       "4340                1.0     Mumbai   ₹7,51,286/yr  \n",
       "4341                1.0     Mumbai   ₹4,10,952/yr  \n",
       "4342                1.0     Mumbai  ₹16,12,324/yr  \n",
       "4343                1.0     Mumbai   ₹9,39,843/yr  \n",
       "\n",
       "[4344 rows x 5 columns]"
      ]
     },
     "execution_count": 3,
     "metadata": {},
     "output_type": "execute_result"
    }
   ],
   "source": [
    "df"
   ]
  },
  {
   "cell_type": "code",
   "execution_count": 4,
   "id": "8e86699c",
   "metadata": {
    "execution": {
     "iopub.execute_input": "2022-03-06T14:16:40.286875Z",
     "iopub.status.busy": "2022-03-06T14:16:40.286206Z",
     "iopub.status.idle": "2022-03-06T14:16:40.294936Z",
     "shell.execute_reply": "2022-03-06T14:16:40.294287Z",
     "shell.execute_reply.started": "2022-03-06T14:03:31.303456Z"
    },
    "papermill": {
     "duration": 0.040779,
     "end_time": "2022-03-06T14:16:40.295093",
     "exception": false,
     "start_time": "2022-03-06T14:16:40.254314",
     "status": "completed"
    },
    "tags": []
   },
   "outputs": [
    {
     "data": {
      "text/plain": [
       "Tata Consultancy Services     41\n",
       "Amazon                        32\n",
       "Accenture                     30\n",
       "Google                        27\n",
       "Fresher                       26\n",
       "                              ..\n",
       "URS Technologies Solutions     1\n",
       "Aniket Sonawane                1\n",
       "Brahman bhetun                 1\n",
       "Airavaat Car Rentals           1\n",
       "Market Pulse Technologies      1\n",
       "Name: Company Name, Length: 2529, dtype: int64"
      ]
     },
     "execution_count": 4,
     "metadata": {},
     "output_type": "execute_result"
    }
   ],
   "source": [
    "df[\"Company Name\"].value_counts()"
   ]
  },
  {
   "cell_type": "code",
   "execution_count": 5,
   "id": "e9deb2ea",
   "metadata": {
    "execution": {
     "iopub.execute_input": "2022-03-06T14:16:40.353009Z",
     "iopub.status.busy": "2022-03-06T14:16:40.351148Z",
     "iopub.status.idle": "2022-03-06T14:16:40.364346Z",
     "shell.execute_reply": "2022-03-06T14:16:40.364811Z",
     "shell.execute_reply.started": "2022-03-06T14:03:31.321011Z"
    },
    "papermill": {
     "duration": 0.045238,
     "end_time": "2022-03-06T14:16:40.365020",
     "exception": false,
     "start_time": "2022-03-06T14:16:40.319782",
     "status": "completed"
    },
    "tags": []
   },
   "outputs": [
    {
     "name": "stdout",
     "output_type": "stream",
     "text": [
      "<class 'pandas.core.frame.DataFrame'>\n",
      "RangeIndex: 4344 entries, 0 to 4343\n",
      "Data columns (total 5 columns):\n",
      " #   Column             Non-Null Count  Dtype  \n",
      "---  ------             --------------  -----  \n",
      " 0   Company Name       4341 non-null   object \n",
      " 1   Job Title          4344 non-null   object \n",
      " 2   Salaries Reported  4342 non-null   float64\n",
      " 3   Location           4344 non-null   object \n",
      " 4   Salary             4344 non-null   object \n",
      "dtypes: float64(1), object(4)\n",
      "memory usage: 169.8+ KB\n"
     ]
    }
   ],
   "source": [
    "df.info()"
   ]
  },
  {
   "cell_type": "code",
   "execution_count": 6,
   "id": "0cefac6c",
   "metadata": {
    "execution": {
     "iopub.execute_input": "2022-03-06T14:16:40.419135Z",
     "iopub.status.busy": "2022-03-06T14:16:40.418377Z",
     "iopub.status.idle": "2022-03-06T14:16:40.426831Z",
     "shell.execute_reply": "2022-03-06T14:16:40.427428Z",
     "shell.execute_reply.started": "2022-03-06T14:03:31.344294Z"
    },
    "papermill": {
     "duration": 0.039128,
     "end_time": "2022-03-06T14:16:40.427668",
     "exception": false,
     "start_time": "2022-03-06T14:16:40.388540",
     "status": "completed"
    },
    "tags": []
   },
   "outputs": [
    {
     "data": {
      "text/plain": [
       "0        ₹6,48,573/yr\n",
       "1       ₹11,91,950/yr\n",
       "2        ₹8,36,874/yr\n",
       "3        ₹6,69,578/yr\n",
       "4        ₹9,44,110/yr\n",
       "            ...      \n",
       "4339        ₹5,180/mo\n",
       "4340     ₹7,51,286/yr\n",
       "4341     ₹4,10,952/yr\n",
       "4342    ₹16,12,324/yr\n",
       "4343     ₹9,39,843/yr\n",
       "Name: Salary, Length: 4344, dtype: object"
      ]
     },
     "execution_count": 6,
     "metadata": {},
     "output_type": "execute_result"
    }
   ],
   "source": [
    "df.Salary"
   ]
  },
  {
   "cell_type": "code",
   "execution_count": 7,
   "id": "8a3662e6",
   "metadata": {
    "execution": {
     "iopub.execute_input": "2022-03-06T14:16:40.495415Z",
     "iopub.status.busy": "2022-03-06T14:16:40.494665Z",
     "iopub.status.idle": "2022-03-06T14:16:40.497249Z",
     "shell.execute_reply": "2022-03-06T14:16:40.497675Z",
     "shell.execute_reply.started": "2022-03-06T14:03:48.442923Z"
    },
    "papermill": {
     "duration": 0.036657,
     "end_time": "2022-03-06T14:16:40.497849",
     "exception": false,
     "start_time": "2022-03-06T14:16:40.461192",
     "status": "completed"
    },
    "tags": []
   },
   "outputs": [
    {
     "data": {
      "text/plain": [
       "Index(['Company Name', 'Job Title', 'Salaries Reported', 'Location', 'Salary'], dtype='object')"
      ]
     },
     "execution_count": 7,
     "metadata": {},
     "output_type": "execute_result"
    }
   ],
   "source": [
    "df.columns"
   ]
  },
  {
   "cell_type": "markdown",
   "id": "2f02c50e",
   "metadata": {
    "papermill": {
     "duration": 0.023312,
     "end_time": "2022-03-06T14:16:40.544996",
     "exception": false,
     "start_time": "2022-03-06T14:16:40.521684",
     "status": "completed"
    },
    "tags": []
   },
   "source": [
    "# 1. upper()\n",
    "\n",
    "\n",
    "The first function that we will discuss brings all the letters in a string to the upper case. We can apply it to the name column using the following code."
   ]
  },
  {
   "cell_type": "code",
   "execution_count": 8,
   "id": "d4574e2c",
   "metadata": {
    "execution": {
     "iopub.execute_input": "2022-03-06T14:16:40.596188Z",
     "iopub.status.busy": "2022-03-06T14:16:40.595497Z",
     "iopub.status.idle": "2022-03-06T14:16:40.604380Z",
     "shell.execute_reply": "2022-03-06T14:16:40.604862Z",
     "shell.execute_reply.started": "2022-03-06T14:04:07.205947Z"
    },
    "papermill": {
     "duration": 0.036391,
     "end_time": "2022-03-06T14:16:40.605077",
     "exception": false,
     "start_time": "2022-03-06T14:16:40.568686",
     "status": "completed"
    },
    "tags": []
   },
   "outputs": [
    {
     "data": {
      "text/plain": [
       "0                        MU SIGMA\n",
       "1                             IBM\n",
       "2       TATA CONSULTANCY SERVICES\n",
       "3                IMPACT ANALYTICS\n",
       "4                       ACCENTURE\n",
       "                  ...            \n",
       "4339                      TAIYŌAI\n",
       "4340      DECIMAL POINT ANALYTICS\n",
       "4341                       MYWAYS\n",
       "4342    MARKET PULSE TECHNOLOGIES\n",
       "4343                      VPHRASE\n",
       "Name: Company Name, Length: 4344, dtype: object"
      ]
     },
     "execution_count": 8,
     "metadata": {},
     "output_type": "execute_result"
    }
   ],
   "source": [
    "df[\"Company Name\"].str.upper()"
   ]
  },
  {
   "cell_type": "markdown",
   "id": "d1389519",
   "metadata": {
    "papermill": {
     "duration": 0.023746,
     "end_time": "2022-03-06T14:16:40.653228",
     "exception": false,
     "start_time": "2022-03-06T14:16:40.629482",
     "status": "completed"
    },
    "tags": []
   },
   "source": [
    "# 2. lower()\n",
    "\n",
    "\n",
    "Lower() function works similarly to the upper() function but it does exactly the opposite, it lowers all characters in a string. Here you can see the results of calling it on the name column."
   ]
  },
  {
   "cell_type": "code",
   "execution_count": 9,
   "id": "f03d8791",
   "metadata": {
    "execution": {
     "iopub.execute_input": "2022-03-06T14:16:40.710970Z",
     "iopub.status.busy": "2022-03-06T14:16:40.703711Z",
     "iopub.status.idle": "2022-03-06T14:16:40.714358Z",
     "shell.execute_reply": "2022-03-06T14:16:40.713837Z",
     "shell.execute_reply.started": "2022-03-06T14:05:21.268642Z"
    },
    "papermill": {
     "duration": 0.037307,
     "end_time": "2022-03-06T14:16:40.714508",
     "exception": false,
     "start_time": "2022-03-06T14:16:40.677201",
     "status": "completed"
    },
    "tags": []
   },
   "outputs": [
    {
     "data": {
      "text/plain": [
       "0                             data scientist\n",
       "1                             data scientist\n",
       "2                             data scientist\n",
       "3                             data scientist\n",
       "4                             data scientist\n",
       "                        ...                 \n",
       "4339              machine learning scientist\n",
       "4340              machine learning developer\n",
       "4341              machine learning developer\n",
       "4342    software engineer - machine learning\n",
       "4343               machine learning engineer\n",
       "Name: Job Title, Length: 4344, dtype: object"
      ]
     },
     "execution_count": 9,
     "metadata": {},
     "output_type": "execute_result"
    }
   ],
   "source": [
    "df[\"Job Title\"].str.lower()"
   ]
  },
  {
   "cell_type": "markdown",
   "id": "ad889a28",
   "metadata": {
    "papermill": {
     "duration": 0.024142,
     "end_time": "2022-03-06T14:16:40.763212",
     "exception": false,
     "start_time": "2022-03-06T14:16:40.739070",
     "status": "completed"
    },
    "tags": []
   },
   "source": [
    "# 3. isupper()\n",
    "\n",
    "\n",
    "This function can be called in the same way as upper() or lower(), following '.str' on the column. It will check every string entry in a column if it has all its characters capitalized. Let's call it on the name column again."
   ]
  },
  {
   "cell_type": "code",
   "execution_count": 10,
   "id": "d59d54c4",
   "metadata": {
    "execution": {
     "iopub.execute_input": "2022-03-06T14:16:40.821745Z",
     "iopub.status.busy": "2022-03-06T14:16:40.821122Z",
     "iopub.status.idle": "2022-03-06T14:16:40.824680Z",
     "shell.execute_reply": "2022-03-06T14:16:40.825108Z",
     "shell.execute_reply.started": "2022-03-06T14:06:15.106226Z"
    },
    "papermill": {
     "duration": 0.037668,
     "end_time": "2022-03-06T14:16:40.825307",
     "exception": false,
     "start_time": "2022-03-06T14:16:40.787639",
     "status": "completed"
    },
    "tags": []
   },
   "outputs": [
    {
     "data": {
      "text/plain": [
       "0       False\n",
       "1       False\n",
       "2       False\n",
       "3       False\n",
       "4       False\n",
       "        ...  \n",
       "4339    False\n",
       "4340    False\n",
       "4341    False\n",
       "4342    False\n",
       "4343    False\n",
       "Name: Job Title, Length: 4344, dtype: bool"
      ]
     },
     "execution_count": 10,
     "metadata": {},
     "output_type": "execute_result"
    }
   ],
   "source": [
    "df[\"Job Title\"].str.isupper()"
   ]
  },
  {
   "cell_type": "markdown",
   "id": "0779b567",
   "metadata": {
    "papermill": {
     "duration": 0.024461,
     "end_time": "2022-03-06T14:16:40.874802",
     "exception": false,
     "start_time": "2022-03-06T14:16:40.850341",
     "status": "completed"
    },
    "tags": []
   },
   "source": [
    "# 4. islower()\n",
    "\n",
    "\n",
    "This function works the same as isupper() but it checks for the opposite characteristic if all characters are lower case. "
   ]
  },
  {
   "cell_type": "code",
   "execution_count": 11,
   "id": "8f07d66d",
   "metadata": {
    "execution": {
     "iopub.execute_input": "2022-03-06T14:16:40.934598Z",
     "iopub.status.busy": "2022-03-06T14:16:40.933766Z",
     "iopub.status.idle": "2022-03-06T14:16:40.936523Z",
     "shell.execute_reply": "2022-03-06T14:16:40.936985Z",
     "shell.execute_reply.started": "2022-03-06T14:06:41.851633Z"
    },
    "papermill": {
     "duration": 0.037155,
     "end_time": "2022-03-06T14:16:40.937182",
     "exception": false,
     "start_time": "2022-03-06T14:16:40.900027",
     "status": "completed"
    },
    "tags": []
   },
   "outputs": [
    {
     "data": {
      "text/plain": [
       "0       False\n",
       "1       False\n",
       "2       False\n",
       "3       False\n",
       "4       False\n",
       "        ...  \n",
       "4339    False\n",
       "4340    False\n",
       "4341    False\n",
       "4342    False\n",
       "4343    False\n",
       "Name: Job Title, Length: 4344, dtype: bool"
      ]
     },
     "execution_count": 11,
     "metadata": {},
     "output_type": "execute_result"
    }
   ],
   "source": [
    "df[\"Job Title\"].str.islower()"
   ]
  },
  {
   "cell_type": "markdown",
   "id": "c69e1d9b",
   "metadata": {
    "papermill": {
     "duration": 0.02472,
     "end_time": "2022-03-06T14:16:40.987372",
     "exception": false,
     "start_time": "2022-03-06T14:16:40.962652",
     "status": "completed"
    },
    "tags": []
   },
   "source": [
    "# 5. isnumeric()\n",
    "\n",
    "\n",
    "This function checks if the characters in the string are actually digits. All of them have to be digits in order for isnumeric() to return True. "
   ]
  },
  {
   "cell_type": "code",
   "execution_count": 12,
   "id": "d8358b5d",
   "metadata": {
    "execution": {
     "iopub.execute_input": "2022-03-06T14:16:41.041082Z",
     "iopub.status.busy": "2022-03-06T14:16:41.040386Z",
     "iopub.status.idle": "2022-03-06T14:16:41.048534Z",
     "shell.execute_reply": "2022-03-06T14:16:41.049013Z",
     "shell.execute_reply.started": "2022-03-06T14:08:16.345973Z"
    },
    "papermill": {
     "duration": 0.036791,
     "end_time": "2022-03-06T14:16:41.049196",
     "exception": false,
     "start_time": "2022-03-06T14:16:41.012405",
     "status": "completed"
    },
    "tags": []
   },
   "outputs": [
    {
     "data": {
      "text/plain": [
       "0       False\n",
       "1       False\n",
       "2       False\n",
       "3       False\n",
       "4       False\n",
       "        ...  \n",
       "4339    False\n",
       "4340    False\n",
       "4341    False\n",
       "4342    False\n",
       "4343    False\n",
       "Name: Job Title, Length: 4344, dtype: bool"
      ]
     },
     "execution_count": 12,
     "metadata": {},
     "output_type": "execute_result"
    }
   ],
   "source": [
    "df[\"Job Title\"].str.islower()"
   ]
  },
  {
   "cell_type": "code",
   "execution_count": 13,
   "id": "a04d45c0",
   "metadata": {
    "execution": {
     "iopub.execute_input": "2022-03-06T14:16:41.103648Z",
     "iopub.status.busy": "2022-03-06T14:16:41.102964Z",
     "iopub.status.idle": "2022-03-06T14:16:41.112342Z",
     "shell.execute_reply": "2022-03-06T14:16:41.112861Z"
    },
    "papermill": {
     "duration": 0.038508,
     "end_time": "2022-03-06T14:16:41.113064",
     "exception": false,
     "start_time": "2022-03-06T14:16:41.074556",
     "status": "completed"
    },
    "tags": []
   },
   "outputs": [
    {
     "data": {
      "text/plain": [
       "0       True\n",
       "1       True\n",
       "2       True\n",
       "3       True\n",
       "4       True\n",
       "        ... \n",
       "4339    True\n",
       "4340    True\n",
       "4341    True\n",
       "4342    True\n",
       "4343    True\n",
       "Name: Salary, Length: 4344, dtype: bool"
      ]
     },
     "execution_count": 13,
     "metadata": {},
     "output_type": "execute_result"
    }
   ],
   "source": [
    "df[\"Salary\"].str.islower()"
   ]
  },
  {
   "cell_type": "code",
   "execution_count": 14,
   "id": "151241d6",
   "metadata": {
    "execution": {
     "iopub.execute_input": "2022-03-06T14:16:41.168761Z",
     "iopub.status.busy": "2022-03-06T14:16:41.167795Z",
     "iopub.status.idle": "2022-03-06T14:16:41.171470Z",
     "shell.execute_reply": "2022-03-06T14:16:41.171957Z",
     "shell.execute_reply.started": "2022-03-06T14:09:16.383389Z"
    },
    "papermill": {
     "duration": 0.033301,
     "end_time": "2022-03-06T14:16:41.172145",
     "exception": false,
     "start_time": "2022-03-06T14:16:41.138844",
     "status": "completed"
    },
    "tags": []
   },
   "outputs": [],
   "source": [
    "#df[\"Salaries Reported\"].str.islower()"
   ]
  },
  {
   "cell_type": "code",
   "execution_count": 15,
   "id": "e42ff7a0",
   "metadata": {
    "execution": {
     "iopub.execute_input": "2022-03-06T14:16:41.227913Z",
     "iopub.status.busy": "2022-03-06T14:16:41.227261Z",
     "iopub.status.idle": "2022-03-06T14:16:41.235552Z",
     "shell.execute_reply": "2022-03-06T14:16:41.236038Z",
     "shell.execute_reply.started": "2022-03-06T14:08:36.860976Z"
    },
    "papermill": {
     "duration": 0.038188,
     "end_time": "2022-03-06T14:16:41.236233",
     "exception": false,
     "start_time": "2022-03-06T14:16:41.198045",
     "status": "completed"
    },
    "tags": []
   },
   "outputs": [
    {
     "data": {
      "text/plain": [
       "0       True\n",
       "1       True\n",
       "2       True\n",
       "3       True\n",
       "4       True\n",
       "        ... \n",
       "4339    True\n",
       "4340    True\n",
       "4341    True\n",
       "4342    True\n",
       "4343    True\n",
       "Name: Salary, Length: 4344, dtype: bool"
      ]
     },
     "execution_count": 15,
     "metadata": {},
     "output_type": "execute_result"
    }
   ],
   "source": [
    "df[\"Salary\"].str.islower()"
   ]
  },
  {
   "cell_type": "markdown",
   "id": "5a5a7f6e",
   "metadata": {
    "papermill": {
     "duration": 0.025825,
     "end_time": "2022-03-06T14:16:41.288440",
     "exception": false,
     "start_time": "2022-03-06T14:16:41.262615",
     "status": "completed"
    },
    "tags": []
   },
   "source": [
    "# 6. replace()\n",
    "\n",
    "\n",
    "Another very useful function is replace(). It can be used to replace a part of the string with another one. Let's demonstrate how to use it on the group column.  If you remember the group column consisted of 'class 1' and 'class 2' entries.\n",
    "\n"
   ]
  },
  {
   "cell_type": "code",
   "execution_count": 16,
   "id": "064606fa",
   "metadata": {
    "execution": {
     "iopub.execute_input": "2022-03-06T14:16:41.359815Z",
     "iopub.status.busy": "2022-03-06T14:16:41.356907Z",
     "iopub.status.idle": "2022-03-06T14:16:41.373864Z",
     "shell.execute_reply": "2022-03-06T14:16:41.373000Z",
     "shell.execute_reply.started": "2022-03-06T14:10:07.605711Z"
    },
    "papermill": {
     "duration": 0.05709,
     "end_time": "2022-03-06T14:16:41.374127",
     "exception": false,
     "start_time": "2022-03-06T14:16:41.317037",
     "status": "completed"
    },
    "tags": []
   },
   "outputs": [
    {
     "data": {
      "text/plain": [
       "0        6,48,573/yr\n",
       "1       11,91,950/yr\n",
       "2        8,36,874/yr\n",
       "3        6,69,578/yr\n",
       "4        9,44,110/yr\n",
       "            ...     \n",
       "4339        5,180/mo\n",
       "4340     7,51,286/yr\n",
       "4341     4,10,952/yr\n",
       "4342    16,12,324/yr\n",
       "4343     9,39,843/yr\n",
       "Name: Salary, Length: 4344, dtype: object"
      ]
     },
     "execution_count": 16,
     "metadata": {},
     "output_type": "execute_result"
    }
   ],
   "source": [
    "df[\"Salary\"].str.replace(\"₹\",\"\")"
   ]
  },
  {
   "cell_type": "markdown",
   "id": "7af299ed",
   "metadata": {
    "papermill": {
     "duration": 0.031898,
     "end_time": "2022-03-06T14:16:41.440661",
     "exception": false,
     "start_time": "2022-03-06T14:16:41.408763",
     "status": "completed"
    },
    "tags": []
   },
   "source": [
    "# 7. split()\n",
    "\n",
    "\n",
    "Split() function splits a string on the desired character. It is very useful if you have a sentence and wand to get a list of individual words. You can do that by splitting the string on the empty space (' ')"
   ]
  },
  {
   "cell_type": "code",
   "execution_count": 17,
   "id": "8196453a",
   "metadata": {
    "execution": {
     "iopub.execute_input": "2022-03-06T14:16:41.499273Z",
     "iopub.status.busy": "2022-03-06T14:16:41.498550Z",
     "iopub.status.idle": "2022-03-06T14:16:41.511159Z",
     "shell.execute_reply": "2022-03-06T14:16:41.511640Z",
     "shell.execute_reply.started": "2022-03-06T14:10:54.467728Z"
    },
    "papermill": {
     "duration": 0.042755,
     "end_time": "2022-03-06T14:16:41.511826",
     "exception": false,
     "start_time": "2022-03-06T14:16:41.469071",
     "status": "completed"
    },
    "tags": []
   },
   "outputs": [
    {
     "data": {
      "text/plain": [
       "0                         [Mu, Sigma]\n",
       "1                               [IBM]\n",
       "2       [Tata, Consultancy, Services]\n",
       "3                 [Impact, Analytics]\n",
       "4                         [Accenture]\n",
       "                    ...              \n",
       "4339                        [TaiyōAI]\n",
       "4340      [Decimal, Point, Analytics]\n",
       "4341                         [MyWays]\n",
       "4342    [Market, Pulse, Technologies]\n",
       "4343                        [vPhrase]\n",
       "Name: Company Name, Length: 4344, dtype: object"
      ]
     },
     "execution_count": 17,
     "metadata": {},
     "output_type": "execute_result"
    }
   ],
   "source": [
    "df[\"Company Name\"].str.split()"
   ]
  },
  {
   "cell_type": "code",
   "execution_count": 18,
   "id": "d2a2d1cb",
   "metadata": {
    "execution": {
     "iopub.execute_input": "2022-03-06T14:16:41.578442Z",
     "iopub.status.busy": "2022-03-06T14:16:41.577736Z",
     "iopub.status.idle": "2022-03-06T14:16:41.580547Z",
     "shell.execute_reply": "2022-03-06T14:16:41.581044Z",
     "shell.execute_reply.started": "2022-03-06T14:11:20.935616Z"
    },
    "papermill": {
     "duration": 0.042999,
     "end_time": "2022-03-06T14:16:41.581247",
     "exception": false,
     "start_time": "2022-03-06T14:16:41.538248",
     "status": "completed"
    },
    "tags": []
   },
   "outputs": [
    {
     "data": {
      "text/plain": [
       "0                          [Mu Sigm, ]\n",
       "1                                [IBM]\n",
       "2       [T, t,  Consult, ncy Services]\n",
       "3                 [Imp, ct An, lytics]\n",
       "4                          [Accenture]\n",
       "                     ...              \n",
       "4339                        [T, iyōAI]\n",
       "4340       [Decim, l Point An, lytics]\n",
       "4341                         [MyW, ys]\n",
       "4342      [M, rket Pulse Technologies]\n",
       "4343                        [vPhr, se]\n",
       "Name: Company Name, Length: 4344, dtype: object"
      ]
     },
     "execution_count": 18,
     "metadata": {},
     "output_type": "execute_result"
    }
   ],
   "source": [
    "df[\"Company Name\"].str.split(\"a\")"
   ]
  },
  {
   "cell_type": "markdown",
   "id": "713d96c1",
   "metadata": {
    "papermill": {
     "duration": 0.026989,
     "end_time": "2022-03-06T14:16:41.635452",
     "exception": false,
     "start_time": "2022-03-06T14:16:41.608463",
     "status": "completed"
    },
    "tags": []
   },
   "source": [
    "# 8. contains()\n",
    "\n",
    "\n",
    "Contains() function can check if the string contains a particular substring. The function is quite similar to replace() but instead of replacing the string itself it just returns the boolean value True or False."
   ]
  },
  {
   "cell_type": "code",
   "execution_count": 19,
   "id": "61248fdf",
   "metadata": {
    "execution": {
     "iopub.execute_input": "2022-03-06T14:16:41.694971Z",
     "iopub.status.busy": "2022-03-06T14:16:41.694324Z",
     "iopub.status.idle": "2022-03-06T14:16:41.702846Z",
     "shell.execute_reply": "2022-03-06T14:16:41.703306Z",
     "shell.execute_reply.started": "2022-03-06T14:11:53.205726Z"
    },
    "papermill": {
     "duration": 0.040331,
     "end_time": "2022-03-06T14:16:41.703489",
     "exception": false,
     "start_time": "2022-03-06T14:16:41.663158",
     "status": "completed"
    },
    "tags": []
   },
   "outputs": [
    {
     "data": {
      "text/plain": [
       "0        True\n",
       "1       False\n",
       "2        True\n",
       "3        True\n",
       "4       False\n",
       "        ...  \n",
       "4339     True\n",
       "4340     True\n",
       "4341     True\n",
       "4342     True\n",
       "4343     True\n",
       "Name: Company Name, Length: 4344, dtype: object"
      ]
     },
     "execution_count": 19,
     "metadata": {},
     "output_type": "execute_result"
    }
   ],
   "source": [
    "df[\"Company Name\"].str.contains(\"a\")"
   ]
  },
  {
   "cell_type": "markdown",
   "id": "a124632b",
   "metadata": {
    "papermill": {
     "duration": 0.027384,
     "end_time": "2022-03-06T14:16:41.759027",
     "exception": false,
     "start_time": "2022-03-06T14:16:41.731643",
     "status": "completed"
    },
    "tags": []
   },
   "source": [
    "# 9. find()\n",
    "\n",
    "\n",
    "Find() is another function that can be very handy when cleaning your string data. This function will return an index of where a given substring is found in a string."
   ]
  },
  {
   "cell_type": "code",
   "execution_count": 20,
   "id": "e2505693",
   "metadata": {
    "execution": {
     "iopub.execute_input": "2022-03-06T14:16:41.831725Z",
     "iopub.status.busy": "2022-03-06T14:16:41.817273Z",
     "iopub.status.idle": "2022-03-06T14:16:41.835775Z",
     "shell.execute_reply": "2022-03-06T14:16:41.835235Z",
     "shell.execute_reply.started": "2022-03-06T14:12:27.081426Z"
    },
    "papermill": {
     "duration": 0.049228,
     "end_time": "2022-03-06T14:16:41.835957",
     "exception": false,
     "start_time": "2022-03-06T14:16:41.786729",
     "status": "completed"
    },
    "tags": []
   },
   "outputs": [
    {
     "data": {
      "text/html": [
       "<div>\n",
       "<style scoped>\n",
       "    .dataframe tbody tr th:only-of-type {\n",
       "        vertical-align: middle;\n",
       "    }\n",
       "\n",
       "    .dataframe tbody tr th {\n",
       "        vertical-align: top;\n",
       "    }\n",
       "\n",
       "    .dataframe thead th {\n",
       "        text-align: right;\n",
       "    }\n",
       "</style>\n",
       "<table border=\"1\" class=\"dataframe\">\n",
       "  <thead>\n",
       "    <tr style=\"text-align: right;\">\n",
       "      <th></th>\n",
       "      <th>Company Name</th>\n",
       "      <th>Job Title</th>\n",
       "      <th>Salaries Reported</th>\n",
       "      <th>Location</th>\n",
       "      <th>Salary</th>\n",
       "    </tr>\n",
       "  </thead>\n",
       "  <tbody>\n",
       "    <tr>\n",
       "      <th>0</th>\n",
       "      <td>Mu Sigma</td>\n",
       "      <td>Data Scientist</td>\n",
       "      <td>105.0</td>\n",
       "      <td>Bangalore</td>\n",
       "      <td>₹6,48,573/yr</td>\n",
       "    </tr>\n",
       "    <tr>\n",
       "      <th>1</th>\n",
       "      <td>IBM</td>\n",
       "      <td>Data Scientist</td>\n",
       "      <td>95.0</td>\n",
       "      <td>Bangalore</td>\n",
       "      <td>₹11,91,950/yr</td>\n",
       "    </tr>\n",
       "    <tr>\n",
       "      <th>2</th>\n",
       "      <td>Tata Consultancy Services</td>\n",
       "      <td>Data Scientist</td>\n",
       "      <td>66.0</td>\n",
       "      <td>Bangalore</td>\n",
       "      <td>₹8,36,874/yr</td>\n",
       "    </tr>\n",
       "    <tr>\n",
       "      <th>3</th>\n",
       "      <td>Impact Analytics</td>\n",
       "      <td>Data Scientist</td>\n",
       "      <td>40.0</td>\n",
       "      <td>Bangalore</td>\n",
       "      <td>₹6,69,578/yr</td>\n",
       "    </tr>\n",
       "    <tr>\n",
       "      <th>4</th>\n",
       "      <td>Accenture</td>\n",
       "      <td>Data Scientist</td>\n",
       "      <td>32.0</td>\n",
       "      <td>Bangalore</td>\n",
       "      <td>₹9,44,110/yr</td>\n",
       "    </tr>\n",
       "    <tr>\n",
       "      <th>...</th>\n",
       "      <td>...</td>\n",
       "      <td>...</td>\n",
       "      <td>...</td>\n",
       "      <td>...</td>\n",
       "      <td>...</td>\n",
       "    </tr>\n",
       "    <tr>\n",
       "      <th>4339</th>\n",
       "      <td>TaiyōAI</td>\n",
       "      <td>Machine Learning Scientist</td>\n",
       "      <td>1.0</td>\n",
       "      <td>Mumbai</td>\n",
       "      <td>₹5,180/mo</td>\n",
       "    </tr>\n",
       "    <tr>\n",
       "      <th>4340</th>\n",
       "      <td>Decimal Point Analytics</td>\n",
       "      <td>Machine Learning Developer</td>\n",
       "      <td>1.0</td>\n",
       "      <td>Mumbai</td>\n",
       "      <td>₹7,51,286/yr</td>\n",
       "    </tr>\n",
       "    <tr>\n",
       "      <th>4341</th>\n",
       "      <td>MyWays</td>\n",
       "      <td>Machine Learning Developer</td>\n",
       "      <td>1.0</td>\n",
       "      <td>Mumbai</td>\n",
       "      <td>₹4,10,952/yr</td>\n",
       "    </tr>\n",
       "    <tr>\n",
       "      <th>4342</th>\n",
       "      <td>Market Pulse Technologies</td>\n",
       "      <td>Software Engineer - Machine Learning</td>\n",
       "      <td>1.0</td>\n",
       "      <td>Mumbai</td>\n",
       "      <td>₹16,12,324/yr</td>\n",
       "    </tr>\n",
       "    <tr>\n",
       "      <th>4343</th>\n",
       "      <td>vPhrase</td>\n",
       "      <td>Machine Learning Engineer</td>\n",
       "      <td>1.0</td>\n",
       "      <td>Mumbai</td>\n",
       "      <td>₹9,39,843/yr</td>\n",
       "    </tr>\n",
       "  </tbody>\n",
       "</table>\n",
       "<p>4344 rows × 5 columns</p>\n",
       "</div>"
      ],
      "text/plain": [
       "                   Company Name                             Job Title  \\\n",
       "0                      Mu Sigma                        Data Scientist   \n",
       "1                           IBM                        Data Scientist   \n",
       "2     Tata Consultancy Services                        Data Scientist   \n",
       "3              Impact Analytics                        Data Scientist   \n",
       "4                     Accenture                        Data Scientist   \n",
       "...                         ...                                   ...   \n",
       "4339                    TaiyōAI            Machine Learning Scientist   \n",
       "4340    Decimal Point Analytics            Machine Learning Developer   \n",
       "4341                     MyWays            Machine Learning Developer   \n",
       "4342  Market Pulse Technologies  Software Engineer - Machine Learning   \n",
       "4343                    vPhrase             Machine Learning Engineer   \n",
       "\n",
       "      Salaries Reported   Location         Salary  \n",
       "0                 105.0  Bangalore   ₹6,48,573/yr  \n",
       "1                  95.0  Bangalore  ₹11,91,950/yr  \n",
       "2                  66.0  Bangalore   ₹8,36,874/yr  \n",
       "3                  40.0  Bangalore   ₹6,69,578/yr  \n",
       "4                  32.0  Bangalore   ₹9,44,110/yr  \n",
       "...                 ...        ...            ...  \n",
       "4339                1.0     Mumbai      ₹5,180/mo  \n",
       "4340                1.0     Mumbai   ₹7,51,286/yr  \n",
       "4341                1.0     Mumbai   ₹4,10,952/yr  \n",
       "4342                1.0     Mumbai  ₹16,12,324/yr  \n",
       "4343                1.0     Mumbai   ₹9,39,843/yr  \n",
       "\n",
       "[4344 rows x 5 columns]"
      ]
     },
     "execution_count": 20,
     "metadata": {},
     "output_type": "execute_result"
    }
   ],
   "source": [
    "df"
   ]
  },
  {
   "cell_type": "code",
   "execution_count": 21,
   "id": "ac5e4ca0",
   "metadata": {
    "execution": {
     "iopub.execute_input": "2022-03-06T14:16:41.903001Z",
     "iopub.status.busy": "2022-03-06T14:16:41.898455Z",
     "iopub.status.idle": "2022-03-06T14:16:41.908556Z",
     "shell.execute_reply": "2022-03-06T14:16:41.909026Z",
     "shell.execute_reply.started": "2022-03-06T14:14:14.416833Z"
    },
    "papermill": {
     "duration": 0.044818,
     "end_time": "2022-03-06T14:16:41.909229",
     "exception": false,
     "start_time": "2022-03-06T14:16:41.864411",
     "status": "completed"
    },
    "tags": []
   },
   "outputs": [
    {
     "data": {
      "text/plain": [
       "0       0\n",
       "1       0\n",
       "2       0\n",
       "3       0\n",
       "4       0\n",
       "       ..\n",
       "4339   -1\n",
       "4340   -1\n",
       "4341   -1\n",
       "4342   -1\n",
       "4343   -1\n",
       "Name: Job Title, Length: 4344, dtype: int64"
      ]
     },
     "execution_count": 21,
     "metadata": {},
     "output_type": "execute_result"
    }
   ],
   "source": [
    "df[\"Job Title\"].str.find(\"Data\")"
   ]
  },
  {
   "cell_type": "markdown",
   "id": "cabd1702",
   "metadata": {
    "papermill": {
     "duration": 0.02793,
     "end_time": "2022-03-06T14:16:41.965613",
     "exception": false,
     "start_time": "2022-03-06T14:16:41.937683",
     "status": "completed"
    },
    "tags": []
   },
   "source": [
    "# 10. findall()\n",
    "\n",
    "\n",
    "Findall() similarly to find() will search a string for existing substring but instead of one index, it will return a list of matching substrings. "
   ]
  },
  {
   "cell_type": "code",
   "execution_count": 22,
   "id": "adea8baa",
   "metadata": {
    "execution": {
     "iopub.execute_input": "2022-03-06T14:16:42.171111Z",
     "iopub.status.busy": "2022-03-06T14:16:42.170373Z",
     "iopub.status.idle": "2022-03-06T14:16:42.179667Z",
     "shell.execute_reply": "2022-03-06T14:16:42.178912Z",
     "shell.execute_reply.started": "2022-03-06T14:14:30.569558Z"
    },
    "papermill": {
     "duration": 0.185922,
     "end_time": "2022-03-06T14:16:42.179835",
     "exception": false,
     "start_time": "2022-03-06T14:16:41.993913",
     "status": "completed"
    },
    "tags": []
   },
   "outputs": [
    {
     "data": {
      "text/plain": [
       "0       [Data]\n",
       "1       [Data]\n",
       "2       [Data]\n",
       "3       [Data]\n",
       "4       [Data]\n",
       "         ...  \n",
       "4339        []\n",
       "4340        []\n",
       "4341        []\n",
       "4342        []\n",
       "4343        []\n",
       "Name: Job Title, Length: 4344, dtype: object"
      ]
     },
     "execution_count": 22,
     "metadata": {},
     "output_type": "execute_result"
    }
   ],
   "source": [
    "df[\"Job Title\"].str.findall(\"Data\")"
   ]
  }
 ],
 "metadata": {
  "kernelspec": {
   "display_name": "Python 3",
   "language": "python",
   "name": "python3"
  },
  "language_info": {
   "codemirror_mode": {
    "name": "ipython",
    "version": 3
   },
   "file_extension": ".py",
   "mimetype": "text/x-python",
   "name": "python",
   "nbconvert_exporter": "python",
   "pygments_lexer": "ipython3",
   "version": "3.7.12"
  },
  "papermill": {
   "default_parameters": {},
   "duration": 12.170438,
   "end_time": "2022-03-06T14:16:43.021736",
   "environment_variables": {},
   "exception": null,
   "input_path": "__notebook__.ipynb",
   "output_path": "__notebook__.ipynb",
   "parameters": {},
   "start_time": "2022-03-06T14:16:30.851298",
   "version": "2.3.3"
  }
 },
 "nbformat": 4,
 "nbformat_minor": 5
}
