{
 "cells": [
  {
   "cell_type": "markdown",
   "id": "dd75e589",
   "metadata": {
    "papermill": {
     "duration": 0.029953,
     "end_time": "2022-03-06T14:25:39.536507",
     "exception": false,
     "start_time": "2022-03-06T14:25:39.506554",
     "status": "completed"
    },
    "tags": []
   },
   "source": [
    "# Introduction \n",
    "\n",
    "Hi Folks,\n",
    "We are starting the Full DataFlow Journey in which we are covering everything like ​​Importing Data, Cleaning Data, Merging, Joining, and Concatenating Data, GroupBy Operations, Reshaping and Pivoting DataFrames, Data Preparation and Feature Creation, etc.<br><br>\n",
    "\n",
    "### Lecture Agenda\n",
    "In this particular lecture we are going to learn what are the different options we have for string operations\n",
    "\n",
    "#### Technologies Used\n",
    "Python, Pandas\n",
    "\n",
    "\n",
    "### Data Used\n",
    "Data Professionals Salary - 2022\n",
    "Salaries of Data Scientists, ML Engineers, Data Analysts, Data Engineers in 2022\n",
    "\n",
    "### Getting Started\n",
    "\n",
    "we will walk you through this part of the pandas' library and show you the most useful pandas string processing functions. You will learn how to use:\n",
    "* upper()\n",
    "* lower()\n",
    "* isupper()\n",
    "* slower()\n",
    "* isnumeric()\n",
    "* replace()\n",
    "* split()\n",
    "* contains()\n",
    "* find()\n",
    "* findall()\n",
    "\n",
    "\n",
    "\n",
    "[Official Documentation](https://pandas.pydata.org/pandas-docs/stable/user_guide/text.html)"
   ]
  },
  {
   "cell_type": "code",
   "execution_count": 1,
   "id": "517e5bf3",
   "metadata": {
    "_cell_guid": "b1076dfc-b9ad-4769-8c92-a6c4dae69d19",
    "_uuid": "8f2839f25d086af736a60e9eeb907d3b93b6e0e5",
    "execution": {
     "iopub.execute_input": "2022-03-06T14:25:39.599344Z",
     "iopub.status.busy": "2022-03-06T14:25:39.598170Z",
     "iopub.status.idle": "2022-03-06T14:25:39.616319Z",
     "shell.execute_reply": "2022-03-06T14:25:39.616864Z",
     "shell.execute_reply.started": "2022-03-06T14:03:31.204651Z"
    },
    "papermill": {
     "duration": 0.051606,
     "end_time": "2022-03-06T14:25:39.617156",
     "exception": false,
     "start_time": "2022-03-06T14:25:39.565550",
     "status": "completed"
    },
    "tags": []
   },
   "outputs": [
    {
     "name": "stdout",
     "output_type": "stream",
     "text": [
      "/kaggle/input/analytics-industry-salaries-2022-india/info.txt\n",
      "/kaggle/input/analytics-industry-salaries-2022-india/Salary Dataset.csv\n"
     ]
    }
   ],
   "source": [
    "# This Python 3 environment comes with many helpful analytics libraries installed\n",
    "# It is defined by the kaggle/python Docker image: https://github.com/kaggle/docker-python\n",
    "# For example, here's several helpful packages to load\n",
    "\n",
    "import numpy as np # linear algebra\n",
    "import pandas as pd # data processing, CSV file I/O (e.g. pd.read_csv)\n",
    "\n",
    "# Input data files are available in the read-only \"../input/\" directory\n",
    "# For example, running this (by clicking run or pressing Shift+Enter) will list all files under the input directory\n",
    "\n",
    "import os\n",
    "for dirname, _, filenames in os.walk('/kaggle/input'):\n",
    "    for filename in filenames:\n",
    "        print(os.path.join(dirname, filename))\n",
    "\n",
    "# You can write up to 20GB to the current directory (/kaggle/working/) that gets preserved as output when you create a version using \"Save & Run All\" \n",
    "# You can also write temporary files to /kaggle/temp/, but they won't be saved outside of the current session"
   ]
  },
  {
   "cell_type": "code",
   "execution_count": 2,
   "id": "bd26e7cf",
   "metadata": {
    "execution": {
     "iopub.execute_input": "2022-03-06T14:25:39.680966Z",
     "iopub.status.busy": "2022-03-06T14:25:39.679954Z",
     "iopub.status.idle": "2022-03-06T14:25:39.709029Z",
     "shell.execute_reply": "2022-03-06T14:25:39.709508Z",
     "shell.execute_reply.started": "2022-03-06T14:03:31.242123Z"
    },
    "papermill": {
     "duration": 0.062312,
     "end_time": "2022-03-06T14:25:39.709708",
     "exception": false,
     "start_time": "2022-03-06T14:25:39.647396",
     "status": "completed"
    },
    "tags": []
   },
   "outputs": [],
   "source": [
    "df=pd.read_csv(\"../input/analytics-industry-salaries-2022-india/Salary Dataset.csv\")"
   ]
  },
  {
   "cell_type": "code",
   "execution_count": 3,
   "id": "a902a991",
   "metadata": {
    "execution": {
     "iopub.execute_input": "2022-03-06T14:25:39.772756Z",
     "iopub.status.busy": "2022-03-06T14:25:39.771709Z",
     "iopub.status.idle": "2022-03-06T14:25:39.798498Z",
     "shell.execute_reply": "2022-03-06T14:25:39.799020Z",
     "shell.execute_reply.started": "2022-03-06T14:03:31.271913Z"
    },
    "papermill": {
     "duration": 0.059803,
     "end_time": "2022-03-06T14:25:39.799191",
     "exception": false,
     "start_time": "2022-03-06T14:25:39.739388",
     "status": "completed"
    },
    "tags": []
   },
   "outputs": [
    {
     "data": {
      "text/html": [
       "<div>\n",
       "<style scoped>\n",
       "    .dataframe tbody tr th:only-of-type {\n",
       "        vertical-align: middle;\n",
       "    }\n",
       "\n",
       "    .dataframe tbody tr th {\n",
       "        vertical-align: top;\n",
       "    }\n",
       "\n",
       "    .dataframe thead th {\n",
       "        text-align: right;\n",
       "    }\n",
       "</style>\n",
       "<table border=\"1\" class=\"dataframe\">\n",
       "  <thead>\n",
       "    <tr style=\"text-align: right;\">\n",
       "      <th></th>\n",
       "      <th>Company Name</th>\n",
       "      <th>Job Title</th>\n",
       "      <th>Salaries Reported</th>\n",
       "      <th>Location</th>\n",
       "      <th>Salary</th>\n",
       "    </tr>\n",
       "  </thead>\n",
       "  <tbody>\n",
       "    <tr>\n",
       "      <th>0</th>\n",
       "      <td>Mu Sigma</td>\n",
       "      <td>Data Scientist</td>\n",
       "      <td>105.0</td>\n",
       "      <td>Bangalore</td>\n",
       "      <td>₹6,48,573/yr</td>\n",
       "    </tr>\n",
       "    <tr>\n",
       "      <th>1</th>\n",
       "      <td>IBM</td>\n",
       "      <td>Data Scientist</td>\n",
       "      <td>95.0</td>\n",
       "      <td>Bangalore</td>\n",
       "      <td>₹11,91,950/yr</td>\n",
       "    </tr>\n",
       "    <tr>\n",
       "      <th>2</th>\n",
       "      <td>Tata Consultancy Services</td>\n",
       "      <td>Data Scientist</td>\n",
       "      <td>66.0</td>\n",
       "      <td>Bangalore</td>\n",
       "      <td>₹8,36,874/yr</td>\n",
       "    </tr>\n",
       "    <tr>\n",
       "      <th>3</th>\n",
       "      <td>Impact Analytics</td>\n",
       "      <td>Data Scientist</td>\n",
       "      <td>40.0</td>\n",
       "      <td>Bangalore</td>\n",
       "      <td>₹6,69,578/yr</td>\n",
       "    </tr>\n",
       "    <tr>\n",
       "      <th>4</th>\n",
       "      <td>Accenture</td>\n",
       "      <td>Data Scientist</td>\n",
       "      <td>32.0</td>\n",
       "      <td>Bangalore</td>\n",
       "      <td>₹9,44,110/yr</td>\n",
       "    </tr>\n",
       "    <tr>\n",
       "      <th>...</th>\n",
       "      <td>...</td>\n",
       "      <td>...</td>\n",
       "      <td>...</td>\n",
       "      <td>...</td>\n",
       "      <td>...</td>\n",
       "    </tr>\n",
       "    <tr>\n",
       "      <th>4339</th>\n",
       "      <td>TaiyōAI</td>\n",
       "      <td>Machine Learning Scientist</td>\n",
       "      <td>1.0</td>\n",
       "      <td>Mumbai</td>\n",
       "      <td>₹5,180/mo</td>\n",
       "    </tr>\n",
       "    <tr>\n",
       "      <th>4340</th>\n",
       "      <td>Decimal Point Analytics</td>\n",
       "      <td>Machine Learning Developer</td>\n",
       "      <td>1.0</td>\n",
       "      <td>Mumbai</td>\n",
       "      <td>₹7,51,286/yr</td>\n",
       "    </tr>\n",
       "    <tr>\n",
       "      <th>4341</th>\n",
       "      <td>MyWays</td>\n",
       "      <td>Machine Learning Developer</td>\n",
       "      <td>1.0</td>\n",
       "      <td>Mumbai</td>\n",
       "      <td>₹4,10,952/yr</td>\n",
       "    </tr>\n",
       "    <tr>\n",
       "      <th>4342</th>\n",
       "      <td>Market Pulse Technologies</td>\n",
       "      <td>Software Engineer - Machine Learning</td>\n",
       "      <td>1.0</td>\n",
       "      <td>Mumbai</td>\n",
       "      <td>₹16,12,324/yr</td>\n",
       "    </tr>\n",
       "    <tr>\n",
       "      <th>4343</th>\n",
       "      <td>vPhrase</td>\n",
       "      <td>Machine Learning Engineer</td>\n",
       "      <td>1.0</td>\n",
       "      <td>Mumbai</td>\n",
       "      <td>₹9,39,843/yr</td>\n",
       "    </tr>\n",
       "  </tbody>\n",
       "</table>\n",
       "<p>4344 rows × 5 columns</p>\n",
       "</div>"
      ],
      "text/plain": [
       "                   Company Name                             Job Title  \\\n",
       "0                      Mu Sigma                        Data Scientist   \n",
       "1                           IBM                        Data Scientist   \n",
       "2     Tata Consultancy Services                        Data Scientist   \n",
       "3              Impact Analytics                        Data Scientist   \n",
       "4                     Accenture                        Data Scientist   \n",
       "...                         ...                                   ...   \n",
       "4339                    TaiyōAI            Machine Learning Scientist   \n",
       "4340    Decimal Point Analytics            Machine Learning Developer   \n",
       "4341                     MyWays            Machine Learning Developer   \n",
       "4342  Market Pulse Technologies  Software Engineer - Machine Learning   \n",
       "4343                    vPhrase             Machine Learning Engineer   \n",
       "\n",
       "      Salaries Reported   Location         Salary  \n",
       "0                 105.0  Bangalore   ₹6,48,573/yr  \n",
       "1                  95.0  Bangalore  ₹11,91,950/yr  \n",
       "2                  66.0  Bangalore   ₹8,36,874/yr  \n",
       "3                  40.0  Bangalore   ₹6,69,578/yr  \n",
       "4                  32.0  Bangalore   ₹9,44,110/yr  \n",
       "...                 ...        ...            ...  \n",
       "4339                1.0     Mumbai      ₹5,180/mo  \n",
       "4340                1.0     Mumbai   ₹7,51,286/yr  \n",
       "4341                1.0     Mumbai   ₹4,10,952/yr  \n",
       "4342                1.0     Mumbai  ₹16,12,324/yr  \n",
       "4343                1.0     Mumbai   ₹9,39,843/yr  \n",
       "\n",
       "[4344 rows x 5 columns]"
      ]
     },
     "execution_count": 3,
     "metadata": {},
     "output_type": "execute_result"
    }
   ],
   "source": [
    "df"
   ]
  },
  {
   "cell_type": "code",
   "execution_count": 4,
   "id": "01a98ecf",
   "metadata": {
    "execution": {
     "iopub.execute_input": "2022-03-06T14:25:39.862759Z",
     "iopub.status.busy": "2022-03-06T14:25:39.861767Z",
     "iopub.status.idle": "2022-03-06T14:25:39.876774Z",
     "shell.execute_reply": "2022-03-06T14:25:39.877326Z",
     "shell.execute_reply.started": "2022-03-06T14:03:31.303456Z"
    },
    "papermill": {
     "duration": 0.048432,
     "end_time": "2022-03-06T14:25:39.877497",
     "exception": false,
     "start_time": "2022-03-06T14:25:39.829065",
     "status": "completed"
    },
    "tags": []
   },
   "outputs": [
    {
     "data": {
      "text/plain": [
       "Tata Consultancy Services     41\n",
       "Amazon                        32\n",
       "Accenture                     30\n",
       "Google                        27\n",
       "Fresher                       26\n",
       "                              ..\n",
       "URS Technologies Solutions     1\n",
       "Aniket Sonawane                1\n",
       "Brahman bhetun                 1\n",
       "Airavaat Car Rentals           1\n",
       "Market Pulse Technologies      1\n",
       "Name: Company Name, Length: 2529, dtype: int64"
      ]
     },
     "execution_count": 4,
     "metadata": {},
     "output_type": "execute_result"
    }
   ],
   "source": [
    "df[\"Company Name\"].value_counts()"
   ]
  },
  {
   "cell_type": "code",
   "execution_count": 5,
   "id": "692acbfd",
   "metadata": {
    "execution": {
     "iopub.execute_input": "2022-03-06T14:25:39.941710Z",
     "iopub.status.busy": "2022-03-06T14:25:39.941042Z",
     "iopub.status.idle": "2022-03-06T14:25:39.960757Z",
     "shell.execute_reply": "2022-03-06T14:25:39.960162Z",
     "shell.execute_reply.started": "2022-03-06T14:03:31.321011Z"
    },
    "papermill": {
     "duration": 0.052981,
     "end_time": "2022-03-06T14:25:39.960906",
     "exception": false,
     "start_time": "2022-03-06T14:25:39.907925",
     "status": "completed"
    },
    "tags": []
   },
   "outputs": [
    {
     "name": "stdout",
     "output_type": "stream",
     "text": [
      "<class 'pandas.core.frame.DataFrame'>\n",
      "RangeIndex: 4344 entries, 0 to 4343\n",
      "Data columns (total 5 columns):\n",
      " #   Column             Non-Null Count  Dtype  \n",
      "---  ------             --------------  -----  \n",
      " 0   Company Name       4341 non-null   object \n",
      " 1   Job Title          4344 non-null   object \n",
      " 2   Salaries Reported  4342 non-null   float64\n",
      " 3   Location           4344 non-null   object \n",
      " 4   Salary             4344 non-null   object \n",
      "dtypes: float64(1), object(4)\n",
      "memory usage: 169.8+ KB\n"
     ]
    }
   ],
   "source": [
    "df.info()"
   ]
  },
  {
   "cell_type": "code",
   "execution_count": 6,
   "id": "b669eba5",
   "metadata": {
    "execution": {
     "iopub.execute_input": "2022-03-06T14:25:40.030901Z",
     "iopub.status.busy": "2022-03-06T14:25:40.030172Z",
     "iopub.status.idle": "2022-03-06T14:25:40.032988Z",
     "shell.execute_reply": "2022-03-06T14:25:40.033476Z",
     "shell.execute_reply.started": "2022-03-06T14:03:31.344294Z"
    },
    "papermill": {
     "duration": 0.041906,
     "end_time": "2022-03-06T14:25:40.033702",
     "exception": false,
     "start_time": "2022-03-06T14:25:39.991796",
     "status": "completed"
    },
    "tags": []
   },
   "outputs": [
    {
     "data": {
      "text/plain": [
       "0        ₹6,48,573/yr\n",
       "1       ₹11,91,950/yr\n",
       "2        ₹8,36,874/yr\n",
       "3        ₹6,69,578/yr\n",
       "4        ₹9,44,110/yr\n",
       "            ...      \n",
       "4339        ₹5,180/mo\n",
       "4340     ₹7,51,286/yr\n",
       "4341     ₹4,10,952/yr\n",
       "4342    ₹16,12,324/yr\n",
       "4343     ₹9,39,843/yr\n",
       "Name: Salary, Length: 4344, dtype: object"
      ]
     },
     "execution_count": 6,
     "metadata": {},
     "output_type": "execute_result"
    }
   ],
   "source": [
    "df.Salary"
   ]
  },
  {
   "cell_type": "code",
   "execution_count": 7,
   "id": "74040726",
   "metadata": {
    "execution": {
     "iopub.execute_input": "2022-03-06T14:25:40.103470Z",
     "iopub.status.busy": "2022-03-06T14:25:40.100679Z",
     "iopub.status.idle": "2022-03-06T14:25:40.106108Z",
     "shell.execute_reply": "2022-03-06T14:25:40.106752Z",
     "shell.execute_reply.started": "2022-03-06T14:03:48.442923Z"
    },
    "papermill": {
     "duration": 0.041775,
     "end_time": "2022-03-06T14:25:40.106969",
     "exception": false,
     "start_time": "2022-03-06T14:25:40.065194",
     "status": "completed"
    },
    "tags": []
   },
   "outputs": [
    {
     "data": {
      "text/plain": [
       "Index(['Company Name', 'Job Title', 'Salaries Reported', 'Location', 'Salary'], dtype='object')"
      ]
     },
     "execution_count": 7,
     "metadata": {},
     "output_type": "execute_result"
    }
   ],
   "source": [
    "df.columns"
   ]
  },
  {
   "cell_type": "markdown",
   "id": "a183e045",
   "metadata": {
    "papermill": {
     "duration": 0.031758,
     "end_time": "2022-03-06T14:25:40.170269",
     "exception": false,
     "start_time": "2022-03-06T14:25:40.138511",
     "status": "completed"
    },
    "tags": []
   },
   "source": [
    "# 1. upper()\n",
    "\n",
    "\n",
    "The first function that we will discuss brings all the letters in a string to the upper case. We can apply it to the name column using the following code."
   ]
  },
  {
   "cell_type": "code",
   "execution_count": 8,
   "id": "b5fb3f9d",
   "metadata": {
    "execution": {
     "iopub.execute_input": "2022-03-06T14:25:40.237199Z",
     "iopub.status.busy": "2022-03-06T14:25:40.236490Z",
     "iopub.status.idle": "2022-03-06T14:25:40.245798Z",
     "shell.execute_reply": "2022-03-06T14:25:40.246430Z",
     "shell.execute_reply.started": "2022-03-06T14:04:07.205947Z"
    },
    "papermill": {
     "duration": 0.044217,
     "end_time": "2022-03-06T14:25:40.246597",
     "exception": false,
     "start_time": "2022-03-06T14:25:40.202380",
     "status": "completed"
    },
    "tags": []
   },
   "outputs": [
    {
     "data": {
      "text/plain": [
       "0                        MU SIGMA\n",
       "1                             IBM\n",
       "2       TATA CONSULTANCY SERVICES\n",
       "3                IMPACT ANALYTICS\n",
       "4                       ACCENTURE\n",
       "                  ...            \n",
       "4339                      TAIYŌAI\n",
       "4340      DECIMAL POINT ANALYTICS\n",
       "4341                       MYWAYS\n",
       "4342    MARKET PULSE TECHNOLOGIES\n",
       "4343                      VPHRASE\n",
       "Name: Company Name, Length: 4344, dtype: object"
      ]
     },
     "execution_count": 8,
     "metadata": {},
     "output_type": "execute_result"
    }
   ],
   "source": [
    "df[\"Company Name\"].str.upper()"
   ]
  },
  {
   "cell_type": "markdown",
   "id": "ec6ae8b5",
   "metadata": {
    "papermill": {
     "duration": 0.031568,
     "end_time": "2022-03-06T14:25:40.310350",
     "exception": false,
     "start_time": "2022-03-06T14:25:40.278782",
     "status": "completed"
    },
    "tags": []
   },
   "source": [
    "# 2. lower()\n",
    "\n",
    "\n",
    "Lower() function works similarly to the upper() function but it does exactly the opposite, it lowers all characters in a string. Here you can see the results of calling it on the name column."
   ]
  },
  {
   "cell_type": "code",
   "execution_count": 9,
   "id": "1c5dc740",
   "metadata": {
    "execution": {
     "iopub.execute_input": "2022-03-06T14:25:40.377487Z",
     "iopub.status.busy": "2022-03-06T14:25:40.376817Z",
     "iopub.status.idle": "2022-03-06T14:25:40.386725Z",
     "shell.execute_reply": "2022-03-06T14:25:40.387258Z",
     "shell.execute_reply.started": "2022-03-06T14:05:21.268642Z"
    },
    "papermill": {
     "duration": 0.045173,
     "end_time": "2022-03-06T14:25:40.387445",
     "exception": false,
     "start_time": "2022-03-06T14:25:40.342272",
     "status": "completed"
    },
    "tags": []
   },
   "outputs": [
    {
     "data": {
      "text/plain": [
       "0                             data scientist\n",
       "1                             data scientist\n",
       "2                             data scientist\n",
       "3                             data scientist\n",
       "4                             data scientist\n",
       "                        ...                 \n",
       "4339              machine learning scientist\n",
       "4340              machine learning developer\n",
       "4341              machine learning developer\n",
       "4342    software engineer - machine learning\n",
       "4343               machine learning engineer\n",
       "Name: Job Title, Length: 4344, dtype: object"
      ]
     },
     "execution_count": 9,
     "metadata": {},
     "output_type": "execute_result"
    }
   ],
   "source": [
    "df[\"Job Title\"].str.lower()"
   ]
  },
  {
   "cell_type": "markdown",
   "id": "2f13c43c",
   "metadata": {
    "papermill": {
     "duration": 0.031975,
     "end_time": "2022-03-06T14:25:40.451852",
     "exception": false,
     "start_time": "2022-03-06T14:25:40.419877",
     "status": "completed"
    },
    "tags": []
   },
   "source": [
    "# 3. isupper()\n",
    "\n",
    "\n",
    "This function can be called in the same way as upper() or lower(), following '.str' on the column. It will check every string entry in a column if it has all its characters capitalized. Let's call it on the name column again."
   ]
  },
  {
   "cell_type": "code",
   "execution_count": 10,
   "id": "ae8f8a9b",
   "metadata": {
    "execution": {
     "iopub.execute_input": "2022-03-06T14:25:40.522226Z",
     "iopub.status.busy": "2022-03-06T14:25:40.521510Z",
     "iopub.status.idle": "2022-03-06T14:25:40.527966Z",
     "shell.execute_reply": "2022-03-06T14:25:40.528479Z",
     "shell.execute_reply.started": "2022-03-06T14:06:15.106226Z"
    },
    "papermill": {
     "duration": 0.04447,
     "end_time": "2022-03-06T14:25:40.528674",
     "exception": false,
     "start_time": "2022-03-06T14:25:40.484204",
     "status": "completed"
    },
    "tags": []
   },
   "outputs": [
    {
     "data": {
      "text/plain": [
       "0       False\n",
       "1       False\n",
       "2       False\n",
       "3       False\n",
       "4       False\n",
       "        ...  \n",
       "4339    False\n",
       "4340    False\n",
       "4341    False\n",
       "4342    False\n",
       "4343    False\n",
       "Name: Job Title, Length: 4344, dtype: bool"
      ]
     },
     "execution_count": 10,
     "metadata": {},
     "output_type": "execute_result"
    }
   ],
   "source": [
    "df[\"Job Title\"].str.isupper()"
   ]
  },
  {
   "cell_type": "markdown",
   "id": "eeae7ab4",
   "metadata": {
    "papermill": {
     "duration": 0.032691,
     "end_time": "2022-03-06T14:25:40.594912",
     "exception": false,
     "start_time": "2022-03-06T14:25:40.562221",
     "status": "completed"
    },
    "tags": []
   },
   "source": [
    "# 4. islower()\n",
    "\n",
    "\n",
    "This function works the same as isupper() but it checks for the opposite characteristic if all characters are lower case. "
   ]
  },
  {
   "cell_type": "code",
   "execution_count": 11,
   "id": "fa8fbfca",
   "metadata": {
    "execution": {
     "iopub.execute_input": "2022-03-06T14:25:40.663717Z",
     "iopub.status.busy": "2022-03-06T14:25:40.663057Z",
     "iopub.status.idle": "2022-03-06T14:25:40.672549Z",
     "shell.execute_reply": "2022-03-06T14:25:40.671922Z",
     "shell.execute_reply.started": "2022-03-06T14:06:41.851633Z"
    },
    "papermill": {
     "duration": 0.045186,
     "end_time": "2022-03-06T14:25:40.672703",
     "exception": false,
     "start_time": "2022-03-06T14:25:40.627517",
     "status": "completed"
    },
    "tags": []
   },
   "outputs": [
    {
     "data": {
      "text/plain": [
       "0       False\n",
       "1       False\n",
       "2       False\n",
       "3       False\n",
       "4       False\n",
       "        ...  \n",
       "4339    False\n",
       "4340    False\n",
       "4341    False\n",
       "4342    False\n",
       "4343    False\n",
       "Name: Job Title, Length: 4344, dtype: bool"
      ]
     },
     "execution_count": 11,
     "metadata": {},
     "output_type": "execute_result"
    }
   ],
   "source": [
    "df[\"Job Title\"].str.islower()"
   ]
  },
  {
   "cell_type": "markdown",
   "id": "a9c0affb",
   "metadata": {
    "papermill": {
     "duration": 0.032919,
     "end_time": "2022-03-06T14:25:40.738847",
     "exception": false,
     "start_time": "2022-03-06T14:25:40.705928",
     "status": "completed"
    },
    "tags": []
   },
   "source": [
    "# 5. isnumeric()\n",
    "\n",
    "\n",
    "This function checks if the characters in the string are actually digits. All of them have to be digits in order for isnumeric() to return True. "
   ]
  },
  {
   "cell_type": "code",
   "execution_count": 12,
   "id": "174c54e3",
   "metadata": {
    "execution": {
     "iopub.execute_input": "2022-03-06T14:25:40.809683Z",
     "iopub.status.busy": "2022-03-06T14:25:40.808998Z",
     "iopub.status.idle": "2022-03-06T14:25:40.817074Z",
     "shell.execute_reply": "2022-03-06T14:25:40.817655Z",
     "shell.execute_reply.started": "2022-03-06T14:08:16.345973Z"
    },
    "papermill": {
     "duration": 0.04575,
     "end_time": "2022-03-06T14:25:40.817843",
     "exception": false,
     "start_time": "2022-03-06T14:25:40.772093",
     "status": "completed"
    },
    "tags": []
   },
   "outputs": [
    {
     "data": {
      "text/plain": [
       "0       False\n",
       "1       False\n",
       "2       False\n",
       "3       False\n",
       "4       False\n",
       "        ...  \n",
       "4339    False\n",
       "4340    False\n",
       "4341    False\n",
       "4342    False\n",
       "4343    False\n",
       "Name: Job Title, Length: 4344, dtype: bool"
      ]
     },
     "execution_count": 12,
     "metadata": {},
     "output_type": "execute_result"
    }
   ],
   "source": [
    "df[\"Job Title\"].str.islower()"
   ]
  },
  {
   "cell_type": "code",
   "execution_count": 13,
   "id": "c0358cf5",
   "metadata": {
    "execution": {
     "iopub.execute_input": "2022-03-06T14:25:40.890240Z",
     "iopub.status.busy": "2022-03-06T14:25:40.889348Z",
     "iopub.status.idle": "2022-03-06T14:25:40.899381Z",
     "shell.execute_reply": "2022-03-06T14:25:40.899965Z"
    },
    "papermill": {
     "duration": 0.048324,
     "end_time": "2022-03-06T14:25:40.900155",
     "exception": false,
     "start_time": "2022-03-06T14:25:40.851831",
     "status": "completed"
    },
    "tags": []
   },
   "outputs": [
    {
     "data": {
      "text/plain": [
       "0       True\n",
       "1       True\n",
       "2       True\n",
       "3       True\n",
       "4       True\n",
       "        ... \n",
       "4339    True\n",
       "4340    True\n",
       "4341    True\n",
       "4342    True\n",
       "4343    True\n",
       "Name: Salary, Length: 4344, dtype: bool"
      ]
     },
     "execution_count": 13,
     "metadata": {},
     "output_type": "execute_result"
    }
   ],
   "source": [
    "df[\"Salary\"].str.islower()"
   ]
  },
  {
   "cell_type": "code",
   "execution_count": 14,
   "id": "0856df16",
   "metadata": {
    "execution": {
     "iopub.execute_input": "2022-03-06T14:25:40.972117Z",
     "iopub.status.busy": "2022-03-06T14:25:40.971404Z",
     "iopub.status.idle": "2022-03-06T14:25:40.974234Z",
     "shell.execute_reply": "2022-03-06T14:25:40.974780Z",
     "shell.execute_reply.started": "2022-03-06T14:09:16.383389Z"
    },
    "papermill": {
     "duration": 0.040433,
     "end_time": "2022-03-06T14:25:40.974956",
     "exception": false,
     "start_time": "2022-03-06T14:25:40.934523",
     "status": "completed"
    },
    "tags": []
   },
   "outputs": [],
   "source": [
    "#df[\"Salaries Reported\"].str.islower()"
   ]
  },
  {
   "cell_type": "code",
   "execution_count": 15,
   "id": "ed7b72a2",
   "metadata": {
    "execution": {
     "iopub.execute_input": "2022-03-06T14:25:41.046635Z",
     "iopub.status.busy": "2022-03-06T14:25:41.045938Z",
     "iopub.status.idle": "2022-03-06T14:25:41.055398Z",
     "shell.execute_reply": "2022-03-06T14:25:41.055983Z",
     "shell.execute_reply.started": "2022-03-06T14:08:36.860976Z"
    },
    "papermill": {
     "duration": 0.047101,
     "end_time": "2022-03-06T14:25:41.056156",
     "exception": false,
     "start_time": "2022-03-06T14:25:41.009055",
     "status": "completed"
    },
    "tags": []
   },
   "outputs": [
    {
     "data": {
      "text/plain": [
       "0       True\n",
       "1       True\n",
       "2       True\n",
       "3       True\n",
       "4       True\n",
       "        ... \n",
       "4339    True\n",
       "4340    True\n",
       "4341    True\n",
       "4342    True\n",
       "4343    True\n",
       "Name: Salary, Length: 4344, dtype: bool"
      ]
     },
     "execution_count": 15,
     "metadata": {},
     "output_type": "execute_result"
    }
   ],
   "source": [
    "df[\"Salary\"].str.islower()"
   ]
  },
  {
   "cell_type": "markdown",
   "id": "e2cbc8eb",
   "metadata": {
    "papermill": {
     "duration": 0.034107,
     "end_time": "2022-03-06T14:25:41.125558",
     "exception": false,
     "start_time": "2022-03-06T14:25:41.091451",
     "status": "completed"
    },
    "tags": []
   },
   "source": [
    "# 6. replace()\n",
    "\n",
    "\n",
    "Another very useful function is replace(). It can be used to replace a part of the string with another one. Let's demonstrate how to use it on the group column.  If you remember the group column consisted of 'class 1' and 'class 2' entries.\n",
    "\n"
   ]
  },
  {
   "cell_type": "code",
   "execution_count": 16,
   "id": "e4e2b0e6",
   "metadata": {
    "execution": {
     "iopub.execute_input": "2022-03-06T14:25:41.197983Z",
     "iopub.status.busy": "2022-03-06T14:25:41.197331Z",
     "iopub.status.idle": "2022-03-06T14:25:41.207730Z",
     "shell.execute_reply": "2022-03-06T14:25:41.208312Z",
     "shell.execute_reply.started": "2022-03-06T14:10:07.605711Z"
    },
    "papermill": {
     "duration": 0.04853,
     "end_time": "2022-03-06T14:25:41.208488",
     "exception": false,
     "start_time": "2022-03-06T14:25:41.159958",
     "status": "completed"
    },
    "tags": []
   },
   "outputs": [
    {
     "data": {
      "text/plain": [
       "0        6,48,573/yr\n",
       "1       11,91,950/yr\n",
       "2        8,36,874/yr\n",
       "3        6,69,578/yr\n",
       "4        9,44,110/yr\n",
       "            ...     \n",
       "4339        5,180/mo\n",
       "4340     7,51,286/yr\n",
       "4341     4,10,952/yr\n",
       "4342    16,12,324/yr\n",
       "4343     9,39,843/yr\n",
       "Name: Salary, Length: 4344, dtype: object"
      ]
     },
     "execution_count": 16,
     "metadata": {},
     "output_type": "execute_result"
    }
   ],
   "source": [
    "df[\"Salary\"].str.replace(\"₹\",\"\")"
   ]
  },
  {
   "cell_type": "markdown",
   "id": "a2dcc053",
   "metadata": {
    "papermill": {
     "duration": 0.034964,
     "end_time": "2022-03-06T14:25:41.278453",
     "exception": false,
     "start_time": "2022-03-06T14:25:41.243489",
     "status": "completed"
    },
    "tags": []
   },
   "source": [
    "# 7. split()\n",
    "\n",
    "\n",
    "Split() function splits a string on the desired character. It is very useful if you have a sentence and wand to get a list of individual words. You can do that by splitting the string on the empty space (' ')"
   ]
  },
  {
   "cell_type": "code",
   "execution_count": 17,
   "id": "1e07825d",
   "metadata": {
    "execution": {
     "iopub.execute_input": "2022-03-06T14:25:41.358337Z",
     "iopub.status.busy": "2022-03-06T14:25:41.353661Z",
     "iopub.status.idle": "2022-03-06T14:25:41.365307Z",
     "shell.execute_reply": "2022-03-06T14:25:41.365854Z",
     "shell.execute_reply.started": "2022-03-06T14:10:54.467728Z"
    },
    "papermill": {
     "duration": 0.052574,
     "end_time": "2022-03-06T14:25:41.366037",
     "exception": false,
     "start_time": "2022-03-06T14:25:41.313463",
     "status": "completed"
    },
    "tags": []
   },
   "outputs": [
    {
     "data": {
      "text/plain": [
       "0                         [Mu, Sigma]\n",
       "1                               [IBM]\n",
       "2       [Tata, Consultancy, Services]\n",
       "3                 [Impact, Analytics]\n",
       "4                         [Accenture]\n",
       "                    ...              \n",
       "4339                        [TaiyōAI]\n",
       "4340      [Decimal, Point, Analytics]\n",
       "4341                         [MyWays]\n",
       "4342    [Market, Pulse, Technologies]\n",
       "4343                        [vPhrase]\n",
       "Name: Company Name, Length: 4344, dtype: object"
      ]
     },
     "execution_count": 17,
     "metadata": {},
     "output_type": "execute_result"
    }
   ],
   "source": [
    "df[\"Company Name\"].str.split()"
   ]
  },
  {
   "cell_type": "code",
   "execution_count": 18,
   "id": "fda57502",
   "metadata": {
    "execution": {
     "iopub.execute_input": "2022-03-06T14:25:41.441105Z",
     "iopub.status.busy": "2022-03-06T14:25:41.440403Z",
     "iopub.status.idle": "2022-03-06T14:25:41.451936Z",
     "shell.execute_reply": "2022-03-06T14:25:41.452516Z",
     "shell.execute_reply.started": "2022-03-06T14:11:20.935616Z"
    },
    "papermill": {
     "duration": 0.050929,
     "end_time": "2022-03-06T14:25:41.452701",
     "exception": false,
     "start_time": "2022-03-06T14:25:41.401772",
     "status": "completed"
    },
    "tags": []
   },
   "outputs": [
    {
     "data": {
      "text/plain": [
       "0                          [Mu Sigm, ]\n",
       "1                                [IBM]\n",
       "2       [T, t,  Consult, ncy Services]\n",
       "3                 [Imp, ct An, lytics]\n",
       "4                          [Accenture]\n",
       "                     ...              \n",
       "4339                        [T, iyōAI]\n",
       "4340       [Decim, l Point An, lytics]\n",
       "4341                         [MyW, ys]\n",
       "4342      [M, rket Pulse Technologies]\n",
       "4343                        [vPhr, se]\n",
       "Name: Company Name, Length: 4344, dtype: object"
      ]
     },
     "execution_count": 18,
     "metadata": {},
     "output_type": "execute_result"
    }
   ],
   "source": [
    "df[\"Company Name\"].str.split(\"a\")"
   ]
  },
  {
   "cell_type": "markdown",
   "id": "d9c8bb46",
   "metadata": {
    "papermill": {
     "duration": 0.03565,
     "end_time": "2022-03-06T14:25:41.524517",
     "exception": false,
     "start_time": "2022-03-06T14:25:41.488867",
     "status": "completed"
    },
    "tags": []
   },
   "source": [
    "# 8. contains()\n",
    "\n",
    "\n",
    "Contains() function can check if the string contains a particular substring. The function is quite similar to replace() but instead of replacing the string itself it just returns the boolean value True or False."
   ]
  },
  {
   "cell_type": "code",
   "execution_count": 19,
   "id": "6b7d29c9",
   "metadata": {
    "execution": {
     "iopub.execute_input": "2022-03-06T14:25:41.599868Z",
     "iopub.status.busy": "2022-03-06T14:25:41.599202Z",
     "iopub.status.idle": "2022-03-06T14:25:41.608540Z",
     "shell.execute_reply": "2022-03-06T14:25:41.609080Z",
     "shell.execute_reply.started": "2022-03-06T14:11:53.205726Z"
    },
    "papermill": {
     "duration": 0.048717,
     "end_time": "2022-03-06T14:25:41.609250",
     "exception": false,
     "start_time": "2022-03-06T14:25:41.560533",
     "status": "completed"
    },
    "tags": []
   },
   "outputs": [
    {
     "data": {
      "text/plain": [
       "0        True\n",
       "1       False\n",
       "2        True\n",
       "3        True\n",
       "4       False\n",
       "        ...  \n",
       "4339     True\n",
       "4340     True\n",
       "4341     True\n",
       "4342     True\n",
       "4343     True\n",
       "Name: Company Name, Length: 4344, dtype: object"
      ]
     },
     "execution_count": 19,
     "metadata": {},
     "output_type": "execute_result"
    }
   ],
   "source": [
    "df[\"Company Name\"].str.contains(\"a\")"
   ]
  },
  {
   "cell_type": "markdown",
   "id": "94c58c47",
   "metadata": {
    "papermill": {
     "duration": 0.036364,
     "end_time": "2022-03-06T14:25:41.682719",
     "exception": false,
     "start_time": "2022-03-06T14:25:41.646355",
     "status": "completed"
    },
    "tags": []
   },
   "source": [
    "# 9. find()\n",
    "\n",
    "\n",
    "Find() is another function that can be very handy when cleaning your string data. This function will return an index of where a given substring is found in a string."
   ]
  },
  {
   "cell_type": "code",
   "execution_count": 20,
   "id": "6d7e8d61",
   "metadata": {
    "execution": {
     "iopub.execute_input": "2022-03-06T14:25:41.759180Z",
     "iopub.status.busy": "2022-03-06T14:25:41.758544Z",
     "iopub.status.idle": "2022-03-06T14:25:41.773782Z",
     "shell.execute_reply": "2022-03-06T14:25:41.774289Z",
     "shell.execute_reply.started": "2022-03-06T14:12:27.081426Z"
    },
    "papermill": {
     "duration": 0.054686,
     "end_time": "2022-03-06T14:25:41.774473",
     "exception": false,
     "start_time": "2022-03-06T14:25:41.719787",
     "status": "completed"
    },
    "tags": []
   },
   "outputs": [
    {
     "data": {
      "text/html": [
       "<div>\n",
       "<style scoped>\n",
       "    .dataframe tbody tr th:only-of-type {\n",
       "        vertical-align: middle;\n",
       "    }\n",
       "\n",
       "    .dataframe tbody tr th {\n",
       "        vertical-align: top;\n",
       "    }\n",
       "\n",
       "    .dataframe thead th {\n",
       "        text-align: right;\n",
       "    }\n",
       "</style>\n",
       "<table border=\"1\" class=\"dataframe\">\n",
       "  <thead>\n",
       "    <tr style=\"text-align: right;\">\n",
       "      <th></th>\n",
       "      <th>Company Name</th>\n",
       "      <th>Job Title</th>\n",
       "      <th>Salaries Reported</th>\n",
       "      <th>Location</th>\n",
       "      <th>Salary</th>\n",
       "    </tr>\n",
       "  </thead>\n",
       "  <tbody>\n",
       "    <tr>\n",
       "      <th>0</th>\n",
       "      <td>Mu Sigma</td>\n",
       "      <td>Data Scientist</td>\n",
       "      <td>105.0</td>\n",
       "      <td>Bangalore</td>\n",
       "      <td>₹6,48,573/yr</td>\n",
       "    </tr>\n",
       "    <tr>\n",
       "      <th>1</th>\n",
       "      <td>IBM</td>\n",
       "      <td>Data Scientist</td>\n",
       "      <td>95.0</td>\n",
       "      <td>Bangalore</td>\n",
       "      <td>₹11,91,950/yr</td>\n",
       "    </tr>\n",
       "    <tr>\n",
       "      <th>2</th>\n",
       "      <td>Tata Consultancy Services</td>\n",
       "      <td>Data Scientist</td>\n",
       "      <td>66.0</td>\n",
       "      <td>Bangalore</td>\n",
       "      <td>₹8,36,874/yr</td>\n",
       "    </tr>\n",
       "    <tr>\n",
       "      <th>3</th>\n",
       "      <td>Impact Analytics</td>\n",
       "      <td>Data Scientist</td>\n",
       "      <td>40.0</td>\n",
       "      <td>Bangalore</td>\n",
       "      <td>₹6,69,578/yr</td>\n",
       "    </tr>\n",
       "    <tr>\n",
       "      <th>4</th>\n",
       "      <td>Accenture</td>\n",
       "      <td>Data Scientist</td>\n",
       "      <td>32.0</td>\n",
       "      <td>Bangalore</td>\n",
       "      <td>₹9,44,110/yr</td>\n",
       "    </tr>\n",
       "    <tr>\n",
       "      <th>...</th>\n",
       "      <td>...</td>\n",
       "      <td>...</td>\n",
       "      <td>...</td>\n",
       "      <td>...</td>\n",
       "      <td>...</td>\n",
       "    </tr>\n",
       "    <tr>\n",
       "      <th>4339</th>\n",
       "      <td>TaiyōAI</td>\n",
       "      <td>Machine Learning Scientist</td>\n",
       "      <td>1.0</td>\n",
       "      <td>Mumbai</td>\n",
       "      <td>₹5,180/mo</td>\n",
       "    </tr>\n",
       "    <tr>\n",
       "      <th>4340</th>\n",
       "      <td>Decimal Point Analytics</td>\n",
       "      <td>Machine Learning Developer</td>\n",
       "      <td>1.0</td>\n",
       "      <td>Mumbai</td>\n",
       "      <td>₹7,51,286/yr</td>\n",
       "    </tr>\n",
       "    <tr>\n",
       "      <th>4341</th>\n",
       "      <td>MyWays</td>\n",
       "      <td>Machine Learning Developer</td>\n",
       "      <td>1.0</td>\n",
       "      <td>Mumbai</td>\n",
       "      <td>₹4,10,952/yr</td>\n",
       "    </tr>\n",
       "    <tr>\n",
       "      <th>4342</th>\n",
       "      <td>Market Pulse Technologies</td>\n",
       "      <td>Software Engineer - Machine Learning</td>\n",
       "      <td>1.0</td>\n",
       "      <td>Mumbai</td>\n",
       "      <td>₹16,12,324/yr</td>\n",
       "    </tr>\n",
       "    <tr>\n",
       "      <th>4343</th>\n",
       "      <td>vPhrase</td>\n",
       "      <td>Machine Learning Engineer</td>\n",
       "      <td>1.0</td>\n",
       "      <td>Mumbai</td>\n",
       "      <td>₹9,39,843/yr</td>\n",
       "    </tr>\n",
       "  </tbody>\n",
       "</table>\n",
       "<p>4344 rows × 5 columns</p>\n",
       "</div>"
      ],
      "text/plain": [
       "                   Company Name                             Job Title  \\\n",
       "0                      Mu Sigma                        Data Scientist   \n",
       "1                           IBM                        Data Scientist   \n",
       "2     Tata Consultancy Services                        Data Scientist   \n",
       "3              Impact Analytics                        Data Scientist   \n",
       "4                     Accenture                        Data Scientist   \n",
       "...                         ...                                   ...   \n",
       "4339                    TaiyōAI            Machine Learning Scientist   \n",
       "4340    Decimal Point Analytics            Machine Learning Developer   \n",
       "4341                     MyWays            Machine Learning Developer   \n",
       "4342  Market Pulse Technologies  Software Engineer - Machine Learning   \n",
       "4343                    vPhrase             Machine Learning Engineer   \n",
       "\n",
       "      Salaries Reported   Location         Salary  \n",
       "0                 105.0  Bangalore   ₹6,48,573/yr  \n",
       "1                  95.0  Bangalore  ₹11,91,950/yr  \n",
       "2                  66.0  Bangalore   ₹8,36,874/yr  \n",
       "3                  40.0  Bangalore   ₹6,69,578/yr  \n",
       "4                  32.0  Bangalore   ₹9,44,110/yr  \n",
       "...                 ...        ...            ...  \n",
       "4339                1.0     Mumbai      ₹5,180/mo  \n",
       "4340                1.0     Mumbai   ₹7,51,286/yr  \n",
       "4341                1.0     Mumbai   ₹4,10,952/yr  \n",
       "4342                1.0     Mumbai  ₹16,12,324/yr  \n",
       "4343                1.0     Mumbai   ₹9,39,843/yr  \n",
       "\n",
       "[4344 rows x 5 columns]"
      ]
     },
     "execution_count": 20,
     "metadata": {},
     "output_type": "execute_result"
    }
   ],
   "source": [
    "df"
   ]
  },
  {
   "cell_type": "code",
   "execution_count": 21,
   "id": "b67568b2",
   "metadata": {
    "execution": {
     "iopub.execute_input": "2022-03-06T14:25:41.852895Z",
     "iopub.status.busy": "2022-03-06T14:25:41.852218Z",
     "iopub.status.idle": "2022-03-06T14:25:41.863128Z",
     "shell.execute_reply": "2022-03-06T14:25:41.863583Z",
     "shell.execute_reply.started": "2022-03-06T14:14:14.416833Z"
    },
    "papermill": {
     "duration": 0.051264,
     "end_time": "2022-03-06T14:25:41.863775",
     "exception": false,
     "start_time": "2022-03-06T14:25:41.812511",
     "status": "completed"
    },
    "tags": []
   },
   "outputs": [
    {
     "data": {
      "text/plain": [
       "0       0\n",
       "1       0\n",
       "2       0\n",
       "3       0\n",
       "4       0\n",
       "       ..\n",
       "4339   -1\n",
       "4340   -1\n",
       "4341   -1\n",
       "4342   -1\n",
       "4343   -1\n",
       "Name: Job Title, Length: 4344, dtype: int64"
      ]
     },
     "execution_count": 21,
     "metadata": {},
     "output_type": "execute_result"
    }
   ],
   "source": [
    "df[\"Job Title\"].str.find(\"Data\")"
   ]
  },
  {
   "cell_type": "markdown",
   "id": "3f85710f",
   "metadata": {
    "papermill": {
     "duration": 0.037158,
     "end_time": "2022-03-06T14:25:41.938475",
     "exception": false,
     "start_time": "2022-03-06T14:25:41.901317",
     "status": "completed"
    },
    "tags": []
   },
   "source": [
    "# 10. findall()\n",
    "\n",
    "\n",
    "Findall() similarly to find() will search a string for existing substring but instead of one index, it will return a list of matching substrings. "
   ]
  },
  {
   "cell_type": "code",
   "execution_count": 22,
   "id": "b85183ce",
   "metadata": {
    "execution": {
     "iopub.execute_input": "2022-03-06T14:25:42.017657Z",
     "iopub.status.busy": "2022-03-06T14:25:42.016990Z",
     "iopub.status.idle": "2022-03-06T14:25:42.128580Z",
     "shell.execute_reply": "2022-03-06T14:25:42.128061Z",
     "shell.execute_reply.started": "2022-03-06T14:14:30.569558Z"
    },
    "papermill": {
     "duration": 0.152107,
     "end_time": "2022-03-06T14:25:42.128753",
     "exception": false,
     "start_time": "2022-03-06T14:25:41.976646",
     "status": "completed"
    },
    "tags": []
   },
   "outputs": [
    {
     "data": {
      "text/plain": [
       "0       [Data]\n",
       "1       [Data]\n",
       "2       [Data]\n",
       "3       [Data]\n",
       "4       [Data]\n",
       "         ...  \n",
       "4339        []\n",
       "4340        []\n",
       "4341        []\n",
       "4342        []\n",
       "4343        []\n",
       "Name: Job Title, Length: 4344, dtype: object"
      ]
     },
     "execution_count": 22,
     "metadata": {},
     "output_type": "execute_result"
    }
   ],
   "source": [
    "df[\"Job Title\"].str.findall(\"Data\")"
   ]
  }
 ],
 "metadata": {
  "kernelspec": {
   "display_name": "Python 3",
   "language": "python",
   "name": "python3"
  },
  "language_info": {
   "codemirror_mode": {
    "name": "ipython",
    "version": 3
   },
   "file_extension": ".py",
   "mimetype": "text/x-python",
   "name": "python",
   "nbconvert_exporter": "python",
   "pygments_lexer": "ipython3",
   "version": "3.7.12"
  },
  "papermill": {
   "default_parameters": {},
   "duration": 13.750633,
   "end_time": "2022-03-06T14:25:42.777509",
   "environment_variables": {},
   "exception": null,
   "input_path": "__notebook__.ipynb",
   "output_path": "__notebook__.ipynb",
   "parameters": {},
   "start_time": "2022-03-06T14:25:29.026876",
   "version": "2.3.3"
  }
 },
 "nbformat": 4,
 "nbformat_minor": 5
}
