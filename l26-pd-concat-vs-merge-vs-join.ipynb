{
 "cells": [
  {
   "cell_type": "code",
   "execution_count": 1,
   "id": "e96cbecc",
   "metadata": {
    "_cell_guid": "b1076dfc-b9ad-4769-8c92-a6c4dae69d19",
    "_uuid": "8f2839f25d086af736a60e9eeb907d3b93b6e0e5",
    "execution": {
     "iopub.execute_input": "2022-09-08T06:02:11.276719Z",
     "iopub.status.busy": "2022-09-08T06:02:11.275740Z",
     "iopub.status.idle": "2022-09-08T06:02:11.291390Z",
     "shell.execute_reply": "2022-09-08T06:02:11.290214Z"
    },
    "papermill": {
     "duration": 0.025563,
     "end_time": "2022-09-08T06:02:11.294233",
     "exception": false,
     "start_time": "2022-09-08T06:02:11.268670",
     "status": "completed"
    },
    "tags": []
   },
   "outputs": [],
   "source": [
    "# This Python 3 environment comes with many helpful analytics libraries installed\n",
    "# It is defined by the kaggle/python Docker image: https://github.com/kaggle/docker-python\n",
    "# For example, here's several helpful packages to load\n",
    "\n",
    "import numpy as np # linear algebra\n",
    "import pandas as pd # data processing, CSV file I/O (e.g. pd.read_csv)\n",
    "\n",
    "# Input data files are available in the read-only \"../input/\" directory\n",
    "# For example, running this (by clicking run or pressing Shift+Enter) will list all files under the input directory\n",
    "\n",
    "import os\n",
    "for dirname, _, filenames in os.walk('/kaggle/input'):\n",
    "    for filename in filenames:\n",
    "        print(os.path.join(dirname, filename))\n",
    "\n",
    "# You can write up to 20GB to the current directory (/kaggle/working/) that gets preserved as output when you create a version using \"Save & Run All\" \n",
    "# You can also write temporary files to /kaggle/temp/, but they won't be saved outside of the current session"
   ]
  },
  {
   "cell_type": "code",
   "execution_count": 2,
   "id": "02e93685",
   "metadata": {
    "execution": {
     "iopub.execute_input": "2022-09-08T06:02:11.304735Z",
     "iopub.status.busy": "2022-09-08T06:02:11.304355Z",
     "iopub.status.idle": "2022-09-08T06:02:11.314428Z",
     "shell.execute_reply": "2022-09-08T06:02:11.313334Z"
    },
    "papermill": {
     "duration": 0.017722,
     "end_time": "2022-09-08T06:02:11.316826",
     "exception": false,
     "start_time": "2022-09-08T06:02:11.299104",
     "status": "completed"
    },
    "tags": []
   },
   "outputs": [],
   "source": [
    "df1 = pd.DataFrame({'name': ['Mark', 'Juli', 'Denial'], 'Place': ['Paris', 'London', 'Moscow']}, index=['K0', 'K1', 'K2'])\n",
    "df2 = pd.DataFrame({'age': [25, 35, 28], 'Gender': ['M', 'F', 'M']}, index=['K0', 'K2', 'K3'])"
   ]
  },
  {
   "cell_type": "code",
   "execution_count": 3,
   "id": "8d4405f5",
   "metadata": {
    "execution": {
     "iopub.execute_input": "2022-09-08T06:02:11.326057Z",
     "iopub.status.busy": "2022-09-08T06:02:11.325419Z",
     "iopub.status.idle": "2022-09-08T06:02:11.357381Z",
     "shell.execute_reply": "2022-09-08T06:02:11.356241Z"
    },
    "papermill": {
     "duration": 0.039976,
     "end_time": "2022-09-08T06:02:11.360581",
     "exception": false,
     "start_time": "2022-09-08T06:02:11.320605",
     "status": "completed"
    },
    "tags": []
   },
   "outputs": [
    {
     "data": {
      "text/html": [
       "<div>\n",
       "<style scoped>\n",
       "    .dataframe tbody tr th:only-of-type {\n",
       "        vertical-align: middle;\n",
       "    }\n",
       "\n",
       "    .dataframe tbody tr th {\n",
       "        vertical-align: top;\n",
       "    }\n",
       "\n",
       "    .dataframe thead th {\n",
       "        text-align: right;\n",
       "    }\n",
       "</style>\n",
       "<table border=\"1\" class=\"dataframe\">\n",
       "  <thead>\n",
       "    <tr style=\"text-align: right;\">\n",
       "      <th></th>\n",
       "      <th>name</th>\n",
       "      <th>Place</th>\n",
       "      <th>age</th>\n",
       "      <th>Gender</th>\n",
       "    </tr>\n",
       "  </thead>\n",
       "  <tbody>\n",
       "    <tr>\n",
       "      <th>K0</th>\n",
       "      <td>Mark</td>\n",
       "      <td>Paris</td>\n",
       "      <td>25.0</td>\n",
       "      <td>M</td>\n",
       "    </tr>\n",
       "    <tr>\n",
       "      <th>K1</th>\n",
       "      <td>Juli</td>\n",
       "      <td>London</td>\n",
       "      <td>NaN</td>\n",
       "      <td>NaN</td>\n",
       "    </tr>\n",
       "    <tr>\n",
       "      <th>K2</th>\n",
       "      <td>Denial</td>\n",
       "      <td>Moscow</td>\n",
       "      <td>35.0</td>\n",
       "      <td>F</td>\n",
       "    </tr>\n",
       "  </tbody>\n",
       "</table>\n",
       "</div>"
      ],
      "text/plain": [
       "      name   Place   age Gender\n",
       "K0    Mark   Paris  25.0      M\n",
       "K1    Juli  London   NaN    NaN\n",
       "K2  Denial  Moscow  35.0      F"
      ]
     },
     "execution_count": 3,
     "metadata": {},
     "output_type": "execute_result"
    }
   ],
   "source": [
    "df1.join(df2)\n"
   ]
  },
  {
   "cell_type": "code",
   "execution_count": 4,
   "id": "a94761cd",
   "metadata": {
    "execution": {
     "iopub.execute_input": "2022-09-08T06:02:11.370305Z",
     "iopub.status.busy": "2022-09-08T06:02:11.369719Z",
     "iopub.status.idle": "2022-09-08T06:02:11.384708Z",
     "shell.execute_reply": "2022-09-08T06:02:11.383972Z"
    },
    "papermill": {
     "duration": 0.022158,
     "end_time": "2022-09-08T06:02:11.386692",
     "exception": false,
     "start_time": "2022-09-08T06:02:11.364534",
     "status": "completed"
    },
    "tags": []
   },
   "outputs": [
    {
     "data": {
      "text/html": [
       "<div>\n",
       "<style scoped>\n",
       "    .dataframe tbody tr th:only-of-type {\n",
       "        vertical-align: middle;\n",
       "    }\n",
       "\n",
       "    .dataframe tbody tr th {\n",
       "        vertical-align: top;\n",
       "    }\n",
       "\n",
       "    .dataframe thead th {\n",
       "        text-align: right;\n",
       "    }\n",
       "</style>\n",
       "<table border=\"1\" class=\"dataframe\">\n",
       "  <thead>\n",
       "    <tr style=\"text-align: right;\">\n",
       "      <th></th>\n",
       "      <th>name</th>\n",
       "      <th>Place</th>\n",
       "      <th>age</th>\n",
       "      <th>Gender</th>\n",
       "    </tr>\n",
       "  </thead>\n",
       "  <tbody>\n",
       "    <tr>\n",
       "      <th>K0</th>\n",
       "      <td>Mark</td>\n",
       "      <td>Paris</td>\n",
       "      <td>25.0</td>\n",
       "      <td>M</td>\n",
       "    </tr>\n",
       "    <tr>\n",
       "      <th>K1</th>\n",
       "      <td>Juli</td>\n",
       "      <td>London</td>\n",
       "      <td>NaN</td>\n",
       "      <td>NaN</td>\n",
       "    </tr>\n",
       "    <tr>\n",
       "      <th>K2</th>\n",
       "      <td>Denial</td>\n",
       "      <td>Moscow</td>\n",
       "      <td>35.0</td>\n",
       "      <td>F</td>\n",
       "    </tr>\n",
       "    <tr>\n",
       "      <th>K3</th>\n",
       "      <td>NaN</td>\n",
       "      <td>NaN</td>\n",
       "      <td>28.0</td>\n",
       "      <td>M</td>\n",
       "    </tr>\n",
       "  </tbody>\n",
       "</table>\n",
       "</div>"
      ],
      "text/plain": [
       "      name   Place   age Gender\n",
       "K0    Mark   Paris  25.0      M\n",
       "K1    Juli  London   NaN    NaN\n",
       "K2  Denial  Moscow  35.0      F\n",
       "K3     NaN     NaN  28.0      M"
      ]
     },
     "execution_count": 4,
     "metadata": {},
     "output_type": "execute_result"
    }
   ],
   "source": [
    "df1.join(df2, how='outer')"
   ]
  },
  {
   "cell_type": "code",
   "execution_count": 5,
   "id": "415ca8bf",
   "metadata": {
    "execution": {
     "iopub.execute_input": "2022-09-08T06:02:11.396469Z",
     "iopub.status.busy": "2022-09-08T06:02:11.395846Z",
     "iopub.status.idle": "2022-09-08T06:02:11.408294Z",
     "shell.execute_reply": "2022-09-08T06:02:11.407465Z"
    },
    "papermill": {
     "duration": 0.019714,
     "end_time": "2022-09-08T06:02:11.410461",
     "exception": false,
     "start_time": "2022-09-08T06:02:11.390747",
     "status": "completed"
    },
    "tags": []
   },
   "outputs": [
    {
     "data": {
      "text/html": [
       "<div>\n",
       "<style scoped>\n",
       "    .dataframe tbody tr th:only-of-type {\n",
       "        vertical-align: middle;\n",
       "    }\n",
       "\n",
       "    .dataframe tbody tr th {\n",
       "        vertical-align: top;\n",
       "    }\n",
       "\n",
       "    .dataframe thead th {\n",
       "        text-align: right;\n",
       "    }\n",
       "</style>\n",
       "<table border=\"1\" class=\"dataframe\">\n",
       "  <thead>\n",
       "    <tr style=\"text-align: right;\">\n",
       "      <th></th>\n",
       "      <th>name</th>\n",
       "      <th>Place</th>\n",
       "      <th>age</th>\n",
       "      <th>Gender</th>\n",
       "    </tr>\n",
       "  </thead>\n",
       "  <tbody>\n",
       "    <tr>\n",
       "      <th>K0</th>\n",
       "      <td>Mark</td>\n",
       "      <td>Paris</td>\n",
       "      <td>25</td>\n",
       "      <td>M</td>\n",
       "    </tr>\n",
       "    <tr>\n",
       "      <th>K2</th>\n",
       "      <td>Denial</td>\n",
       "      <td>Moscow</td>\n",
       "      <td>35</td>\n",
       "      <td>F</td>\n",
       "    </tr>\n",
       "  </tbody>\n",
       "</table>\n",
       "</div>"
      ],
      "text/plain": [
       "      name   Place  age Gender\n",
       "K0    Mark   Paris   25      M\n",
       "K2  Denial  Moscow   35      F"
      ]
     },
     "execution_count": 5,
     "metadata": {},
     "output_type": "execute_result"
    }
   ],
   "source": [
    "df1.join(df2, how='inner')"
   ]
  },
  {
   "cell_type": "markdown",
   "id": "6a326966",
   "metadata": {
    "papermill": {
     "duration": 0.003912,
     "end_time": "2022-09-08T06:02:11.418586",
     "exception": false,
     "start_time": "2022-09-08T06:02:11.414674",
     "status": "completed"
    },
    "tags": []
   },
   "source": [
    "# Joining key columns on an index\n",
    "join() takes an optional on argument which may be a column or multiple column names, which specifies that the passed DataFrame is to be aligned on that column in the DataFrame."
   ]
  },
  {
   "cell_type": "code",
   "execution_count": 6,
   "id": "be0ef296",
   "metadata": {
    "execution": {
     "iopub.execute_input": "2022-09-08T06:02:11.428401Z",
     "iopub.status.busy": "2022-09-08T06:02:11.427721Z",
     "iopub.status.idle": "2022-09-08T06:02:11.445662Z",
     "shell.execute_reply": "2022-09-08T06:02:11.444905Z"
    },
    "papermill": {
     "duration": 0.025426,
     "end_time": "2022-09-08T06:02:11.447935",
     "exception": false,
     "start_time": "2022-09-08T06:02:11.422509",
     "status": "completed"
    },
    "tags": []
   },
   "outputs": [
    {
     "data": {
      "text/html": [
       "<div>\n",
       "<style scoped>\n",
       "    .dataframe tbody tr th:only-of-type {\n",
       "        vertical-align: middle;\n",
       "    }\n",
       "\n",
       "    .dataframe tbody tr th {\n",
       "        vertical-align: top;\n",
       "    }\n",
       "\n",
       "    .dataframe thead th {\n",
       "        text-align: right;\n",
       "    }\n",
       "</style>\n",
       "<table border=\"1\" class=\"dataframe\">\n",
       "  <thead>\n",
       "    <tr style=\"text-align: right;\">\n",
       "      <th></th>\n",
       "      <th>key</th>\n",
       "      <th>name</th>\n",
       "      <th>Place</th>\n",
       "      <th>age</th>\n",
       "      <th>Gender</th>\n",
       "    </tr>\n",
       "  </thead>\n",
       "  <tbody>\n",
       "    <tr>\n",
       "      <th>0</th>\n",
       "      <td>k0</td>\n",
       "      <td>Mark</td>\n",
       "      <td>Paris</td>\n",
       "      <td>25</td>\n",
       "      <td>M</td>\n",
       "    </tr>\n",
       "    <tr>\n",
       "      <th>1</th>\n",
       "      <td>k1</td>\n",
       "      <td>Juli</td>\n",
       "      <td>London</td>\n",
       "      <td>35</td>\n",
       "      <td>F</td>\n",
       "    </tr>\n",
       "    <tr>\n",
       "      <th>2</th>\n",
       "      <td>k0</td>\n",
       "      <td>Denial</td>\n",
       "      <td>Moscow</td>\n",
       "      <td>25</td>\n",
       "      <td>M</td>\n",
       "    </tr>\n",
       "  </tbody>\n",
       "</table>\n",
       "</div>"
      ],
      "text/plain": [
       "  key    name   Place  age Gender\n",
       "0  k0    Mark   Paris   25      M\n",
       "1  k1    Juli  London   35      F\n",
       "2  k0  Denial  Moscow   25      M"
      ]
     },
     "execution_count": 6,
     "metadata": {},
     "output_type": "execute_result"
    }
   ],
   "source": [
    "df1 = pd.DataFrame({'key':['k0','k1','k0'] , 'name': ['Mark', 'Juli', 'Denial'] , \n",
    "                    'Place': ['Paris', 'London', 'Moscow']})\n",
    "df2 = pd.DataFrame({'age': [25, 35, 28], 'Gender': ['M', 'F', 'M']}, \n",
    "                   index=['k0', 'k1', 'k2'])\n",
    "\n",
    "Result = df1.join(df2,on='key')\n",
    "Result"
   ]
  },
  {
   "cell_type": "markdown",
   "id": "65af14bf",
   "metadata": {
    "papermill": {
     "duration": 0.004121,
     "end_time": "2022-09-08T06:02:11.458350",
     "exception": false,
     "start_time": "2022-09-08T06:02:11.454229",
     "status": "completed"
    },
    "tags": []
   },
   "source": [
    "![m](https://studymachinelearning.com/wp-content/uploads/2019/11/pandas_join_ex_2.png)"
   ]
  },
  {
   "cell_type": "markdown",
   "id": "3b52e918",
   "metadata": {
    "papermill": {
     "duration": 0.004201,
     "end_time": "2022-09-08T06:02:11.467331",
     "exception": false,
     "start_time": "2022-09-08T06:02:11.463130",
     "status": "completed"
    },
    "tags": []
   },
   "source": [
    "# Joining Multiple DataFrames\n"
   ]
  },
  {
   "cell_type": "code",
   "execution_count": 7,
   "id": "c45910b8",
   "metadata": {
    "execution": {
     "iopub.execute_input": "2022-09-08T06:02:11.477844Z",
     "iopub.status.busy": "2022-09-08T06:02:11.477232Z",
     "iopub.status.idle": "2022-09-08T06:02:11.495176Z",
     "shell.execute_reply": "2022-09-08T06:02:11.494425Z"
    },
    "papermill": {
     "duration": 0.025598,
     "end_time": "2022-09-08T06:02:11.497163",
     "exception": false,
     "start_time": "2022-09-08T06:02:11.471565",
     "status": "completed"
    },
    "tags": []
   },
   "outputs": [
    {
     "data": {
      "text/html": [
       "<div>\n",
       "<style scoped>\n",
       "    .dataframe tbody tr th:only-of-type {\n",
       "        vertical-align: middle;\n",
       "    }\n",
       "\n",
       "    .dataframe tbody tr th {\n",
       "        vertical-align: top;\n",
       "    }\n",
       "\n",
       "    .dataframe thead th {\n",
       "        text-align: right;\n",
       "    }\n",
       "</style>\n",
       "<table border=\"1\" class=\"dataframe\">\n",
       "  <thead>\n",
       "    <tr style=\"text-align: right;\">\n",
       "      <th></th>\n",
       "      <th>A_x</th>\n",
       "      <th>A_y</th>\n",
       "      <th>A</th>\n",
       "    </tr>\n",
       "  </thead>\n",
       "  <tbody>\n",
       "    <tr>\n",
       "      <th>K0</th>\n",
       "      <td>1</td>\n",
       "      <td>4.0</td>\n",
       "      <td>NaN</td>\n",
       "    </tr>\n",
       "    <tr>\n",
       "      <th>K0</th>\n",
       "      <td>1</td>\n",
       "      <td>5.0</td>\n",
       "      <td>NaN</td>\n",
       "    </tr>\n",
       "    <tr>\n",
       "      <th>K1</th>\n",
       "      <td>2</td>\n",
       "      <td>NaN</td>\n",
       "      <td>7.0</td>\n",
       "    </tr>\n",
       "    <tr>\n",
       "      <th>K1</th>\n",
       "      <td>2</td>\n",
       "      <td>NaN</td>\n",
       "      <td>8.0</td>\n",
       "    </tr>\n",
       "    <tr>\n",
       "      <th>K2</th>\n",
       "      <td>3</td>\n",
       "      <td>NaN</td>\n",
       "      <td>9.0</td>\n",
       "    </tr>\n",
       "  </tbody>\n",
       "</table>\n",
       "</div>"
      ],
      "text/plain": [
       "    A_x  A_y    A\n",
       "K0    1  4.0  NaN\n",
       "K0    1  5.0  NaN\n",
       "K1    2  NaN  7.0\n",
       "K1    2  NaN  8.0\n",
       "K2    3  NaN  9.0"
      ]
     },
     "execution_count": 7,
     "metadata": {},
     "output_type": "execute_result"
    }
   ],
   "source": [
    "df1 = pd.DataFrame({'A': [1, 2, 3]}, index=['K0', 'K1', 'K2'])\n",
    "df2 = pd.DataFrame({'A': [4, 5, 6]}, index=['K0', 'K0', 'K3'])\n",
    "df3 = pd.DataFrame({'A': [7, 8, 9]}, index=['K1', 'K1', 'K2'])\n",
    "\n",
    "Result = df1.join([df2, df3])\n",
    "Result"
   ]
  },
  {
   "cell_type": "markdown",
   "id": "5c317fd3",
   "metadata": {
    "papermill": {
     "duration": 0.004297,
     "end_time": "2022-09-08T06:02:11.506063",
     "exception": false,
     "start_time": "2022-09-08T06:02:11.501766",
     "status": "completed"
    },
    "tags": []
   },
   "source": [
    "![m](https://studymachinelearning.com/wp-content/uploads/2019/11/pandas_join.png)"
   ]
  },
  {
   "cell_type": "markdown",
   "id": "a3336061",
   "metadata": {
    "papermill": {
     "duration": 0.004097,
     "end_time": "2022-09-08T06:02:11.514503",
     "exception": false,
     "start_time": "2022-09-08T06:02:11.510406",
     "status": "completed"
    },
    "tags": []
   },
   "source": [
    "# pd.concat() vs merge() vs join()"
   ]
  },
  {
   "cell_type": "markdown",
   "id": "ebb7cec6",
   "metadata": {
    "papermill": {
     "duration": 0.004069,
     "end_time": "2022-09-08T06:02:11.522884",
     "exception": false,
     "start_time": "2022-09-08T06:02:11.518815",
     "status": "completed"
    },
    "tags": []
   },
   "source": [
    "The merge() and join() methods are the DataFrame method, not a series method. The concat() method is the pandas’ method which provides the functionality to combine the pandas’ objects such as DataFrame and Series.\n",
    "\n",
    "Merge – \n",
    "\n",
    "* The merge() function used to merge the DataFrames with database-style join such as inner join, outer join, left join, right join.\n",
    "* Combining exactly two DataFrames.\n",
    "* The join is done on columns or indexes.\n",
    "* If joining columns on columns, the DataFrame indexes will be ignored.\n",
    "* If joining indexes on indexes or indexes on a column, the index will be passed on.\n",
    " \n",
    "\n",
    "Join – \n",
    "\n",
    "* The join() function used to join two or more pandas DataFrames/Series horizontally.\n",
    "* Join() uses merge internally for the index-on-index (by default) and column(s)-on-index join.\n",
    "* Aligns the calling DataFrame’s column(s) or index with the other objects’ index (and not the columns).\n",
    "* Defaults to left join with options for right, inner and outer join\n",
    "\n",
    "\n",
    "Concat – \n",
    "\n",
    "* concatenate two or more pandas DataFrames/Series vertically or horizontally.\n",
    "* Aligns only on the index by specifying the axis parameter.\n",
    "* Defaults to outer join with the option for inner join"
   ]
  },
  {
   "cell_type": "markdown",
   "id": "1a04e48e",
   "metadata": {
    "papermill": {
     "duration": 0.004041,
     "end_time": "2022-09-08T06:02:11.531287",
     "exception": false,
     "start_time": "2022-09-08T06:02:11.527246",
     "status": "completed"
    },
    "tags": []
   },
   "source": [
    "<div class=\"s-table-container\">\n",
    "<table class=\"s-table\">\n",
    "<thead>\n",
    "<tr>\n",
    "<th style=\"text-align: center;\"></th>\n",
    "<th style=\"text-align: left;\">PROS</th>\n",
    "<th style=\"text-align: left;\">CONS</th>\n",
    "</tr>\n",
    "</thead>\n",
    "<tbody>\n",
    "<tr>\n",
    "<td style=\"text-align: center;\"><code>merge</code></td>\n",
    "<td style=\"text-align: left;\"><p>• supports inner/left/right/full <br>• supports column-column, index-column, index-index joins</p></td>\n",
    "<td style=\"text-align: left;\"><p> • can only join two frames at a time</p></td>\n",
    "</tr>\n",
    "<tr>\n",
    "<td style=\"text-align: center;\"><code>join</code></td>\n",
    "<td style=\"text-align: left;\"><p>• supports inner/left (default)/right/full <br>• can join multiple DataFrames at a time </p></td>\n",
    "<td style=\"text-align: left;\"><p> • only supports index-index joins</p></td>\n",
    "</tr>\n",
    "<tr>\n",
    "<td style=\"text-align: center;\"><code>concat</code></td>\n",
    "<td style=\"text-align: left;\"><p>•  specializes in joining multiple DataFrames at a time <br>• very fast (concatenation is linear time)</p></td>\n",
    "<td style=\"text-align: left;\"><p> • only supports inner/full (default) joins <br> • only supports index-index joins</p></td>\n",
    "</tr>\n",
    "</tbody>\n",
    "</table>\n",
    "</div>"
   ]
  }
 ],
 "metadata": {
  "kernelspec": {
   "display_name": "Python 3",
   "language": "python",
   "name": "python3"
  },
  "language_info": {
   "codemirror_mode": {
    "name": "ipython",
    "version": 3
   },
   "file_extension": ".py",
   "mimetype": "text/x-python",
   "name": "python",
   "nbconvert_exporter": "python",
   "pygments_lexer": "ipython3",
   "version": "3.7.12"
  },
  "papermill": {
   "default_parameters": {},
   "duration": 9.577132,
   "end_time": "2022-09-08T06:02:12.156601",
   "environment_variables": {},
   "exception": null,
   "input_path": "__notebook__.ipynb",
   "output_path": "__notebook__.ipynb",
   "parameters": {},
   "start_time": "2022-09-08T06:02:02.579469",
   "version": "2.3.4"
  }
 },
 "nbformat": 4,
 "nbformat_minor": 5
}
