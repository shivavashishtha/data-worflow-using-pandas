{
 "cells": [
  {
   "cell_type": "code",
   "execution_count": 1,
   "id": "c8a9d8fd",
   "metadata": {
    "_cell_guid": "b1076dfc-b9ad-4769-8c92-a6c4dae69d19",
    "_uuid": "8f2839f25d086af736a60e9eeb907d3b93b6e0e5",
    "execution": {
     "iopub.execute_input": "2022-08-07T19:35:50.997718Z",
     "iopub.status.busy": "2022-08-07T19:35:50.996694Z",
     "iopub.status.idle": "2022-08-07T19:35:51.011053Z",
     "shell.execute_reply": "2022-08-07T19:35:51.009788Z",
     "shell.execute_reply.started": "2022-08-07T19:09:15.602251Z"
    },
    "papermill": {
     "duration": 0.049103,
     "end_time": "2022-08-07T19:35:51.011412",
     "exception": false,
     "start_time": "2022-08-07T19:35:50.962309",
     "status": "completed"
    },
    "tags": []
   },
   "outputs": [
    {
     "name": "stdout",
     "output_type": "stream",
     "text": [
      "/kaggle/input/shark-tank-india-dataset/Shark Tank India Dataset.csv\n"
     ]
    }
   ],
   "source": [
    "# This Python 3 environment comes with many helpful analytics libraries installed\n",
    "# It is defined by the kaggle/python Docker image: https://github.com/kaggle/docker-python\n",
    "# For example, here's several helpful packages to load\n",
    "\n",
    "import numpy as np # linear algebra\n",
    "import pandas as pd # data processing, CSV file I/O (e.g. pd.read_csv)\n",
    "\n",
    "# Input data files are available in the read-only \"../input/\" directory\n",
    "# For example, running this (by clicking run or pressing Shift+Enter) will list all files under the input directory\n",
    "\n",
    "import os\n",
    "for dirname, _, filenames in os.walk('/kaggle/input'):\n",
    "    for filename in filenames:\n",
    "        print(os.path.join(dirname, filename))\n",
    "\n",
    "# You can write up to 20GB to the current directory (/kaggle/working/) that gets preserved as output when you create a version using \"Save & Run All\" \n",
    "# You can also write temporary files to /kaggle/temp/, but they won't be saved outside of the current session"
   ]
  },
  {
   "cell_type": "markdown",
   "id": "a753dd7a",
   "metadata": {
    "papermill": {
     "duration": 0.019961,
     "end_time": "2022-08-07T19:35:51.053990",
     "exception": false,
     "start_time": "2022-08-07T19:35:51.034029",
     "status": "completed"
    },
    "tags": []
   },
   "source": [
    "# Combining Datasets : Concat and Append\n",
    "Some of the most interesting studies of data come from combining different data sources.\n",
    "These operations can involve anything from very straightforward concatenation of two different datasets, to more complicated database-style joins and merges that correctly handle any overlaps between the datasets.\n",
    "``Series`` and ``DataFrame``s are built with this type of operation in mind, and Pandas includes functions and methods that make this sort of data wrangling fast and straightforward.\n",
    "\n",
    "Here we'll take a look at simple concatenation of ``Series`` and ``DataFrame``s with the ``pd.concat`` and ``pd.append`` functions; later we'll dive into more sophisticated in-memory merges and joins implemented in Pandas.\n"
   ]
  },
  {
   "cell_type": "code",
   "execution_count": 2,
   "id": "35365a38",
   "metadata": {
    "execution": {
     "iopub.execute_input": "2022-08-07T19:35:51.117854Z",
     "iopub.status.busy": "2022-08-07T19:35:51.116624Z",
     "iopub.status.idle": "2022-08-07T19:35:51.121965Z",
     "shell.execute_reply": "2022-08-07T19:35:51.120970Z",
     "shell.execute_reply.started": "2022-08-07T19:26:56.737535Z"
    },
    "papermill": {
     "duration": 0.044604,
     "end_time": "2022-08-07T19:35:51.122227",
     "exception": false,
     "start_time": "2022-08-07T19:35:51.077623",
     "status": "completed"
    },
    "tags": []
   },
   "outputs": [],
   "source": [
    "df1 = {'one' : pd.Series([90, 80, 70, 60],\n",
    "                       index =['a', 'b', 'c', 'd']),\n",
    "      'two' : pd.Series([10, 20, 30, 40],\n",
    "                        index =['a', 'b', 'c', 'd'])}\n",
    "\n",
    "\n",
    "\n",
    "\n",
    "df2 = {'one' : pd.Series([10, 20, 30, 40],\n",
    "                       index =['e', 'f', 'g', 'h']),\n",
    "      'two' : pd.Series([50, 60, 70, 80],\n",
    "                       index =['e', 'f', 'g', 'h'])}"
   ]
  },
  {
   "cell_type": "code",
   "execution_count": 3,
   "id": "4a08289e",
   "metadata": {
    "execution": {
     "iopub.execute_input": "2022-08-07T19:35:51.175030Z",
     "iopub.status.busy": "2022-08-07T19:35:51.173618Z",
     "iopub.status.idle": "2022-08-07T19:35:51.178587Z",
     "shell.execute_reply": "2022-08-07T19:35:51.177522Z",
     "shell.execute_reply.started": "2022-08-07T19:26:57.567789Z"
    },
    "papermill": {
     "duration": 0.033958,
     "end_time": "2022-08-07T19:35:51.178833",
     "exception": false,
     "start_time": "2022-08-07T19:35:51.144875",
     "status": "completed"
    },
    "tags": []
   },
   "outputs": [],
   "source": [
    "df1 = pd.DataFrame(df1)"
   ]
  },
  {
   "cell_type": "code",
   "execution_count": 4,
   "id": "5122ea1b",
   "metadata": {
    "execution": {
     "iopub.execute_input": "2022-08-07T19:35:51.233921Z",
     "iopub.status.busy": "2022-08-07T19:35:51.232661Z",
     "iopub.status.idle": "2022-08-07T19:35:51.234963Z",
     "shell.execute_reply": "2022-08-07T19:35:51.235605Z",
     "shell.execute_reply.started": "2022-08-07T19:26:57.850650Z"
    },
    "papermill": {
     "duration": 0.033527,
     "end_time": "2022-08-07T19:35:51.235836",
     "exception": false,
     "start_time": "2022-08-07T19:35:51.202309",
     "status": "completed"
    },
    "tags": []
   },
   "outputs": [],
   "source": [
    "df2 = pd.DataFrame(df2)"
   ]
  },
  {
   "cell_type": "code",
   "execution_count": 5,
   "id": "2a4938a7",
   "metadata": {
    "execution": {
     "iopub.execute_input": "2022-08-07T19:35:51.281830Z",
     "iopub.status.busy": "2022-08-07T19:35:51.280296Z",
     "iopub.status.idle": "2022-08-07T19:35:51.301357Z",
     "shell.execute_reply": "2022-08-07T19:35:51.302298Z",
     "shell.execute_reply.started": "2022-08-07T19:26:58.089753Z"
    },
    "papermill": {
     "duration": 0.045769,
     "end_time": "2022-08-07T19:35:51.302594",
     "exception": false,
     "start_time": "2022-08-07T19:35:51.256825",
     "status": "completed"
    },
    "tags": []
   },
   "outputs": [
    {
     "data": {
      "text/html": [
       "<div>\n",
       "<style scoped>\n",
       "    .dataframe tbody tr th:only-of-type {\n",
       "        vertical-align: middle;\n",
       "    }\n",
       "\n",
       "    .dataframe tbody tr th {\n",
       "        vertical-align: top;\n",
       "    }\n",
       "\n",
       "    .dataframe thead th {\n",
       "        text-align: right;\n",
       "    }\n",
       "</style>\n",
       "<table border=\"1\" class=\"dataframe\">\n",
       "  <thead>\n",
       "    <tr style=\"text-align: right;\">\n",
       "      <th></th>\n",
       "      <th>one</th>\n",
       "      <th>two</th>\n",
       "    </tr>\n",
       "  </thead>\n",
       "  <tbody>\n",
       "    <tr>\n",
       "      <th>a</th>\n",
       "      <td>90</td>\n",
       "      <td>10</td>\n",
       "    </tr>\n",
       "    <tr>\n",
       "      <th>b</th>\n",
       "      <td>80</td>\n",
       "      <td>20</td>\n",
       "    </tr>\n",
       "    <tr>\n",
       "      <th>c</th>\n",
       "      <td>70</td>\n",
       "      <td>30</td>\n",
       "    </tr>\n",
       "    <tr>\n",
       "      <th>d</th>\n",
       "      <td>60</td>\n",
       "      <td>40</td>\n",
       "    </tr>\n",
       "  </tbody>\n",
       "</table>\n",
       "</div>"
      ],
      "text/plain": [
       "   one  two\n",
       "a   90   10\n",
       "b   80   20\n",
       "c   70   30\n",
       "d   60   40"
      ]
     },
     "execution_count": 5,
     "metadata": {},
     "output_type": "execute_result"
    }
   ],
   "source": [
    "df1"
   ]
  },
  {
   "cell_type": "code",
   "execution_count": 6,
   "id": "fba0dc34",
   "metadata": {
    "execution": {
     "iopub.execute_input": "2022-08-07T19:35:51.357199Z",
     "iopub.status.busy": "2022-08-07T19:35:51.356067Z",
     "iopub.status.idle": "2022-08-07T19:35:51.367842Z",
     "shell.execute_reply": "2022-08-07T19:35:51.368570Z",
     "shell.execute_reply.started": "2022-08-07T19:26:58.480744Z"
    },
    "papermill": {
     "duration": 0.041554,
     "end_time": "2022-08-07T19:35:51.368797",
     "exception": false,
     "start_time": "2022-08-07T19:35:51.327243",
     "status": "completed"
    },
    "tags": []
   },
   "outputs": [
    {
     "data": {
      "text/html": [
       "<div>\n",
       "<style scoped>\n",
       "    .dataframe tbody tr th:only-of-type {\n",
       "        vertical-align: middle;\n",
       "    }\n",
       "\n",
       "    .dataframe tbody tr th {\n",
       "        vertical-align: top;\n",
       "    }\n",
       "\n",
       "    .dataframe thead th {\n",
       "        text-align: right;\n",
       "    }\n",
       "</style>\n",
       "<table border=\"1\" class=\"dataframe\">\n",
       "  <thead>\n",
       "    <tr style=\"text-align: right;\">\n",
       "      <th></th>\n",
       "      <th>one</th>\n",
       "      <th>two</th>\n",
       "    </tr>\n",
       "  </thead>\n",
       "  <tbody>\n",
       "    <tr>\n",
       "      <th>e</th>\n",
       "      <td>10</td>\n",
       "      <td>50</td>\n",
       "    </tr>\n",
       "    <tr>\n",
       "      <th>f</th>\n",
       "      <td>20</td>\n",
       "      <td>60</td>\n",
       "    </tr>\n",
       "    <tr>\n",
       "      <th>g</th>\n",
       "      <td>30</td>\n",
       "      <td>70</td>\n",
       "    </tr>\n",
       "    <tr>\n",
       "      <th>h</th>\n",
       "      <td>40</td>\n",
       "      <td>80</td>\n",
       "    </tr>\n",
       "  </tbody>\n",
       "</table>\n",
       "</div>"
      ],
      "text/plain": [
       "   one  two\n",
       "e   10   50\n",
       "f   20   60\n",
       "g   30   70\n",
       "h   40   80"
      ]
     },
     "execution_count": 6,
     "metadata": {},
     "output_type": "execute_result"
    }
   ],
   "source": [
    "df2"
   ]
  },
  {
   "cell_type": "code",
   "execution_count": 7,
   "id": "ad7e985e",
   "metadata": {
    "execution": {
     "iopub.execute_input": "2022-08-07T19:35:51.413308Z",
     "iopub.status.busy": "2022-08-07T19:35:51.412478Z",
     "iopub.status.idle": "2022-08-07T19:35:51.424562Z",
     "shell.execute_reply": "2022-08-07T19:35:51.425187Z",
     "shell.execute_reply.started": "2022-08-07T19:26:58.832177Z"
    },
    "papermill": {
     "duration": 0.036099,
     "end_time": "2022-08-07T19:35:51.425382",
     "exception": false,
     "start_time": "2022-08-07T19:35:51.389283",
     "status": "completed"
    },
    "tags": []
   },
   "outputs": [
    {
     "data": {
      "text/html": [
       "<div>\n",
       "<style scoped>\n",
       "    .dataframe tbody tr th:only-of-type {\n",
       "        vertical-align: middle;\n",
       "    }\n",
       "\n",
       "    .dataframe tbody tr th {\n",
       "        vertical-align: top;\n",
       "    }\n",
       "\n",
       "    .dataframe thead th {\n",
       "        text-align: right;\n",
       "    }\n",
       "</style>\n",
       "<table border=\"1\" class=\"dataframe\">\n",
       "  <thead>\n",
       "    <tr style=\"text-align: right;\">\n",
       "      <th></th>\n",
       "      <th>one</th>\n",
       "      <th>two</th>\n",
       "    </tr>\n",
       "  </thead>\n",
       "  <tbody>\n",
       "    <tr>\n",
       "      <th>a</th>\n",
       "      <td>90</td>\n",
       "      <td>10</td>\n",
       "    </tr>\n",
       "    <tr>\n",
       "      <th>b</th>\n",
       "      <td>80</td>\n",
       "      <td>20</td>\n",
       "    </tr>\n",
       "    <tr>\n",
       "      <th>c</th>\n",
       "      <td>70</td>\n",
       "      <td>30</td>\n",
       "    </tr>\n",
       "    <tr>\n",
       "      <th>d</th>\n",
       "      <td>60</td>\n",
       "      <td>40</td>\n",
       "    </tr>\n",
       "    <tr>\n",
       "      <th>e</th>\n",
       "      <td>10</td>\n",
       "      <td>50</td>\n",
       "    </tr>\n",
       "    <tr>\n",
       "      <th>f</th>\n",
       "      <td>20</td>\n",
       "      <td>60</td>\n",
       "    </tr>\n",
       "    <tr>\n",
       "      <th>g</th>\n",
       "      <td>30</td>\n",
       "      <td>70</td>\n",
       "    </tr>\n",
       "    <tr>\n",
       "      <th>h</th>\n",
       "      <td>40</td>\n",
       "      <td>80</td>\n",
       "    </tr>\n",
       "  </tbody>\n",
       "</table>\n",
       "</div>"
      ],
      "text/plain": [
       "   one  two\n",
       "a   90   10\n",
       "b   80   20\n",
       "c   70   30\n",
       "d   60   40\n",
       "e   10   50\n",
       "f   20   60\n",
       "g   30   70\n",
       "h   40   80"
      ]
     },
     "execution_count": 7,
     "metadata": {},
     "output_type": "execute_result"
    }
   ],
   "source": [
    "df1.append(df2)"
   ]
  },
  {
   "cell_type": "code",
   "execution_count": 8,
   "id": "e6e7aa77",
   "metadata": {
    "execution": {
     "iopub.execute_input": "2022-08-07T19:35:51.482402Z",
     "iopub.status.busy": "2022-08-07T19:35:51.480338Z",
     "iopub.status.idle": "2022-08-07T19:35:51.484647Z",
     "shell.execute_reply": "2022-08-07T19:35:51.483564Z",
     "shell.execute_reply.started": "2022-08-07T19:27:03.624653Z"
    },
    "papermill": {
     "duration": 0.035834,
     "end_time": "2022-08-07T19:35:51.484846",
     "exception": false,
     "start_time": "2022-08-07T19:35:51.449012",
     "status": "completed"
    },
    "tags": []
   },
   "outputs": [],
   "source": [
    "frames=[df1,df2]"
   ]
  },
  {
   "cell_type": "code",
   "execution_count": 9,
   "id": "cf00d427",
   "metadata": {
    "execution": {
     "iopub.execute_input": "2022-08-07T19:35:51.535009Z",
     "iopub.status.busy": "2022-08-07T19:35:51.533519Z",
     "iopub.status.idle": "2022-08-07T19:35:51.543937Z",
     "shell.execute_reply": "2022-08-07T19:35:51.544555Z",
     "shell.execute_reply.started": "2022-08-07T19:27:06.947343Z"
    },
    "papermill": {
     "duration": 0.036568,
     "end_time": "2022-08-07T19:35:51.544753",
     "exception": false,
     "start_time": "2022-08-07T19:35:51.508185",
     "status": "completed"
    },
    "tags": []
   },
   "outputs": [
    {
     "data": {
      "text/html": [
       "<div>\n",
       "<style scoped>\n",
       "    .dataframe tbody tr th:only-of-type {\n",
       "        vertical-align: middle;\n",
       "    }\n",
       "\n",
       "    .dataframe tbody tr th {\n",
       "        vertical-align: top;\n",
       "    }\n",
       "\n",
       "    .dataframe thead th {\n",
       "        text-align: right;\n",
       "    }\n",
       "</style>\n",
       "<table border=\"1\" class=\"dataframe\">\n",
       "  <thead>\n",
       "    <tr style=\"text-align: right;\">\n",
       "      <th></th>\n",
       "      <th>one</th>\n",
       "      <th>two</th>\n",
       "    </tr>\n",
       "  </thead>\n",
       "  <tbody>\n",
       "    <tr>\n",
       "      <th>a</th>\n",
       "      <td>90</td>\n",
       "      <td>10</td>\n",
       "    </tr>\n",
       "    <tr>\n",
       "      <th>b</th>\n",
       "      <td>80</td>\n",
       "      <td>20</td>\n",
       "    </tr>\n",
       "    <tr>\n",
       "      <th>c</th>\n",
       "      <td>70</td>\n",
       "      <td>30</td>\n",
       "    </tr>\n",
       "    <tr>\n",
       "      <th>d</th>\n",
       "      <td>60</td>\n",
       "      <td>40</td>\n",
       "    </tr>\n",
       "  </tbody>\n",
       "</table>\n",
       "</div>"
      ],
      "text/plain": [
       "   one  two\n",
       "a   90   10\n",
       "b   80   20\n",
       "c   70   30\n",
       "d   60   40"
      ]
     },
     "execution_count": 9,
     "metadata": {},
     "output_type": "execute_result"
    }
   ],
   "source": [
    "df1"
   ]
  },
  {
   "cell_type": "code",
   "execution_count": 10,
   "id": "eb0146a4",
   "metadata": {
    "execution": {
     "iopub.execute_input": "2022-08-07T19:35:51.592794Z",
     "iopub.status.busy": "2022-08-07T19:35:51.591804Z",
     "iopub.status.idle": "2022-08-07T19:35:51.601700Z",
     "shell.execute_reply": "2022-08-07T19:35:51.602256Z",
     "shell.execute_reply.started": "2022-08-07T19:27:18.418229Z"
    },
    "papermill": {
     "duration": 0.035786,
     "end_time": "2022-08-07T19:35:51.602447",
     "exception": false,
     "start_time": "2022-08-07T19:35:51.566661",
     "status": "completed"
    },
    "tags": []
   },
   "outputs": [
    {
     "data": {
      "text/html": [
       "<div>\n",
       "<style scoped>\n",
       "    .dataframe tbody tr th:only-of-type {\n",
       "        vertical-align: middle;\n",
       "    }\n",
       "\n",
       "    .dataframe tbody tr th {\n",
       "        vertical-align: top;\n",
       "    }\n",
       "\n",
       "    .dataframe thead th {\n",
       "        text-align: right;\n",
       "    }\n",
       "</style>\n",
       "<table border=\"1\" class=\"dataframe\">\n",
       "  <thead>\n",
       "    <tr style=\"text-align: right;\">\n",
       "      <th></th>\n",
       "      <th>one</th>\n",
       "      <th>two</th>\n",
       "    </tr>\n",
       "  </thead>\n",
       "  <tbody>\n",
       "    <tr>\n",
       "      <th>e</th>\n",
       "      <td>10</td>\n",
       "      <td>50</td>\n",
       "    </tr>\n",
       "    <tr>\n",
       "      <th>f</th>\n",
       "      <td>20</td>\n",
       "      <td>60</td>\n",
       "    </tr>\n",
       "    <tr>\n",
       "      <th>g</th>\n",
       "      <td>30</td>\n",
       "      <td>70</td>\n",
       "    </tr>\n",
       "    <tr>\n",
       "      <th>h</th>\n",
       "      <td>40</td>\n",
       "      <td>80</td>\n",
       "    </tr>\n",
       "  </tbody>\n",
       "</table>\n",
       "</div>"
      ],
      "text/plain": [
       "   one  two\n",
       "e   10   50\n",
       "f   20   60\n",
       "g   30   70\n",
       "h   40   80"
      ]
     },
     "execution_count": 10,
     "metadata": {},
     "output_type": "execute_result"
    }
   ],
   "source": [
    "df2"
   ]
  },
  {
   "cell_type": "code",
   "execution_count": 11,
   "id": "3cbd08c3",
   "metadata": {
    "execution": {
     "iopub.execute_input": "2022-08-07T19:35:51.659359Z",
     "iopub.status.busy": "2022-08-07T19:35:51.651809Z",
     "iopub.status.idle": "2022-08-07T19:35:51.662663Z",
     "shell.execute_reply": "2022-08-07T19:35:51.663180Z",
     "shell.execute_reply.started": "2022-08-07T19:27:25.603871Z"
    },
    "papermill": {
     "duration": 0.03826,
     "end_time": "2022-08-07T19:35:51.663379",
     "exception": false,
     "start_time": "2022-08-07T19:35:51.625119",
     "status": "completed"
    },
    "tags": []
   },
   "outputs": [
    {
     "data": {
      "text/html": [
       "<div>\n",
       "<style scoped>\n",
       "    .dataframe tbody tr th:only-of-type {\n",
       "        vertical-align: middle;\n",
       "    }\n",
       "\n",
       "    .dataframe tbody tr th {\n",
       "        vertical-align: top;\n",
       "    }\n",
       "\n",
       "    .dataframe thead th {\n",
       "        text-align: right;\n",
       "    }\n",
       "</style>\n",
       "<table border=\"1\" class=\"dataframe\">\n",
       "  <thead>\n",
       "    <tr style=\"text-align: right;\">\n",
       "      <th></th>\n",
       "      <th>one</th>\n",
       "      <th>two</th>\n",
       "    </tr>\n",
       "  </thead>\n",
       "  <tbody>\n",
       "    <tr>\n",
       "      <th>a</th>\n",
       "      <td>90</td>\n",
       "      <td>10</td>\n",
       "    </tr>\n",
       "    <tr>\n",
       "      <th>b</th>\n",
       "      <td>80</td>\n",
       "      <td>20</td>\n",
       "    </tr>\n",
       "    <tr>\n",
       "      <th>c</th>\n",
       "      <td>70</td>\n",
       "      <td>30</td>\n",
       "    </tr>\n",
       "    <tr>\n",
       "      <th>d</th>\n",
       "      <td>60</td>\n",
       "      <td>40</td>\n",
       "    </tr>\n",
       "    <tr>\n",
       "      <th>e</th>\n",
       "      <td>10</td>\n",
       "      <td>50</td>\n",
       "    </tr>\n",
       "    <tr>\n",
       "      <th>f</th>\n",
       "      <td>20</td>\n",
       "      <td>60</td>\n",
       "    </tr>\n",
       "    <tr>\n",
       "      <th>g</th>\n",
       "      <td>30</td>\n",
       "      <td>70</td>\n",
       "    </tr>\n",
       "    <tr>\n",
       "      <th>h</th>\n",
       "      <td>40</td>\n",
       "      <td>80</td>\n",
       "    </tr>\n",
       "  </tbody>\n",
       "</table>\n",
       "</div>"
      ],
      "text/plain": [
       "   one  two\n",
       "a   90   10\n",
       "b   80   20\n",
       "c   70   30\n",
       "d   60   40\n",
       "e   10   50\n",
       "f   20   60\n",
       "g   30   70\n",
       "h   40   80"
      ]
     },
     "execution_count": 11,
     "metadata": {},
     "output_type": "execute_result"
    }
   ],
   "source": [
    "pd.concat(frames)"
   ]
  },
  {
   "cell_type": "markdown",
   "id": "c20128e6",
   "metadata": {
    "papermill": {
     "duration": 0.021957,
     "end_time": "2022-08-07T19:35:51.707516",
     "exception": false,
     "start_time": "2022-08-07T19:35:51.685559",
     "status": "completed"
    },
    "tags": []
   },
   "source": [
    "## Performance: Which is faster pandas concat or append?\n",
    "Well, both are almost equally faster.\n",
    "However there will be a slight change depending on the data.<br>\n",
    "* Append function will add rows of second data frame to first dataframe iteratively one by one. Concat function will do a single operation to finish the job, which makes it faster than append().<br>\n",
    "* As append will add rows one by one, if the dataframe is significantly very small, then append operation is fine as only a few appends will be done for the number of rows in second dataframe.<br>\n",
    "* Append function will create a new resultant dataframe instead of modifying the existing one. Due to this buffering and creating process, Append operation’s performance is less than concat() function. \n",
    "\n",
    "**However Append() is fine if the number of append operation is a very few. If there are a multiple append operations needed, it is better to use concat()**"
   ]
  },
  {
   "cell_type": "markdown",
   "id": "88be447c",
   "metadata": {
    "papermill": {
     "duration": 0.02376,
     "end_time": "2022-08-07T19:35:51.754475",
     "exception": false,
     "start_time": "2022-08-07T19:35:51.730715",
     "status": "completed"
    },
    "tags": []
   },
   "source": [
    "# 1. Append rows of another dataframe\n",
    "You can append another dataframe’s rows at the end of a dataframe. Pass the dataframe whose rows you want to append as an argument to the append() function."
   ]
  },
  {
   "cell_type": "code",
   "execution_count": 12,
   "id": "84eb95ed",
   "metadata": {
    "execution": {
     "iopub.execute_input": "2022-08-07T19:35:51.808795Z",
     "iopub.status.busy": "2022-08-07T19:35:51.807728Z",
     "iopub.status.idle": "2022-08-07T19:35:51.821578Z",
     "shell.execute_reply": "2022-08-07T19:35:51.822243Z",
     "shell.execute_reply.started": "2022-08-07T19:31:02.106870Z"
    },
    "papermill": {
     "duration": 0.044799,
     "end_time": "2022-08-07T19:35:51.822446",
     "exception": false,
     "start_time": "2022-08-07T19:35:51.777647",
     "status": "completed"
    },
    "tags": []
   },
   "outputs": [
    {
     "name": "stdout",
     "output_type": "stream",
     "text": [
      "The original dataframe:\n",
      "\n",
      "                    Name Symbol  Shares\n",
      "0  Microsoft Corporation   MSFT     100\n",
      "1            Google, LLC   GOOG      50\n",
      "2            Tesla, Inc.   TSLA     150\n",
      "\n",
      "The dataframe to append:\n",
      "\n",
      "            Name Symbol  Shares\n",
      "0     Apple Inc.   APPL     200\n",
      "1  Netflix, Inc.   NFLX      80\n",
      "\n",
      "The appended dataframe:\n",
      "\n",
      "                    Name Symbol  Shares\n",
      "0  Microsoft Corporation   MSFT     100\n",
      "1            Google, LLC   GOOG      50\n",
      "2            Tesla, Inc.   TSLA     150\n",
      "0             Apple Inc.   APPL     200\n",
      "1          Netflix, Inc.   NFLX      80\n"
     ]
    }
   ],
   "source": [
    "import pandas as pd\n",
    "\n",
    "# create a sample dataframe\n",
    "data1 = {\n",
    "    'Name': ['Microsoft Corporation', 'Google, LLC', 'Tesla, Inc.'],\n",
    "    'Symbol': ['MSFT', 'GOOG', 'TSLA'],\n",
    "    'Shares': [100, 50, 150]\n",
    "}\n",
    "df1 = pd.DataFrame(data1)\n",
    "# print the original dataframe\n",
    "print(\"The original dataframe:\\n\")\n",
    "print(df1)\n",
    "\n",
    "# The dataframe to append\n",
    "data2 = {\n",
    "    'Name':['Apple Inc.', 'Netflix, Inc.'],\n",
    "    'Symbol':['APPL', 'NFLX'],\n",
    "    'Shares': [200, 80]\n",
    "}\n",
    "df2 = pd.DataFrame(data2)\n",
    "# print the dataframe to append\n",
    "print(\"\\nThe dataframe to append:\\n\")\n",
    "print(df2)\n",
    "\n",
    "# Append rows\n",
    "df3 = df1.append(df2)\n",
    "print(\"\\nThe appended dataframe:\\n\")\n",
    "print(df3)"
   ]
  },
  {
   "cell_type": "code",
   "execution_count": 13,
   "id": "b4857355",
   "metadata": {
    "execution": {
     "iopub.execute_input": "2022-08-07T19:35:51.882708Z",
     "iopub.status.busy": "2022-08-07T19:35:51.881518Z",
     "iopub.status.idle": "2022-08-07T19:35:51.886198Z",
     "shell.execute_reply": "2022-08-07T19:35:51.887036Z",
     "shell.execute_reply.started": "2022-08-07T19:12:53.665360Z"
    },
    "papermill": {
     "duration": 0.039451,
     "end_time": "2022-08-07T19:35:51.887314",
     "exception": false,
     "start_time": "2022-08-07T19:35:51.847863",
     "status": "completed"
    },
    "tags": []
   },
   "outputs": [
    {
     "name": "stdout",
     "output_type": "stream",
     "text": [
      "                    Name Symbol  Shares\n",
      "0  Microsoft Corporation   MSFT     100\n",
      "1            Google, LLC   GOOG      50\n",
      "2            Tesla, Inc.   TSLA     150\n",
      "3             Apple Inc.   APPL     200\n",
      "4          Netflix, Inc.   NFLX      80\n"
     ]
    }
   ],
   "source": [
    "print(df1.append(df2, ignore_index=True))"
   ]
  },
  {
   "cell_type": "markdown",
   "id": "904c3cc0",
   "metadata": {
    "papermill": {
     "duration": 0.023177,
     "end_time": "2022-08-07T19:35:51.933532",
     "exception": false,
     "start_time": "2022-08-07T19:35:51.910355",
     "status": "completed"
    },
    "tags": []
   },
   "source": [
    "# 2. Append rows with a mismatch in columns\n",
    "Columns that are not present in the original dataframe (the one on which the append function is applied) are added as new columns. See the example below:"
   ]
  },
  {
   "cell_type": "code",
   "execution_count": 14,
   "id": "d3afafdc",
   "metadata": {
    "execution": {
     "iopub.execute_input": "2022-08-07T19:35:51.999450Z",
     "iopub.status.busy": "2022-08-07T19:35:51.998336Z",
     "iopub.status.idle": "2022-08-07T19:35:52.017817Z",
     "shell.execute_reply": "2022-08-07T19:35:52.018708Z",
     "shell.execute_reply.started": "2022-08-07T19:32:00.136313Z"
    },
    "papermill": {
     "duration": 0.061828,
     "end_time": "2022-08-07T19:35:52.019141",
     "exception": false,
     "start_time": "2022-08-07T19:35:51.957313",
     "status": "completed"
    },
    "tags": []
   },
   "outputs": [
    {
     "name": "stdout",
     "output_type": "stream",
     "text": [
      "The original dataframe:\n",
      "\n",
      "                    Name Symbol  Shares\n",
      "0  Microsoft Corporation   MSFT     100\n",
      "1            Google, LLC   GOOG      50\n",
      "2            Tesla, Inc.   TSLA     150\n",
      "\n",
      "The dataframe to append:\n",
      "\n",
      "            Name Symbol  Shares Market Cap($B)\n",
      "0     Apple Inc.   APPL     200           2030\n",
      "1  Netflix, Inc.   NFLX      80            237\n",
      "\n",
      "The appended dataframe:\n",
      "\n",
      "                    Name Symbol  Shares Market Cap($B)\n",
      "0  Microsoft Corporation   MSFT     100            NaN\n",
      "1            Google, LLC   GOOG      50            NaN\n",
      "2            Tesla, Inc.   TSLA     150            NaN\n",
      "0             Apple Inc.   APPL     200           2030\n",
      "1          Netflix, Inc.   NFLX      80            237\n"
     ]
    }
   ],
   "source": [
    "import pandas as pd\n",
    "\n",
    "# create a sample dataframe\n",
    "data1 = {\n",
    "    'Name': ['Microsoft Corporation', 'Google, LLC', 'Tesla, Inc.'],\n",
    "    'Symbol': ['MSFT', 'GOOG', 'TSLA'],\n",
    "    'Shares': [100, 50, 150]\n",
    "}\n",
    "df1 = pd.DataFrame(data1)\n",
    "# print the original dataframe\n",
    "print(\"The original dataframe:\\n\")\n",
    "print(df1)\n",
    "\n",
    "# The dataframe to append\n",
    "data2 = {\n",
    "    'Name':['Apple Inc.', 'Netflix, Inc.'],\n",
    "    'Symbol':['APPL', 'NFLX'],\n",
    "    'Shares': [200, 80],\n",
    "    'Market Cap($B)': ['2030', '237']\n",
    "}\n",
    "df2 = pd.DataFrame(data2)\n",
    "# print the dataframe to append\n",
    "print(\"\\nThe dataframe to append:\\n\")\n",
    "print(df2)\n",
    "\n",
    "# Append rows\n",
    "df3 = df1.append(df2)\n",
    "print(\"\\nThe appended dataframe:\\n\")\n",
    "print(df3)"
   ]
  },
  {
   "cell_type": "code",
   "execution_count": null,
   "id": "ba190c8c",
   "metadata": {
    "papermill": {
     "duration": 0.026169,
     "end_time": "2022-08-07T19:35:52.069058",
     "exception": false,
     "start_time": "2022-08-07T19:35:52.042889",
     "status": "completed"
    },
    "tags": []
   },
   "outputs": [],
   "source": []
  }
 ],
 "metadata": {
  "kernelspec": {
   "display_name": "Python 3",
   "language": "python",
   "name": "python3"
  },
  "language_info": {
   "codemirror_mode": {
    "name": "ipython",
    "version": 3
   },
   "file_extension": ".py",
   "mimetype": "text/x-python",
   "name": "python",
   "nbconvert_exporter": "python",
   "pygments_lexer": "ipython3",
   "version": "3.7.12"
  },
  "papermill": {
   "default_parameters": {},
   "duration": 13.665618,
   "end_time": "2022-08-07T19:35:52.909521",
   "environment_variables": {},
   "exception": null,
   "input_path": "__notebook__.ipynb",
   "output_path": "__notebook__.ipynb",
   "parameters": {},
   "start_time": "2022-08-07T19:35:39.243903",
   "version": "2.3.3"
  }
 },
 "nbformat": 4,
 "nbformat_minor": 5
}
