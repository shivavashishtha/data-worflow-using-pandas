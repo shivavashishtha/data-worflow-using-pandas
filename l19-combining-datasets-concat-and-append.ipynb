{
 "cells": [
  {
   "cell_type": "code",
   "execution_count": 1,
   "id": "71e69624",
   "metadata": {
    "_cell_guid": "b1076dfc-b9ad-4769-8c92-a6c4dae69d19",
    "_uuid": "8f2839f25d086af736a60e9eeb907d3b93b6e0e5",
    "execution": {
     "iopub.execute_input": "2022-03-29T12:57:00.372859Z",
     "iopub.status.busy": "2022-03-29T12:57:00.368317Z",
     "iopub.status.idle": "2022-03-29T12:57:00.385784Z",
     "shell.execute_reply": "2022-03-29T12:57:00.386533Z",
     "shell.execute_reply.started": "2022-03-29T12:37:18.610167Z"
    },
    "papermill": {
     "duration": 0.04247,
     "end_time": "2022-03-29T12:57:00.386913",
     "exception": false,
     "start_time": "2022-03-29T12:57:00.344443",
     "status": "completed"
    },
    "tags": []
   },
   "outputs": [
    {
     "name": "stdout",
     "output_type": "stream",
     "text": [
      "/kaggle/input/shark-tank-india-dataset/Shark Tank India Dataset.csv\n"
     ]
    }
   ],
   "source": [
    "# This Python 3 environment comes with many helpful analytics libraries installed\n",
    "# It is defined by the kaggle/python Docker image: https://github.com/kaggle/docker-python\n",
    "# For example, here's several helpful packages to load\n",
    "\n",
    "import numpy as np # linear algebra\n",
    "import pandas as pd # data processing, CSV file I/O (e.g. pd.read_csv)\n",
    "\n",
    "# Input data files are available in the read-only \"../input/\" directory\n",
    "# For example, running this (by clicking run or pressing Shift+Enter) will list all files under the input directory\n",
    "\n",
    "import os\n",
    "for dirname, _, filenames in os.walk('/kaggle/input'):\n",
    "    for filename in filenames:\n",
    "        print(os.path.join(dirname, filename))\n",
    "\n",
    "# You can write up to 20GB to the current directory (/kaggle/working/) that gets preserved as output when you create a version using \"Save & Run All\" \n",
    "# You can also write temporary files to /kaggle/temp/, but they won't be saved outside of the current session"
   ]
  },
  {
   "cell_type": "markdown",
   "id": "7bda4eb6",
   "metadata": {
    "papermill": {
     "duration": 0.015019,
     "end_time": "2022-03-29T12:57:00.423560",
     "exception": false,
     "start_time": "2022-03-29T12:57:00.408541",
     "status": "completed"
    },
    "tags": []
   },
   "source": [
    "# Combining Datasets : Concat and Append\n",
    "Some of the most interesting studies of data come from combining different data sources.\n",
    "These operations can involve anything from very straightforward concatenation of two different datasets, to more complicated database-style joins and merges that correctly handle any overlaps between the datasets.\n",
    "``Series`` and ``DataFrame``s are built with this type of operation in mind, and Pandas includes functions and methods that make this sort of data wrangling fast and straightforward.\n",
    "\n",
    "Here we'll take a look at simple concatenation of ``Series`` and ``DataFrame``s with the ``pd.concat`` and ``pd.append`` functions; later we'll dive into more sophisticated in-memory merges and joins implemented in Pandas.\n"
   ]
  },
  {
   "cell_type": "code",
   "execution_count": 2,
   "id": "36d77b6f",
   "metadata": {
    "execution": {
     "iopub.execute_input": "2022-03-29T12:57:00.457204Z",
     "iopub.status.busy": "2022-03-29T12:57:00.456280Z",
     "iopub.status.idle": "2022-03-29T12:57:00.467389Z",
     "shell.execute_reply": "2022-03-29T12:57:00.467870Z",
     "shell.execute_reply.started": "2022-03-29T12:37:18.622652Z"
    },
    "papermill": {
     "duration": 0.02947,
     "end_time": "2022-03-29T12:57:00.468075",
     "exception": false,
     "start_time": "2022-03-29T12:57:00.438605",
     "status": "completed"
    },
    "tags": []
   },
   "outputs": [],
   "source": [
    "df1 = {'one' : pd.Series([10, 20, 30, 40],\n",
    "                       index =['a', 'b', 'c', 'd']),\n",
    "      'two' : pd.Series([10, 20, 30, 40],\n",
    "                        index =['a', 'b', 'c', 'd'])}\n",
    " "
   ]
  },
  {
   "cell_type": "code",
   "execution_count": 3,
   "id": "9a4acf02",
   "metadata": {
    "execution": {
     "iopub.execute_input": "2022-03-29T12:57:00.501258Z",
     "iopub.status.busy": "2022-03-29T12:57:00.500624Z",
     "iopub.status.idle": "2022-03-29T12:57:00.505487Z",
     "shell.execute_reply": "2022-03-29T12:57:00.506059Z",
     "shell.execute_reply.started": "2022-03-29T12:37:18.633999Z"
    },
    "papermill": {
     "duration": 0.022764,
     "end_time": "2022-03-29T12:57:00.506218",
     "exception": false,
     "start_time": "2022-03-29T12:57:00.483454",
     "status": "completed"
    },
    "tags": []
   },
   "outputs": [],
   "source": [
    "df2 = {'one' : pd.Series([50, 60, 70, 80],\n",
    "                       index =['e', 'f', 'g', 'h']),\n",
    "      'two' : pd.Series([50, 60, 70, 80],\n",
    "                       index =['e', 'f', 'g', 'h'])}"
   ]
  },
  {
   "cell_type": "code",
   "execution_count": 4,
   "id": "ac54709f",
   "metadata": {
    "execution": {
     "iopub.execute_input": "2022-03-29T12:57:00.538970Z",
     "iopub.status.busy": "2022-03-29T12:57:00.538389Z",
     "iopub.status.idle": "2022-03-29T12:57:00.542135Z",
     "shell.execute_reply": "2022-03-29T12:57:00.542652Z",
     "shell.execute_reply.started": "2022-03-29T12:37:18.654887Z"
    },
    "papermill": {
     "duration": 0.02191,
     "end_time": "2022-03-29T12:57:00.542815",
     "exception": false,
     "start_time": "2022-03-29T12:57:00.520905",
     "status": "completed"
    },
    "tags": []
   },
   "outputs": [],
   "source": [
    "df1 = pd.DataFrame(df1)"
   ]
  },
  {
   "cell_type": "code",
   "execution_count": 5,
   "id": "b1cd6691",
   "metadata": {
    "execution": {
     "iopub.execute_input": "2022-03-29T12:57:00.578823Z",
     "iopub.status.busy": "2022-03-29T12:57:00.577863Z",
     "iopub.status.idle": "2022-03-29T12:57:00.580498Z",
     "shell.execute_reply": "2022-03-29T12:57:00.579942Z",
     "shell.execute_reply.started": "2022-03-29T12:37:18.666242Z"
    },
    "papermill": {
     "duration": 0.022941,
     "end_time": "2022-03-29T12:57:00.580634",
     "exception": false,
     "start_time": "2022-03-29T12:57:00.557693",
     "status": "completed"
    },
    "tags": []
   },
   "outputs": [],
   "source": [
    "df2 = pd.DataFrame(df2)"
   ]
  },
  {
   "cell_type": "code",
   "execution_count": 6,
   "id": "00806c0f",
   "metadata": {
    "execution": {
     "iopub.execute_input": "2022-03-29T12:57:00.613899Z",
     "iopub.status.busy": "2022-03-29T12:57:00.613282Z",
     "iopub.status.idle": "2022-03-29T12:57:00.627753Z",
     "shell.execute_reply": "2022-03-29T12:57:00.628255Z",
     "shell.execute_reply.started": "2022-03-29T12:37:18.681165Z"
    },
    "papermill": {
     "duration": 0.032658,
     "end_time": "2022-03-29T12:57:00.628422",
     "exception": false,
     "start_time": "2022-03-29T12:57:00.595764",
     "status": "completed"
    },
    "tags": []
   },
   "outputs": [
    {
     "data": {
      "text/html": [
       "<div>\n",
       "<style scoped>\n",
       "    .dataframe tbody tr th:only-of-type {\n",
       "        vertical-align: middle;\n",
       "    }\n",
       "\n",
       "    .dataframe tbody tr th {\n",
       "        vertical-align: top;\n",
       "    }\n",
       "\n",
       "    .dataframe thead th {\n",
       "        text-align: right;\n",
       "    }\n",
       "</style>\n",
       "<table border=\"1\" class=\"dataframe\">\n",
       "  <thead>\n",
       "    <tr style=\"text-align: right;\">\n",
       "      <th></th>\n",
       "      <th>one</th>\n",
       "      <th>two</th>\n",
       "    </tr>\n",
       "  </thead>\n",
       "  <tbody>\n",
       "    <tr>\n",
       "      <th>a</th>\n",
       "      <td>10</td>\n",
       "      <td>10</td>\n",
       "    </tr>\n",
       "    <tr>\n",
       "      <th>b</th>\n",
       "      <td>20</td>\n",
       "      <td>20</td>\n",
       "    </tr>\n",
       "    <tr>\n",
       "      <th>c</th>\n",
       "      <td>30</td>\n",
       "      <td>30</td>\n",
       "    </tr>\n",
       "    <tr>\n",
       "      <th>d</th>\n",
       "      <td>40</td>\n",
       "      <td>40</td>\n",
       "    </tr>\n",
       "  </tbody>\n",
       "</table>\n",
       "</div>"
      ],
      "text/plain": [
       "   one  two\n",
       "a   10   10\n",
       "b   20   20\n",
       "c   30   30\n",
       "d   40   40"
      ]
     },
     "execution_count": 6,
     "metadata": {},
     "output_type": "execute_result"
    }
   ],
   "source": [
    "df1"
   ]
  },
  {
   "cell_type": "code",
   "execution_count": 7,
   "id": "f91f0562",
   "metadata": {
    "execution": {
     "iopub.execute_input": "2022-03-29T12:57:00.662159Z",
     "iopub.status.busy": "2022-03-29T12:57:00.661566Z",
     "iopub.status.idle": "2022-03-29T12:57:00.669552Z",
     "shell.execute_reply": "2022-03-29T12:57:00.669053Z",
     "shell.execute_reply.started": "2022-03-29T12:37:18.697944Z"
    },
    "papermill": {
     "duration": 0.025695,
     "end_time": "2022-03-29T12:57:00.669681",
     "exception": false,
     "start_time": "2022-03-29T12:57:00.643986",
     "status": "completed"
    },
    "tags": []
   },
   "outputs": [
    {
     "data": {
      "text/html": [
       "<div>\n",
       "<style scoped>\n",
       "    .dataframe tbody tr th:only-of-type {\n",
       "        vertical-align: middle;\n",
       "    }\n",
       "\n",
       "    .dataframe tbody tr th {\n",
       "        vertical-align: top;\n",
       "    }\n",
       "\n",
       "    .dataframe thead th {\n",
       "        text-align: right;\n",
       "    }\n",
       "</style>\n",
       "<table border=\"1\" class=\"dataframe\">\n",
       "  <thead>\n",
       "    <tr style=\"text-align: right;\">\n",
       "      <th></th>\n",
       "      <th>one</th>\n",
       "      <th>two</th>\n",
       "    </tr>\n",
       "  </thead>\n",
       "  <tbody>\n",
       "    <tr>\n",
       "      <th>e</th>\n",
       "      <td>50</td>\n",
       "      <td>50</td>\n",
       "    </tr>\n",
       "    <tr>\n",
       "      <th>f</th>\n",
       "      <td>60</td>\n",
       "      <td>60</td>\n",
       "    </tr>\n",
       "    <tr>\n",
       "      <th>g</th>\n",
       "      <td>70</td>\n",
       "      <td>70</td>\n",
       "    </tr>\n",
       "    <tr>\n",
       "      <th>h</th>\n",
       "      <td>80</td>\n",
       "      <td>80</td>\n",
       "    </tr>\n",
       "  </tbody>\n",
       "</table>\n",
       "</div>"
      ],
      "text/plain": [
       "   one  two\n",
       "e   50   50\n",
       "f   60   60\n",
       "g   70   70\n",
       "h   80   80"
      ]
     },
     "execution_count": 7,
     "metadata": {},
     "output_type": "execute_result"
    }
   ],
   "source": [
    "df2"
   ]
  },
  {
   "cell_type": "code",
   "execution_count": 8,
   "id": "0ae89e4a",
   "metadata": {
    "execution": {
     "iopub.execute_input": "2022-03-29T12:57:00.706797Z",
     "iopub.status.busy": "2022-03-29T12:57:00.705797Z",
     "iopub.status.idle": "2022-03-29T12:57:00.716881Z",
     "shell.execute_reply": "2022-03-29T12:57:00.717656Z",
     "shell.execute_reply.started": "2022-03-29T12:37:18.711116Z"
    },
    "papermill": {
     "duration": 0.032257,
     "end_time": "2022-03-29T12:57:00.717835",
     "exception": false,
     "start_time": "2022-03-29T12:57:00.685578",
     "status": "completed"
    },
    "tags": []
   },
   "outputs": [
    {
     "data": {
      "text/html": [
       "<div>\n",
       "<style scoped>\n",
       "    .dataframe tbody tr th:only-of-type {\n",
       "        vertical-align: middle;\n",
       "    }\n",
       "\n",
       "    .dataframe tbody tr th {\n",
       "        vertical-align: top;\n",
       "    }\n",
       "\n",
       "    .dataframe thead th {\n",
       "        text-align: right;\n",
       "    }\n",
       "</style>\n",
       "<table border=\"1\" class=\"dataframe\">\n",
       "  <thead>\n",
       "    <tr style=\"text-align: right;\">\n",
       "      <th></th>\n",
       "      <th>one</th>\n",
       "      <th>two</th>\n",
       "    </tr>\n",
       "  </thead>\n",
       "  <tbody>\n",
       "    <tr>\n",
       "      <th>a</th>\n",
       "      <td>10</td>\n",
       "      <td>10</td>\n",
       "    </tr>\n",
       "    <tr>\n",
       "      <th>b</th>\n",
       "      <td>20</td>\n",
       "      <td>20</td>\n",
       "    </tr>\n",
       "    <tr>\n",
       "      <th>c</th>\n",
       "      <td>30</td>\n",
       "      <td>30</td>\n",
       "    </tr>\n",
       "    <tr>\n",
       "      <th>d</th>\n",
       "      <td>40</td>\n",
       "      <td>40</td>\n",
       "    </tr>\n",
       "    <tr>\n",
       "      <th>e</th>\n",
       "      <td>50</td>\n",
       "      <td>50</td>\n",
       "    </tr>\n",
       "    <tr>\n",
       "      <th>f</th>\n",
       "      <td>60</td>\n",
       "      <td>60</td>\n",
       "    </tr>\n",
       "    <tr>\n",
       "      <th>g</th>\n",
       "      <td>70</td>\n",
       "      <td>70</td>\n",
       "    </tr>\n",
       "    <tr>\n",
       "      <th>h</th>\n",
       "      <td>80</td>\n",
       "      <td>80</td>\n",
       "    </tr>\n",
       "  </tbody>\n",
       "</table>\n",
       "</div>"
      ],
      "text/plain": [
       "   one  two\n",
       "a   10   10\n",
       "b   20   20\n",
       "c   30   30\n",
       "d   40   40\n",
       "e   50   50\n",
       "f   60   60\n",
       "g   70   70\n",
       "h   80   80"
      ]
     },
     "execution_count": 8,
     "metadata": {},
     "output_type": "execute_result"
    }
   ],
   "source": [
    "df1.append(df2)"
   ]
  },
  {
   "cell_type": "code",
   "execution_count": 9,
   "id": "a04e86e4",
   "metadata": {
    "execution": {
     "iopub.execute_input": "2022-03-29T12:57:00.757467Z",
     "iopub.status.busy": "2022-03-29T12:57:00.756521Z",
     "iopub.status.idle": "2022-03-29T12:57:00.760433Z",
     "shell.execute_reply": "2022-03-29T12:57:00.761017Z",
     "shell.execute_reply.started": "2022-03-29T12:37:18.735006Z"
    },
    "papermill": {
     "duration": 0.026405,
     "end_time": "2022-03-29T12:57:00.761222",
     "exception": false,
     "start_time": "2022-03-29T12:57:00.734817",
     "status": "completed"
    },
    "tags": []
   },
   "outputs": [],
   "source": [
    "frames=[df1,df2]"
   ]
  },
  {
   "cell_type": "code",
   "execution_count": 10,
   "id": "4acabdea",
   "metadata": {
    "execution": {
     "iopub.execute_input": "2022-03-29T12:57:00.800767Z",
     "iopub.status.busy": "2022-03-29T12:57:00.799802Z",
     "iopub.status.idle": "2022-03-29T12:57:00.807835Z",
     "shell.execute_reply": "2022-03-29T12:57:00.808442Z",
     "shell.execute_reply.started": "2022-03-29T12:37:18.747857Z"
    },
    "papermill": {
     "duration": 0.030703,
     "end_time": "2022-03-29T12:57:00.808599",
     "exception": false,
     "start_time": "2022-03-29T12:57:00.777896",
     "status": "completed"
    },
    "tags": []
   },
   "outputs": [
    {
     "data": {
      "text/html": [
       "<div>\n",
       "<style scoped>\n",
       "    .dataframe tbody tr th:only-of-type {\n",
       "        vertical-align: middle;\n",
       "    }\n",
       "\n",
       "    .dataframe tbody tr th {\n",
       "        vertical-align: top;\n",
       "    }\n",
       "\n",
       "    .dataframe thead th {\n",
       "        text-align: right;\n",
       "    }\n",
       "</style>\n",
       "<table border=\"1\" class=\"dataframe\">\n",
       "  <thead>\n",
       "    <tr style=\"text-align: right;\">\n",
       "      <th></th>\n",
       "      <th>one</th>\n",
       "      <th>two</th>\n",
       "    </tr>\n",
       "  </thead>\n",
       "  <tbody>\n",
       "    <tr>\n",
       "      <th>a</th>\n",
       "      <td>10</td>\n",
       "      <td>10</td>\n",
       "    </tr>\n",
       "    <tr>\n",
       "      <th>b</th>\n",
       "      <td>20</td>\n",
       "      <td>20</td>\n",
       "    </tr>\n",
       "    <tr>\n",
       "      <th>c</th>\n",
       "      <td>30</td>\n",
       "      <td>30</td>\n",
       "    </tr>\n",
       "    <tr>\n",
       "      <th>d</th>\n",
       "      <td>40</td>\n",
       "      <td>40</td>\n",
       "    </tr>\n",
       "  </tbody>\n",
       "</table>\n",
       "</div>"
      ],
      "text/plain": [
       "   one  two\n",
       "a   10   10\n",
       "b   20   20\n",
       "c   30   30\n",
       "d   40   40"
      ]
     },
     "execution_count": 10,
     "metadata": {},
     "output_type": "execute_result"
    }
   ],
   "source": [
    "df1"
   ]
  },
  {
   "cell_type": "code",
   "execution_count": 11,
   "id": "9f3fb57e",
   "metadata": {
    "execution": {
     "iopub.execute_input": "2022-03-29T12:57:00.846248Z",
     "iopub.status.busy": "2022-03-29T12:57:00.845333Z",
     "iopub.status.idle": "2022-03-29T12:57:00.853529Z",
     "shell.execute_reply": "2022-03-29T12:57:00.854116Z",
     "shell.execute_reply.started": "2022-03-29T12:37:18.766739Z"
    },
    "papermill": {
     "duration": 0.029051,
     "end_time": "2022-03-29T12:57:00.854276",
     "exception": false,
     "start_time": "2022-03-29T12:57:00.825225",
     "status": "completed"
    },
    "tags": []
   },
   "outputs": [
    {
     "data": {
      "text/html": [
       "<div>\n",
       "<style scoped>\n",
       "    .dataframe tbody tr th:only-of-type {\n",
       "        vertical-align: middle;\n",
       "    }\n",
       "\n",
       "    .dataframe tbody tr th {\n",
       "        vertical-align: top;\n",
       "    }\n",
       "\n",
       "    .dataframe thead th {\n",
       "        text-align: right;\n",
       "    }\n",
       "</style>\n",
       "<table border=\"1\" class=\"dataframe\">\n",
       "  <thead>\n",
       "    <tr style=\"text-align: right;\">\n",
       "      <th></th>\n",
       "      <th>one</th>\n",
       "      <th>two</th>\n",
       "    </tr>\n",
       "  </thead>\n",
       "  <tbody>\n",
       "    <tr>\n",
       "      <th>e</th>\n",
       "      <td>50</td>\n",
       "      <td>50</td>\n",
       "    </tr>\n",
       "    <tr>\n",
       "      <th>f</th>\n",
       "      <td>60</td>\n",
       "      <td>60</td>\n",
       "    </tr>\n",
       "    <tr>\n",
       "      <th>g</th>\n",
       "      <td>70</td>\n",
       "      <td>70</td>\n",
       "    </tr>\n",
       "    <tr>\n",
       "      <th>h</th>\n",
       "      <td>80</td>\n",
       "      <td>80</td>\n",
       "    </tr>\n",
       "  </tbody>\n",
       "</table>\n",
       "</div>"
      ],
      "text/plain": [
       "   one  two\n",
       "e   50   50\n",
       "f   60   60\n",
       "g   70   70\n",
       "h   80   80"
      ]
     },
     "execution_count": 11,
     "metadata": {},
     "output_type": "execute_result"
    }
   ],
   "source": [
    "df2"
   ]
  },
  {
   "cell_type": "code",
   "execution_count": 12,
   "id": "a7b5fdb7",
   "metadata": {
    "execution": {
     "iopub.execute_input": "2022-03-29T12:57:00.891593Z",
     "iopub.status.busy": "2022-03-29T12:57:00.890540Z",
     "iopub.status.idle": "2022-03-29T12:57:00.899314Z",
     "shell.execute_reply": "2022-03-29T12:57:00.899872Z",
     "shell.execute_reply.started": "2022-03-29T12:37:18.784434Z"
    },
    "papermill": {
     "duration": 0.029186,
     "end_time": "2022-03-29T12:57:00.900066",
     "exception": false,
     "start_time": "2022-03-29T12:57:00.870880",
     "status": "completed"
    },
    "tags": []
   },
   "outputs": [
    {
     "data": {
      "text/html": [
       "<div>\n",
       "<style scoped>\n",
       "    .dataframe tbody tr th:only-of-type {\n",
       "        vertical-align: middle;\n",
       "    }\n",
       "\n",
       "    .dataframe tbody tr th {\n",
       "        vertical-align: top;\n",
       "    }\n",
       "\n",
       "    .dataframe thead th {\n",
       "        text-align: right;\n",
       "    }\n",
       "</style>\n",
       "<table border=\"1\" class=\"dataframe\">\n",
       "  <thead>\n",
       "    <tr style=\"text-align: right;\">\n",
       "      <th></th>\n",
       "      <th>one</th>\n",
       "      <th>two</th>\n",
       "    </tr>\n",
       "  </thead>\n",
       "  <tbody>\n",
       "    <tr>\n",
       "      <th>a</th>\n",
       "      <td>10</td>\n",
       "      <td>10</td>\n",
       "    </tr>\n",
       "    <tr>\n",
       "      <th>b</th>\n",
       "      <td>20</td>\n",
       "      <td>20</td>\n",
       "    </tr>\n",
       "    <tr>\n",
       "      <th>c</th>\n",
       "      <td>30</td>\n",
       "      <td>30</td>\n",
       "    </tr>\n",
       "    <tr>\n",
       "      <th>d</th>\n",
       "      <td>40</td>\n",
       "      <td>40</td>\n",
       "    </tr>\n",
       "    <tr>\n",
       "      <th>e</th>\n",
       "      <td>50</td>\n",
       "      <td>50</td>\n",
       "    </tr>\n",
       "    <tr>\n",
       "      <th>f</th>\n",
       "      <td>60</td>\n",
       "      <td>60</td>\n",
       "    </tr>\n",
       "    <tr>\n",
       "      <th>g</th>\n",
       "      <td>70</td>\n",
       "      <td>70</td>\n",
       "    </tr>\n",
       "    <tr>\n",
       "      <th>h</th>\n",
       "      <td>80</td>\n",
       "      <td>80</td>\n",
       "    </tr>\n",
       "  </tbody>\n",
       "</table>\n",
       "</div>"
      ],
      "text/plain": [
       "   one  two\n",
       "a   10   10\n",
       "b   20   20\n",
       "c   30   30\n",
       "d   40   40\n",
       "e   50   50\n",
       "f   60   60\n",
       "g   70   70\n",
       "h   80   80"
      ]
     },
     "execution_count": 12,
     "metadata": {},
     "output_type": "execute_result"
    }
   ],
   "source": [
    "pd.concat(frames)"
   ]
  },
  {
   "cell_type": "markdown",
   "id": "2d714ec4",
   "metadata": {
    "papermill": {
     "duration": 0.017536,
     "end_time": "2022-03-29T12:57:00.934894",
     "exception": false,
     "start_time": "2022-03-29T12:57:00.917358",
     "status": "completed"
    },
    "tags": []
   },
   "source": [
    "## Performance: Which is faster pandas concat or append?\n",
    "Well, both are almost equally faster.\n",
    "However there will be a slight change depending on the data.<br>\n",
    "* Append function will add rows of second data frame to first dataframe iteratively one by one. Concat function will do a single operation to finish the job, which makes it faster than append().<br>\n",
    "* As append will add rows one by one, if the dataframe is significantly very small, then append operation is fine as only a few appends will be done for the number of rows in second dataframe.<br>\n",
    "* Append function will create a new resultant dataframe instead of modifying the existing one. Due to this buffering and creating process, Append operation’s performance is less than concat() function. \n",
    "\n",
    "**However Append() is fine if the number of append operation is a very few. If there are a multiple append operations needed, it is better to use concat()**"
   ]
  }
 ],
 "metadata": {
  "kernelspec": {
   "display_name": "Python 3",
   "language": "python",
   "name": "python3"
  },
  "language_info": {
   "codemirror_mode": {
    "name": "ipython",
    "version": 3
   },
   "file_extension": ".py",
   "mimetype": "text/x-python",
   "name": "python",
   "nbconvert_exporter": "python",
   "pygments_lexer": "ipython3",
   "version": "3.7.12"
  },
  "papermill": {
   "default_parameters": {},
   "duration": 10.200712,
   "end_time": "2022-03-29T12:57:01.562596",
   "environment_variables": {},
   "exception": null,
   "input_path": "__notebook__.ipynb",
   "output_path": "__notebook__.ipynb",
   "parameters": {},
   "start_time": "2022-03-29T12:56:51.361884",
   "version": "2.3.3"
  }
 },
 "nbformat": 4,
 "nbformat_minor": 5
}
