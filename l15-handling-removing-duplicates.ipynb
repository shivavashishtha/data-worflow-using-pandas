{
 "cells": [
  {
   "cell_type": "code",
   "execution_count": 1,
   "id": "e1be40fa",
   "metadata": {
    "_cell_guid": "b1076dfc-b9ad-4769-8c92-a6c4dae69d19",
    "_uuid": "8f2839f25d086af736a60e9eeb907d3b93b6e0e5",
    "execution": {
     "iopub.execute_input": "2022-03-10T19:34:01.962336Z",
     "iopub.status.busy": "2022-03-10T19:34:01.961235Z",
     "iopub.status.idle": "2022-03-10T19:34:01.975199Z",
     "shell.execute_reply": "2022-03-10T19:34:01.975819Z",
     "shell.execute_reply.started": "2022-03-10T19:30:42.937162Z"
    },
    "papermill": {
     "duration": 0.030343,
     "end_time": "2022-03-10T19:34:01.976270",
     "exception": false,
     "start_time": "2022-03-10T19:34:01.945927",
     "status": "completed"
    },
    "tags": []
   },
   "outputs": [
    {
     "name": "stdout",
     "output_type": "stream",
     "text": [
      "/kaggle/input/2022-ipl-auction-dataset/ipl_2022_dataset.csv\n"
     ]
    }
   ],
   "source": [
    "# This Python 3 environment comes with many helpful analytics libraries installed\n",
    "# It is defined by the kaggle/python Docker image: https://github.com/kaggle/docker-python\n",
    "# For example, here's several helpful packages to load\n",
    "\n",
    "import numpy as np # linear algebra\n",
    "import pandas as pd # data processing, CSV file I/O (e.g. pd.read_csv)\n",
    "\n",
    "# Input data files are available in the read-only \"../input/\" directory\n",
    "# For example, running this (by clicking run or pressing Shift+Enter) will list all files under the input directory\n",
    "\n",
    "import os\n",
    "for dirname, _, filenames in os.walk('/kaggle/input'):\n",
    "    for filename in filenames:\n",
    "        print(os.path.join(dirname, filename))\n",
    "\n",
    "# You can write up to 20GB to the current directory (/kaggle/working/) that gets preserved as output when you create a version using \"Save & Run All\" \n",
    "# You can also write temporary files to /kaggle/temp/, but they won't be saved outside of the current session"
   ]
  },
  {
   "cell_type": "markdown",
   "id": "10ef53a7",
   "metadata": {
    "papermill": {
     "duration": 0.010456,
     "end_time": "2022-03-10T19:34:01.998840",
     "exception": false,
     "start_time": "2022-03-10T19:34:01.988384",
     "status": "completed"
    },
    "tags": []
   },
   "source": [
    "# Importing the Data"
   ]
  },
  {
   "cell_type": "code",
   "execution_count": 2,
   "id": "2f3fead8",
   "metadata": {
    "execution": {
     "iopub.execute_input": "2022-03-10T19:34:02.026615Z",
     "iopub.status.busy": "2022-03-10T19:34:02.025969Z",
     "iopub.status.idle": "2022-03-10T19:34:02.049530Z",
     "shell.execute_reply": "2022-03-10T19:34:02.048965Z",
     "shell.execute_reply.started": "2022-03-10T19:30:42.947309Z"
    },
    "papermill": {
     "duration": 0.039289,
     "end_time": "2022-03-10T19:34:02.049679",
     "exception": false,
     "start_time": "2022-03-10T19:34:02.010390",
     "status": "completed"
    },
    "tags": []
   },
   "outputs": [],
   "source": [
    "df=pd.read_csv(\"../input/2022-ipl-auction-dataset/ipl_2022_dataset.csv\",index_col=\"Unnamed: 0\")"
   ]
  },
  {
   "cell_type": "markdown",
   "id": "f4410298",
   "metadata": {
    "papermill": {
     "duration": 0.010675,
     "end_time": "2022-03-10T19:34:02.071476",
     "exception": false,
     "start_time": "2022-03-10T19:34:02.060801",
     "status": "completed"
    },
    "tags": []
   },
   "source": [
    "# Checking the info()"
   ]
  },
  {
   "cell_type": "code",
   "execution_count": 3,
   "id": "e6194bfe",
   "metadata": {
    "execution": {
     "iopub.execute_input": "2022-03-10T19:34:02.096678Z",
     "iopub.status.busy": "2022-03-10T19:34:02.096113Z",
     "iopub.status.idle": "2022-03-10T19:34:02.111555Z",
     "shell.execute_reply": "2022-03-10T19:34:02.111052Z",
     "shell.execute_reply.started": "2022-03-10T19:30:42.966937Z"
    },
    "papermill": {
     "duration": 0.029346,
     "end_time": "2022-03-10T19:34:02.111685",
     "exception": false,
     "start_time": "2022-03-10T19:34:02.082339",
     "status": "completed"
    },
    "tags": []
   },
   "outputs": [
    {
     "name": "stdout",
     "output_type": "stream",
     "text": [
      "<class 'pandas.core.frame.DataFrame'>\n",
      "Int64Index: 633 entries, 0 to 632\n",
      "Data columns (total 7 columns):\n",
      " #   Column           Non-Null Count  Dtype  \n",
      "---  ------           --------------  -----  \n",
      " 0   Player           633 non-null    object \n",
      " 1   Base Price       633 non-null    object \n",
      " 2   TYPE             633 non-null    object \n",
      " 3   COST IN ₹ (CR.)  237 non-null    float64\n",
      " 4   Cost IN $ (000)  237 non-null    float64\n",
      " 5   2021 Squad       199 non-null    object \n",
      " 6   Team             633 non-null    object \n",
      "dtypes: float64(2), object(5)\n",
      "memory usage: 39.6+ KB\n"
     ]
    }
   ],
   "source": [
    "df.info()"
   ]
  },
  {
   "cell_type": "markdown",
   "id": "42bedd62",
   "metadata": {
    "papermill": {
     "duration": 0.010934,
     "end_time": "2022-03-10T19:34:02.133885",
     "exception": false,
     "start_time": "2022-03-10T19:34:02.122951",
     "status": "completed"
    },
    "tags": []
   },
   "source": [
    "# Producing dataframe with all duplicated occurences in Player series"
   ]
  },
  {
   "cell_type": "code",
   "execution_count": 4,
   "id": "9f6099e2",
   "metadata": {
    "execution": {
     "iopub.execute_input": "2022-03-10T19:34:02.159044Z",
     "iopub.status.busy": "2022-03-10T19:34:02.158427Z",
     "iopub.status.idle": "2022-03-10T19:34:02.179071Z",
     "shell.execute_reply": "2022-03-10T19:34:02.178581Z",
     "shell.execute_reply.started": "2022-03-10T19:30:42.981689Z"
    },
    "papermill": {
     "duration": 0.034193,
     "end_time": "2022-03-10T19:34:02.179212",
     "exception": false,
     "start_time": "2022-03-10T19:34:02.145019",
     "status": "completed"
    },
    "tags": []
   },
   "outputs": [
    {
     "data": {
      "text/html": [
       "<div>\n",
       "<style scoped>\n",
       "    .dataframe tbody tr th:only-of-type {\n",
       "        vertical-align: middle;\n",
       "    }\n",
       "\n",
       "    .dataframe tbody tr th {\n",
       "        vertical-align: top;\n",
       "    }\n",
       "\n",
       "    .dataframe thead th {\n",
       "        text-align: right;\n",
       "    }\n",
       "</style>\n",
       "<table border=\"1\" class=\"dataframe\">\n",
       "  <thead>\n",
       "    <tr style=\"text-align: right;\">\n",
       "      <th></th>\n",
       "      <th>Player</th>\n",
       "      <th>Base Price</th>\n",
       "      <th>TYPE</th>\n",
       "      <th>COST IN ₹ (CR.)</th>\n",
       "      <th>Cost IN $ (000)</th>\n",
       "      <th>2021 Squad</th>\n",
       "      <th>Team</th>\n",
       "    </tr>\n",
       "  </thead>\n",
       "  <tbody>\n",
       "    <tr>\n",
       "      <th>62</th>\n",
       "      <td>Lalit Yadav</td>\n",
       "      <td>20 Lakh</td>\n",
       "      <td>ALL-ROUNDER</td>\n",
       "      <td>0.65</td>\n",
       "      <td>84.5</td>\n",
       "      <td>DC</td>\n",
       "      <td>Delhi Capitals</td>\n",
       "    </tr>\n",
       "    <tr>\n",
       "      <th>240</th>\n",
       "      <td>Amit Mishra</td>\n",
       "      <td>1.5 Cr</td>\n",
       "      <td>BOWLER</td>\n",
       "      <td>NaN</td>\n",
       "      <td>NaN</td>\n",
       "      <td>DC</td>\n",
       "      <td>Unsold</td>\n",
       "    </tr>\n",
       "    <tr>\n",
       "      <th>499</th>\n",
       "      <td>Amit Mishra</td>\n",
       "      <td>20 Lakh</td>\n",
       "      <td>BOWLER</td>\n",
       "      <td>NaN</td>\n",
       "      <td>NaN</td>\n",
       "      <td>NaN</td>\n",
       "      <td>Unsold</td>\n",
       "    </tr>\n",
       "    <tr>\n",
       "      <th>518</th>\n",
       "      <td>Shivam Sharma</td>\n",
       "      <td>20 Lakh</td>\n",
       "      <td>ALL-ROUNDER</td>\n",
       "      <td>NaN</td>\n",
       "      <td>NaN</td>\n",
       "      <td>NaN</td>\n",
       "      <td>Unsold</td>\n",
       "    </tr>\n",
       "    <tr>\n",
       "      <th>530</th>\n",
       "      <td>Lalit Yadav</td>\n",
       "      <td>20 Lakh</td>\n",
       "      <td>BOWLER</td>\n",
       "      <td>NaN</td>\n",
       "      <td>NaN</td>\n",
       "      <td>NaN</td>\n",
       "      <td>Unsold</td>\n",
       "    </tr>\n",
       "    <tr>\n",
       "      <th>537</th>\n",
       "      <td>Shubham Singh</td>\n",
       "      <td>20 Lakh</td>\n",
       "      <td>ALL-ROUNDER</td>\n",
       "      <td>NaN</td>\n",
       "      <td>NaN</td>\n",
       "      <td>NaN</td>\n",
       "      <td>Unsold</td>\n",
       "    </tr>\n",
       "    <tr>\n",
       "      <th>544</th>\n",
       "      <td>Shubham Singh</td>\n",
       "      <td>20 Lakh</td>\n",
       "      <td>BOWLER</td>\n",
       "      <td>NaN</td>\n",
       "      <td>NaN</td>\n",
       "      <td>NaN</td>\n",
       "      <td>Unsold</td>\n",
       "    </tr>\n",
       "    <tr>\n",
       "      <th>569</th>\n",
       "      <td>Shivam Sharma</td>\n",
       "      <td>20 Lakh</td>\n",
       "      <td>ALL-ROUNDER</td>\n",
       "      <td>NaN</td>\n",
       "      <td>NaN</td>\n",
       "      <td>NaN</td>\n",
       "      <td>Unsold</td>\n",
       "    </tr>\n",
       "  </tbody>\n",
       "</table>\n",
       "</div>"
      ],
      "text/plain": [
       "            Player Base Price         TYPE  COST IN ₹ (CR.)  Cost IN $ (000)  \\\n",
       "62     Lalit Yadav    20 Lakh  ALL-ROUNDER             0.65             84.5   \n",
       "240    Amit Mishra     1.5 Cr       BOWLER              NaN              NaN   \n",
       "499    Amit Mishra    20 Lakh       BOWLER              NaN              NaN   \n",
       "518  Shivam Sharma    20 Lakh  ALL-ROUNDER              NaN              NaN   \n",
       "530    Lalit Yadav    20 Lakh       BOWLER              NaN              NaN   \n",
       "537  Shubham Singh    20 Lakh  ALL-ROUNDER              NaN              NaN   \n",
       "544  Shubham Singh    20 Lakh       BOWLER              NaN              NaN   \n",
       "569  Shivam Sharma    20 Lakh  ALL-ROUNDER              NaN              NaN   \n",
       "\n",
       "    2021 Squad            Team  \n",
       "62          DC  Delhi Capitals  \n",
       "240         DC          Unsold  \n",
       "499        NaN          Unsold  \n",
       "518        NaN          Unsold  \n",
       "530        NaN          Unsold  \n",
       "537        NaN          Unsold  \n",
       "544        NaN          Unsold  \n",
       "569        NaN          Unsold  "
      ]
     },
     "execution_count": 4,
     "metadata": {},
     "output_type": "execute_result"
    }
   ],
   "source": [
    "df[df.Player.duplicated(keep=False)]"
   ]
  },
  {
   "cell_type": "markdown",
   "id": "a954dbed",
   "metadata": {
    "papermill": {
     "duration": 0.011388,
     "end_time": "2022-03-10T19:34:02.202821",
     "exception": false,
     "start_time": "2022-03-10T19:34:02.191433",
     "status": "completed"
    },
    "tags": []
   },
   "source": [
    "# Dropping duplicates in dataframe permanently "
   ]
  },
  {
   "cell_type": "code",
   "execution_count": 5,
   "id": "d240548d",
   "metadata": {
    "execution": {
     "iopub.execute_input": "2022-03-10T19:34:02.233555Z",
     "iopub.status.busy": "2022-03-10T19:34:02.231477Z",
     "iopub.status.idle": "2022-03-10T19:34:02.236324Z",
     "shell.execute_reply": "2022-03-10T19:34:02.236773Z",
     "shell.execute_reply.started": "2022-03-10T19:30:43.000275Z"
    },
    "papermill": {
     "duration": 0.022064,
     "end_time": "2022-03-10T19:34:02.236931",
     "exception": false,
     "start_time": "2022-03-10T19:34:02.214867",
     "status": "completed"
    },
    "tags": []
   },
   "outputs": [],
   "source": [
    "df.drop_duplicates(inplace=True)"
   ]
  },
  {
   "cell_type": "code",
   "execution_count": 6,
   "id": "f797a2cf",
   "metadata": {
    "execution": {
     "iopub.execute_input": "2022-03-10T19:34:02.270910Z",
     "iopub.status.busy": "2022-03-10T19:34:02.270317Z",
     "iopub.status.idle": "2022-03-10T19:34:02.290580Z",
     "shell.execute_reply": "2022-03-10T19:34:02.291395Z",
     "shell.execute_reply.started": "2022-03-10T19:30:43.008620Z"
    },
    "papermill": {
     "duration": 0.041257,
     "end_time": "2022-03-10T19:34:02.291576",
     "exception": false,
     "start_time": "2022-03-10T19:34:02.250319",
     "status": "completed"
    },
    "tags": []
   },
   "outputs": [
    {
     "data": {
      "text/html": [
       "<div>\n",
       "<style scoped>\n",
       "    .dataframe tbody tr th:only-of-type {\n",
       "        vertical-align: middle;\n",
       "    }\n",
       "\n",
       "    .dataframe tbody tr th {\n",
       "        vertical-align: top;\n",
       "    }\n",
       "\n",
       "    .dataframe thead th {\n",
       "        text-align: right;\n",
       "    }\n",
       "</style>\n",
       "<table border=\"1\" class=\"dataframe\">\n",
       "  <thead>\n",
       "    <tr style=\"text-align: right;\">\n",
       "      <th></th>\n",
       "      <th>Player</th>\n",
       "      <th>Base Price</th>\n",
       "      <th>TYPE</th>\n",
       "      <th>COST IN ₹ (CR.)</th>\n",
       "      <th>Cost IN $ (000)</th>\n",
       "      <th>2021 Squad</th>\n",
       "      <th>Team</th>\n",
       "    </tr>\n",
       "  </thead>\n",
       "  <tbody>\n",
       "    <tr>\n",
       "      <th>0</th>\n",
       "      <td>Rashid Khan</td>\n",
       "      <td>Draft Pick</td>\n",
       "      <td>BOWLER</td>\n",
       "      <td>15.0</td>\n",
       "      <td>1950.0</td>\n",
       "      <td>SRH</td>\n",
       "      <td>Gujarat Titans</td>\n",
       "    </tr>\n",
       "    <tr>\n",
       "      <th>1</th>\n",
       "      <td>Hardik Pandya</td>\n",
       "      <td>Draft Pick</td>\n",
       "      <td>ALL-ROUNDER</td>\n",
       "      <td>15.0</td>\n",
       "      <td>1950.0</td>\n",
       "      <td>MI</td>\n",
       "      <td>Gujarat Titans</td>\n",
       "    </tr>\n",
       "    <tr>\n",
       "      <th>2</th>\n",
       "      <td>Lockie Ferguson</td>\n",
       "      <td>2 Cr</td>\n",
       "      <td>BOWLER</td>\n",
       "      <td>10.0</td>\n",
       "      <td>1300.0</td>\n",
       "      <td>KKR</td>\n",
       "      <td>Gujarat Titans</td>\n",
       "    </tr>\n",
       "    <tr>\n",
       "      <th>3</th>\n",
       "      <td>Rahul Tewatia</td>\n",
       "      <td>40 Lakh</td>\n",
       "      <td>ALL-ROUNDER</td>\n",
       "      <td>9.0</td>\n",
       "      <td>1170.0</td>\n",
       "      <td>RR</td>\n",
       "      <td>Gujarat Titans</td>\n",
       "    </tr>\n",
       "    <tr>\n",
       "      <th>4</th>\n",
       "      <td>Shubman Gill</td>\n",
       "      <td>Draft Pick</td>\n",
       "      <td>BATTER</td>\n",
       "      <td>8.0</td>\n",
       "      <td>1040.0</td>\n",
       "      <td>KKR</td>\n",
       "      <td>Gujarat Titans</td>\n",
       "    </tr>\n",
       "    <tr>\n",
       "      <th>...</th>\n",
       "      <td>...</td>\n",
       "      <td>...</td>\n",
       "      <td>...</td>\n",
       "      <td>...</td>\n",
       "      <td>...</td>\n",
       "      <td>...</td>\n",
       "      <td>...</td>\n",
       "    </tr>\n",
       "    <tr>\n",
       "      <th>628</th>\n",
       "      <td>Sairaj Patil</td>\n",
       "      <td>20 Lakh</td>\n",
       "      <td>BATTER</td>\n",
       "      <td>NaN</td>\n",
       "      <td>NaN</td>\n",
       "      <td>NaN</td>\n",
       "      <td>Unsold</td>\n",
       "    </tr>\n",
       "    <tr>\n",
       "      <th>629</th>\n",
       "      <td>Monu Singh</td>\n",
       "      <td>20 Lakh</td>\n",
       "      <td>BOWLER</td>\n",
       "      <td>NaN</td>\n",
       "      <td>NaN</td>\n",
       "      <td>NaN</td>\n",
       "      <td>Unsold</td>\n",
       "    </tr>\n",
       "    <tr>\n",
       "      <th>630</th>\n",
       "      <td>Nivethan Radhakrishnan</td>\n",
       "      <td>20 Lakh</td>\n",
       "      <td>BOWLER</td>\n",
       "      <td>NaN</td>\n",
       "      <td>NaN</td>\n",
       "      <td>NaN</td>\n",
       "      <td>Unsold</td>\n",
       "    </tr>\n",
       "    <tr>\n",
       "      <th>631</th>\n",
       "      <td>Lance Morris</td>\n",
       "      <td>20 Lakh</td>\n",
       "      <td>BOWLER</td>\n",
       "      <td>NaN</td>\n",
       "      <td>NaN</td>\n",
       "      <td>NaN</td>\n",
       "      <td>Unsold</td>\n",
       "    </tr>\n",
       "    <tr>\n",
       "      <th>632</th>\n",
       "      <td>Aaron Hardie</td>\n",
       "      <td>20 Lakh</td>\n",
       "      <td>ALL-ROUNDER</td>\n",
       "      <td>NaN</td>\n",
       "      <td>NaN</td>\n",
       "      <td>NaN</td>\n",
       "      <td>Unsold</td>\n",
       "    </tr>\n",
       "  </tbody>\n",
       "</table>\n",
       "<p>632 rows × 7 columns</p>\n",
       "</div>"
      ],
      "text/plain": [
       "                     Player  Base Price         TYPE  COST IN ₹ (CR.)  \\\n",
       "0               Rashid Khan  Draft Pick       BOWLER             15.0   \n",
       "1             Hardik Pandya  Draft Pick  ALL-ROUNDER             15.0   \n",
       "2           Lockie Ferguson        2 Cr       BOWLER             10.0   \n",
       "3             Rahul Tewatia     40 Lakh  ALL-ROUNDER              9.0   \n",
       "4              Shubman Gill  Draft Pick       BATTER              8.0   \n",
       "..                      ...         ...          ...              ...   \n",
       "628            Sairaj Patil     20 Lakh       BATTER              NaN   \n",
       "629              Monu Singh     20 Lakh       BOWLER              NaN   \n",
       "630  Nivethan Radhakrishnan     20 Lakh       BOWLER              NaN   \n",
       "631            Lance Morris     20 Lakh       BOWLER              NaN   \n",
       "632            Aaron Hardie     20 Lakh  ALL-ROUNDER              NaN   \n",
       "\n",
       "     Cost IN $ (000) 2021 Squad            Team  \n",
       "0             1950.0        SRH  Gujarat Titans  \n",
       "1             1950.0         MI  Gujarat Titans  \n",
       "2             1300.0        KKR  Gujarat Titans  \n",
       "3             1170.0         RR  Gujarat Titans  \n",
       "4             1040.0        KKR  Gujarat Titans  \n",
       "..               ...        ...             ...  \n",
       "628              NaN        NaN          Unsold  \n",
       "629              NaN        NaN          Unsold  \n",
       "630              NaN        NaN          Unsold  \n",
       "631              NaN        NaN          Unsold  \n",
       "632              NaN        NaN          Unsold  \n",
       "\n",
       "[632 rows x 7 columns]"
      ]
     },
     "execution_count": 6,
     "metadata": {},
     "output_type": "execute_result"
    }
   ],
   "source": [
    "df"
   ]
  },
  {
   "cell_type": "markdown",
   "id": "f035c1c6",
   "metadata": {
    "papermill": {
     "duration": 0.0122,
     "end_time": "2022-03-10T19:34:02.318288",
     "exception": false,
     "start_time": "2022-03-10T19:34:02.306088",
     "status": "completed"
    },
    "tags": []
   },
   "source": [
    "# Checking info again to compare the changes "
   ]
  },
  {
   "cell_type": "code",
   "execution_count": 7,
   "id": "adbb4bef",
   "metadata": {
    "execution": {
     "iopub.execute_input": "2022-03-10T19:34:02.350889Z",
     "iopub.status.busy": "2022-03-10T19:34:02.350308Z",
     "iopub.status.idle": "2022-03-10T19:34:02.361035Z",
     "shell.execute_reply": "2022-03-10T19:34:02.361681Z",
     "shell.execute_reply.started": "2022-03-10T19:30:43.033083Z"
    },
    "papermill": {
     "duration": 0.031168,
     "end_time": "2022-03-10T19:34:02.361906",
     "exception": false,
     "start_time": "2022-03-10T19:34:02.330738",
     "status": "completed"
    },
    "tags": []
   },
   "outputs": [
    {
     "name": "stdout",
     "output_type": "stream",
     "text": [
      "<class 'pandas.core.frame.DataFrame'>\n",
      "Int64Index: 632 entries, 0 to 632\n",
      "Data columns (total 7 columns):\n",
      " #   Column           Non-Null Count  Dtype  \n",
      "---  ------           --------------  -----  \n",
      " 0   Player           632 non-null    object \n",
      " 1   Base Price       632 non-null    object \n",
      " 2   TYPE             632 non-null    object \n",
      " 3   COST IN ₹ (CR.)  237 non-null    float64\n",
      " 4   Cost IN $ (000)  237 non-null    float64\n",
      " 5   2021 Squad       199 non-null    object \n",
      " 6   Team             632 non-null    object \n",
      "dtypes: float64(2), object(5)\n",
      "memory usage: 39.5+ KB\n"
     ]
    }
   ],
   "source": [
    "df.info()"
   ]
  },
  {
   "cell_type": "markdown",
   "id": "1a613c5b",
   "metadata": {
    "papermill": {
     "duration": 0.012512,
     "end_time": "2022-03-10T19:34:02.388118",
     "exception": false,
     "start_time": "2022-03-10T19:34:02.375606",
     "status": "completed"
    },
    "tags": []
   },
   "source": [
    "# Dropping duplicates in Player subset permanently "
   ]
  },
  {
   "cell_type": "code",
   "execution_count": 8,
   "id": "9d6a82be",
   "metadata": {
    "execution": {
     "iopub.execute_input": "2022-03-10T19:34:02.416622Z",
     "iopub.status.busy": "2022-03-10T19:34:02.416063Z",
     "iopub.status.idle": "2022-03-10T19:34:02.421186Z",
     "shell.execute_reply": "2022-03-10T19:34:02.421632Z",
     "shell.execute_reply.started": "2022-03-10T19:30:43.078611Z"
    },
    "papermill": {
     "duration": 0.021069,
     "end_time": "2022-03-10T19:34:02.421806",
     "exception": false,
     "start_time": "2022-03-10T19:34:02.400737",
     "status": "completed"
    },
    "tags": []
   },
   "outputs": [],
   "source": [
    "df.drop_duplicates(subset=['Player'], keep=False,inplace=True)"
   ]
  },
  {
   "cell_type": "markdown",
   "id": "44b98c19",
   "metadata": {
    "papermill": {
     "duration": 0.012725,
     "end_time": "2022-03-10T19:34:02.447007",
     "exception": false,
     "start_time": "2022-03-10T19:34:02.434282",
     "status": "completed"
    },
    "tags": []
   },
   "source": [
    "# Checking the info() again to compare the changes "
   ]
  },
  {
   "cell_type": "code",
   "execution_count": 9,
   "id": "32f80b57",
   "metadata": {
    "execution": {
     "iopub.execute_input": "2022-03-10T19:34:02.474782Z",
     "iopub.status.busy": "2022-03-10T19:34:02.474179Z",
     "iopub.status.idle": "2022-03-10T19:34:02.484417Z",
     "shell.execute_reply": "2022-03-10T19:34:02.484810Z",
     "shell.execute_reply.started": "2022-03-10T19:30:48.976403Z"
    },
    "papermill": {
     "duration": 0.025638,
     "end_time": "2022-03-10T19:34:02.484998",
     "exception": false,
     "start_time": "2022-03-10T19:34:02.459360",
     "status": "completed"
    },
    "tags": []
   },
   "outputs": [
    {
     "name": "stdout",
     "output_type": "stream",
     "text": [
      "<class 'pandas.core.frame.DataFrame'>\n",
      "Int64Index: 626 entries, 0 to 632\n",
      "Data columns (total 7 columns):\n",
      " #   Column           Non-Null Count  Dtype  \n",
      "---  ------           --------------  -----  \n",
      " 0   Player           626 non-null    object \n",
      " 1   Base Price       626 non-null    object \n",
      " 2   TYPE             626 non-null    object \n",
      " 3   COST IN ₹ (CR.)  236 non-null    float64\n",
      " 4   Cost IN $ (000)  236 non-null    float64\n",
      " 5   2021 Squad       197 non-null    object \n",
      " 6   Team             626 non-null    object \n",
      "dtypes: float64(2), object(5)\n",
      "memory usage: 39.1+ KB\n"
     ]
    }
   ],
   "source": [
    "df.info()"
   ]
  }
 ],
 "metadata": {
  "kernelspec": {
   "display_name": "Python 3",
   "language": "python",
   "name": "python3"
  },
  "language_info": {
   "codemirror_mode": {
    "name": "ipython",
    "version": 3
   },
   "file_extension": ".py",
   "mimetype": "text/x-python",
   "name": "python",
   "nbconvert_exporter": "python",
   "pygments_lexer": "ipython3",
   "version": "3.7.12"
  },
  "papermill": {
   "default_parameters": {},
   "duration": 10.131608,
   "end_time": "2022-03-10T19:34:03.106153",
   "environment_variables": {},
   "exception": null,
   "input_path": "__notebook__.ipynb",
   "output_path": "__notebook__.ipynb",
   "parameters": {},
   "start_time": "2022-03-10T19:33:52.974545",
   "version": "2.3.3"
  }
 },
 "nbformat": 4,
 "nbformat_minor": 5
}
