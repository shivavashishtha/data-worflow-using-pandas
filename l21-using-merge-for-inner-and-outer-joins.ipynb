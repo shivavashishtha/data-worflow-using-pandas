{
 "cells": [
  {
   "cell_type": "markdown",
   "id": "dd2d0b81",
   "metadata": {
    "papermill": {
     "duration": 0.004912,
     "end_time": "2022-08-10T11:10:25.752241",
     "exception": false,
     "start_time": "2022-08-10T11:10:25.747329",
     "status": "completed"
    },
    "tags": []
   },
   "source": [
    "# Difference between Inner and Outer Joins\n",
    "The biggest difference between an INNER JOIN and an OUTER JOIN is that the inner join will keep only the information from both tables that's related to each other (in the resulting table). An Outer Join, on the other hand, will also keep information that is not related to the other table in the resulting table.\n"
   ]
  },
  {
   "cell_type": "code",
   "execution_count": 1,
   "id": "9e7f24b2",
   "metadata": {
    "_cell_guid": "b1076dfc-b9ad-4769-8c92-a6c4dae69d19",
    "_uuid": "8f2839f25d086af736a60e9eeb907d3b93b6e0e5",
    "execution": {
     "iopub.execute_input": "2022-08-10T11:10:25.762861Z",
     "iopub.status.busy": "2022-08-10T11:10:25.761748Z",
     "iopub.status.idle": "2022-08-10T11:10:25.781345Z",
     "shell.execute_reply": "2022-08-10T11:10:25.780421Z"
    },
    "papermill": {
     "duration": 0.026872,
     "end_time": "2022-08-10T11:10:25.783225",
     "exception": false,
     "start_time": "2022-08-10T11:10:25.756353",
     "status": "completed"
    },
    "tags": []
   },
   "outputs": [
    {
     "name": "stdout",
     "output_type": "stream",
     "text": [
      "/kaggle/input/olympic-games/dictionary.csv\n",
      "/kaggle/input/olympic-games/winter.csv\n",
      "/kaggle/input/olympic-games/summer.csv\n"
     ]
    }
   ],
   "source": [
    "# This Python 3 environment comes with many helpful analytics libraries installed\n",
    "# It is defined by the kaggle/python Docker image: https://github.com/kaggle/docker-python\n",
    "# For example, here's several helpful packages to load\n",
    "\n",
    "import numpy as np # linear algebra\n",
    "import pandas as pd # data processing, CSV file I/O (e.g. pd.read_csv)\n",
    "\n",
    "# Input data files are available in the read-only \"../input/\" directory\n",
    "# For example, running this (by clicking run or pressing Shift+Enter) will list all files under the input directory\n",
    "\n",
    "import os\n",
    "for dirname, _, filenames in os.walk('/kaggle/input'):\n",
    "    for filename in filenames:\n",
    "        print(os.path.join(dirname, filename))\n",
    "\n",
    "# You can write up to 20GB to the current directory (/kaggle/working/) that gets preserved as output when you create a version using \"Save & Run All\" \n",
    "# You can also write temporary files to /kaggle/temp/, but they won't be saved outside of the current session"
   ]
  },
  {
   "cell_type": "markdown",
   "id": "3d540fd0",
   "metadata": {
    "papermill": {
     "duration": 0.003939,
     "end_time": "2022-08-10T11:10:25.791673",
     "exception": false,
     "start_time": "2022-08-10T11:10:25.787734",
     "status": "completed"
    },
    "tags": []
   },
   "source": [
    "### Note\n",
    "For these operations we are using a data [Click Here](https://www.kaggle.com/datasets/the-guardian/olympic-games) to access the Dataset"
   ]
  },
  {
   "cell_type": "code",
   "execution_count": 2,
   "id": "b3aa3d0a",
   "metadata": {
    "execution": {
     "iopub.execute_input": "2022-08-10T11:10:25.801539Z",
     "iopub.status.busy": "2022-08-10T11:10:25.800692Z",
     "iopub.status.idle": "2022-08-10T11:10:25.829176Z",
     "shell.execute_reply": "2022-08-10T11:10:25.828249Z"
    },
    "papermill": {
     "duration": 0.03599,
     "end_time": "2022-08-10T11:10:25.831605",
     "exception": false,
     "start_time": "2022-08-10T11:10:25.795615",
     "status": "completed"
    },
    "tags": []
   },
   "outputs": [],
   "source": [
    "winter=pd.read_csv(\"../input/olympic-games/winter.csv\",usecols=[\"Athlete\",\"Medal\"])"
   ]
  },
  {
   "cell_type": "code",
   "execution_count": 3,
   "id": "2b3ba69c",
   "metadata": {
    "execution": {
     "iopub.execute_input": "2022-08-10T11:10:25.841868Z",
     "iopub.status.busy": "2022-08-10T11:10:25.841249Z",
     "iopub.status.idle": "2022-08-10T11:10:25.898839Z",
     "shell.execute_reply": "2022-08-10T11:10:25.897771Z"
    },
    "papermill": {
     "duration": 0.065149,
     "end_time": "2022-08-10T11:10:25.901135",
     "exception": false,
     "start_time": "2022-08-10T11:10:25.835986",
     "status": "completed"
    },
    "tags": []
   },
   "outputs": [],
   "source": [
    "summer=pd.read_csv(\"../input/olympic-games/summer.csv\",usecols=[\"Athlete\",\"Medal\"])"
   ]
  },
  {
   "cell_type": "code",
   "execution_count": 4,
   "id": "2fc3c349",
   "metadata": {
    "execution": {
     "iopub.execute_input": "2022-08-10T11:10:25.911276Z",
     "iopub.status.busy": "2022-08-10T11:10:25.910910Z",
     "iopub.status.idle": "2022-08-10T11:10:25.933282Z",
     "shell.execute_reply": "2022-08-10T11:10:25.932173Z"
    },
    "papermill": {
     "duration": 0.030016,
     "end_time": "2022-08-10T11:10:25.935546",
     "exception": false,
     "start_time": "2022-08-10T11:10:25.905530",
     "status": "completed"
    },
    "tags": []
   },
   "outputs": [
    {
     "data": {
      "text/html": [
       "<div>\n",
       "<style scoped>\n",
       "    .dataframe tbody tr th:only-of-type {\n",
       "        vertical-align: middle;\n",
       "    }\n",
       "\n",
       "    .dataframe tbody tr th {\n",
       "        vertical-align: top;\n",
       "    }\n",
       "\n",
       "    .dataframe thead th {\n",
       "        text-align: right;\n",
       "    }\n",
       "</style>\n",
       "<table border=\"1\" class=\"dataframe\">\n",
       "  <thead>\n",
       "    <tr style=\"text-align: right;\">\n",
       "      <th></th>\n",
       "      <th>Athlete</th>\n",
       "      <th>Medal</th>\n",
       "    </tr>\n",
       "  </thead>\n",
       "  <tbody>\n",
       "    <tr>\n",
       "      <th>0</th>\n",
       "      <td>BERTHET, G.</td>\n",
       "      <td>Bronze</td>\n",
       "    </tr>\n",
       "    <tr>\n",
       "      <th>1</th>\n",
       "      <td>MANDRILLON, C.</td>\n",
       "      <td>Bronze</td>\n",
       "    </tr>\n",
       "    <tr>\n",
       "      <th>2</th>\n",
       "      <td>MANDRILLON, Maurice</td>\n",
       "      <td>Bronze</td>\n",
       "    </tr>\n",
       "    <tr>\n",
       "      <th>3</th>\n",
       "      <td>VANDELLE, André</td>\n",
       "      <td>Bronze</td>\n",
       "    </tr>\n",
       "    <tr>\n",
       "      <th>4</th>\n",
       "      <td>AUFDENBLATTEN, Adolf</td>\n",
       "      <td>Gold</td>\n",
       "    </tr>\n",
       "    <tr>\n",
       "      <th>...</th>\n",
       "      <td>...</td>\n",
       "      <td>...</td>\n",
       "    </tr>\n",
       "    <tr>\n",
       "      <th>5765</th>\n",
       "      <td>JONES, Jenny</td>\n",
       "      <td>Bronze</td>\n",
       "    </tr>\n",
       "    <tr>\n",
       "      <th>5766</th>\n",
       "      <td>ANDERSON, Jamie</td>\n",
       "      <td>Gold</td>\n",
       "    </tr>\n",
       "    <tr>\n",
       "      <th>5767</th>\n",
       "      <td>MALTAIS, Dominique</td>\n",
       "      <td>Silver</td>\n",
       "    </tr>\n",
       "    <tr>\n",
       "      <th>5768</th>\n",
       "      <td>SAMKOVA, Eva</td>\n",
       "      <td>Gold</td>\n",
       "    </tr>\n",
       "    <tr>\n",
       "      <th>5769</th>\n",
       "      <td>TRESPEUCH, Chloe</td>\n",
       "      <td>Bronze</td>\n",
       "    </tr>\n",
       "  </tbody>\n",
       "</table>\n",
       "<p>5770 rows × 2 columns</p>\n",
       "</div>"
      ],
      "text/plain": [
       "                   Athlete   Medal\n",
       "0              BERTHET, G.  Bronze\n",
       "1           MANDRILLON, C.  Bronze\n",
       "2      MANDRILLON, Maurice  Bronze\n",
       "3          VANDELLE, André  Bronze\n",
       "4     AUFDENBLATTEN, Adolf    Gold\n",
       "...                    ...     ...\n",
       "5765          JONES, Jenny  Bronze\n",
       "5766       ANDERSON, Jamie    Gold\n",
       "5767    MALTAIS, Dominique  Silver\n",
       "5768          SAMKOVA, Eva    Gold\n",
       "5769      TRESPEUCH, Chloe  Bronze\n",
       "\n",
       "[5770 rows x 2 columns]"
      ]
     },
     "execution_count": 4,
     "metadata": {},
     "output_type": "execute_result"
    }
   ],
   "source": [
    "winter"
   ]
  },
  {
   "cell_type": "code",
   "execution_count": 5,
   "id": "78e8796c",
   "metadata": {
    "execution": {
     "iopub.execute_input": "2022-08-10T11:10:25.945953Z",
     "iopub.status.busy": "2022-08-10T11:10:25.945459Z",
     "iopub.status.idle": "2022-08-10T11:10:25.957360Z",
     "shell.execute_reply": "2022-08-10T11:10:25.956446Z"
    },
    "papermill": {
     "duration": 0.019191,
     "end_time": "2022-08-10T11:10:25.959192",
     "exception": false,
     "start_time": "2022-08-10T11:10:25.940001",
     "status": "completed"
    },
    "tags": []
   },
   "outputs": [
    {
     "data": {
      "text/html": [
       "<div>\n",
       "<style scoped>\n",
       "    .dataframe tbody tr th:only-of-type {\n",
       "        vertical-align: middle;\n",
       "    }\n",
       "\n",
       "    .dataframe tbody tr th {\n",
       "        vertical-align: top;\n",
       "    }\n",
       "\n",
       "    .dataframe thead th {\n",
       "        text-align: right;\n",
       "    }\n",
       "</style>\n",
       "<table border=\"1\" class=\"dataframe\">\n",
       "  <thead>\n",
       "    <tr style=\"text-align: right;\">\n",
       "      <th></th>\n",
       "      <th>Athlete</th>\n",
       "      <th>Medal</th>\n",
       "    </tr>\n",
       "  </thead>\n",
       "  <tbody>\n",
       "    <tr>\n",
       "      <th>0</th>\n",
       "      <td>HAJOS, Alfred</td>\n",
       "      <td>Gold</td>\n",
       "    </tr>\n",
       "    <tr>\n",
       "      <th>1</th>\n",
       "      <td>HERSCHMANN, Otto</td>\n",
       "      <td>Silver</td>\n",
       "    </tr>\n",
       "    <tr>\n",
       "      <th>2</th>\n",
       "      <td>DRIVAS, Dimitrios</td>\n",
       "      <td>Bronze</td>\n",
       "    </tr>\n",
       "    <tr>\n",
       "      <th>3</th>\n",
       "      <td>MALOKINIS, Ioannis</td>\n",
       "      <td>Gold</td>\n",
       "    </tr>\n",
       "    <tr>\n",
       "      <th>4</th>\n",
       "      <td>CHASAPIS, Spiridon</td>\n",
       "      <td>Silver</td>\n",
       "    </tr>\n",
       "    <tr>\n",
       "      <th>...</th>\n",
       "      <td>...</td>\n",
       "      <td>...</td>\n",
       "    </tr>\n",
       "    <tr>\n",
       "      <th>31160</th>\n",
       "      <td>JANIKOWSKI, Damian</td>\n",
       "      <td>Bronze</td>\n",
       "    </tr>\n",
       "    <tr>\n",
       "      <th>31161</th>\n",
       "      <td>REZAEI, Ghasem Gholamreza</td>\n",
       "      <td>Gold</td>\n",
       "    </tr>\n",
       "    <tr>\n",
       "      <th>31162</th>\n",
       "      <td>TOTROV, Rustam</td>\n",
       "      <td>Silver</td>\n",
       "    </tr>\n",
       "    <tr>\n",
       "      <th>31163</th>\n",
       "      <td>ALEKSANYAN, Artur</td>\n",
       "      <td>Bronze</td>\n",
       "    </tr>\n",
       "    <tr>\n",
       "      <th>31164</th>\n",
       "      <td>LIDBERG, Jimmy</td>\n",
       "      <td>Bronze</td>\n",
       "    </tr>\n",
       "  </tbody>\n",
       "</table>\n",
       "<p>31165 rows × 2 columns</p>\n",
       "</div>"
      ],
      "text/plain": [
       "                         Athlete   Medal\n",
       "0                  HAJOS, Alfred    Gold\n",
       "1               HERSCHMANN, Otto  Silver\n",
       "2              DRIVAS, Dimitrios  Bronze\n",
       "3             MALOKINIS, Ioannis    Gold\n",
       "4             CHASAPIS, Spiridon  Silver\n",
       "...                          ...     ...\n",
       "31160         JANIKOWSKI, Damian  Bronze\n",
       "31161  REZAEI, Ghasem Gholamreza    Gold\n",
       "31162             TOTROV, Rustam  Silver\n",
       "31163          ALEKSANYAN, Artur  Bronze\n",
       "31164             LIDBERG, Jimmy  Bronze\n",
       "\n",
       "[31165 rows x 2 columns]"
      ]
     },
     "execution_count": 5,
     "metadata": {},
     "output_type": "execute_result"
    }
   ],
   "source": [
    "summer"
   ]
  },
  {
   "cell_type": "markdown",
   "id": "b593c312",
   "metadata": {
    "papermill": {
     "duration": 0.004389,
     "end_time": "2022-08-10T11:10:25.968194",
     "exception": false,
     "start_time": "2022-08-10T11:10:25.963805",
     "status": "completed"
    },
    "tags": []
   },
   "source": [
    "36935 rows × 9 columns\n",
    "\n"
   ]
  },
  {
   "cell_type": "markdown",
   "id": "546d5cfb",
   "metadata": {
    "papermill": {
     "duration": 0.004255,
     "end_time": "2022-08-10T11:10:25.976863",
     "exception": false,
     "start_time": "2022-08-10T11:10:25.972608",
     "status": "completed"
    },
    "tags": []
   },
   "source": [
    "![m](https://i.redd.it/dyqnzpuddxk21.png)"
   ]
  },
  {
   "cell_type": "code",
   "execution_count": 6,
   "id": "91e13789",
   "metadata": {
    "execution": {
     "iopub.execute_input": "2022-08-10T11:10:25.987347Z",
     "iopub.status.busy": "2022-08-10T11:10:25.986983Z",
     "iopub.status.idle": "2022-08-10T11:10:25.992875Z",
     "shell.execute_reply": "2022-08-10T11:10:25.991896Z"
    },
    "papermill": {
     "duration": 0.013342,
     "end_time": "2022-08-10T11:10:25.994759",
     "exception": false,
     "start_time": "2022-08-10T11:10:25.981417",
     "status": "completed"
    },
    "tags": []
   },
   "outputs": [
    {
     "data": {
      "text/plain": [
       "31165"
      ]
     },
     "execution_count": 6,
     "metadata": {},
     "output_type": "execute_result"
    }
   ],
   "source": [
    "len(summer)"
   ]
  },
  {
   "cell_type": "code",
   "execution_count": 7,
   "id": "d6600fdb",
   "metadata": {
    "execution": {
     "iopub.execute_input": "2022-08-10T11:10:26.005334Z",
     "iopub.status.busy": "2022-08-10T11:10:26.005013Z",
     "iopub.status.idle": "2022-08-10T11:10:26.010844Z",
     "shell.execute_reply": "2022-08-10T11:10:26.009899Z"
    },
    "papermill": {
     "duration": 0.01319,
     "end_time": "2022-08-10T11:10:26.012570",
     "exception": false,
     "start_time": "2022-08-10T11:10:25.999380",
     "status": "completed"
    },
    "tags": []
   },
   "outputs": [
    {
     "data": {
      "text/plain": [
       "5770"
      ]
     },
     "execution_count": 7,
     "metadata": {},
     "output_type": "execute_result"
    }
   ],
   "source": [
    "len(winter)"
   ]
  },
  {
   "cell_type": "code",
   "execution_count": 8,
   "id": "cb971229",
   "metadata": {
    "execution": {
     "iopub.execute_input": "2022-08-10T11:10:26.022629Z",
     "iopub.status.busy": "2022-08-10T11:10:26.022331Z",
     "iopub.status.idle": "2022-08-10T11:10:26.027617Z",
     "shell.execute_reply": "2022-08-10T11:10:26.026792Z"
    },
    "papermill": {
     "duration": 0.012149,
     "end_time": "2022-08-10T11:10:26.029250",
     "exception": false,
     "start_time": "2022-08-10T11:10:26.017101",
     "status": "completed"
    },
    "tags": []
   },
   "outputs": [
    {
     "data": {
      "text/plain": [
       "36935"
      ]
     },
     "execution_count": 8,
     "metadata": {},
     "output_type": "execute_result"
    }
   ],
   "source": [
    "len(summer)+len(winter)"
   ]
  },
  {
   "cell_type": "code",
   "execution_count": 9,
   "id": "209de508",
   "metadata": {
    "execution": {
     "iopub.execute_input": "2022-08-10T11:10:26.039841Z",
     "iopub.status.busy": "2022-08-10T11:10:26.039527Z",
     "iopub.status.idle": "2022-08-10T11:10:26.078655Z",
     "shell.execute_reply": "2022-08-10T11:10:26.077498Z"
    },
    "papermill": {
     "duration": 0.046891,
     "end_time": "2022-08-10T11:10:26.080760",
     "exception": false,
     "start_time": "2022-08-10T11:10:26.033869",
     "status": "completed"
    },
    "tags": []
   },
   "outputs": [
    {
     "data": {
      "text/html": [
       "<div>\n",
       "<style scoped>\n",
       "    .dataframe tbody tr th:only-of-type {\n",
       "        vertical-align: middle;\n",
       "    }\n",
       "\n",
       "    .dataframe tbody tr th {\n",
       "        vertical-align: top;\n",
       "    }\n",
       "\n",
       "    .dataframe thead th {\n",
       "        text-align: right;\n",
       "    }\n",
       "</style>\n",
       "<table border=\"1\" class=\"dataframe\">\n",
       "  <thead>\n",
       "    <tr style=\"text-align: right;\">\n",
       "      <th></th>\n",
       "      <th>Athlete</th>\n",
       "      <th>Medal_x</th>\n",
       "      <th>Medal_y</th>\n",
       "    </tr>\n",
       "  </thead>\n",
       "  <tbody>\n",
       "    <tr>\n",
       "      <th>0</th>\n",
       "      <td>ANDRE, Georges</td>\n",
       "      <td>Bronze</td>\n",
       "      <td>Silver</td>\n",
       "    </tr>\n",
       "    <tr>\n",
       "      <th>1</th>\n",
       "      <td>ANDRE, Georges</td>\n",
       "      <td>Bronze</td>\n",
       "      <td>Bronze</td>\n",
       "    </tr>\n",
       "    <tr>\n",
       "      <th>2</th>\n",
       "      <td>ANDERSON, William</td>\n",
       "      <td>Bronze</td>\n",
       "      <td>Bronze</td>\n",
       "    </tr>\n",
       "    <tr>\n",
       "      <th>3</th>\n",
       "      <td>SYNNOTT, Francis Allen</td>\n",
       "      <td>Silver</td>\n",
       "      <td>Silver</td>\n",
       "    </tr>\n",
       "    <tr>\n",
       "      <th>4</th>\n",
       "      <td>GRAFSTRÖM, Gillis</td>\n",
       "      <td>Gold</td>\n",
       "      <td>Gold</td>\n",
       "    </tr>\n",
       "    <tr>\n",
       "      <th>...</th>\n",
       "      <td>...</td>\n",
       "      <td>...</td>\n",
       "      <td>...</td>\n",
       "    </tr>\n",
       "    <tr>\n",
       "      <th>65</th>\n",
       "      <td>IVANOV, Mikhail</td>\n",
       "      <td>Gold</td>\n",
       "      <td>Gold</td>\n",
       "    </tr>\n",
       "    <tr>\n",
       "      <th>66</th>\n",
       "      <td>IVANOV, Mikhail</td>\n",
       "      <td>Gold</td>\n",
       "      <td>Bronze</td>\n",
       "    </tr>\n",
       "    <tr>\n",
       "      <th>67</th>\n",
       "      <td>ZHANG, Hui</td>\n",
       "      <td>Gold</td>\n",
       "      <td>Bronze</td>\n",
       "    </tr>\n",
       "    <tr>\n",
       "      <th>68</th>\n",
       "      <td>WILLIAMS, Lauryn</td>\n",
       "      <td>Silver</td>\n",
       "      <td>Silver</td>\n",
       "    </tr>\n",
       "    <tr>\n",
       "      <th>69</th>\n",
       "      <td>WILLIAMS, Lauryn</td>\n",
       "      <td>Silver</td>\n",
       "      <td>Gold</td>\n",
       "    </tr>\n",
       "  </tbody>\n",
       "</table>\n",
       "<p>70 rows × 3 columns</p>\n",
       "</div>"
      ],
      "text/plain": [
       "                   Athlete Medal_x Medal_y\n",
       "0           ANDRE, Georges  Bronze  Silver\n",
       "1           ANDRE, Georges  Bronze  Bronze\n",
       "2        ANDERSON, William  Bronze  Bronze\n",
       "3   SYNNOTT, Francis Allen  Silver  Silver\n",
       "4        GRAFSTRÖM, Gillis    Gold    Gold\n",
       "..                     ...     ...     ...\n",
       "65         IVANOV, Mikhail    Gold    Gold\n",
       "66         IVANOV, Mikhail    Gold  Bronze\n",
       "67              ZHANG, Hui    Gold  Bronze\n",
       "68        WILLIAMS, Lauryn  Silver  Silver\n",
       "69        WILLIAMS, Lauryn  Silver    Gold\n",
       "\n",
       "[70 rows x 3 columns]"
      ]
     },
     "execution_count": 9,
     "metadata": {},
     "output_type": "execute_result"
    }
   ],
   "source": [
    "winter.merge(summer,how=\"inner\",on=\"Athlete\")"
   ]
  },
  {
   "cell_type": "code",
   "execution_count": 10,
   "id": "86256e12",
   "metadata": {
    "execution": {
     "iopub.execute_input": "2022-08-10T11:10:26.092235Z",
     "iopub.status.busy": "2022-08-10T11:10:26.091753Z",
     "iopub.status.idle": "2022-08-10T11:10:26.118734Z",
     "shell.execute_reply": "2022-08-10T11:10:26.117572Z"
    },
    "papermill": {
     "duration": 0.035265,
     "end_time": "2022-08-10T11:10:26.121252",
     "exception": false,
     "start_time": "2022-08-10T11:10:26.085987",
     "status": "completed"
    },
    "tags": []
   },
   "outputs": [
    {
     "data": {
      "text/html": [
       "<div>\n",
       "<style scoped>\n",
       "    .dataframe tbody tr th:only-of-type {\n",
       "        vertical-align: middle;\n",
       "    }\n",
       "\n",
       "    .dataframe tbody tr th {\n",
       "        vertical-align: top;\n",
       "    }\n",
       "\n",
       "    .dataframe thead th {\n",
       "        text-align: right;\n",
       "    }\n",
       "</style>\n",
       "<table border=\"1\" class=\"dataframe\">\n",
       "  <thead>\n",
       "    <tr style=\"text-align: right;\">\n",
       "      <th></th>\n",
       "      <th>Athlete</th>\n",
       "      <th>Medal_x</th>\n",
       "      <th>Medal_y</th>\n",
       "    </tr>\n",
       "  </thead>\n",
       "  <tbody>\n",
       "    <tr>\n",
       "      <th>0</th>\n",
       "      <td>BERTHET, G.</td>\n",
       "      <td>Bronze</td>\n",
       "      <td>NaN</td>\n",
       "    </tr>\n",
       "    <tr>\n",
       "      <th>1</th>\n",
       "      <td>MANDRILLON, C.</td>\n",
       "      <td>Bronze</td>\n",
       "      <td>NaN</td>\n",
       "    </tr>\n",
       "    <tr>\n",
       "      <th>2</th>\n",
       "      <td>MANDRILLON, Maurice</td>\n",
       "      <td>Bronze</td>\n",
       "      <td>NaN</td>\n",
       "    </tr>\n",
       "    <tr>\n",
       "      <th>3</th>\n",
       "      <td>VANDELLE, André</td>\n",
       "      <td>Bronze</td>\n",
       "      <td>NaN</td>\n",
       "    </tr>\n",
       "    <tr>\n",
       "      <th>4</th>\n",
       "      <td>AUFDENBLATTEN, Adolf</td>\n",
       "      <td>Gold</td>\n",
       "      <td>NaN</td>\n",
       "    </tr>\n",
       "    <tr>\n",
       "      <th>...</th>\n",
       "      <td>...</td>\n",
       "      <td>...</td>\n",
       "      <td>...</td>\n",
       "    </tr>\n",
       "    <tr>\n",
       "      <th>36912</th>\n",
       "      <td>JANIKOWSKI, Damian</td>\n",
       "      <td>NaN</td>\n",
       "      <td>Bronze</td>\n",
       "    </tr>\n",
       "    <tr>\n",
       "      <th>36913</th>\n",
       "      <td>REZAEI, Ghasem Gholamreza</td>\n",
       "      <td>NaN</td>\n",
       "      <td>Gold</td>\n",
       "    </tr>\n",
       "    <tr>\n",
       "      <th>36914</th>\n",
       "      <td>TOTROV, Rustam</td>\n",
       "      <td>NaN</td>\n",
       "      <td>Silver</td>\n",
       "    </tr>\n",
       "    <tr>\n",
       "      <th>36915</th>\n",
       "      <td>ALEKSANYAN, Artur</td>\n",
       "      <td>NaN</td>\n",
       "      <td>Bronze</td>\n",
       "    </tr>\n",
       "    <tr>\n",
       "      <th>36916</th>\n",
       "      <td>LIDBERG, Jimmy</td>\n",
       "      <td>NaN</td>\n",
       "      <td>Bronze</td>\n",
       "    </tr>\n",
       "  </tbody>\n",
       "</table>\n",
       "<p>36917 rows × 3 columns</p>\n",
       "</div>"
      ],
      "text/plain": [
       "                         Athlete Medal_x Medal_y\n",
       "0                    BERTHET, G.  Bronze     NaN\n",
       "1                 MANDRILLON, C.  Bronze     NaN\n",
       "2            MANDRILLON, Maurice  Bronze     NaN\n",
       "3                VANDELLE, André  Bronze     NaN\n",
       "4           AUFDENBLATTEN, Adolf    Gold     NaN\n",
       "...                          ...     ...     ...\n",
       "36912         JANIKOWSKI, Damian     NaN  Bronze\n",
       "36913  REZAEI, Ghasem Gholamreza     NaN    Gold\n",
       "36914             TOTROV, Rustam     NaN  Silver\n",
       "36915          ALEKSANYAN, Artur     NaN  Bronze\n",
       "36916             LIDBERG, Jimmy     NaN  Bronze\n",
       "\n",
       "[36917 rows x 3 columns]"
      ]
     },
     "execution_count": 10,
     "metadata": {},
     "output_type": "execute_result"
    }
   ],
   "source": [
    "winter.merge(summer,how=\"outer\",on=\"Athlete\")"
   ]
  },
  {
   "cell_type": "code",
   "execution_count": 11,
   "id": "0df208db",
   "metadata": {
    "execution": {
     "iopub.execute_input": "2022-08-10T11:10:26.133167Z",
     "iopub.status.busy": "2022-08-10T11:10:26.132832Z",
     "iopub.status.idle": "2022-08-10T11:10:26.158837Z",
     "shell.execute_reply": "2022-08-10T11:10:26.157886Z"
    },
    "papermill": {
     "duration": 0.034113,
     "end_time": "2022-08-10T11:10:26.160738",
     "exception": false,
     "start_time": "2022-08-10T11:10:26.126625",
     "status": "completed"
    },
    "tags": []
   },
   "outputs": [
    {
     "data": {
      "text/html": [
       "<div>\n",
       "<style scoped>\n",
       "    .dataframe tbody tr th:only-of-type {\n",
       "        vertical-align: middle;\n",
       "    }\n",
       "\n",
       "    .dataframe tbody tr th {\n",
       "        vertical-align: top;\n",
       "    }\n",
       "\n",
       "    .dataframe thead th {\n",
       "        text-align: right;\n",
       "    }\n",
       "</style>\n",
       "<table border=\"1\" class=\"dataframe\">\n",
       "  <thead>\n",
       "    <tr style=\"text-align: right;\">\n",
       "      <th></th>\n",
       "      <th>Athlete</th>\n",
       "      <th>Medal_Winter</th>\n",
       "      <th>Medal_Summer</th>\n",
       "    </tr>\n",
       "  </thead>\n",
       "  <tbody>\n",
       "    <tr>\n",
       "      <th>0</th>\n",
       "      <td>BERTHET, G.</td>\n",
       "      <td>Bronze</td>\n",
       "      <td>NaN</td>\n",
       "    </tr>\n",
       "    <tr>\n",
       "      <th>1</th>\n",
       "      <td>MANDRILLON, C.</td>\n",
       "      <td>Bronze</td>\n",
       "      <td>NaN</td>\n",
       "    </tr>\n",
       "    <tr>\n",
       "      <th>2</th>\n",
       "      <td>MANDRILLON, Maurice</td>\n",
       "      <td>Bronze</td>\n",
       "      <td>NaN</td>\n",
       "    </tr>\n",
       "    <tr>\n",
       "      <th>3</th>\n",
       "      <td>VANDELLE, André</td>\n",
       "      <td>Bronze</td>\n",
       "      <td>NaN</td>\n",
       "    </tr>\n",
       "    <tr>\n",
       "      <th>4</th>\n",
       "      <td>AUFDENBLATTEN, Adolf</td>\n",
       "      <td>Gold</td>\n",
       "      <td>NaN</td>\n",
       "    </tr>\n",
       "    <tr>\n",
       "      <th>...</th>\n",
       "      <td>...</td>\n",
       "      <td>...</td>\n",
       "      <td>...</td>\n",
       "    </tr>\n",
       "    <tr>\n",
       "      <th>36912</th>\n",
       "      <td>JANIKOWSKI, Damian</td>\n",
       "      <td>NaN</td>\n",
       "      <td>Bronze</td>\n",
       "    </tr>\n",
       "    <tr>\n",
       "      <th>36913</th>\n",
       "      <td>REZAEI, Ghasem Gholamreza</td>\n",
       "      <td>NaN</td>\n",
       "      <td>Gold</td>\n",
       "    </tr>\n",
       "    <tr>\n",
       "      <th>36914</th>\n",
       "      <td>TOTROV, Rustam</td>\n",
       "      <td>NaN</td>\n",
       "      <td>Silver</td>\n",
       "    </tr>\n",
       "    <tr>\n",
       "      <th>36915</th>\n",
       "      <td>ALEKSANYAN, Artur</td>\n",
       "      <td>NaN</td>\n",
       "      <td>Bronze</td>\n",
       "    </tr>\n",
       "    <tr>\n",
       "      <th>36916</th>\n",
       "      <td>LIDBERG, Jimmy</td>\n",
       "      <td>NaN</td>\n",
       "      <td>Bronze</td>\n",
       "    </tr>\n",
       "  </tbody>\n",
       "</table>\n",
       "<p>36917 rows × 3 columns</p>\n",
       "</div>"
      ],
      "text/plain": [
       "                         Athlete Medal_Winter Medal_Summer\n",
       "0                    BERTHET, G.       Bronze          NaN\n",
       "1                 MANDRILLON, C.       Bronze          NaN\n",
       "2            MANDRILLON, Maurice       Bronze          NaN\n",
       "3                VANDELLE, André       Bronze          NaN\n",
       "4           AUFDENBLATTEN, Adolf         Gold          NaN\n",
       "...                          ...          ...          ...\n",
       "36912         JANIKOWSKI, Damian          NaN       Bronze\n",
       "36913  REZAEI, Ghasem Gholamreza          NaN         Gold\n",
       "36914             TOTROV, Rustam          NaN       Silver\n",
       "36915          ALEKSANYAN, Artur          NaN       Bronze\n",
       "36916             LIDBERG, Jimmy          NaN       Bronze\n",
       "\n",
       "[36917 rows x 3 columns]"
      ]
     },
     "execution_count": 11,
     "metadata": {},
     "output_type": "execute_result"
    }
   ],
   "source": [
    "winter.merge(summer,how=\"outer\",on=\"Athlete\",suffixes=(\"_Winter\",\"_Summer\"))"
   ]
  },
  {
   "cell_type": "code",
   "execution_count": 12,
   "id": "4cb8448b",
   "metadata": {
    "execution": {
     "iopub.execute_input": "2022-08-10T11:10:26.173291Z",
     "iopub.status.busy": "2022-08-10T11:10:26.172973Z",
     "iopub.status.idle": "2022-08-10T11:10:26.221132Z",
     "shell.execute_reply": "2022-08-10T11:10:26.220257Z"
    },
    "papermill": {
     "duration": 0.05665,
     "end_time": "2022-08-10T11:10:26.222964",
     "exception": false,
     "start_time": "2022-08-10T11:10:26.166314",
     "status": "completed"
    },
    "tags": []
   },
   "outputs": [
    {
     "data": {
      "text/html": [
       "<div>\n",
       "<style scoped>\n",
       "    .dataframe tbody tr th:only-of-type {\n",
       "        vertical-align: middle;\n",
       "    }\n",
       "\n",
       "    .dataframe tbody tr th {\n",
       "        vertical-align: top;\n",
       "    }\n",
       "\n",
       "    .dataframe thead th {\n",
       "        text-align: right;\n",
       "    }\n",
       "</style>\n",
       "<table border=\"1\" class=\"dataframe\">\n",
       "  <thead>\n",
       "    <tr style=\"text-align: right;\">\n",
       "      <th></th>\n",
       "      <th>Athlete</th>\n",
       "      <th>Medal_Winter</th>\n",
       "      <th>Medal_Summer</th>\n",
       "      <th>_merge</th>\n",
       "    </tr>\n",
       "  </thead>\n",
       "  <tbody>\n",
       "    <tr>\n",
       "      <th>0</th>\n",
       "      <td>BERTHET, G.</td>\n",
       "      <td>Bronze</td>\n",
       "      <td>NaN</td>\n",
       "      <td>left_only</td>\n",
       "    </tr>\n",
       "    <tr>\n",
       "      <th>1</th>\n",
       "      <td>MANDRILLON, C.</td>\n",
       "      <td>Bronze</td>\n",
       "      <td>NaN</td>\n",
       "      <td>left_only</td>\n",
       "    </tr>\n",
       "    <tr>\n",
       "      <th>2</th>\n",
       "      <td>MANDRILLON, Maurice</td>\n",
       "      <td>Bronze</td>\n",
       "      <td>NaN</td>\n",
       "      <td>left_only</td>\n",
       "    </tr>\n",
       "    <tr>\n",
       "      <th>3</th>\n",
       "      <td>VANDELLE, André</td>\n",
       "      <td>Bronze</td>\n",
       "      <td>NaN</td>\n",
       "      <td>left_only</td>\n",
       "    </tr>\n",
       "    <tr>\n",
       "      <th>4</th>\n",
       "      <td>AUFDENBLATTEN, Adolf</td>\n",
       "      <td>Gold</td>\n",
       "      <td>NaN</td>\n",
       "      <td>left_only</td>\n",
       "    </tr>\n",
       "    <tr>\n",
       "      <th>...</th>\n",
       "      <td>...</td>\n",
       "      <td>...</td>\n",
       "      <td>...</td>\n",
       "      <td>...</td>\n",
       "    </tr>\n",
       "    <tr>\n",
       "      <th>36912</th>\n",
       "      <td>JANIKOWSKI, Damian</td>\n",
       "      <td>NaN</td>\n",
       "      <td>Bronze</td>\n",
       "      <td>right_only</td>\n",
       "    </tr>\n",
       "    <tr>\n",
       "      <th>36913</th>\n",
       "      <td>REZAEI, Ghasem Gholamreza</td>\n",
       "      <td>NaN</td>\n",
       "      <td>Gold</td>\n",
       "      <td>right_only</td>\n",
       "    </tr>\n",
       "    <tr>\n",
       "      <th>36914</th>\n",
       "      <td>TOTROV, Rustam</td>\n",
       "      <td>NaN</td>\n",
       "      <td>Silver</td>\n",
       "      <td>right_only</td>\n",
       "    </tr>\n",
       "    <tr>\n",
       "      <th>36915</th>\n",
       "      <td>ALEKSANYAN, Artur</td>\n",
       "      <td>NaN</td>\n",
       "      <td>Bronze</td>\n",
       "      <td>right_only</td>\n",
       "    </tr>\n",
       "    <tr>\n",
       "      <th>36916</th>\n",
       "      <td>LIDBERG, Jimmy</td>\n",
       "      <td>NaN</td>\n",
       "      <td>Bronze</td>\n",
       "      <td>right_only</td>\n",
       "    </tr>\n",
       "  </tbody>\n",
       "</table>\n",
       "<p>36917 rows × 4 columns</p>\n",
       "</div>"
      ],
      "text/plain": [
       "                         Athlete Medal_Winter Medal_Summer      _merge\n",
       "0                    BERTHET, G.       Bronze          NaN   left_only\n",
       "1                 MANDRILLON, C.       Bronze          NaN   left_only\n",
       "2            MANDRILLON, Maurice       Bronze          NaN   left_only\n",
       "3                VANDELLE, André       Bronze          NaN   left_only\n",
       "4           AUFDENBLATTEN, Adolf         Gold          NaN   left_only\n",
       "...                          ...          ...          ...         ...\n",
       "36912         JANIKOWSKI, Damian          NaN       Bronze  right_only\n",
       "36913  REZAEI, Ghasem Gholamreza          NaN         Gold  right_only\n",
       "36914             TOTROV, Rustam          NaN       Silver  right_only\n",
       "36915          ALEKSANYAN, Artur          NaN       Bronze  right_only\n",
       "36916             LIDBERG, Jimmy          NaN       Bronze  right_only\n",
       "\n",
       "[36917 rows x 4 columns]"
      ]
     },
     "execution_count": 12,
     "metadata": {},
     "output_type": "execute_result"
    }
   ],
   "source": [
    "winter.merge(summer,how=\"outer\",on=\"Athlete\",suffixes=(\"_Winter\",\"_Summer\"),indicator=True)"
   ]
  },
  {
   "cell_type": "code",
   "execution_count": 13,
   "id": "1fc121b0",
   "metadata": {
    "execution": {
     "iopub.execute_input": "2022-08-10T11:10:26.235581Z",
     "iopub.status.busy": "2022-08-10T11:10:26.235017Z",
     "iopub.status.idle": "2022-08-10T11:10:26.264326Z",
     "shell.execute_reply": "2022-08-10T11:10:26.263657Z"
    },
    "papermill": {
     "duration": 0.037702,
     "end_time": "2022-08-10T11:10:26.266381",
     "exception": false,
     "start_time": "2022-08-10T11:10:26.228679",
     "status": "completed"
    },
    "tags": []
   },
   "outputs": [],
   "source": [
    "final = winter.merge(summer,how=\"outer\",on=\"Athlete\",suffixes=(\"_Winter\",\"_Summer\"),indicator=True)"
   ]
  },
  {
   "cell_type": "code",
   "execution_count": 14,
   "id": "ae48e6f4",
   "metadata": {
    "execution": {
     "iopub.execute_input": "2022-08-10T11:10:26.278743Z",
     "iopub.status.busy": "2022-08-10T11:10:26.278237Z",
     "iopub.status.idle": "2022-08-10T11:10:26.284982Z",
     "shell.execute_reply": "2022-08-10T11:10:26.284324Z"
    },
    "papermill": {
     "duration": 0.014538,
     "end_time": "2022-08-10T11:10:26.286595",
     "exception": false,
     "start_time": "2022-08-10T11:10:26.272057",
     "status": "completed"
    },
    "tags": []
   },
   "outputs": [
    {
     "data": {
      "text/plain": [
       "right_only    31130\n",
       "left_only      5717\n",
       "both             70\n",
       "Name: _merge, dtype: int64"
      ]
     },
     "execution_count": 14,
     "metadata": {},
     "output_type": "execute_result"
    }
   ],
   "source": [
    "final._merge.value_counts()"
   ]
  }
 ],
 "metadata": {
  "kernelspec": {
   "display_name": "Python 3",
   "language": "python",
   "name": "python3"
  },
  "language_info": {
   "codemirror_mode": {
    "name": "ipython",
    "version": 3
   },
   "file_extension": ".py",
   "mimetype": "text/x-python",
   "name": "python",
   "nbconvert_exporter": "python",
   "pygments_lexer": "ipython3",
   "version": "3.7.12"
  },
  "papermill": {
   "default_parameters": {},
   "duration": 9.16435,
   "end_time": "2022-08-10T11:10:26.911038",
   "environment_variables": {},
   "exception": null,
   "input_path": "__notebook__.ipynb",
   "output_path": "__notebook__.ipynb",
   "parameters": {},
   "start_time": "2022-08-10T11:10:17.746688",
   "version": "2.3.4"
  }
 },
 "nbformat": 4,
 "nbformat_minor": 5
}
