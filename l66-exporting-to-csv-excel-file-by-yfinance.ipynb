{
 "cells": [
  {
   "cell_type": "code",
   "execution_count": 1,
   "id": "fbbcd122",
   "metadata": {
    "_cell_guid": "b1076dfc-b9ad-4769-8c92-a6c4dae69d19",
    "_uuid": "8f2839f25d086af736a60e9eeb907d3b93b6e0e5",
    "execution": {
     "iopub.execute_input": "2022-04-08T08:55:39.059119Z",
     "iopub.status.busy": "2022-04-08T08:55:39.058510Z",
     "iopub.status.idle": "2022-04-08T08:55:39.066069Z",
     "shell.execute_reply": "2022-04-08T08:55:39.066554Z",
     "shell.execute_reply.started": "2022-04-08T08:30:07.427587Z"
    },
    "papermill": {
     "duration": 0.030455,
     "end_time": "2022-04-08T08:55:39.066856",
     "exception": false,
     "start_time": "2022-04-08T08:55:39.036401",
     "status": "completed"
    },
    "tags": []
   },
   "outputs": [],
   "source": [
    "# This Python 3 environment comes with many helpful analytics libraries installed\n",
    "# It is defined by the kaggle/python Docker image: https://github.com/kaggle/docker-python\n",
    "# For example, here's several helpful packages to load\n",
    "\n",
    "import numpy as np # linear algebra\n",
    "import pandas as pd # data processing, CSV file I/O (e.g. pd.read_csv)\n",
    "\n",
    "# Input data files are available in the read-only \"../input/\" directory\n",
    "# For example, running this (by clicking run or pressing Shift+Enter) will list all files under the input directory\n",
    "\n",
    "import os\n",
    "for dirname, _, filenames in os.walk('/kaggle/input'):\n",
    "    for filename in filenames:\n",
    "        print(os.path.join(dirname, filename))\n",
    "\n",
    "# You can write up to 20GB to the current directory (/kaggle/working/) that gets preserved as output when you create a version using \"Save & Run All\" \n",
    "# You can also write temporary files to /kaggle/temp/, but they won't be saved outside of the current session"
   ]
  },
  {
   "cell_type": "code",
   "execution_count": 2,
   "id": "afe15961",
   "metadata": {
    "execution": {
     "iopub.execute_input": "2022-04-08T08:55:39.101631Z",
     "iopub.status.busy": "2022-04-08T08:55:39.100970Z",
     "iopub.status.idle": "2022-04-08T08:55:54.008632Z",
     "shell.execute_reply": "2022-04-08T08:55:54.007952Z",
     "shell.execute_reply.started": "2022-04-08T08:30:07.436550Z"
    },
    "papermill": {
     "duration": 14.923511,
     "end_time": "2022-04-08T08:55:54.008766",
     "exception": false,
     "start_time": "2022-04-08T08:55:39.085255",
     "status": "completed"
    },
    "tags": []
   },
   "outputs": [
    {
     "name": "stdout",
     "output_type": "stream",
     "text": [
      "Collecting yfinance\r\n",
      "  Downloading yfinance-0.1.70-py2.py3-none-any.whl (26 kB)\r\n",
      "Requirement already satisfied: pandas>=0.24.0 in /opt/conda/lib/python3.7/site-packages (from yfinance) (1.3.5)\r\n",
      "Requirement already satisfied: requests>=2.26 in /opt/conda/lib/python3.7/site-packages (from yfinance) (2.26.0)\r\n",
      "Requirement already satisfied: numpy>=1.15 in /opt/conda/lib/python3.7/site-packages (from yfinance) (1.20.3)\r\n",
      "Collecting multitasking>=0.0.7\r\n",
      "  Downloading multitasking-0.0.10.tar.gz (8.2 kB)\r\n",
      "  Preparing metadata (setup.py) ... \u001b[?25l-\b \bdone\r\n",
      "\u001b[?25hRequirement already satisfied: lxml>=4.5.1 in /opt/conda/lib/python3.7/site-packages (from yfinance) (4.8.0)\r\n",
      "Requirement already satisfied: python-dateutil>=2.7.3 in /opt/conda/lib/python3.7/site-packages (from pandas>=0.24.0->yfinance) (2.8.2)\r\n",
      "Requirement already satisfied: pytz>=2017.3 in /opt/conda/lib/python3.7/site-packages (from pandas>=0.24.0->yfinance) (2021.3)\r\n",
      "Requirement already satisfied: charset-normalizer~=2.0.0 in /opt/conda/lib/python3.7/site-packages (from requests>=2.26->yfinance) (2.0.9)\r\n",
      "Requirement already satisfied: urllib3<1.27,>=1.21.1 in /opt/conda/lib/python3.7/site-packages (from requests>=2.26->yfinance) (1.26.7)\r\n",
      "Requirement already satisfied: idna<4,>=2.5 in /opt/conda/lib/python3.7/site-packages (from requests>=2.26->yfinance) (3.1)\r\n",
      "Requirement already satisfied: certifi>=2017.4.17 in /opt/conda/lib/python3.7/site-packages (from requests>=2.26->yfinance) (2021.10.8)\r\n",
      "Requirement already satisfied: six>=1.5 in /opt/conda/lib/python3.7/site-packages (from python-dateutil>=2.7.3->pandas>=0.24.0->yfinance) (1.16.0)\r\n",
      "Building wheels for collected packages: multitasking\r\n",
      "  Building wheel for multitasking (setup.py) ... \u001b[?25l-\b \b\\\b \bdone\r\n",
      "\u001b[?25h  Created wheel for multitasking: filename=multitasking-0.0.10-py3-none-any.whl size=8500 sha256=9ddae77b0433fe789fa3e611198da82e89b38fd448b41ef9e1d17d6a3723dbb2\r\n",
      "  Stored in directory: /root/.cache/pip/wheels/34/ba/79/c0260c6f1a03f420ec7673eff9981778f293b9107974679e36\r\n",
      "Successfully built multitasking\r\n",
      "Installing collected packages: multitasking, yfinance\r\n",
      "Successfully installed multitasking-0.0.10 yfinance-0.1.70\r\n",
      "\u001b[33mWARNING: Running pip as the 'root' user can result in broken permissions and conflicting behaviour with the system package manager. It is recommended to use a virtual environment instead: https://pip.pypa.io/warnings/venv\u001b[0m\r\n"
     ]
    }
   ],
   "source": [
    "!pip install yfinance"
   ]
  },
  {
   "cell_type": "code",
   "execution_count": 3,
   "id": "8bad3292",
   "metadata": {
    "execution": {
     "iopub.execute_input": "2022-04-08T08:55:54.054089Z",
     "iopub.status.busy": "2022-04-08T08:55:54.053447Z",
     "iopub.status.idle": "2022-04-08T08:55:54.066874Z",
     "shell.execute_reply": "2022-04-08T08:55:54.066187Z",
     "shell.execute_reply.started": "2022-04-08T08:30:19.996943Z"
    },
    "papermill": {
     "duration": 0.038319,
     "end_time": "2022-04-08T08:55:54.067010",
     "exception": false,
     "start_time": "2022-04-08T08:55:54.028691",
     "status": "completed"
    },
    "tags": []
   },
   "outputs": [],
   "source": [
    "import yfinance as yf"
   ]
  },
  {
   "cell_type": "code",
   "execution_count": 4,
   "id": "007417b3",
   "metadata": {
    "execution": {
     "iopub.execute_input": "2022-04-08T08:55:54.110406Z",
     "iopub.status.busy": "2022-04-08T08:55:54.109714Z",
     "iopub.status.idle": "2022-04-08T08:55:54.112662Z",
     "shell.execute_reply": "2022-04-08T08:55:54.112095Z",
     "shell.execute_reply.started": "2022-04-08T08:44:37.654479Z"
    },
    "papermill": {
     "duration": 0.026693,
     "end_time": "2022-04-08T08:55:54.112802",
     "exception": false,
     "start_time": "2022-04-08T08:55:54.086109",
     "status": "completed"
    },
    "tags": []
   },
   "outputs": [],
   "source": [
    "#setting the ticker\n",
    "ticker=\"aapl\""
   ]
  },
  {
   "cell_type": "code",
   "execution_count": 5,
   "id": "942997a9",
   "metadata": {
    "execution": {
     "iopub.execute_input": "2022-04-08T08:55:54.163843Z",
     "iopub.status.busy": "2022-04-08T08:55:54.163128Z",
     "iopub.status.idle": "2022-04-08T08:55:54.912010Z",
     "shell.execute_reply": "2022-04-08T08:55:54.911375Z",
     "shell.execute_reply.started": "2022-04-08T08:44:42.091387Z"
    },
    "papermill": {
     "duration": 0.779961,
     "end_time": "2022-04-08T08:55:54.912142",
     "exception": false,
     "start_time": "2022-04-08T08:55:54.132181",
     "status": "completed"
    },
    "tags": []
   },
   "outputs": [
    {
     "name": "stdout",
     "output_type": "stream",
     "text": [
      "[*********************100%***********************]  1 of 1 completed\n"
     ]
    }
   ],
   "source": [
    "#creating a dataframe by fetching the data \n",
    "df=yf.download(ticker,period=\"10y\",actions=True)"
   ]
  },
  {
   "cell_type": "code",
   "execution_count": 6,
   "id": "774f2fa2",
   "metadata": {
    "execution": {
     "iopub.execute_input": "2022-04-08T08:55:54.956831Z",
     "iopub.status.busy": "2022-04-08T08:55:54.956117Z",
     "iopub.status.idle": "2022-04-08T08:55:54.985792Z",
     "shell.execute_reply": "2022-04-08T08:55:54.986312Z",
     "shell.execute_reply.started": "2022-04-08T08:44:45.645057Z"
    },
    "papermill": {
     "duration": 0.053891,
     "end_time": "2022-04-08T08:55:54.986482",
     "exception": false,
     "start_time": "2022-04-08T08:55:54.932591",
     "status": "completed"
    },
    "tags": []
   },
   "outputs": [
    {
     "data": {
      "text/html": [
       "<div>\n",
       "<style scoped>\n",
       "    .dataframe tbody tr th:only-of-type {\n",
       "        vertical-align: middle;\n",
       "    }\n",
       "\n",
       "    .dataframe tbody tr th {\n",
       "        vertical-align: top;\n",
       "    }\n",
       "\n",
       "    .dataframe thead th {\n",
       "        text-align: right;\n",
       "    }\n",
       "</style>\n",
       "<table border=\"1\" class=\"dataframe\">\n",
       "  <thead>\n",
       "    <tr style=\"text-align: right;\">\n",
       "      <th></th>\n",
       "      <th>Open</th>\n",
       "      <th>High</th>\n",
       "      <th>Low</th>\n",
       "      <th>Close</th>\n",
       "      <th>Adj Close</th>\n",
       "      <th>Volume</th>\n",
       "      <th>Dividends</th>\n",
       "      <th>Stock Splits</th>\n",
       "    </tr>\n",
       "    <tr>\n",
       "      <th>Date</th>\n",
       "      <th></th>\n",
       "      <th></th>\n",
       "      <th></th>\n",
       "      <th></th>\n",
       "      <th></th>\n",
       "      <th></th>\n",
       "      <th></th>\n",
       "      <th></th>\n",
       "    </tr>\n",
       "  </thead>\n",
       "  <tbody>\n",
       "    <tr>\n",
       "      <th>2012-04-09</th>\n",
       "      <td>22.361786</td>\n",
       "      <td>22.851429</td>\n",
       "      <td>22.332144</td>\n",
       "      <td>22.722500</td>\n",
       "      <td>19.456694</td>\n",
       "      <td>597536800</td>\n",
       "      <td>0.0</td>\n",
       "      <td>0.0</td>\n",
       "    </tr>\n",
       "    <tr>\n",
       "      <th>2012-04-10</th>\n",
       "      <td>22.854643</td>\n",
       "      <td>23.000000</td>\n",
       "      <td>22.357143</td>\n",
       "      <td>22.444286</td>\n",
       "      <td>19.218470</td>\n",
       "      <td>889725200</td>\n",
       "      <td>0.0</td>\n",
       "      <td>0.0</td>\n",
       "    </tr>\n",
       "    <tr>\n",
       "      <th>2012-04-11</th>\n",
       "      <td>22.721430</td>\n",
       "      <td>22.745358</td>\n",
       "      <td>22.262142</td>\n",
       "      <td>22.364286</td>\n",
       "      <td>19.149965</td>\n",
       "      <td>696614800</td>\n",
       "      <td>0.0</td>\n",
       "      <td>0.0</td>\n",
       "    </tr>\n",
       "    <tr>\n",
       "      <th>2012-04-12</th>\n",
       "      <td>22.321428</td>\n",
       "      <td>22.547501</td>\n",
       "      <td>22.160713</td>\n",
       "      <td>22.241785</td>\n",
       "      <td>19.045069</td>\n",
       "      <td>614336800</td>\n",
       "      <td>0.0</td>\n",
       "      <td>0.0</td>\n",
       "    </tr>\n",
       "    <tr>\n",
       "      <th>2012-04-13</th>\n",
       "      <td>22.289642</td>\n",
       "      <td>22.310715</td>\n",
       "      <td>21.553928</td>\n",
       "      <td>21.615356</td>\n",
       "      <td>18.508677</td>\n",
       "      <td>859644800</td>\n",
       "      <td>0.0</td>\n",
       "      <td>0.0</td>\n",
       "    </tr>\n",
       "    <tr>\n",
       "      <th>...</th>\n",
       "      <td>...</td>\n",
       "      <td>...</td>\n",
       "      <td>...</td>\n",
       "      <td>...</td>\n",
       "      <td>...</td>\n",
       "      <td>...</td>\n",
       "      <td>...</td>\n",
       "      <td>...</td>\n",
       "    </tr>\n",
       "    <tr>\n",
       "      <th>2022-04-01</th>\n",
       "      <td>174.029999</td>\n",
       "      <td>174.880005</td>\n",
       "      <td>171.940002</td>\n",
       "      <td>174.309998</td>\n",
       "      <td>174.309998</td>\n",
       "      <td>78699800</td>\n",
       "      <td>0.0</td>\n",
       "      <td>0.0</td>\n",
       "    </tr>\n",
       "    <tr>\n",
       "      <th>2022-04-04</th>\n",
       "      <td>174.570007</td>\n",
       "      <td>178.490005</td>\n",
       "      <td>174.440002</td>\n",
       "      <td>178.440002</td>\n",
       "      <td>178.440002</td>\n",
       "      <td>76468400</td>\n",
       "      <td>0.0</td>\n",
       "      <td>0.0</td>\n",
       "    </tr>\n",
       "    <tr>\n",
       "      <th>2022-04-05</th>\n",
       "      <td>177.500000</td>\n",
       "      <td>178.300003</td>\n",
       "      <td>174.419998</td>\n",
       "      <td>175.059998</td>\n",
       "      <td>175.059998</td>\n",
       "      <td>73401800</td>\n",
       "      <td>0.0</td>\n",
       "      <td>0.0</td>\n",
       "    </tr>\n",
       "    <tr>\n",
       "      <th>2022-04-06</th>\n",
       "      <td>172.360001</td>\n",
       "      <td>173.630005</td>\n",
       "      <td>170.130005</td>\n",
       "      <td>171.830002</td>\n",
       "      <td>171.830002</td>\n",
       "      <td>89058800</td>\n",
       "      <td>0.0</td>\n",
       "      <td>0.0</td>\n",
       "    </tr>\n",
       "    <tr>\n",
       "      <th>2022-04-07</th>\n",
       "      <td>171.160004</td>\n",
       "      <td>173.360001</td>\n",
       "      <td>169.850006</td>\n",
       "      <td>172.139999</td>\n",
       "      <td>172.139999</td>\n",
       "      <td>77517700</td>\n",
       "      <td>0.0</td>\n",
       "      <td>0.0</td>\n",
       "    </tr>\n",
       "  </tbody>\n",
       "</table>\n",
       "<p>2518 rows × 8 columns</p>\n",
       "</div>"
      ],
      "text/plain": [
       "                  Open        High         Low       Close   Adj Close  \\\n",
       "Date                                                                     \n",
       "2012-04-09   22.361786   22.851429   22.332144   22.722500   19.456694   \n",
       "2012-04-10   22.854643   23.000000   22.357143   22.444286   19.218470   \n",
       "2012-04-11   22.721430   22.745358   22.262142   22.364286   19.149965   \n",
       "2012-04-12   22.321428   22.547501   22.160713   22.241785   19.045069   \n",
       "2012-04-13   22.289642   22.310715   21.553928   21.615356   18.508677   \n",
       "...                ...         ...         ...         ...         ...   \n",
       "2022-04-01  174.029999  174.880005  171.940002  174.309998  174.309998   \n",
       "2022-04-04  174.570007  178.490005  174.440002  178.440002  178.440002   \n",
       "2022-04-05  177.500000  178.300003  174.419998  175.059998  175.059998   \n",
       "2022-04-06  172.360001  173.630005  170.130005  171.830002  171.830002   \n",
       "2022-04-07  171.160004  173.360001  169.850006  172.139999  172.139999   \n",
       "\n",
       "               Volume  Dividends  Stock Splits  \n",
       "Date                                            \n",
       "2012-04-09  597536800        0.0           0.0  \n",
       "2012-04-10  889725200        0.0           0.0  \n",
       "2012-04-11  696614800        0.0           0.0  \n",
       "2012-04-12  614336800        0.0           0.0  \n",
       "2012-04-13  859644800        0.0           0.0  \n",
       "...               ...        ...           ...  \n",
       "2022-04-01   78699800        0.0           0.0  \n",
       "2022-04-04   76468400        0.0           0.0  \n",
       "2022-04-05   73401800        0.0           0.0  \n",
       "2022-04-06   89058800        0.0           0.0  \n",
       "2022-04-07   77517700        0.0           0.0  \n",
       "\n",
       "[2518 rows x 8 columns]"
      ]
     },
     "execution_count": 6,
     "metadata": {},
     "output_type": "execute_result"
    }
   ],
   "source": [
    "df"
   ]
  },
  {
   "cell_type": "code",
   "execution_count": 7,
   "id": "18bde4aa",
   "metadata": {
    "execution": {
     "iopub.execute_input": "2022-04-08T08:55:55.032314Z",
     "iopub.status.busy": "2022-04-08T08:55:55.031482Z",
     "iopub.status.idle": "2022-04-08T08:55:55.083680Z",
     "shell.execute_reply": "2022-04-08T08:55:55.083087Z",
     "shell.execute_reply.started": "2022-04-08T08:45:09.802472Z"
    },
    "papermill": {
     "duration": 0.076386,
     "end_time": "2022-04-08T08:55:55.083821",
     "exception": false,
     "start_time": "2022-04-08T08:55:55.007435",
     "status": "completed"
    },
    "tags": []
   },
   "outputs": [],
   "source": [
    "#exporting as a csv file\n",
    "df.to_csv(\"final.csv\")"
   ]
  },
  {
   "cell_type": "code",
   "execution_count": 8,
   "id": "0f5d9bdf",
   "metadata": {
    "execution": {
     "iopub.execute_input": "2022-04-08T08:55:55.135418Z",
     "iopub.status.busy": "2022-04-08T08:55:55.134497Z",
     "iopub.status.idle": "2022-04-08T08:56:06.358824Z",
     "shell.execute_reply": "2022-04-08T08:56:06.359328Z",
     "shell.execute_reply.started": "2022-04-08T08:47:47.563247Z"
    },
    "papermill": {
     "duration": 11.254569,
     "end_time": "2022-04-08T08:56:06.359500",
     "exception": false,
     "start_time": "2022-04-08T08:55:55.104931",
     "status": "completed"
    },
    "tags": []
   },
   "outputs": [
    {
     "name": "stdout",
     "output_type": "stream",
     "text": [
      "Collecting openpyxl\r\n",
      "  Downloading openpyxl-3.0.9-py2.py3-none-any.whl (242 kB)\r\n",
      "     |████████████████████████████████| 242 kB 587 kB/s            \r\n",
      "\u001b[?25hCollecting et-xmlfile\r\n",
      "  Downloading et_xmlfile-1.1.0-py3-none-any.whl (4.7 kB)\r\n",
      "Installing collected packages: et-xmlfile, openpyxl\r\n",
      "Successfully installed et-xmlfile-1.1.0 openpyxl-3.0.9\r\n",
      "\u001b[33mWARNING: Running pip as the 'root' user can result in broken permissions and conflicting behaviour with the system package manager. It is recommended to use a virtual environment instead: https://pip.pypa.io/warnings/venv\u001b[0m\r\n"
     ]
    }
   ],
   "source": [
    "!pip install openpyxl"
   ]
  },
  {
   "cell_type": "code",
   "execution_count": 9,
   "id": "9cf85aff",
   "metadata": {
    "execution": {
     "iopub.execute_input": "2022-04-08T08:56:06.417386Z",
     "iopub.status.busy": "2022-04-08T08:56:06.416695Z",
     "iopub.status.idle": "2022-04-08T08:56:07.792723Z",
     "shell.execute_reply": "2022-04-08T08:56:07.792027Z",
     "shell.execute_reply.started": "2022-04-08T08:48:37.538009Z"
    },
    "papermill": {
     "duration": 1.406941,
     "end_time": "2022-04-08T08:56:07.792920",
     "exception": false,
     "start_time": "2022-04-08T08:56:06.385979",
     "status": "completed"
    },
    "tags": []
   },
   "outputs": [],
   "source": [
    "#exporting as a excel file\n",
    "df.to_excel(\"final.xlsx\")"
   ]
  }
 ],
 "metadata": {
  "kernelspec": {
   "display_name": "Python 3",
   "language": "python",
   "name": "python3"
  },
  "language_info": {
   "codemirror_mode": {
    "name": "ipython",
    "version": 3
   },
   "file_extension": ".py",
   "mimetype": "text/x-python",
   "name": "python",
   "nbconvert_exporter": "python",
   "pygments_lexer": "ipython3",
   "version": "3.7.12"
  },
  "papermill": {
   "default_parameters": {},
   "duration": 41.735427,
   "end_time": "2022-04-08T08:56:08.733932",
   "environment_variables": {},
   "exception": null,
   "input_path": "__notebook__.ipynb",
   "output_path": "__notebook__.ipynb",
   "parameters": {},
   "start_time": "2022-04-08T08:55:26.998505",
   "version": "2.3.3"
  }
 },
 "nbformat": 4,
 "nbformat_minor": 5
}
