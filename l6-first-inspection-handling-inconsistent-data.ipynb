{
 "cells": [
  {
   "cell_type": "markdown",
   "id": "d368370e",
   "metadata": {
    "papermill": {
     "duration": 0.049034,
     "end_time": "2022-03-02T07:58:51.854700",
     "exception": false,
     "start_time": "2022-03-02T07:58:51.805666",
     "status": "completed"
    },
    "tags": []
   },
   "source": [
    "# Introduction \n",
    "\n",
    "Hi Folks,\n",
    "We are starting the Full DataFlow Journey in which we are covering everything like ​​Importing Data, Cleaning Data, Merging, Joining, and Concatenating Data, GroupBy Operations, Reshaping and Pivoting DataFrames, Data Preparation and Feature Creation, etc.<br><br>\n",
    "\n",
    "### Lecture Agenda\n",
    "In this particular lecture we are going to learn what are the initial steps which needs to be taken in order to get an initial idea of the data\n",
    "\n",
    "#### Technologies Used\n",
    "Python, Pandas\n",
    "\n",
    "\n",
    "### Data Used\n",
    "Data Professionals Salary - 2022\n",
    "Salaries of Data Scientists, ML Engineers, Data Analysts, Data Engineers in 2022\n",
    "\n",
    "### Getting Started\n",
    "\n",
    "1. What ar the initial steps which can be taken?\n",
    "Their are many steps which can be taken in order to inspect the data but it depends on the user how deeply they wwant to study the data. In this notebook we are going to perform some basic operations which needs to be performed to inspect the given data \n"
   ]
  },
  {
   "cell_type": "code",
   "execution_count": 1,
   "id": "b6508b2d",
   "metadata": {
    "_cell_guid": "b1076dfc-b9ad-4769-8c92-a6c4dae69d19",
    "_uuid": "8f2839f25d086af736a60e9eeb907d3b93b6e0e5",
    "execution": {
     "iopub.execute_input": "2022-03-02T07:58:51.967953Z",
     "iopub.status.busy": "2022-03-02T07:58:51.967101Z",
     "iopub.status.idle": "2022-03-02T07:58:51.990765Z",
     "shell.execute_reply": "2022-03-02T07:58:51.991588Z",
     "shell.execute_reply.started": "2022-03-02T07:51:23.167110Z"
    },
    "papermill": {
     "duration": 0.087694,
     "end_time": "2022-03-02T07:58:51.992034",
     "exception": false,
     "start_time": "2022-03-02T07:58:51.904340",
     "status": "completed"
    },
    "tags": []
   },
   "outputs": [
    {
     "name": "stdout",
     "output_type": "stream",
     "text": [
      "/kaggle/input/analytics-industry-salaries-2022-india/info.txt\n",
      "/kaggle/input/analytics-industry-salaries-2022-india/Salary Dataset.csv\n",
      "/kaggle/input/shark-tank-india-dataset/Shark Tank India Dataset.csv\n"
     ]
    }
   ],
   "source": [
    "# This Python 3 environment comes with many helpful analytics libraries installed\n",
    "# It is defined by the kaggle/python Docker image: https://github.com/kaggle/docker-python\n",
    "# For example, here's several helpful packages to load\n",
    "\n",
    "import numpy as np # linear algebra\n",
    "import pandas as pd # data processing, CSV file I/O (e.g. pd.read_csv)\n",
    "\n",
    "# Input data files are available in the read-only \"../input/\" directory\n",
    "# For example, running this (by clicking run or pressing Shift+Enter) will list all files under the input directory\n",
    "\n",
    "import os\n",
    "for dirname, _, filenames in os.walk('/kaggle/input'):\n",
    "    for filename in filenames:\n",
    "        print(os.path.join(dirname, filename))\n",
    "\n",
    "# You can write up to 20GB to the current directory (/kaggle/working/) that gets preserved as output when you create a version using \"Save & Run All\" \n",
    "# You can also write temporary files to /kaggle/temp/, but they won't be saved outside of the current session"
   ]
  },
  {
   "cell_type": "code",
   "execution_count": 2,
   "id": "d19b6455",
   "metadata": {
    "execution": {
     "iopub.execute_input": "2022-03-02T07:58:52.096143Z",
     "iopub.status.busy": "2022-03-02T07:58:52.095432Z",
     "iopub.status.idle": "2022-03-02T07:58:52.120804Z",
     "shell.execute_reply": "2022-03-02T07:58:52.121440Z",
     "shell.execute_reply.started": "2022-03-02T07:32:14.890623Z"
    },
    "papermill": {
     "duration": 0.079945,
     "end_time": "2022-03-02T07:58:52.121639",
     "exception": false,
     "start_time": "2022-03-02T07:58:52.041694",
     "status": "completed"
    },
    "tags": []
   },
   "outputs": [],
   "source": [
    "df=pd.read_csv(\"../input/analytics-industry-salaries-2022-india/Salary Dataset.csv\")"
   ]
  },
  {
   "cell_type": "code",
   "execution_count": 3,
   "id": "f4690024",
   "metadata": {
    "execution": {
     "iopub.execute_input": "2022-03-02T07:58:52.221941Z",
     "iopub.status.busy": "2022-03-02T07:58:52.220882Z",
     "iopub.status.idle": "2022-03-02T07:58:52.252355Z",
     "shell.execute_reply": "2022-03-02T07:58:52.252935Z",
     "shell.execute_reply.started": "2022-03-02T07:32:14.919844Z"
    },
    "papermill": {
     "duration": 0.083366,
     "end_time": "2022-03-02T07:58:52.253158",
     "exception": false,
     "start_time": "2022-03-02T07:58:52.169792",
     "status": "completed"
    },
    "tags": []
   },
   "outputs": [
    {
     "data": {
      "text/html": [
       "<div>\n",
       "<style scoped>\n",
       "    .dataframe tbody tr th:only-of-type {\n",
       "        vertical-align: middle;\n",
       "    }\n",
       "\n",
       "    .dataframe tbody tr th {\n",
       "        vertical-align: top;\n",
       "    }\n",
       "\n",
       "    .dataframe thead th {\n",
       "        text-align: right;\n",
       "    }\n",
       "</style>\n",
       "<table border=\"1\" class=\"dataframe\">\n",
       "  <thead>\n",
       "    <tr style=\"text-align: right;\">\n",
       "      <th></th>\n",
       "      <th>Company Name</th>\n",
       "      <th>Job Title</th>\n",
       "      <th>Salaries Reported</th>\n",
       "      <th>Location</th>\n",
       "      <th>Salary</th>\n",
       "    </tr>\n",
       "  </thead>\n",
       "  <tbody>\n",
       "    <tr>\n",
       "      <th>0</th>\n",
       "      <td>Mu Sigma</td>\n",
       "      <td>Data Scientist</td>\n",
       "      <td>105.0</td>\n",
       "      <td>Bangalore</td>\n",
       "      <td>₹6,48,573/yr</td>\n",
       "    </tr>\n",
       "    <tr>\n",
       "      <th>1</th>\n",
       "      <td>IBM</td>\n",
       "      <td>Data Scientist</td>\n",
       "      <td>95.0</td>\n",
       "      <td>Bangalore</td>\n",
       "      <td>₹11,91,950/yr</td>\n",
       "    </tr>\n",
       "    <tr>\n",
       "      <th>2</th>\n",
       "      <td>Tata Consultancy Services</td>\n",
       "      <td>Data Scientist</td>\n",
       "      <td>66.0</td>\n",
       "      <td>Bangalore</td>\n",
       "      <td>₹8,36,874/yr</td>\n",
       "    </tr>\n",
       "    <tr>\n",
       "      <th>3</th>\n",
       "      <td>Impact Analytics</td>\n",
       "      <td>Data Scientist</td>\n",
       "      <td>40.0</td>\n",
       "      <td>Bangalore</td>\n",
       "      <td>₹6,69,578/yr</td>\n",
       "    </tr>\n",
       "    <tr>\n",
       "      <th>4</th>\n",
       "      <td>Accenture</td>\n",
       "      <td>Data Scientist</td>\n",
       "      <td>32.0</td>\n",
       "      <td>Bangalore</td>\n",
       "      <td>₹9,44,110/yr</td>\n",
       "    </tr>\n",
       "    <tr>\n",
       "      <th>...</th>\n",
       "      <td>...</td>\n",
       "      <td>...</td>\n",
       "      <td>...</td>\n",
       "      <td>...</td>\n",
       "      <td>...</td>\n",
       "    </tr>\n",
       "    <tr>\n",
       "      <th>4339</th>\n",
       "      <td>TaiyōAI</td>\n",
       "      <td>Machine Learning Scientist</td>\n",
       "      <td>1.0</td>\n",
       "      <td>Mumbai</td>\n",
       "      <td>₹5,180/mo</td>\n",
       "    </tr>\n",
       "    <tr>\n",
       "      <th>4340</th>\n",
       "      <td>Decimal Point Analytics</td>\n",
       "      <td>Machine Learning Developer</td>\n",
       "      <td>1.0</td>\n",
       "      <td>Mumbai</td>\n",
       "      <td>₹7,51,286/yr</td>\n",
       "    </tr>\n",
       "    <tr>\n",
       "      <th>4341</th>\n",
       "      <td>MyWays</td>\n",
       "      <td>Machine Learning Developer</td>\n",
       "      <td>1.0</td>\n",
       "      <td>Mumbai</td>\n",
       "      <td>₹4,10,952/yr</td>\n",
       "    </tr>\n",
       "    <tr>\n",
       "      <th>4342</th>\n",
       "      <td>Market Pulse Technologies</td>\n",
       "      <td>Software Engineer - Machine Learning</td>\n",
       "      <td>1.0</td>\n",
       "      <td>Mumbai</td>\n",
       "      <td>₹16,12,324/yr</td>\n",
       "    </tr>\n",
       "    <tr>\n",
       "      <th>4343</th>\n",
       "      <td>vPhrase</td>\n",
       "      <td>Machine Learning Engineer</td>\n",
       "      <td>1.0</td>\n",
       "      <td>Mumbai</td>\n",
       "      <td>₹9,39,843/yr</td>\n",
       "    </tr>\n",
       "  </tbody>\n",
       "</table>\n",
       "<p>4344 rows × 5 columns</p>\n",
       "</div>"
      ],
      "text/plain": [
       "                   Company Name                             Job Title  \\\n",
       "0                      Mu Sigma                        Data Scientist   \n",
       "1                           IBM                        Data Scientist   \n",
       "2     Tata Consultancy Services                        Data Scientist   \n",
       "3              Impact Analytics                        Data Scientist   \n",
       "4                     Accenture                        Data Scientist   \n",
       "...                         ...                                   ...   \n",
       "4339                    TaiyōAI            Machine Learning Scientist   \n",
       "4340    Decimal Point Analytics            Machine Learning Developer   \n",
       "4341                     MyWays            Machine Learning Developer   \n",
       "4342  Market Pulse Technologies  Software Engineer - Machine Learning   \n",
       "4343                    vPhrase             Machine Learning Engineer   \n",
       "\n",
       "      Salaries Reported   Location         Salary  \n",
       "0                 105.0  Bangalore   ₹6,48,573/yr  \n",
       "1                  95.0  Bangalore  ₹11,91,950/yr  \n",
       "2                  66.0  Bangalore   ₹8,36,874/yr  \n",
       "3                  40.0  Bangalore   ₹6,69,578/yr  \n",
       "4                  32.0  Bangalore   ₹9,44,110/yr  \n",
       "...                 ...        ...            ...  \n",
       "4339                1.0     Mumbai      ₹5,180/mo  \n",
       "4340                1.0     Mumbai   ₹7,51,286/yr  \n",
       "4341                1.0     Mumbai   ₹4,10,952/yr  \n",
       "4342                1.0     Mumbai  ₹16,12,324/yr  \n",
       "4343                1.0     Mumbai   ₹9,39,843/yr  \n",
       "\n",
       "[4344 rows x 5 columns]"
      ]
     },
     "execution_count": 3,
     "metadata": {},
     "output_type": "execute_result"
    }
   ],
   "source": [
    "df"
   ]
  },
  {
   "cell_type": "markdown",
   "id": "935d60f8",
   "metadata": {
    "papermill": {
     "duration": 0.048015,
     "end_time": "2022-03-02T07:58:52.351923",
     "exception": false,
     "start_time": "2022-03-02T07:58:52.303908",
     "status": "completed"
    },
    "tags": []
   },
   "source": [
    "## Checking the head of the data .head()"
   ]
  },
  {
   "cell_type": "code",
   "execution_count": 4,
   "id": "01de701b",
   "metadata": {
    "execution": {
     "iopub.execute_input": "2022-03-02T07:58:52.463825Z",
     "iopub.status.busy": "2022-03-02T07:58:52.452435Z",
     "iopub.status.idle": "2022-03-02T07:58:52.466620Z",
     "shell.execute_reply": "2022-03-02T07:58:52.467165Z",
     "shell.execute_reply.started": "2022-03-02T07:32:14.953415Z"
    },
    "papermill": {
     "duration": 0.065967,
     "end_time": "2022-03-02T07:58:52.467384",
     "exception": false,
     "start_time": "2022-03-02T07:58:52.401417",
     "status": "completed"
    },
    "tags": []
   },
   "outputs": [
    {
     "data": {
      "text/html": [
       "<div>\n",
       "<style scoped>\n",
       "    .dataframe tbody tr th:only-of-type {\n",
       "        vertical-align: middle;\n",
       "    }\n",
       "\n",
       "    .dataframe tbody tr th {\n",
       "        vertical-align: top;\n",
       "    }\n",
       "\n",
       "    .dataframe thead th {\n",
       "        text-align: right;\n",
       "    }\n",
       "</style>\n",
       "<table border=\"1\" class=\"dataframe\">\n",
       "  <thead>\n",
       "    <tr style=\"text-align: right;\">\n",
       "      <th></th>\n",
       "      <th>Company Name</th>\n",
       "      <th>Job Title</th>\n",
       "      <th>Salaries Reported</th>\n",
       "      <th>Location</th>\n",
       "      <th>Salary</th>\n",
       "    </tr>\n",
       "  </thead>\n",
       "  <tbody>\n",
       "    <tr>\n",
       "      <th>0</th>\n",
       "      <td>Mu Sigma</td>\n",
       "      <td>Data Scientist</td>\n",
       "      <td>105.0</td>\n",
       "      <td>Bangalore</td>\n",
       "      <td>₹6,48,573/yr</td>\n",
       "    </tr>\n",
       "    <tr>\n",
       "      <th>1</th>\n",
       "      <td>IBM</td>\n",
       "      <td>Data Scientist</td>\n",
       "      <td>95.0</td>\n",
       "      <td>Bangalore</td>\n",
       "      <td>₹11,91,950/yr</td>\n",
       "    </tr>\n",
       "    <tr>\n",
       "      <th>2</th>\n",
       "      <td>Tata Consultancy Services</td>\n",
       "      <td>Data Scientist</td>\n",
       "      <td>66.0</td>\n",
       "      <td>Bangalore</td>\n",
       "      <td>₹8,36,874/yr</td>\n",
       "    </tr>\n",
       "    <tr>\n",
       "      <th>3</th>\n",
       "      <td>Impact Analytics</td>\n",
       "      <td>Data Scientist</td>\n",
       "      <td>40.0</td>\n",
       "      <td>Bangalore</td>\n",
       "      <td>₹6,69,578/yr</td>\n",
       "    </tr>\n",
       "    <tr>\n",
       "      <th>4</th>\n",
       "      <td>Accenture</td>\n",
       "      <td>Data Scientist</td>\n",
       "      <td>32.0</td>\n",
       "      <td>Bangalore</td>\n",
       "      <td>₹9,44,110/yr</td>\n",
       "    </tr>\n",
       "  </tbody>\n",
       "</table>\n",
       "</div>"
      ],
      "text/plain": [
       "                Company Name       Job Title  Salaries Reported   Location  \\\n",
       "0                   Mu Sigma  Data Scientist              105.0  Bangalore   \n",
       "1                        IBM  Data Scientist               95.0  Bangalore   \n",
       "2  Tata Consultancy Services  Data Scientist               66.0  Bangalore   \n",
       "3           Impact Analytics  Data Scientist               40.0  Bangalore   \n",
       "4                  Accenture  Data Scientist               32.0  Bangalore   \n",
       "\n",
       "          Salary  \n",
       "0   ₹6,48,573/yr  \n",
       "1  ₹11,91,950/yr  \n",
       "2   ₹8,36,874/yr  \n",
       "3   ₹6,69,578/yr  \n",
       "4   ₹9,44,110/yr  "
      ]
     },
     "execution_count": 4,
     "metadata": {},
     "output_type": "execute_result"
    }
   ],
   "source": [
    "df.head()"
   ]
  },
  {
   "cell_type": "markdown",
   "id": "636e1641",
   "metadata": {
    "papermill": {
     "duration": 0.048229,
     "end_time": "2022-03-02T07:58:52.566810",
     "exception": false,
     "start_time": "2022-03-02T07:58:52.518581",
     "status": "completed"
    },
    "tags": []
   },
   "source": [
    "## Checking the tail of the data .tail()"
   ]
  },
  {
   "cell_type": "code",
   "execution_count": 5,
   "id": "6723825c",
   "metadata": {
    "execution": {
     "iopub.execute_input": "2022-03-02T07:58:52.668721Z",
     "iopub.status.busy": "2022-03-02T07:58:52.668000Z",
     "iopub.status.idle": "2022-03-02T07:58:52.679698Z",
     "shell.execute_reply": "2022-03-02T07:58:52.680221Z",
     "shell.execute_reply.started": "2022-03-02T07:32:14.973122Z"
    },
    "papermill": {
     "duration": 0.065412,
     "end_time": "2022-03-02T07:58:52.680438",
     "exception": false,
     "start_time": "2022-03-02T07:58:52.615026",
     "status": "completed"
    },
    "tags": []
   },
   "outputs": [
    {
     "data": {
      "text/html": [
       "<div>\n",
       "<style scoped>\n",
       "    .dataframe tbody tr th:only-of-type {\n",
       "        vertical-align: middle;\n",
       "    }\n",
       "\n",
       "    .dataframe tbody tr th {\n",
       "        vertical-align: top;\n",
       "    }\n",
       "\n",
       "    .dataframe thead th {\n",
       "        text-align: right;\n",
       "    }\n",
       "</style>\n",
       "<table border=\"1\" class=\"dataframe\">\n",
       "  <thead>\n",
       "    <tr style=\"text-align: right;\">\n",
       "      <th></th>\n",
       "      <th>Company Name</th>\n",
       "      <th>Job Title</th>\n",
       "      <th>Salaries Reported</th>\n",
       "      <th>Location</th>\n",
       "      <th>Salary</th>\n",
       "    </tr>\n",
       "  </thead>\n",
       "  <tbody>\n",
       "    <tr>\n",
       "      <th>4339</th>\n",
       "      <td>TaiyōAI</td>\n",
       "      <td>Machine Learning Scientist</td>\n",
       "      <td>1.0</td>\n",
       "      <td>Mumbai</td>\n",
       "      <td>₹5,180/mo</td>\n",
       "    </tr>\n",
       "    <tr>\n",
       "      <th>4340</th>\n",
       "      <td>Decimal Point Analytics</td>\n",
       "      <td>Machine Learning Developer</td>\n",
       "      <td>1.0</td>\n",
       "      <td>Mumbai</td>\n",
       "      <td>₹7,51,286/yr</td>\n",
       "    </tr>\n",
       "    <tr>\n",
       "      <th>4341</th>\n",
       "      <td>MyWays</td>\n",
       "      <td>Machine Learning Developer</td>\n",
       "      <td>1.0</td>\n",
       "      <td>Mumbai</td>\n",
       "      <td>₹4,10,952/yr</td>\n",
       "    </tr>\n",
       "    <tr>\n",
       "      <th>4342</th>\n",
       "      <td>Market Pulse Technologies</td>\n",
       "      <td>Software Engineer - Machine Learning</td>\n",
       "      <td>1.0</td>\n",
       "      <td>Mumbai</td>\n",
       "      <td>₹16,12,324/yr</td>\n",
       "    </tr>\n",
       "    <tr>\n",
       "      <th>4343</th>\n",
       "      <td>vPhrase</td>\n",
       "      <td>Machine Learning Engineer</td>\n",
       "      <td>1.0</td>\n",
       "      <td>Mumbai</td>\n",
       "      <td>₹9,39,843/yr</td>\n",
       "    </tr>\n",
       "  </tbody>\n",
       "</table>\n",
       "</div>"
      ],
      "text/plain": [
       "                   Company Name                             Job Title  \\\n",
       "4339                    TaiyōAI            Machine Learning Scientist   \n",
       "4340    Decimal Point Analytics            Machine Learning Developer   \n",
       "4341                     MyWays            Machine Learning Developer   \n",
       "4342  Market Pulse Technologies  Software Engineer - Machine Learning   \n",
       "4343                    vPhrase             Machine Learning Engineer   \n",
       "\n",
       "      Salaries Reported Location         Salary  \n",
       "4339                1.0   Mumbai      ₹5,180/mo  \n",
       "4340                1.0   Mumbai   ₹7,51,286/yr  \n",
       "4341                1.0   Mumbai   ₹4,10,952/yr  \n",
       "4342                1.0   Mumbai  ₹16,12,324/yr  \n",
       "4343                1.0   Mumbai   ₹9,39,843/yr  "
      ]
     },
     "execution_count": 5,
     "metadata": {},
     "output_type": "execute_result"
    }
   ],
   "source": [
    "df.tail()"
   ]
  },
  {
   "cell_type": "markdown",
   "id": "62aede96",
   "metadata": {
    "papermill": {
     "duration": 0.048382,
     "end_time": "2022-03-02T07:58:52.776456",
     "exception": false,
     "start_time": "2022-03-02T07:58:52.728074",
     "status": "completed"
    },
    "tags": []
   },
   "source": [
    "## Checking the tail of the data .info()"
   ]
  },
  {
   "cell_type": "code",
   "execution_count": 6,
   "id": "a74af24a",
   "metadata": {
    "execution": {
     "iopub.execute_input": "2022-03-02T07:58:52.876085Z",
     "iopub.status.busy": "2022-03-02T07:58:52.874909Z",
     "iopub.status.idle": "2022-03-02T07:58:52.901484Z",
     "shell.execute_reply": "2022-03-02T07:58:52.900804Z",
     "shell.execute_reply.started": "2022-03-02T07:32:14.993207Z"
    },
    "papermill": {
     "duration": 0.077439,
     "end_time": "2022-03-02T07:58:52.901652",
     "exception": false,
     "start_time": "2022-03-02T07:58:52.824213",
     "status": "completed"
    },
    "tags": []
   },
   "outputs": [
    {
     "name": "stdout",
     "output_type": "stream",
     "text": [
      "<class 'pandas.core.frame.DataFrame'>\n",
      "RangeIndex: 4344 entries, 0 to 4343\n",
      "Data columns (total 5 columns):\n",
      " #   Column             Non-Null Count  Dtype  \n",
      "---  ------             --------------  -----  \n",
      " 0   Company Name       4341 non-null   object \n",
      " 1   Job Title          4344 non-null   object \n",
      " 2   Salaries Reported  4342 non-null   float64\n",
      " 3   Location           4344 non-null   object \n",
      " 4   Salary             4344 non-null   object \n",
      "dtypes: float64(1), object(4)\n",
      "memory usage: 169.8+ KB\n"
     ]
    }
   ],
   "source": [
    "df.info()"
   ]
  },
  {
   "cell_type": "markdown",
   "id": "a90d05fd",
   "metadata": {
    "papermill": {
     "duration": 0.047692,
     "end_time": "2022-03-02T07:58:52.997348",
     "exception": false,
     "start_time": "2022-03-02T07:58:52.949656",
     "status": "completed"
    },
    "tags": []
   },
   "source": [
    "Note: Using pd.info() method we now have some details regarding the dataset. Like we have the columns types, we have the count of column types, we have range index, we have memory used, etc."
   ]
  },
  {
   "cell_type": "markdown",
   "id": "d8de1bb3",
   "metadata": {
    "papermill": {
     "duration": 0.048069,
     "end_time": "2022-03-02T07:58:53.093513",
     "exception": false,
     "start_time": "2022-03-02T07:58:53.045444",
     "status": "completed"
    },
    "tags": []
   },
   "source": [
    "## Checking the stats of the data .describe()"
   ]
  },
  {
   "cell_type": "code",
   "execution_count": 7,
   "id": "bc1a6672",
   "metadata": {
    "execution": {
     "iopub.execute_input": "2022-03-02T07:58:53.198723Z",
     "iopub.status.busy": "2022-03-02T07:58:53.198018Z",
     "iopub.status.idle": "2022-03-02T07:58:53.214583Z",
     "shell.execute_reply": "2022-03-02T07:58:53.213913Z",
     "shell.execute_reply.started": "2022-03-02T07:32:15.02339Z"
    },
    "papermill": {
     "duration": 0.07151,
     "end_time": "2022-03-02T07:58:53.214815",
     "exception": false,
     "start_time": "2022-03-02T07:58:53.143305",
     "status": "completed"
    },
    "tags": []
   },
   "outputs": [
    {
     "data": {
      "text/html": [
       "<div>\n",
       "<style scoped>\n",
       "    .dataframe tbody tr th:only-of-type {\n",
       "        vertical-align: middle;\n",
       "    }\n",
       "\n",
       "    .dataframe tbody tr th {\n",
       "        vertical-align: top;\n",
       "    }\n",
       "\n",
       "    .dataframe thead th {\n",
       "        text-align: right;\n",
       "    }\n",
       "</style>\n",
       "<table border=\"1\" class=\"dataframe\">\n",
       "  <thead>\n",
       "    <tr style=\"text-align: right;\">\n",
       "      <th></th>\n",
       "      <th>Salaries Reported</th>\n",
       "    </tr>\n",
       "  </thead>\n",
       "  <tbody>\n",
       "    <tr>\n",
       "      <th>count</th>\n",
       "      <td>4342.000000</td>\n",
       "    </tr>\n",
       "    <tr>\n",
       "      <th>mean</th>\n",
       "      <td>2.775910</td>\n",
       "    </tr>\n",
       "    <tr>\n",
       "      <th>std</th>\n",
       "      <td>5.146527</td>\n",
       "    </tr>\n",
       "    <tr>\n",
       "      <th>min</th>\n",
       "      <td>1.000000</td>\n",
       "    </tr>\n",
       "    <tr>\n",
       "      <th>25%</th>\n",
       "      <td>1.000000</td>\n",
       "    </tr>\n",
       "    <tr>\n",
       "      <th>50%</th>\n",
       "      <td>1.000000</td>\n",
       "    </tr>\n",
       "    <tr>\n",
       "      <th>75%</th>\n",
       "      <td>3.000000</td>\n",
       "    </tr>\n",
       "    <tr>\n",
       "      <th>max</th>\n",
       "      <td>105.000000</td>\n",
       "    </tr>\n",
       "  </tbody>\n",
       "</table>\n",
       "</div>"
      ],
      "text/plain": [
       "       Salaries Reported\n",
       "count        4342.000000\n",
       "mean            2.775910\n",
       "std             5.146527\n",
       "min             1.000000\n",
       "25%             1.000000\n",
       "50%             1.000000\n",
       "75%             3.000000\n",
       "max           105.000000"
      ]
     },
     "execution_count": 7,
     "metadata": {},
     "output_type": "execute_result"
    }
   ],
   "source": [
    "df.describe()"
   ]
  },
  {
   "cell_type": "markdown",
   "id": "ea4efe75",
   "metadata": {
    "papermill": {
     "duration": 0.050059,
     "end_time": "2022-03-02T07:58:53.316070",
     "exception": false,
     "start_time": "2022-03-02T07:58:53.266011",
     "status": "completed"
    },
    "tags": []
   },
   "source": [
    "Note: the describe method is only showing the stats of numerical type column, we can also use the same method for non numberical type column but with a different style"
   ]
  },
  {
   "cell_type": "markdown",
   "id": "ead65b8a",
   "metadata": {
    "papermill": {
     "duration": 0.050476,
     "end_time": "2022-03-02T07:58:53.416422",
     "exception": false,
     "start_time": "2022-03-02T07:58:53.365946",
     "status": "completed"
    },
    "tags": []
   },
   "source": [
    "## Checking the stats of the non-numerical data .describe()"
   ]
  },
  {
   "cell_type": "code",
   "execution_count": 8,
   "id": "7e15ab18",
   "metadata": {
    "execution": {
     "iopub.execute_input": "2022-03-02T07:58:53.521802Z",
     "iopub.status.busy": "2022-03-02T07:58:53.520317Z",
     "iopub.status.idle": "2022-03-02T07:58:53.527125Z",
     "shell.execute_reply": "2022-03-02T07:58:53.527681Z",
     "shell.execute_reply.started": "2022-03-02T07:36:01.523245Z"
    },
    "papermill": {
     "duration": 0.061653,
     "end_time": "2022-03-02T07:58:53.527881",
     "exception": false,
     "start_time": "2022-03-02T07:58:53.466228",
     "status": "completed"
    },
    "tags": []
   },
   "outputs": [
    {
     "data": {
      "text/plain": [
       "Index(['Company Name', 'Job Title', 'Salaries Reported', 'Location', 'Salary'], dtype='object')"
      ]
     },
     "execution_count": 8,
     "metadata": {},
     "output_type": "execute_result"
    }
   ],
   "source": [
    "df.columns"
   ]
  },
  {
   "cell_type": "code",
   "execution_count": 9,
   "id": "5263719c",
   "metadata": {
    "execution": {
     "iopub.execute_input": "2022-03-02T07:58:53.636388Z",
     "iopub.status.busy": "2022-03-02T07:58:53.635311Z",
     "iopub.status.idle": "2022-03-02T07:58:53.661836Z",
     "shell.execute_reply": "2022-03-02T07:58:53.662532Z",
     "shell.execute_reply.started": "2022-03-02T07:38:17.603716Z"
    },
    "papermill": {
     "duration": 0.083761,
     "end_time": "2022-03-02T07:58:53.662720",
     "exception": false,
     "start_time": "2022-03-02T07:58:53.578959",
     "status": "completed"
    },
    "tags": []
   },
   "outputs": [
    {
     "data": {
      "text/html": [
       "<div>\n",
       "<style scoped>\n",
       "    .dataframe tbody tr th:only-of-type {\n",
       "        vertical-align: middle;\n",
       "    }\n",
       "\n",
       "    .dataframe tbody tr th {\n",
       "        vertical-align: top;\n",
       "    }\n",
       "\n",
       "    .dataframe thead th {\n",
       "        text-align: right;\n",
       "    }\n",
       "</style>\n",
       "<table border=\"1\" class=\"dataframe\">\n",
       "  <thead>\n",
       "    <tr style=\"text-align: right;\">\n",
       "      <th></th>\n",
       "      <th>Company Name</th>\n",
       "      <th>Job Title</th>\n",
       "      <th>Location</th>\n",
       "      <th>Salary</th>\n",
       "    </tr>\n",
       "  </thead>\n",
       "  <tbody>\n",
       "    <tr>\n",
       "      <th>count</th>\n",
       "      <td>4341</td>\n",
       "      <td>4344</td>\n",
       "      <td>4344</td>\n",
       "      <td>4344</td>\n",
       "    </tr>\n",
       "    <tr>\n",
       "      <th>unique</th>\n",
       "      <td>2529</td>\n",
       "      <td>26</td>\n",
       "      <td>5</td>\n",
       "      <td>3101</td>\n",
       "    </tr>\n",
       "    <tr>\n",
       "      <th>top</th>\n",
       "      <td>Tata Consultancy Services</td>\n",
       "      <td>Data Scientist</td>\n",
       "      <td>Bangalore</td>\n",
       "      <td>₹12,00,000/yr</td>\n",
       "    </tr>\n",
       "    <tr>\n",
       "      <th>freq</th>\n",
       "      <td>41</td>\n",
       "      <td>1844</td>\n",
       "      <td>1584</td>\n",
       "      <td>24</td>\n",
       "    </tr>\n",
       "  </tbody>\n",
       "</table>\n",
       "</div>"
      ],
      "text/plain": [
       "                     Company Name       Job Title   Location         Salary\n",
       "count                        4341            4344       4344           4344\n",
       "unique                       2529              26          5           3101\n",
       "top     Tata Consultancy Services  Data Scientist  Bangalore  ₹12,00,000/yr\n",
       "freq                           41            1844       1584             24"
      ]
     },
     "execution_count": 9,
     "metadata": {},
     "output_type": "execute_result"
    }
   ],
   "source": [
    "df[['Company Name', 'Job Title','Location', 'Salary']].describe()"
   ]
  },
  {
   "cell_type": "code",
   "execution_count": 10,
   "id": "44c3a165",
   "metadata": {
    "execution": {
     "iopub.execute_input": "2022-03-02T07:58:53.771179Z",
     "iopub.status.busy": "2022-03-02T07:58:53.770087Z",
     "iopub.status.idle": "2022-03-02T07:58:53.787147Z",
     "shell.execute_reply": "2022-03-02T07:58:53.787791Z",
     "shell.execute_reply.started": "2022-03-02T07:39:36.082137Z"
    },
    "papermill": {
     "duration": 0.074977,
     "end_time": "2022-03-02T07:58:53.787982",
     "exception": false,
     "start_time": "2022-03-02T07:58:53.713005",
     "status": "completed"
    },
    "tags": []
   },
   "outputs": [
    {
     "data": {
      "text/html": [
       "<div>\n",
       "<style scoped>\n",
       "    .dataframe tbody tr th:only-of-type {\n",
       "        vertical-align: middle;\n",
       "    }\n",
       "\n",
       "    .dataframe tbody tr th {\n",
       "        vertical-align: top;\n",
       "    }\n",
       "\n",
       "    .dataframe thead th {\n",
       "        text-align: right;\n",
       "    }\n",
       "</style>\n",
       "<table border=\"1\" class=\"dataframe\">\n",
       "  <thead>\n",
       "    <tr style=\"text-align: right;\">\n",
       "      <th></th>\n",
       "      <th>Salary</th>\n",
       "    </tr>\n",
       "  </thead>\n",
       "  <tbody>\n",
       "    <tr>\n",
       "      <th>count</th>\n",
       "      <td>4344</td>\n",
       "    </tr>\n",
       "    <tr>\n",
       "      <th>unique</th>\n",
       "      <td>3101</td>\n",
       "    </tr>\n",
       "    <tr>\n",
       "      <th>top</th>\n",
       "      <td>₹12,00,000/yr</td>\n",
       "    </tr>\n",
       "    <tr>\n",
       "      <th>freq</th>\n",
       "      <td>24</td>\n",
       "    </tr>\n",
       "  </tbody>\n",
       "</table>\n",
       "</div>"
      ],
      "text/plain": [
       "               Salary\n",
       "count            4344\n",
       "unique           3101\n",
       "top     ₹12,00,000/yr\n",
       "freq               24"
      ]
     },
     "execution_count": 10,
     "metadata": {},
     "output_type": "execute_result"
    }
   ],
   "source": [
    "df[['Salary']].describe()"
   ]
  },
  {
   "cell_type": "code",
   "execution_count": 11,
   "id": "ea4d0769",
   "metadata": {
    "execution": {
     "iopub.execute_input": "2022-03-02T07:58:53.896904Z",
     "iopub.status.busy": "2022-03-02T07:58:53.895861Z",
     "iopub.status.idle": "2022-03-02T07:58:53.913430Z",
     "shell.execute_reply": "2022-03-02T07:58:53.912670Z",
     "shell.execute_reply.started": "2022-03-02T07:39:53.837911Z"
    },
    "papermill": {
     "duration": 0.072892,
     "end_time": "2022-03-02T07:58:53.913593",
     "exception": false,
     "start_time": "2022-03-02T07:58:53.840701",
     "status": "completed"
    },
    "tags": []
   },
   "outputs": [
    {
     "data": {
      "text/html": [
       "<div>\n",
       "<style scoped>\n",
       "    .dataframe tbody tr th:only-of-type {\n",
       "        vertical-align: middle;\n",
       "    }\n",
       "\n",
       "    .dataframe tbody tr th {\n",
       "        vertical-align: top;\n",
       "    }\n",
       "\n",
       "    .dataframe thead th {\n",
       "        text-align: right;\n",
       "    }\n",
       "</style>\n",
       "<table border=\"1\" class=\"dataframe\">\n",
       "  <thead>\n",
       "    <tr style=\"text-align: right;\">\n",
       "      <th></th>\n",
       "      <th>Company Name</th>\n",
       "    </tr>\n",
       "  </thead>\n",
       "  <tbody>\n",
       "    <tr>\n",
       "      <th>count</th>\n",
       "      <td>4341</td>\n",
       "    </tr>\n",
       "    <tr>\n",
       "      <th>unique</th>\n",
       "      <td>2529</td>\n",
       "    </tr>\n",
       "    <tr>\n",
       "      <th>top</th>\n",
       "      <td>Tata Consultancy Services</td>\n",
       "    </tr>\n",
       "    <tr>\n",
       "      <th>freq</th>\n",
       "      <td>41</td>\n",
       "    </tr>\n",
       "  </tbody>\n",
       "</table>\n",
       "</div>"
      ],
      "text/plain": [
       "                     Company Name\n",
       "count                        4341\n",
       "unique                       2529\n",
       "top     Tata Consultancy Services\n",
       "freq                           41"
      ]
     },
     "execution_count": 11,
     "metadata": {},
     "output_type": "execute_result"
    }
   ],
   "source": [
    "df[['Company Name']].describe()"
   ]
  },
  {
   "cell_type": "markdown",
   "id": "d1e51dea",
   "metadata": {
    "papermill": {
     "duration": 0.052825,
     "end_time": "2022-03-02T07:58:54.022874",
     "exception": false,
     "start_time": "2022-03-02T07:58:53.970049",
     "status": "completed"
    },
    "tags": []
   },
   "source": [
    "## Checking the unique values of the data .unique()"
   ]
  },
  {
   "cell_type": "code",
   "execution_count": 12,
   "id": "9b6c9f2c",
   "metadata": {
    "execution": {
     "iopub.execute_input": "2022-03-02T07:58:54.137525Z",
     "iopub.status.busy": "2022-03-02T07:58:54.135680Z",
     "iopub.status.idle": "2022-03-02T07:58:54.142690Z",
     "shell.execute_reply": "2022-03-02T07:58:54.141920Z",
     "shell.execute_reply.started": "2022-03-02T07:42:01.449654Z"
    },
    "papermill": {
     "duration": 0.066887,
     "end_time": "2022-03-02T07:58:54.142854",
     "exception": false,
     "start_time": "2022-03-02T07:58:54.075967",
     "status": "completed"
    },
    "tags": []
   },
   "outputs": [
    {
     "data": {
      "text/plain": [
       "array(['Bangalore', 'Pune', 'Hyderabad', 'New Delhi', 'Mumbai'],\n",
       "      dtype=object)"
      ]
     },
     "execution_count": 12,
     "metadata": {},
     "output_type": "execute_result"
    }
   ],
   "source": [
    "df.Location.unique()"
   ]
  },
  {
   "cell_type": "markdown",
   "id": "0628b4fd",
   "metadata": {
    "papermill": {
     "duration": 0.053167,
     "end_time": "2022-03-02T07:58:54.249740",
     "exception": false,
     "start_time": "2022-03-02T07:58:54.196573",
     "status": "completed"
    },
    "tags": []
   },
   "source": [
    "## Checking the count of unique values of the data .value_counts()"
   ]
  },
  {
   "cell_type": "code",
   "execution_count": 13,
   "id": "3684efbc",
   "metadata": {
    "execution": {
     "iopub.execute_input": "2022-03-02T07:58:54.358161Z",
     "iopub.status.busy": "2022-03-02T07:58:54.357116Z",
     "iopub.status.idle": "2022-03-02T07:58:54.365152Z",
     "shell.execute_reply": "2022-03-02T07:58:54.365840Z",
     "shell.execute_reply.started": "2022-03-02T07:43:02.982219Z"
    },
    "papermill": {
     "duration": 0.063907,
     "end_time": "2022-03-02T07:58:54.366048",
     "exception": false,
     "start_time": "2022-03-02T07:58:54.302141",
     "status": "completed"
    },
    "tags": []
   },
   "outputs": [
    {
     "data": {
      "text/plain": [
       "Bangalore    1584\n",
       "Pune          818\n",
       "Hyderabad     669\n",
       "New Delhi     656\n",
       "Mumbai        617\n",
       "Name: Location, dtype: int64"
      ]
     },
     "execution_count": 13,
     "metadata": {},
     "output_type": "execute_result"
    }
   ],
   "source": [
    "df.Location.value_counts()"
   ]
  },
  {
   "cell_type": "markdown",
   "id": "ffef139d",
   "metadata": {
    "papermill": {
     "duration": 0.053129,
     "end_time": "2022-03-02T07:58:54.472407",
     "exception": false,
     "start_time": "2022-03-02T07:58:54.419278",
     "status": "completed"
    },
    "tags": []
   },
   "source": [
    "## Replacing the values using .replace()"
   ]
  },
  {
   "cell_type": "code",
   "execution_count": 14,
   "id": "a63d179b",
   "metadata": {
    "execution": {
     "iopub.execute_input": "2022-03-02T07:58:54.583781Z",
     "iopub.status.busy": "2022-03-02T07:58:54.582711Z",
     "iopub.status.idle": "2022-03-02T07:58:54.589160Z",
     "shell.execute_reply": "2022-03-02T07:58:54.589751Z",
     "shell.execute_reply.started": "2022-03-02T07:45:24.933285Z"
    },
    "papermill": {
     "duration": 0.063096,
     "end_time": "2022-03-02T07:58:54.589948",
     "exception": false,
     "start_time": "2022-03-02T07:58:54.526852",
     "status": "completed"
    },
    "tags": []
   },
   "outputs": [],
   "source": [
    "df.Location.replace(to_replace=[\"New Delhi\"],value=[\"Gurugram\"],inplace=True)"
   ]
  },
  {
   "cell_type": "code",
   "execution_count": 15,
   "id": "901afebb",
   "metadata": {
    "execution": {
     "iopub.execute_input": "2022-03-02T07:58:54.700191Z",
     "iopub.status.busy": "2022-03-02T07:58:54.699121Z",
     "iopub.status.idle": "2022-03-02T07:58:54.705166Z",
     "shell.execute_reply": "2022-03-02T07:58:54.706002Z",
     "shell.execute_reply.started": "2022-03-02T07:45:37.566717Z"
    },
    "papermill": {
     "duration": 0.062443,
     "end_time": "2022-03-02T07:58:54.706241",
     "exception": false,
     "start_time": "2022-03-02T07:58:54.643798",
     "status": "completed"
    },
    "tags": []
   },
   "outputs": [
    {
     "data": {
      "text/plain": [
       "array(['Bangalore', 'Pune', 'Hyderabad', 'Gurugram', 'Mumbai'],\n",
       "      dtype=object)"
      ]
     },
     "execution_count": 15,
     "metadata": {},
     "output_type": "execute_result"
    }
   ],
   "source": [
    "df.Location.unique()"
   ]
  },
  {
   "cell_type": "markdown",
   "id": "d631ac46",
   "metadata": {
    "papermill": {
     "duration": 0.05415,
     "end_time": "2022-03-02T07:58:54.814104",
     "exception": false,
     "start_time": "2022-03-02T07:58:54.759954",
     "status": "completed"
    },
    "tags": []
   },
   "source": [
    "# Performing all the initial inspections on Shark tank Dataset"
   ]
  },
  {
   "cell_type": "markdown",
   "id": "742e73b1",
   "metadata": {
    "papermill": {
     "duration": 0.052632,
     "end_time": "2022-03-02T07:58:54.921162",
     "exception": false,
     "start_time": "2022-03-02T07:58:54.868530",
     "status": "completed"
    },
    "tags": []
   },
   "source": [
    "### Reading the csv data using read_csv()"
   ]
  },
  {
   "cell_type": "markdown",
   "id": "b958394b",
   "metadata": {
    "papermill": {
     "duration": 0.053003,
     "end_time": "2022-03-02T07:58:55.028290",
     "exception": false,
     "start_time": "2022-03-02T07:58:54.975287",
     "status": "completed"
    },
    "tags": []
   },
   "source": [
    "### Checking the head of the data .head()"
   ]
  },
  {
   "cell_type": "markdown",
   "id": "ff1fbd45",
   "metadata": {
    "papermill": {
     "duration": 0.055099,
     "end_time": "2022-03-02T07:58:55.138834",
     "exception": false,
     "start_time": "2022-03-02T07:58:55.083735",
     "status": "completed"
    },
    "tags": []
   },
   "source": [
    "### Checking the tail of the data .tail()"
   ]
  },
  {
   "cell_type": "markdown",
   "id": "0f468da0",
   "metadata": {
    "papermill": {
     "duration": 0.057696,
     "end_time": "2022-03-02T07:58:55.252646",
     "exception": false,
     "start_time": "2022-03-02T07:58:55.194950",
     "status": "completed"
    },
    "tags": []
   },
   "source": [
    "### Checking the tail of the data .info()"
   ]
  },
  {
   "cell_type": "markdown",
   "id": "c91ab3c1",
   "metadata": {
    "papermill": {
     "duration": 0.056445,
     "end_time": "2022-03-02T07:58:55.365052",
     "exception": false,
     "start_time": "2022-03-02T07:58:55.308607",
     "status": "completed"
    },
    "tags": []
   },
   "source": [
    "### Checking the stats of the data .describe()"
   ]
  },
  {
   "cell_type": "markdown",
   "id": "7ea8d7f1",
   "metadata": {
    "papermill": {
     "duration": 0.055756,
     "end_time": "2022-03-02T07:58:55.477439",
     "exception": false,
     "start_time": "2022-03-02T07:58:55.421683",
     "status": "completed"
    },
    "tags": []
   },
   "source": [
    "### Checking the stats of the non-numerical data .describe()"
   ]
  },
  {
   "cell_type": "markdown",
   "id": "3969ced6",
   "metadata": {
    "papermill": {
     "duration": 0.054013,
     "end_time": "2022-03-02T07:58:55.588803",
     "exception": false,
     "start_time": "2022-03-02T07:58:55.534790",
     "status": "completed"
    },
    "tags": []
   },
   "source": [
    "### Checking the unique values of the data .unique()"
   ]
  },
  {
   "cell_type": "markdown",
   "id": "1a909bcc",
   "metadata": {
    "papermill": {
     "duration": 0.051779,
     "end_time": "2022-03-02T07:58:55.695174",
     "exception": false,
     "start_time": "2022-03-02T07:58:55.643395",
     "status": "completed"
    },
    "tags": []
   },
   "source": [
    "### Checking the count of unique values of the data .value_counts()"
   ]
  },
  {
   "cell_type": "markdown",
   "id": "743e7723",
   "metadata": {
    "papermill": {
     "duration": 0.052238,
     "end_time": "2022-03-02T07:58:55.802533",
     "exception": false,
     "start_time": "2022-03-02T07:58:55.750295",
     "status": "completed"
    },
    "tags": []
   },
   "source": [
    "### Replacing the values using .replace()"
   ]
  },
  {
   "cell_type": "code",
   "execution_count": 16,
   "id": "e92815d7",
   "metadata": {
    "execution": {
     "iopub.execute_input": "2022-03-02T07:58:55.913192Z",
     "iopub.status.busy": "2022-03-02T07:58:55.912419Z",
     "iopub.status.idle": "2022-03-02T07:58:55.929415Z",
     "shell.execute_reply": "2022-03-02T07:58:55.930042Z",
     "shell.execute_reply.started": "2022-03-02T07:51:38.199071Z"
    },
    "papermill": {
     "duration": 0.07441,
     "end_time": "2022-03-02T07:58:55.930317",
     "exception": false,
     "start_time": "2022-03-02T07:58:55.855907",
     "status": "completed"
    },
    "tags": []
   },
   "outputs": [],
   "source": [
    "shark=pd.read_csv(\"../input/shark-tank-india-dataset/Shark Tank India Dataset.csv\")"
   ]
  },
  {
   "cell_type": "code",
   "execution_count": 17,
   "id": "eb663d03",
   "metadata": {
    "execution": {
     "iopub.execute_input": "2022-03-02T07:58:56.047326Z",
     "iopub.status.busy": "2022-03-02T07:58:56.046598Z",
     "iopub.status.idle": "2022-03-02T07:58:56.076321Z",
     "shell.execute_reply": "2022-03-02T07:58:56.075730Z",
     "shell.execute_reply.started": "2022-03-02T07:51:45.441962Z"
    },
    "papermill": {
     "duration": 0.088419,
     "end_time": "2022-03-02T07:58:56.076484",
     "exception": false,
     "start_time": "2022-03-02T07:58:55.988065",
     "status": "completed"
    },
    "tags": []
   },
   "outputs": [
    {
     "data": {
      "text/html": [
       "<div>\n",
       "<style scoped>\n",
       "    .dataframe tbody tr th:only-of-type {\n",
       "        vertical-align: middle;\n",
       "    }\n",
       "\n",
       "    .dataframe tbody tr th {\n",
       "        vertical-align: top;\n",
       "    }\n",
       "\n",
       "    .dataframe thead th {\n",
       "        text-align: right;\n",
       "    }\n",
       "</style>\n",
       "<table border=\"1\" class=\"dataframe\">\n",
       "  <thead>\n",
       "    <tr style=\"text-align: right;\">\n",
       "      <th></th>\n",
       "      <th>episode_number</th>\n",
       "      <th>pitch_number</th>\n",
       "      <th>brand_name</th>\n",
       "      <th>idea</th>\n",
       "      <th>deal</th>\n",
       "      <th>pitcher_ask_amount</th>\n",
       "      <th>ask_equity</th>\n",
       "      <th>ask_valuation</th>\n",
       "      <th>deal_amount</th>\n",
       "      <th>deal_equity</th>\n",
       "      <th>...</th>\n",
       "      <th>ashneer_deal</th>\n",
       "      <th>anupam_deal</th>\n",
       "      <th>aman_deal</th>\n",
       "      <th>namita_deal</th>\n",
       "      <th>vineeta_deal</th>\n",
       "      <th>peyush_deal</th>\n",
       "      <th>ghazal_deal</th>\n",
       "      <th>total_sharks_invested</th>\n",
       "      <th>amount_per_shark</th>\n",
       "      <th>equity_per_shark</th>\n",
       "    </tr>\n",
       "  </thead>\n",
       "  <tbody>\n",
       "    <tr>\n",
       "      <th>0</th>\n",
       "      <td>1</td>\n",
       "      <td>1</td>\n",
       "      <td>BluePine Industries</td>\n",
       "      <td>Frozen Momos</td>\n",
       "      <td>1</td>\n",
       "      <td>50.0</td>\n",
       "      <td>5.0</td>\n",
       "      <td>1000.00</td>\n",
       "      <td>75.0</td>\n",
       "      <td>16.00</td>\n",
       "      <td>...</td>\n",
       "      <td>1</td>\n",
       "      <td>0</td>\n",
       "      <td>1</td>\n",
       "      <td>0</td>\n",
       "      <td>1</td>\n",
       "      <td>0</td>\n",
       "      <td>0</td>\n",
       "      <td>3</td>\n",
       "      <td>25.0</td>\n",
       "      <td>5.333333</td>\n",
       "    </tr>\n",
       "    <tr>\n",
       "      <th>1</th>\n",
       "      <td>1</td>\n",
       "      <td>2</td>\n",
       "      <td>Booz scooters</td>\n",
       "      <td>Renting e-bike for mobility in private spaces</td>\n",
       "      <td>1</td>\n",
       "      <td>40.0</td>\n",
       "      <td>15.0</td>\n",
       "      <td>266.67</td>\n",
       "      <td>40.0</td>\n",
       "      <td>50.00</td>\n",
       "      <td>...</td>\n",
       "      <td>1</td>\n",
       "      <td>0</td>\n",
       "      <td>0</td>\n",
       "      <td>0</td>\n",
       "      <td>1</td>\n",
       "      <td>0</td>\n",
       "      <td>0</td>\n",
       "      <td>2</td>\n",
       "      <td>20.0</td>\n",
       "      <td>25.000000</td>\n",
       "    </tr>\n",
       "    <tr>\n",
       "      <th>2</th>\n",
       "      <td>1</td>\n",
       "      <td>3</td>\n",
       "      <td>Heart up my Sleeves</td>\n",
       "      <td>Detachable Sleeves</td>\n",
       "      <td>1</td>\n",
       "      <td>25.0</td>\n",
       "      <td>10.0</td>\n",
       "      <td>250.00</td>\n",
       "      <td>25.0</td>\n",
       "      <td>30.00</td>\n",
       "      <td>...</td>\n",
       "      <td>0</td>\n",
       "      <td>1</td>\n",
       "      <td>0</td>\n",
       "      <td>0</td>\n",
       "      <td>1</td>\n",
       "      <td>0</td>\n",
       "      <td>0</td>\n",
       "      <td>2</td>\n",
       "      <td>12.5</td>\n",
       "      <td>15.000000</td>\n",
       "    </tr>\n",
       "    <tr>\n",
       "      <th>3</th>\n",
       "      <td>2</td>\n",
       "      <td>4</td>\n",
       "      <td>Tagz Foods</td>\n",
       "      <td>Healthy Potato Chips</td>\n",
       "      <td>1</td>\n",
       "      <td>70.0</td>\n",
       "      <td>1.0</td>\n",
       "      <td>7000.00</td>\n",
       "      <td>70.0</td>\n",
       "      <td>2.75</td>\n",
       "      <td>...</td>\n",
       "      <td>1</td>\n",
       "      <td>0</td>\n",
       "      <td>0</td>\n",
       "      <td>0</td>\n",
       "      <td>0</td>\n",
       "      <td>0</td>\n",
       "      <td>0</td>\n",
       "      <td>1</td>\n",
       "      <td>70.0</td>\n",
       "      <td>2.750000</td>\n",
       "    </tr>\n",
       "    <tr>\n",
       "      <th>4</th>\n",
       "      <td>2</td>\n",
       "      <td>5</td>\n",
       "      <td>Head and Heart</td>\n",
       "      <td>Brain Development Course</td>\n",
       "      <td>0</td>\n",
       "      <td>50.0</td>\n",
       "      <td>5.0</td>\n",
       "      <td>1000.00</td>\n",
       "      <td>0.0</td>\n",
       "      <td>0.00</td>\n",
       "      <td>...</td>\n",
       "      <td>0</td>\n",
       "      <td>0</td>\n",
       "      <td>0</td>\n",
       "      <td>0</td>\n",
       "      <td>0</td>\n",
       "      <td>0</td>\n",
       "      <td>0</td>\n",
       "      <td>0</td>\n",
       "      <td>0.0</td>\n",
       "      <td>0.000000</td>\n",
       "    </tr>\n",
       "  </tbody>\n",
       "</table>\n",
       "<p>5 rows × 28 columns</p>\n",
       "</div>"
      ],
      "text/plain": [
       "   episode_number  pitch_number           brand_name  \\\n",
       "0               1             1  BluePine Industries   \n",
       "1               1             2        Booz scooters   \n",
       "2               1             3  Heart up my Sleeves   \n",
       "3               2             4           Tagz Foods   \n",
       "4               2             5       Head and Heart   \n",
       "\n",
       "                                            idea  deal  pitcher_ask_amount  \\\n",
       "0                                   Frozen Momos     1                50.0   \n",
       "1  Renting e-bike for mobility in private spaces     1                40.0   \n",
       "2                             Detachable Sleeves     1                25.0   \n",
       "3                           Healthy Potato Chips     1                70.0   \n",
       "4                       Brain Development Course     0                50.0   \n",
       "\n",
       "   ask_equity  ask_valuation  deal_amount  deal_equity  ...  ashneer_deal  \\\n",
       "0         5.0        1000.00         75.0        16.00  ...             1   \n",
       "1        15.0         266.67         40.0        50.00  ...             1   \n",
       "2        10.0         250.00         25.0        30.00  ...             0   \n",
       "3         1.0        7000.00         70.0         2.75  ...             1   \n",
       "4         5.0        1000.00          0.0         0.00  ...             0   \n",
       "\n",
       "   anupam_deal  aman_deal  namita_deal  vineeta_deal  peyush_deal  \\\n",
       "0            0          1            0             1            0   \n",
       "1            0          0            0             1            0   \n",
       "2            1          0            0             1            0   \n",
       "3            0          0            0             0            0   \n",
       "4            0          0            0             0            0   \n",
       "\n",
       "   ghazal_deal  total_sharks_invested  amount_per_shark  equity_per_shark  \n",
       "0            0                      3              25.0          5.333333  \n",
       "1            0                      2              20.0         25.000000  \n",
       "2            0                      2              12.5         15.000000  \n",
       "3            0                      1              70.0          2.750000  \n",
       "4            0                      0               0.0          0.000000  \n",
       "\n",
       "[5 rows x 28 columns]"
      ]
     },
     "execution_count": 17,
     "metadata": {},
     "output_type": "execute_result"
    }
   ],
   "source": [
    "shark.head()"
   ]
  },
  {
   "cell_type": "code",
   "execution_count": 18,
   "id": "9335eccc",
   "metadata": {
    "execution": {
     "iopub.execute_input": "2022-03-02T07:58:56.214390Z",
     "iopub.status.busy": "2022-03-02T07:58:56.192676Z",
     "iopub.status.idle": "2022-03-02T07:58:56.220693Z",
     "shell.execute_reply": "2022-03-02T07:58:56.219842Z",
     "shell.execute_reply.started": "2022-03-02T07:51:50.971392Z"
    },
    "papermill": {
     "duration": 0.091445,
     "end_time": "2022-03-02T07:58:56.220898",
     "exception": false,
     "start_time": "2022-03-02T07:58:56.129453",
     "status": "completed"
    },
    "tags": []
   },
   "outputs": [
    {
     "data": {
      "text/html": [
       "<div>\n",
       "<style scoped>\n",
       "    .dataframe tbody tr th:only-of-type {\n",
       "        vertical-align: middle;\n",
       "    }\n",
       "\n",
       "    .dataframe tbody tr th {\n",
       "        vertical-align: top;\n",
       "    }\n",
       "\n",
       "    .dataframe thead th {\n",
       "        text-align: right;\n",
       "    }\n",
       "</style>\n",
       "<table border=\"1\" class=\"dataframe\">\n",
       "  <thead>\n",
       "    <tr style=\"text-align: right;\">\n",
       "      <th></th>\n",
       "      <th>episode_number</th>\n",
       "      <th>pitch_number</th>\n",
       "      <th>brand_name</th>\n",
       "      <th>idea</th>\n",
       "      <th>deal</th>\n",
       "      <th>pitcher_ask_amount</th>\n",
       "      <th>ask_equity</th>\n",
       "      <th>ask_valuation</th>\n",
       "      <th>deal_amount</th>\n",
       "      <th>deal_equity</th>\n",
       "      <th>...</th>\n",
       "      <th>ashneer_deal</th>\n",
       "      <th>anupam_deal</th>\n",
       "      <th>aman_deal</th>\n",
       "      <th>namita_deal</th>\n",
       "      <th>vineeta_deal</th>\n",
       "      <th>peyush_deal</th>\n",
       "      <th>ghazal_deal</th>\n",
       "      <th>total_sharks_invested</th>\n",
       "      <th>amount_per_shark</th>\n",
       "      <th>equity_per_shark</th>\n",
       "    </tr>\n",
       "  </thead>\n",
       "  <tbody>\n",
       "    <tr>\n",
       "      <th>112</th>\n",
       "      <td>34</td>\n",
       "      <td>113</td>\n",
       "      <td>Green Protein</td>\n",
       "      <td>Plant-Based Protein</td>\n",
       "      <td>0</td>\n",
       "      <td>60.0</td>\n",
       "      <td>2.0</td>\n",
       "      <td>3000.0</td>\n",
       "      <td>0.0</td>\n",
       "      <td>0.0</td>\n",
       "      <td>...</td>\n",
       "      <td>0</td>\n",
       "      <td>0</td>\n",
       "      <td>0</td>\n",
       "      <td>0</td>\n",
       "      <td>0</td>\n",
       "      <td>0</td>\n",
       "      <td>0</td>\n",
       "      <td>0</td>\n",
       "      <td>0.0</td>\n",
       "      <td>0.0</td>\n",
       "    </tr>\n",
       "    <tr>\n",
       "      <th>113</th>\n",
       "      <td>34</td>\n",
       "      <td>114</td>\n",
       "      <td>On2Cook</td>\n",
       "      <td>Fastest Cooking Device</td>\n",
       "      <td>0</td>\n",
       "      <td>100.0</td>\n",
       "      <td>1.0</td>\n",
       "      <td>10000.0</td>\n",
       "      <td>0.0</td>\n",
       "      <td>0.0</td>\n",
       "      <td>...</td>\n",
       "      <td>0</td>\n",
       "      <td>0</td>\n",
       "      <td>0</td>\n",
       "      <td>0</td>\n",
       "      <td>0</td>\n",
       "      <td>0</td>\n",
       "      <td>0</td>\n",
       "      <td>0</td>\n",
       "      <td>0.0</td>\n",
       "      <td>0.0</td>\n",
       "    </tr>\n",
       "    <tr>\n",
       "      <th>114</th>\n",
       "      <td>35</td>\n",
       "      <td>115</td>\n",
       "      <td>Jain Shikanji</td>\n",
       "      <td>Lemonade</td>\n",
       "      <td>1</td>\n",
       "      <td>40.0</td>\n",
       "      <td>8.0</td>\n",
       "      <td>500.0</td>\n",
       "      <td>40.0</td>\n",
       "      <td>30.0</td>\n",
       "      <td>...</td>\n",
       "      <td>1</td>\n",
       "      <td>1</td>\n",
       "      <td>1</td>\n",
       "      <td>0</td>\n",
       "      <td>1</td>\n",
       "      <td>0</td>\n",
       "      <td>0</td>\n",
       "      <td>4</td>\n",
       "      <td>10.0</td>\n",
       "      <td>7.5</td>\n",
       "    </tr>\n",
       "    <tr>\n",
       "      <th>115</th>\n",
       "      <td>35</td>\n",
       "      <td>116</td>\n",
       "      <td>Woloo</td>\n",
       "      <td>Washroom Finder</td>\n",
       "      <td>0</td>\n",
       "      <td>50.0</td>\n",
       "      <td>4.0</td>\n",
       "      <td>1250.0</td>\n",
       "      <td>0.0</td>\n",
       "      <td>0.0</td>\n",
       "      <td>...</td>\n",
       "      <td>0</td>\n",
       "      <td>0</td>\n",
       "      <td>0</td>\n",
       "      <td>0</td>\n",
       "      <td>0</td>\n",
       "      <td>0</td>\n",
       "      <td>0</td>\n",
       "      <td>0</td>\n",
       "      <td>0.0</td>\n",
       "      <td>0.0</td>\n",
       "    </tr>\n",
       "    <tr>\n",
       "      <th>116</th>\n",
       "      <td>35</td>\n",
       "      <td>117</td>\n",
       "      <td>Elcare India</td>\n",
       "      <td>Carenting for Elders</td>\n",
       "      <td>0</td>\n",
       "      <td>100.0</td>\n",
       "      <td>2.5</td>\n",
       "      <td>4000.0</td>\n",
       "      <td>0.0</td>\n",
       "      <td>0.0</td>\n",
       "      <td>...</td>\n",
       "      <td>0</td>\n",
       "      <td>0</td>\n",
       "      <td>0</td>\n",
       "      <td>0</td>\n",
       "      <td>0</td>\n",
       "      <td>0</td>\n",
       "      <td>0</td>\n",
       "      <td>0</td>\n",
       "      <td>0.0</td>\n",
       "      <td>0.0</td>\n",
       "    </tr>\n",
       "  </tbody>\n",
       "</table>\n",
       "<p>5 rows × 28 columns</p>\n",
       "</div>"
      ],
      "text/plain": [
       "     episode_number  pitch_number     brand_name                    idea  \\\n",
       "112              34           113  Green Protein     Plant-Based Protein   \n",
       "113              34           114        On2Cook  Fastest Cooking Device   \n",
       "114              35           115  Jain Shikanji                Lemonade   \n",
       "115              35           116          Woloo         Washroom Finder   \n",
       "116              35           117   Elcare India    Carenting for Elders   \n",
       "\n",
       "     deal  pitcher_ask_amount  ask_equity  ask_valuation  deal_amount  \\\n",
       "112     0                60.0         2.0         3000.0          0.0   \n",
       "113     0               100.0         1.0        10000.0          0.0   \n",
       "114     1                40.0         8.0          500.0         40.0   \n",
       "115     0                50.0         4.0         1250.0          0.0   \n",
       "116     0               100.0         2.5         4000.0          0.0   \n",
       "\n",
       "     deal_equity  ...  ashneer_deal  anupam_deal  aman_deal  namita_deal  \\\n",
       "112          0.0  ...             0            0          0            0   \n",
       "113          0.0  ...             0            0          0            0   \n",
       "114         30.0  ...             1            1          1            0   \n",
       "115          0.0  ...             0            0          0            0   \n",
       "116          0.0  ...             0            0          0            0   \n",
       "\n",
       "     vineeta_deal  peyush_deal  ghazal_deal  total_sharks_invested  \\\n",
       "112             0            0            0                      0   \n",
       "113             0            0            0                      0   \n",
       "114             1            0            0                      4   \n",
       "115             0            0            0                      0   \n",
       "116             0            0            0                      0   \n",
       "\n",
       "     amount_per_shark  equity_per_shark  \n",
       "112               0.0               0.0  \n",
       "113               0.0               0.0  \n",
       "114              10.0               7.5  \n",
       "115               0.0               0.0  \n",
       "116               0.0               0.0  \n",
       "\n",
       "[5 rows x 28 columns]"
      ]
     },
     "execution_count": 18,
     "metadata": {},
     "output_type": "execute_result"
    }
   ],
   "source": [
    "shark.tail()"
   ]
  },
  {
   "cell_type": "code",
   "execution_count": 19,
   "id": "3781efec",
   "metadata": {
    "execution": {
     "iopub.execute_input": "2022-03-02T07:58:56.343012Z",
     "iopub.status.busy": "2022-03-02T07:58:56.342178Z",
     "iopub.status.idle": "2022-03-02T07:58:56.353972Z",
     "shell.execute_reply": "2022-03-02T07:58:56.354566Z",
     "shell.execute_reply.started": "2022-03-02T07:51:59.231146Z"
    },
    "papermill": {
     "duration": 0.076354,
     "end_time": "2022-03-02T07:58:56.354762",
     "exception": false,
     "start_time": "2022-03-02T07:58:56.278408",
     "status": "completed"
    },
    "tags": []
   },
   "outputs": [
    {
     "name": "stdout",
     "output_type": "stream",
     "text": [
      "<class 'pandas.core.frame.DataFrame'>\n",
      "RangeIndex: 117 entries, 0 to 116\n",
      "Data columns (total 28 columns):\n",
      " #   Column                 Non-Null Count  Dtype  \n",
      "---  ------                 --------------  -----  \n",
      " 0   episode_number         117 non-null    int64  \n",
      " 1   pitch_number           117 non-null    int64  \n",
      " 2   brand_name             117 non-null    object \n",
      " 3   idea                   117 non-null    object \n",
      " 4   deal                   117 non-null    int64  \n",
      " 5   pitcher_ask_amount     117 non-null    float64\n",
      " 6   ask_equity             117 non-null    float64\n",
      " 7   ask_valuation          117 non-null    float64\n",
      " 8   deal_amount            117 non-null    float64\n",
      " 9   deal_equity            117 non-null    float64\n",
      " 10  deal_valuation         117 non-null    float64\n",
      " 11  ashneer_present        117 non-null    int64  \n",
      " 12  anupam_present         117 non-null    int64  \n",
      " 13  aman_present           117 non-null    int64  \n",
      " 14  namita_present         117 non-null    int64  \n",
      " 15  vineeta_present        117 non-null    int64  \n",
      " 16  peyush_present         117 non-null    int64  \n",
      " 17  ghazal_present         117 non-null    int64  \n",
      " 18  ashneer_deal           117 non-null    int64  \n",
      " 19  anupam_deal            117 non-null    int64  \n",
      " 20  aman_deal              117 non-null    int64  \n",
      " 21  namita_deal            117 non-null    int64  \n",
      " 22  vineeta_deal           117 non-null    int64  \n",
      " 23  peyush_deal            117 non-null    int64  \n",
      " 24  ghazal_deal            117 non-null    int64  \n",
      " 25  total_sharks_invested  117 non-null    int64  \n",
      " 26  amount_per_shark       117 non-null    float64\n",
      " 27  equity_per_shark       117 non-null    float64\n",
      "dtypes: float64(8), int64(18), object(2)\n",
      "memory usage: 25.7+ KB\n"
     ]
    }
   ],
   "source": [
    "shark.info()"
   ]
  },
  {
   "cell_type": "code",
   "execution_count": 20,
   "id": "7f649f26",
   "metadata": {
    "execution": {
     "iopub.execute_input": "2022-03-02T07:58:56.480512Z",
     "iopub.status.busy": "2022-03-02T07:58:56.472850Z",
     "iopub.status.idle": "2022-03-02T07:58:56.569589Z",
     "shell.execute_reply": "2022-03-02T07:58:56.570185Z",
     "shell.execute_reply.started": "2022-03-02T07:52:04.797636Z"
    },
    "papermill": {
     "duration": 0.158921,
     "end_time": "2022-03-02T07:58:56.570411",
     "exception": false,
     "start_time": "2022-03-02T07:58:56.411490",
     "status": "completed"
    },
    "tags": []
   },
   "outputs": [
    {
     "data": {
      "text/html": [
       "<div>\n",
       "<style scoped>\n",
       "    .dataframe tbody tr th:only-of-type {\n",
       "        vertical-align: middle;\n",
       "    }\n",
       "\n",
       "    .dataframe tbody tr th {\n",
       "        vertical-align: top;\n",
       "    }\n",
       "\n",
       "    .dataframe thead th {\n",
       "        text-align: right;\n",
       "    }\n",
       "</style>\n",
       "<table border=\"1\" class=\"dataframe\">\n",
       "  <thead>\n",
       "    <tr style=\"text-align: right;\">\n",
       "      <th></th>\n",
       "      <th>episode_number</th>\n",
       "      <th>pitch_number</th>\n",
       "      <th>deal</th>\n",
       "      <th>pitcher_ask_amount</th>\n",
       "      <th>ask_equity</th>\n",
       "      <th>ask_valuation</th>\n",
       "      <th>deal_amount</th>\n",
       "      <th>deal_equity</th>\n",
       "      <th>deal_valuation</th>\n",
       "      <th>ashneer_present</th>\n",
       "      <th>...</th>\n",
       "      <th>ashneer_deal</th>\n",
       "      <th>anupam_deal</th>\n",
       "      <th>aman_deal</th>\n",
       "      <th>namita_deal</th>\n",
       "      <th>vineeta_deal</th>\n",
       "      <th>peyush_deal</th>\n",
       "      <th>ghazal_deal</th>\n",
       "      <th>total_sharks_invested</th>\n",
       "      <th>amount_per_shark</th>\n",
       "      <th>equity_per_shark</th>\n",
       "    </tr>\n",
       "  </thead>\n",
       "  <tbody>\n",
       "    <tr>\n",
       "      <th>count</th>\n",
       "      <td>117.000000</td>\n",
       "      <td>117.000000</td>\n",
       "      <td>117.000000</td>\n",
       "      <td>117.000000</td>\n",
       "      <td>117.000000</td>\n",
       "      <td>117.000000</td>\n",
       "      <td>117.000000</td>\n",
       "      <td>117.000000</td>\n",
       "      <td>117.000000</td>\n",
       "      <td>117.000000</td>\n",
       "      <td>...</td>\n",
       "      <td>117.000000</td>\n",
       "      <td>117.000000</td>\n",
       "      <td>117.000000</td>\n",
       "      <td>117.000000</td>\n",
       "      <td>117.000000</td>\n",
       "      <td>117.000000</td>\n",
       "      <td>117.000000</td>\n",
       "      <td>117.000000</td>\n",
       "      <td>117.000000</td>\n",
       "      <td>117.000000</td>\n",
       "    </tr>\n",
       "    <tr>\n",
       "      <th>mean</th>\n",
       "      <td>18.735043</td>\n",
       "      <td>59.000000</td>\n",
       "      <td>0.555556</td>\n",
       "      <td>319.854709</td>\n",
       "      <td>5.188034</td>\n",
       "      <td>3852.462479</td>\n",
       "      <td>31.982915</td>\n",
       "      <td>8.963504</td>\n",
       "      <td>467.104872</td>\n",
       "      <td>0.837607</td>\n",
       "      <td>...</td>\n",
       "      <td>0.179487</td>\n",
       "      <td>0.205128</td>\n",
       "      <td>0.239316</td>\n",
       "      <td>0.188034</td>\n",
       "      <td>0.128205</td>\n",
       "      <td>0.230769</td>\n",
       "      <td>0.059829</td>\n",
       "      <td>1.230769</td>\n",
       "      <td>18.132481</td>\n",
       "      <td>5.583590</td>\n",
       "    </tr>\n",
       "    <tr>\n",
       "      <th>std</th>\n",
       "      <td>10.070778</td>\n",
       "      <td>33.919021</td>\n",
       "      <td>0.499041</td>\n",
       "      <td>2767.842777</td>\n",
       "      <td>3.892121</td>\n",
       "      <td>11931.601957</td>\n",
       "      <td>36.687391</td>\n",
       "      <td>13.106769</td>\n",
       "      <td>919.988864</td>\n",
       "      <td>0.370397</td>\n",
       "      <td>...</td>\n",
       "      <td>0.385410</td>\n",
       "      <td>0.405532</td>\n",
       "      <td>0.428501</td>\n",
       "      <td>0.392420</td>\n",
       "      <td>0.335756</td>\n",
       "      <td>0.423137</td>\n",
       "      <td>0.238190</td>\n",
       "      <td>1.410457</td>\n",
       "      <td>23.588682</td>\n",
       "      <td>10.803799</td>\n",
       "    </tr>\n",
       "    <tr>\n",
       "      <th>min</th>\n",
       "      <td>1.000000</td>\n",
       "      <td>1.000000</td>\n",
       "      <td>0.000000</td>\n",
       "      <td>0.001010</td>\n",
       "      <td>0.250000</td>\n",
       "      <td>0.010000</td>\n",
       "      <td>0.000000</td>\n",
       "      <td>0.000000</td>\n",
       "      <td>0.000000</td>\n",
       "      <td>0.000000</td>\n",
       "      <td>...</td>\n",
       "      <td>0.000000</td>\n",
       "      <td>0.000000</td>\n",
       "      <td>0.000000</td>\n",
       "      <td>0.000000</td>\n",
       "      <td>0.000000</td>\n",
       "      <td>0.000000</td>\n",
       "      <td>0.000000</td>\n",
       "      <td>0.000000</td>\n",
       "      <td>0.000000</td>\n",
       "      <td>0.000000</td>\n",
       "    </tr>\n",
       "    <tr>\n",
       "      <th>25%</th>\n",
       "      <td>10.000000</td>\n",
       "      <td>30.000000</td>\n",
       "      <td>0.000000</td>\n",
       "      <td>45.000000</td>\n",
       "      <td>2.500000</td>\n",
       "      <td>666.670000</td>\n",
       "      <td>0.000000</td>\n",
       "      <td>0.000000</td>\n",
       "      <td>0.000000</td>\n",
       "      <td>1.000000</td>\n",
       "      <td>...</td>\n",
       "      <td>0.000000</td>\n",
       "      <td>0.000000</td>\n",
       "      <td>0.000000</td>\n",
       "      <td>0.000000</td>\n",
       "      <td>0.000000</td>\n",
       "      <td>0.000000</td>\n",
       "      <td>0.000000</td>\n",
       "      <td>0.000000</td>\n",
       "      <td>0.000000</td>\n",
       "      <td>0.000000</td>\n",
       "    </tr>\n",
       "    <tr>\n",
       "      <th>50%</th>\n",
       "      <td>19.000000</td>\n",
       "      <td>59.000000</td>\n",
       "      <td>1.000000</td>\n",
       "      <td>50.000000</td>\n",
       "      <td>5.000000</td>\n",
       "      <td>1250.000000</td>\n",
       "      <td>25.000000</td>\n",
       "      <td>3.000000</td>\n",
       "      <td>100.000000</td>\n",
       "      <td>1.000000</td>\n",
       "      <td>...</td>\n",
       "      <td>0.000000</td>\n",
       "      <td>0.000000</td>\n",
       "      <td>0.000000</td>\n",
       "      <td>0.000000</td>\n",
       "      <td>0.000000</td>\n",
       "      <td>0.000000</td>\n",
       "      <td>0.000000</td>\n",
       "      <td>1.000000</td>\n",
       "      <td>10.000000</td>\n",
       "      <td>1.250000</td>\n",
       "    </tr>\n",
       "    <tr>\n",
       "      <th>75%</th>\n",
       "      <td>27.000000</td>\n",
       "      <td>88.000000</td>\n",
       "      <td>1.000000</td>\n",
       "      <td>80.000000</td>\n",
       "      <td>7.500000</td>\n",
       "      <td>2857.140000</td>\n",
       "      <td>50.000000</td>\n",
       "      <td>15.000000</td>\n",
       "      <td>500.000000</td>\n",
       "      <td>1.000000</td>\n",
       "      <td>...</td>\n",
       "      <td>0.000000</td>\n",
       "      <td>0.000000</td>\n",
       "      <td>0.000000</td>\n",
       "      <td>0.000000</td>\n",
       "      <td>0.000000</td>\n",
       "      <td>0.000000</td>\n",
       "      <td>0.000000</td>\n",
       "      <td>2.000000</td>\n",
       "      <td>25.000000</td>\n",
       "      <td>6.000000</td>\n",
       "    </tr>\n",
       "    <tr>\n",
       "      <th>max</th>\n",
       "      <td>35.000000</td>\n",
       "      <td>117.000000</td>\n",
       "      <td>1.000000</td>\n",
       "      <td>30000.000000</td>\n",
       "      <td>25.000000</td>\n",
       "      <td>120000.000000</td>\n",
       "      <td>150.000000</td>\n",
       "      <td>75.000000</td>\n",
       "      <td>6666.670000</td>\n",
       "      <td>1.000000</td>\n",
       "      <td>...</td>\n",
       "      <td>1.000000</td>\n",
       "      <td>1.000000</td>\n",
       "      <td>1.000000</td>\n",
       "      <td>1.000000</td>\n",
       "      <td>1.000000</td>\n",
       "      <td>1.000000</td>\n",
       "      <td>1.000000</td>\n",
       "      <td>5.000000</td>\n",
       "      <td>100.000000</td>\n",
       "      <td>75.000000</td>\n",
       "    </tr>\n",
       "  </tbody>\n",
       "</table>\n",
       "<p>8 rows × 26 columns</p>\n",
       "</div>"
      ],
      "text/plain": [
       "       episode_number  pitch_number        deal  pitcher_ask_amount  \\\n",
       "count      117.000000    117.000000  117.000000          117.000000   \n",
       "mean        18.735043     59.000000    0.555556          319.854709   \n",
       "std         10.070778     33.919021    0.499041         2767.842777   \n",
       "min          1.000000      1.000000    0.000000            0.001010   \n",
       "25%         10.000000     30.000000    0.000000           45.000000   \n",
       "50%         19.000000     59.000000    1.000000           50.000000   \n",
       "75%         27.000000     88.000000    1.000000           80.000000   \n",
       "max         35.000000    117.000000    1.000000        30000.000000   \n",
       "\n",
       "       ask_equity  ask_valuation  deal_amount  deal_equity  deal_valuation  \\\n",
       "count  117.000000     117.000000   117.000000   117.000000      117.000000   \n",
       "mean     5.188034    3852.462479    31.982915     8.963504      467.104872   \n",
       "std      3.892121   11931.601957    36.687391    13.106769      919.988864   \n",
       "min      0.250000       0.010000     0.000000     0.000000        0.000000   \n",
       "25%      2.500000     666.670000     0.000000     0.000000        0.000000   \n",
       "50%      5.000000    1250.000000    25.000000     3.000000      100.000000   \n",
       "75%      7.500000    2857.140000    50.000000    15.000000      500.000000   \n",
       "max     25.000000  120000.000000   150.000000    75.000000     6666.670000   \n",
       "\n",
       "       ashneer_present  ...  ashneer_deal  anupam_deal   aman_deal  \\\n",
       "count       117.000000  ...    117.000000   117.000000  117.000000   \n",
       "mean          0.837607  ...      0.179487     0.205128    0.239316   \n",
       "std           0.370397  ...      0.385410     0.405532    0.428501   \n",
       "min           0.000000  ...      0.000000     0.000000    0.000000   \n",
       "25%           1.000000  ...      0.000000     0.000000    0.000000   \n",
       "50%           1.000000  ...      0.000000     0.000000    0.000000   \n",
       "75%           1.000000  ...      0.000000     0.000000    0.000000   \n",
       "max           1.000000  ...      1.000000     1.000000    1.000000   \n",
       "\n",
       "       namita_deal  vineeta_deal  peyush_deal  ghazal_deal  \\\n",
       "count   117.000000    117.000000   117.000000   117.000000   \n",
       "mean      0.188034      0.128205     0.230769     0.059829   \n",
       "std       0.392420      0.335756     0.423137     0.238190   \n",
       "min       0.000000      0.000000     0.000000     0.000000   \n",
       "25%       0.000000      0.000000     0.000000     0.000000   \n",
       "50%       0.000000      0.000000     0.000000     0.000000   \n",
       "75%       0.000000      0.000000     0.000000     0.000000   \n",
       "max       1.000000      1.000000     1.000000     1.000000   \n",
       "\n",
       "       total_sharks_invested  amount_per_shark  equity_per_shark  \n",
       "count             117.000000        117.000000        117.000000  \n",
       "mean                1.230769         18.132481          5.583590  \n",
       "std                 1.410457         23.588682         10.803799  \n",
       "min                 0.000000          0.000000          0.000000  \n",
       "25%                 0.000000          0.000000          0.000000  \n",
       "50%                 1.000000         10.000000          1.250000  \n",
       "75%                 2.000000         25.000000          6.000000  \n",
       "max                 5.000000        100.000000         75.000000  \n",
       "\n",
       "[8 rows x 26 columns]"
      ]
     },
     "execution_count": 20,
     "metadata": {},
     "output_type": "execute_result"
    }
   ],
   "source": [
    "shark.describe()"
   ]
  },
  {
   "cell_type": "code",
   "execution_count": 21,
   "id": "82c1e1ee",
   "metadata": {
    "execution": {
     "iopub.execute_input": "2022-03-02T07:58:56.692837Z",
     "iopub.status.busy": "2022-03-02T07:58:56.692052Z",
     "iopub.status.idle": "2022-03-02T07:58:56.707748Z",
     "shell.execute_reply": "2022-03-02T07:58:56.708320Z",
     "shell.execute_reply.started": "2022-03-02T07:53:16.423213Z"
    },
    "papermill": {
     "duration": 0.079951,
     "end_time": "2022-03-02T07:58:56.708514",
     "exception": false,
     "start_time": "2022-03-02T07:58:56.628563",
     "status": "completed"
    },
    "tags": []
   },
   "outputs": [
    {
     "data": {
      "text/html": [
       "<div>\n",
       "<style scoped>\n",
       "    .dataframe tbody tr th:only-of-type {\n",
       "        vertical-align: middle;\n",
       "    }\n",
       "\n",
       "    .dataframe tbody tr th {\n",
       "        vertical-align: top;\n",
       "    }\n",
       "\n",
       "    .dataframe thead th {\n",
       "        text-align: right;\n",
       "    }\n",
       "</style>\n",
       "<table border=\"1\" class=\"dataframe\">\n",
       "  <thead>\n",
       "    <tr style=\"text-align: right;\">\n",
       "      <th></th>\n",
       "      <th>idea</th>\n",
       "      <th>brand_name</th>\n",
       "    </tr>\n",
       "  </thead>\n",
       "  <tbody>\n",
       "    <tr>\n",
       "      <th>count</th>\n",
       "      <td>117</td>\n",
       "      <td>117</td>\n",
       "    </tr>\n",
       "    <tr>\n",
       "      <th>unique</th>\n",
       "      <td>117</td>\n",
       "      <td>117</td>\n",
       "    </tr>\n",
       "    <tr>\n",
       "      <th>top</th>\n",
       "      <td>Frozen Momos</td>\n",
       "      <td>BluePine Industries</td>\n",
       "    </tr>\n",
       "    <tr>\n",
       "      <th>freq</th>\n",
       "      <td>1</td>\n",
       "      <td>1</td>\n",
       "    </tr>\n",
       "  </tbody>\n",
       "</table>\n",
       "</div>"
      ],
      "text/plain": [
       "                idea           brand_name\n",
       "count            117                  117\n",
       "unique           117                  117\n",
       "top     Frozen Momos  BluePine Industries\n",
       "freq               1                    1"
      ]
     },
     "execution_count": 21,
     "metadata": {},
     "output_type": "execute_result"
    }
   ],
   "source": [
    "shark[[\"idea\",\"brand_name\"]].describe()"
   ]
  },
  {
   "cell_type": "code",
   "execution_count": 22,
   "id": "9ac5a311",
   "metadata": {
    "execution": {
     "iopub.execute_input": "2022-03-02T07:58:56.830814Z",
     "iopub.status.busy": "2022-03-02T07:58:56.829796Z",
     "iopub.status.idle": "2022-03-02T07:58:56.837086Z",
     "shell.execute_reply": "2022-03-02T07:58:56.837983Z",
     "shell.execute_reply.started": "2022-03-02T07:53:47.424414Z"
    },
    "papermill": {
     "duration": 0.069904,
     "end_time": "2022-03-02T07:58:56.838307",
     "exception": false,
     "start_time": "2022-03-02T07:58:56.768403",
     "status": "completed"
    },
    "tags": []
   },
   "outputs": [
    {
     "data": {
      "text/plain": [
       "array(['Frozen Momos', 'Renting e-bike for mobility in private spaces',\n",
       "       'Detachable Sleeves', 'Healthy Potato Chips',\n",
       "       'Brain Development Course', 'Tourism', 'Food Freshness Detector',\n",
       "       'Disposable Urine Bag', 'Energy Drink', 'Intelligent Skincare',\n",
       "       'Pickle', 'Underwear', 'E-Bike',\n",
       "       'Restaurant serving 80 types of Maggi', 'Belly Button Shaper',\n",
       "       'Ice-Pops', 'Menstrual Awareness Comic',\n",
       "       'Pollution Resistant Fabric', 'Child Development App',\n",
       "       'Gadgets for visually impaired people',\n",
       "       'Kheer in variety of flavors', 'Kerala Banana Chips',\n",
       "       'Prickless Diabetes Testing Machine', 'Smart Electric Motorcycle',\n",
       "       'Smart Helmets', 'Wooden Toys', 'Healthy Oils',\n",
       "       'Male Intimate Hygiene', 'Eggs', 'Student Community App',\n",
       "       'Fiber Ice Cream', 'Wall Building', 'Customised Streetwear',\n",
       "       'Ayurvedic Products', 'Indian Sweets', 'Metaverse App',\n",
       "       'Braille Literary Device', 'Eco-Friendly boxes',\n",
       "       'Yarn-Trading App', 'Home Dialysis Treatment',\n",
       "       'Healthy Food Snacks', 'Digital Piggy Bank',\n",
       "       'Smart Audio Products', 'Robotics and Automation Solutions',\n",
       "       'Coconut based beverage franchise', 'Bamboo Products',\n",
       "       'Dog Hygiene', 'Liquid Water Enhancer', 'Healthy Snacks',\n",
       "       'Sneaker Resale', 'EdTech App', 'Premium Surprise-Planning',\n",
       "       'Pothole Detection Software and Data', 'Thin Crust Pizza',\n",
       "       'Hemp Food Products', 'Electric Auto Vehicle', 'Funeral Service',\n",
       "       'Leather-free Shoes', 'Livestock health monitoring AI',\n",
       "       'Customised Keto Diets for various medical issues',\n",
       "       'LPG Cylinder lock', 'Delicacies', 'Comics & Animation',\n",
       "       'Can Cocktails', 'Sugar-Free Icecream', 'Inventions',\n",
       "       'Customised Apparels', 'Natural Hair Extensions',\n",
       "       'Toilet Spray with Essential Oils', 'Meads', 'Fresh Fruits',\n",
       "       'Ayurvedic Enriched Food', 'Streetwear', 'Motorcycle Luggage',\n",
       "       'Bags', 'Gifts', 'Agricultural Innovations', 'Homemade Foods',\n",
       "       'Dog Products', 'Portable ECG Device', 'Roasted Peanut Products',\n",
       "       'Perfumes', 'Automatic Cradle', 'Handicrafts', 'Coffee Products',\n",
       "       'Ventilated PPE Kits', 'Automation Solutions',\n",
       "       'Insurance Solutions', 'Organic Milk Products', 'Kunafa',\n",
       "       'Anti-Suicidal Fan Rod', 'Jackfruit Products',\n",
       "       'Stainless Steel Items', 'Streaming Platform',\n",
       "       'Portable Glass Attachment', 'All-Kabaddi App', 'Flowers',\n",
       "       'Scholarship Platform', 'Handmade Reusable Scrap Materials',\n",
       "       'Vegetables Storage', 'Ayurvedic Wellness App', 'Smart Locks',\n",
       "       'Proposal Solutions', 'Technology layered Advertisement Services',\n",
       "       'Rewards App', 'Portable opthalmic devices', 'Insoles',\n",
       "       'Vegan Fermented Food', 'Sportswear', 'VR', 'Bacon Jams',\n",
       "       'Reversible and convertible clothing', 'Plant-Based Protein',\n",
       "       'Fastest Cooking Device', 'Lemonade', 'Washroom Finder',\n",
       "       'Carenting for Elders'], dtype=object)"
      ]
     },
     "execution_count": 22,
     "metadata": {},
     "output_type": "execute_result"
    }
   ],
   "source": [
    "shark[\"idea\"].unique()"
   ]
  },
  {
   "cell_type": "code",
   "execution_count": 23,
   "id": "94f39021",
   "metadata": {
    "execution": {
     "iopub.execute_input": "2022-03-02T07:58:56.967551Z",
     "iopub.status.busy": "2022-03-02T07:58:56.966791Z",
     "iopub.status.idle": "2022-03-02T07:58:56.976536Z",
     "shell.execute_reply": "2022-03-02T07:58:56.975847Z",
     "shell.execute_reply.started": "2022-03-02T07:54:47.030121Z"
    },
    "papermill": {
     "duration": 0.076691,
     "end_time": "2022-03-02T07:58:56.976728",
     "exception": false,
     "start_time": "2022-03-02T07:58:56.900037",
     "status": "completed"
    },
    "tags": []
   },
   "outputs": [
    {
     "data": {
      "text/plain": [
       "Frozen Momos             1\n",
       "Bags                     1\n",
       "Automation Solutions     1\n",
       "Ventilated PPE Kits      1\n",
       "Coffee Products          1\n",
       "                        ..\n",
       "Metaverse App            1\n",
       "Indian Sweets            1\n",
       "Ayurvedic Products       1\n",
       "Customised Streetwear    1\n",
       "Carenting for Elders     1\n",
       "Name: idea, Length: 117, dtype: int64"
      ]
     },
     "execution_count": 23,
     "metadata": {},
     "output_type": "execute_result"
    }
   ],
   "source": [
    "shark.idea.value_counts()"
   ]
  },
  {
   "cell_type": "code",
   "execution_count": 24,
   "id": "2ab5b68d",
   "metadata": {
    "execution": {
     "iopub.execute_input": "2022-03-02T07:58:57.108289Z",
     "iopub.status.busy": "2022-03-02T07:58:57.107540Z",
     "iopub.status.idle": "2022-03-02T07:58:57.112454Z",
     "shell.execute_reply": "2022-03-02T07:58:57.111745Z",
     "shell.execute_reply.started": "2022-03-02T07:54:50.136282Z"
    },
    "papermill": {
     "duration": 0.073074,
     "end_time": "2022-03-02T07:58:57.112627",
     "exception": false,
     "start_time": "2022-03-02T07:58:57.039553",
     "status": "completed"
    },
    "tags": []
   },
   "outputs": [
    {
     "data": {
      "text/plain": [
       "1"
      ]
     },
     "execution_count": 24,
     "metadata": {},
     "output_type": "execute_result"
    }
   ],
   "source": [
    "shark.idea.value_counts().max()"
   ]
  },
  {
   "cell_type": "code",
   "execution_count": 25,
   "id": "ef417d20",
   "metadata": {
    "execution": {
     "iopub.execute_input": "2022-03-02T07:58:57.239777Z",
     "iopub.status.busy": "2022-03-02T07:58:57.238971Z",
     "iopub.status.idle": "2022-03-02T07:58:57.246748Z",
     "shell.execute_reply": "2022-03-02T07:58:57.245828Z",
     "shell.execute_reply.started": "2022-03-02T07:56:23.126851Z"
    },
    "papermill": {
     "duration": 0.073091,
     "end_time": "2022-03-02T07:58:57.246917",
     "exception": false,
     "start_time": "2022-03-02T07:58:57.173826",
     "status": "completed"
    },
    "tags": []
   },
   "outputs": [],
   "source": [
    "shark.replace(to_replace=[\"idea\"],value=[\"The_Idea\"],inplace=True)"
   ]
  },
  {
   "cell_type": "code",
   "execution_count": 26,
   "id": "f9a971f2",
   "metadata": {
    "execution": {
     "iopub.execute_input": "2022-03-02T07:58:57.395206Z",
     "iopub.status.busy": "2022-03-02T07:58:57.394508Z",
     "iopub.status.idle": "2022-03-02T07:58:57.398196Z",
     "shell.execute_reply": "2022-03-02T07:58:57.398777Z",
     "shell.execute_reply.started": "2022-03-02T07:56:25.988902Z"
    },
    "papermill": {
     "duration": 0.090415,
     "end_time": "2022-03-02T07:58:57.398971",
     "exception": false,
     "start_time": "2022-03-02T07:58:57.308556",
     "status": "completed"
    },
    "tags": []
   },
   "outputs": [
    {
     "data": {
      "text/html": [
       "<div>\n",
       "<style scoped>\n",
       "    .dataframe tbody tr th:only-of-type {\n",
       "        vertical-align: middle;\n",
       "    }\n",
       "\n",
       "    .dataframe tbody tr th {\n",
       "        vertical-align: top;\n",
       "    }\n",
       "\n",
       "    .dataframe thead th {\n",
       "        text-align: right;\n",
       "    }\n",
       "</style>\n",
       "<table border=\"1\" class=\"dataframe\">\n",
       "  <thead>\n",
       "    <tr style=\"text-align: right;\">\n",
       "      <th></th>\n",
       "      <th>episode_number</th>\n",
       "      <th>pitch_number</th>\n",
       "      <th>brand_name</th>\n",
       "      <th>idea</th>\n",
       "      <th>deal</th>\n",
       "      <th>pitcher_ask_amount</th>\n",
       "      <th>ask_equity</th>\n",
       "      <th>ask_valuation</th>\n",
       "      <th>deal_amount</th>\n",
       "      <th>deal_equity</th>\n",
       "      <th>...</th>\n",
       "      <th>ashneer_deal</th>\n",
       "      <th>anupam_deal</th>\n",
       "      <th>aman_deal</th>\n",
       "      <th>namita_deal</th>\n",
       "      <th>vineeta_deal</th>\n",
       "      <th>peyush_deal</th>\n",
       "      <th>ghazal_deal</th>\n",
       "      <th>total_sharks_invested</th>\n",
       "      <th>amount_per_shark</th>\n",
       "      <th>equity_per_shark</th>\n",
       "    </tr>\n",
       "  </thead>\n",
       "  <tbody>\n",
       "    <tr>\n",
       "      <th>0</th>\n",
       "      <td>1</td>\n",
       "      <td>1</td>\n",
       "      <td>BluePine Industries</td>\n",
       "      <td>Frozen Momos</td>\n",
       "      <td>1</td>\n",
       "      <td>50.0</td>\n",
       "      <td>5.0</td>\n",
       "      <td>1000.00</td>\n",
       "      <td>75.0</td>\n",
       "      <td>16.00</td>\n",
       "      <td>...</td>\n",
       "      <td>1</td>\n",
       "      <td>0</td>\n",
       "      <td>1</td>\n",
       "      <td>0</td>\n",
       "      <td>1</td>\n",
       "      <td>0</td>\n",
       "      <td>0</td>\n",
       "      <td>3</td>\n",
       "      <td>25.0</td>\n",
       "      <td>5.333333</td>\n",
       "    </tr>\n",
       "    <tr>\n",
       "      <th>1</th>\n",
       "      <td>1</td>\n",
       "      <td>2</td>\n",
       "      <td>Booz scooters</td>\n",
       "      <td>Renting e-bike for mobility in private spaces</td>\n",
       "      <td>1</td>\n",
       "      <td>40.0</td>\n",
       "      <td>15.0</td>\n",
       "      <td>266.67</td>\n",
       "      <td>40.0</td>\n",
       "      <td>50.00</td>\n",
       "      <td>...</td>\n",
       "      <td>1</td>\n",
       "      <td>0</td>\n",
       "      <td>0</td>\n",
       "      <td>0</td>\n",
       "      <td>1</td>\n",
       "      <td>0</td>\n",
       "      <td>0</td>\n",
       "      <td>2</td>\n",
       "      <td>20.0</td>\n",
       "      <td>25.000000</td>\n",
       "    </tr>\n",
       "    <tr>\n",
       "      <th>2</th>\n",
       "      <td>1</td>\n",
       "      <td>3</td>\n",
       "      <td>Heart up my Sleeves</td>\n",
       "      <td>Detachable Sleeves</td>\n",
       "      <td>1</td>\n",
       "      <td>25.0</td>\n",
       "      <td>10.0</td>\n",
       "      <td>250.00</td>\n",
       "      <td>25.0</td>\n",
       "      <td>30.00</td>\n",
       "      <td>...</td>\n",
       "      <td>0</td>\n",
       "      <td>1</td>\n",
       "      <td>0</td>\n",
       "      <td>0</td>\n",
       "      <td>1</td>\n",
       "      <td>0</td>\n",
       "      <td>0</td>\n",
       "      <td>2</td>\n",
       "      <td>12.5</td>\n",
       "      <td>15.000000</td>\n",
       "    </tr>\n",
       "    <tr>\n",
       "      <th>3</th>\n",
       "      <td>2</td>\n",
       "      <td>4</td>\n",
       "      <td>Tagz Foods</td>\n",
       "      <td>Healthy Potato Chips</td>\n",
       "      <td>1</td>\n",
       "      <td>70.0</td>\n",
       "      <td>1.0</td>\n",
       "      <td>7000.00</td>\n",
       "      <td>70.0</td>\n",
       "      <td>2.75</td>\n",
       "      <td>...</td>\n",
       "      <td>1</td>\n",
       "      <td>0</td>\n",
       "      <td>0</td>\n",
       "      <td>0</td>\n",
       "      <td>0</td>\n",
       "      <td>0</td>\n",
       "      <td>0</td>\n",
       "      <td>1</td>\n",
       "      <td>70.0</td>\n",
       "      <td>2.750000</td>\n",
       "    </tr>\n",
       "    <tr>\n",
       "      <th>4</th>\n",
       "      <td>2</td>\n",
       "      <td>5</td>\n",
       "      <td>Head and Heart</td>\n",
       "      <td>Brain Development Course</td>\n",
       "      <td>0</td>\n",
       "      <td>50.0</td>\n",
       "      <td>5.0</td>\n",
       "      <td>1000.00</td>\n",
       "      <td>0.0</td>\n",
       "      <td>0.00</td>\n",
       "      <td>...</td>\n",
       "      <td>0</td>\n",
       "      <td>0</td>\n",
       "      <td>0</td>\n",
       "      <td>0</td>\n",
       "      <td>0</td>\n",
       "      <td>0</td>\n",
       "      <td>0</td>\n",
       "      <td>0</td>\n",
       "      <td>0.0</td>\n",
       "      <td>0.000000</td>\n",
       "    </tr>\n",
       "  </tbody>\n",
       "</table>\n",
       "<p>5 rows × 28 columns</p>\n",
       "</div>"
      ],
      "text/plain": [
       "   episode_number  pitch_number           brand_name  \\\n",
       "0               1             1  BluePine Industries   \n",
       "1               1             2        Booz scooters   \n",
       "2               1             3  Heart up my Sleeves   \n",
       "3               2             4           Tagz Foods   \n",
       "4               2             5       Head and Heart   \n",
       "\n",
       "                                            idea  deal  pitcher_ask_amount  \\\n",
       "0                                   Frozen Momos     1                50.0   \n",
       "1  Renting e-bike for mobility in private spaces     1                40.0   \n",
       "2                             Detachable Sleeves     1                25.0   \n",
       "3                           Healthy Potato Chips     1                70.0   \n",
       "4                       Brain Development Course     0                50.0   \n",
       "\n",
       "   ask_equity  ask_valuation  deal_amount  deal_equity  ...  ashneer_deal  \\\n",
       "0         5.0        1000.00         75.0        16.00  ...             1   \n",
       "1        15.0         266.67         40.0        50.00  ...             1   \n",
       "2        10.0         250.00         25.0        30.00  ...             0   \n",
       "3         1.0        7000.00         70.0         2.75  ...             1   \n",
       "4         5.0        1000.00          0.0         0.00  ...             0   \n",
       "\n",
       "   anupam_deal  aman_deal  namita_deal  vineeta_deal  peyush_deal  \\\n",
       "0            0          1            0             1            0   \n",
       "1            0          0            0             1            0   \n",
       "2            1          0            0             1            0   \n",
       "3            0          0            0             0            0   \n",
       "4            0          0            0             0            0   \n",
       "\n",
       "   ghazal_deal  total_sharks_invested  amount_per_shark  equity_per_shark  \n",
       "0            0                      3              25.0          5.333333  \n",
       "1            0                      2              20.0         25.000000  \n",
       "2            0                      2              12.5         15.000000  \n",
       "3            0                      1              70.0          2.750000  \n",
       "4            0                      0               0.0          0.000000  \n",
       "\n",
       "[5 rows x 28 columns]"
      ]
     },
     "execution_count": 26,
     "metadata": {},
     "output_type": "execute_result"
    }
   ],
   "source": [
    "shark.head()"
   ]
  },
  {
   "cell_type": "code",
   "execution_count": 27,
   "id": "16ca5198",
   "metadata": {
    "execution": {
     "iopub.execute_input": "2022-03-02T07:58:57.524608Z",
     "iopub.status.busy": "2022-03-02T07:58:57.523873Z",
     "iopub.status.idle": "2022-03-02T07:58:57.530893Z",
     "shell.execute_reply": "2022-03-02T07:58:57.530109Z",
     "shell.execute_reply.started": "2022-03-02T07:57:28.266780Z"
    },
    "papermill": {
     "duration": 0.072129,
     "end_time": "2022-03-02T07:58:57.531072",
     "exception": false,
     "start_time": "2022-03-02T07:58:57.458943",
     "status": "completed"
    },
    "tags": []
   },
   "outputs": [],
   "source": [
    "shark.idea.replace(to_replace=[\"Frozen Momos\"],value=[\"Momo Mami\"],inplace=True)"
   ]
  },
  {
   "cell_type": "code",
   "execution_count": 28,
   "id": "ad676107",
   "metadata": {
    "execution": {
     "iopub.execute_input": "2022-03-02T07:58:57.658213Z",
     "iopub.status.busy": "2022-03-02T07:58:57.653240Z",
     "iopub.status.idle": "2022-03-02T07:58:57.681370Z",
     "shell.execute_reply": "2022-03-02T07:58:57.681976Z",
     "shell.execute_reply.started": "2022-03-02T07:57:55.166372Z"
    },
    "papermill": {
     "duration": 0.093012,
     "end_time": "2022-03-02T07:58:57.682168",
     "exception": false,
     "start_time": "2022-03-02T07:58:57.589156",
     "status": "completed"
    },
    "tags": []
   },
   "outputs": [
    {
     "data": {
      "text/html": [
       "<div>\n",
       "<style scoped>\n",
       "    .dataframe tbody tr th:only-of-type {\n",
       "        vertical-align: middle;\n",
       "    }\n",
       "\n",
       "    .dataframe tbody tr th {\n",
       "        vertical-align: top;\n",
       "    }\n",
       "\n",
       "    .dataframe thead th {\n",
       "        text-align: right;\n",
       "    }\n",
       "</style>\n",
       "<table border=\"1\" class=\"dataframe\">\n",
       "  <thead>\n",
       "    <tr style=\"text-align: right;\">\n",
       "      <th></th>\n",
       "      <th>episode_number</th>\n",
       "      <th>pitch_number</th>\n",
       "      <th>brand_name</th>\n",
       "      <th>idea</th>\n",
       "      <th>deal</th>\n",
       "      <th>pitcher_ask_amount</th>\n",
       "      <th>ask_equity</th>\n",
       "      <th>ask_valuation</th>\n",
       "      <th>deal_amount</th>\n",
       "      <th>deal_equity</th>\n",
       "      <th>...</th>\n",
       "      <th>ashneer_deal</th>\n",
       "      <th>anupam_deal</th>\n",
       "      <th>aman_deal</th>\n",
       "      <th>namita_deal</th>\n",
       "      <th>vineeta_deal</th>\n",
       "      <th>peyush_deal</th>\n",
       "      <th>ghazal_deal</th>\n",
       "      <th>total_sharks_invested</th>\n",
       "      <th>amount_per_shark</th>\n",
       "      <th>equity_per_shark</th>\n",
       "    </tr>\n",
       "  </thead>\n",
       "  <tbody>\n",
       "    <tr>\n",
       "      <th>0</th>\n",
       "      <td>1</td>\n",
       "      <td>1</td>\n",
       "      <td>BluePine Industries</td>\n",
       "      <td>Momo Mami</td>\n",
       "      <td>1</td>\n",
       "      <td>50.0</td>\n",
       "      <td>5.0</td>\n",
       "      <td>1000.00</td>\n",
       "      <td>75.0</td>\n",
       "      <td>16.00</td>\n",
       "      <td>...</td>\n",
       "      <td>1</td>\n",
       "      <td>0</td>\n",
       "      <td>1</td>\n",
       "      <td>0</td>\n",
       "      <td>1</td>\n",
       "      <td>0</td>\n",
       "      <td>0</td>\n",
       "      <td>3</td>\n",
       "      <td>25.0</td>\n",
       "      <td>5.333333</td>\n",
       "    </tr>\n",
       "    <tr>\n",
       "      <th>1</th>\n",
       "      <td>1</td>\n",
       "      <td>2</td>\n",
       "      <td>Booz scooters</td>\n",
       "      <td>Renting e-bike for mobility in private spaces</td>\n",
       "      <td>1</td>\n",
       "      <td>40.0</td>\n",
       "      <td>15.0</td>\n",
       "      <td>266.67</td>\n",
       "      <td>40.0</td>\n",
       "      <td>50.00</td>\n",
       "      <td>...</td>\n",
       "      <td>1</td>\n",
       "      <td>0</td>\n",
       "      <td>0</td>\n",
       "      <td>0</td>\n",
       "      <td>1</td>\n",
       "      <td>0</td>\n",
       "      <td>0</td>\n",
       "      <td>2</td>\n",
       "      <td>20.0</td>\n",
       "      <td>25.000000</td>\n",
       "    </tr>\n",
       "    <tr>\n",
       "      <th>2</th>\n",
       "      <td>1</td>\n",
       "      <td>3</td>\n",
       "      <td>Heart up my Sleeves</td>\n",
       "      <td>Detachable Sleeves</td>\n",
       "      <td>1</td>\n",
       "      <td>25.0</td>\n",
       "      <td>10.0</td>\n",
       "      <td>250.00</td>\n",
       "      <td>25.0</td>\n",
       "      <td>30.00</td>\n",
       "      <td>...</td>\n",
       "      <td>0</td>\n",
       "      <td>1</td>\n",
       "      <td>0</td>\n",
       "      <td>0</td>\n",
       "      <td>1</td>\n",
       "      <td>0</td>\n",
       "      <td>0</td>\n",
       "      <td>2</td>\n",
       "      <td>12.5</td>\n",
       "      <td>15.000000</td>\n",
       "    </tr>\n",
       "    <tr>\n",
       "      <th>3</th>\n",
       "      <td>2</td>\n",
       "      <td>4</td>\n",
       "      <td>Tagz Foods</td>\n",
       "      <td>Healthy Potato Chips</td>\n",
       "      <td>1</td>\n",
       "      <td>70.0</td>\n",
       "      <td>1.0</td>\n",
       "      <td>7000.00</td>\n",
       "      <td>70.0</td>\n",
       "      <td>2.75</td>\n",
       "      <td>...</td>\n",
       "      <td>1</td>\n",
       "      <td>0</td>\n",
       "      <td>0</td>\n",
       "      <td>0</td>\n",
       "      <td>0</td>\n",
       "      <td>0</td>\n",
       "      <td>0</td>\n",
       "      <td>1</td>\n",
       "      <td>70.0</td>\n",
       "      <td>2.750000</td>\n",
       "    </tr>\n",
       "    <tr>\n",
       "      <th>4</th>\n",
       "      <td>2</td>\n",
       "      <td>5</td>\n",
       "      <td>Head and Heart</td>\n",
       "      <td>Brain Development Course</td>\n",
       "      <td>0</td>\n",
       "      <td>50.0</td>\n",
       "      <td>5.0</td>\n",
       "      <td>1000.00</td>\n",
       "      <td>0.0</td>\n",
       "      <td>0.00</td>\n",
       "      <td>...</td>\n",
       "      <td>0</td>\n",
       "      <td>0</td>\n",
       "      <td>0</td>\n",
       "      <td>0</td>\n",
       "      <td>0</td>\n",
       "      <td>0</td>\n",
       "      <td>0</td>\n",
       "      <td>0</td>\n",
       "      <td>0.0</td>\n",
       "      <td>0.000000</td>\n",
       "    </tr>\n",
       "  </tbody>\n",
       "</table>\n",
       "<p>5 rows × 28 columns</p>\n",
       "</div>"
      ],
      "text/plain": [
       "   episode_number  pitch_number           brand_name  \\\n",
       "0               1             1  BluePine Industries   \n",
       "1               1             2        Booz scooters   \n",
       "2               1             3  Heart up my Sleeves   \n",
       "3               2             4           Tagz Foods   \n",
       "4               2             5       Head and Heart   \n",
       "\n",
       "                                            idea  deal  pitcher_ask_amount  \\\n",
       "0                                      Momo Mami     1                50.0   \n",
       "1  Renting e-bike for mobility in private spaces     1                40.0   \n",
       "2                             Detachable Sleeves     1                25.0   \n",
       "3                           Healthy Potato Chips     1                70.0   \n",
       "4                       Brain Development Course     0                50.0   \n",
       "\n",
       "   ask_equity  ask_valuation  deal_amount  deal_equity  ...  ashneer_deal  \\\n",
       "0         5.0        1000.00         75.0        16.00  ...             1   \n",
       "1        15.0         266.67         40.0        50.00  ...             1   \n",
       "2        10.0         250.00         25.0        30.00  ...             0   \n",
       "3         1.0        7000.00         70.0         2.75  ...             1   \n",
       "4         5.0        1000.00          0.0         0.00  ...             0   \n",
       "\n",
       "   anupam_deal  aman_deal  namita_deal  vineeta_deal  peyush_deal  \\\n",
       "0            0          1            0             1            0   \n",
       "1            0          0            0             1            0   \n",
       "2            1          0            0             1            0   \n",
       "3            0          0            0             0            0   \n",
       "4            0          0            0             0            0   \n",
       "\n",
       "   ghazal_deal  total_sharks_invested  amount_per_shark  equity_per_shark  \n",
       "0            0                      3              25.0          5.333333  \n",
       "1            0                      2              20.0         25.000000  \n",
       "2            0                      2              12.5         15.000000  \n",
       "3            0                      1              70.0          2.750000  \n",
       "4            0                      0               0.0          0.000000  \n",
       "\n",
       "[5 rows x 28 columns]"
      ]
     },
     "execution_count": 28,
     "metadata": {},
     "output_type": "execute_result"
    }
   ],
   "source": [
    "shark.head()"
   ]
  }
 ],
 "metadata": {
  "kernelspec": {
   "display_name": "Python 3",
   "language": "python",
   "name": "python3"
  },
  "language_info": {
   "codemirror_mode": {
    "name": "ipython",
    "version": 3
   },
   "file_extension": ".py",
   "mimetype": "text/x-python",
   "name": "python",
   "nbconvert_exporter": "python",
   "pygments_lexer": "ipython3",
   "version": "3.7.12"
  },
  "papermill": {
   "default_parameters": {},
   "duration": 17.773795,
   "end_time": "2022-03-02T07:58:58.456501",
   "environment_variables": {},
   "exception": null,
   "input_path": "__notebook__.ipynb",
   "output_path": "__notebook__.ipynb",
   "parameters": {},
   "start_time": "2022-03-02T07:58:40.682706",
   "version": "2.3.3"
  }
 },
 "nbformat": 4,
 "nbformat_minor": 5
}
