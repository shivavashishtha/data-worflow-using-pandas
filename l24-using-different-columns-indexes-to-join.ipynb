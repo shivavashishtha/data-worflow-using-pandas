{
 "cells": [
  {
   "cell_type": "code",
   "execution_count": 1,
   "id": "8128c744",
   "metadata": {
    "_cell_guid": "b1076dfc-b9ad-4769-8c92-a6c4dae69d19",
    "_uuid": "8f2839f25d086af736a60e9eeb907d3b93b6e0e5",
    "execution": {
     "iopub.execute_input": "2022-09-08T06:01:48.655996Z",
     "iopub.status.busy": "2022-09-08T06:01:48.655373Z",
     "iopub.status.idle": "2022-09-08T06:01:48.677445Z",
     "shell.execute_reply": "2022-09-08T06:01:48.676075Z"
    },
    "papermill": {
     "duration": 0.0354,
     "end_time": "2022-09-08T06:01:48.681996",
     "exception": false,
     "start_time": "2022-09-08T06:01:48.646596",
     "status": "completed"
    },
    "tags": []
   },
   "outputs": [
    {
     "name": "stdout",
     "output_type": "stream",
     "text": [
      "/kaggle/input/olympic-games/dictionary.csv\n",
      "/kaggle/input/olympic-games/winter.csv\n",
      "/kaggle/input/olympic-games/summer.csv\n"
     ]
    }
   ],
   "source": [
    "# This Python 3 environment comes with many helpful analytics libraries installed\n",
    "# It is defined by the kaggle/python Docker image: https://github.com/kaggle/docker-python\n",
    "# For example, here's several helpful packages to load\n",
    "\n",
    "import numpy as np # linear algebra\n",
    "import pandas as pd # data processing, CSV file I/O (e.g. pd.read_csv)\n",
    "\n",
    "# Input data files are available in the read-only \"../input/\" directory\n",
    "# For example, running this (by clicking run or pressing Shift+Enter) will list all files under the input directory\n",
    "\n",
    "import os\n",
    "for dirname, _, filenames in os.walk('/kaggle/input'):\n",
    "    for filename in filenames:\n",
    "        print(os.path.join(dirname, filename))\n",
    "\n",
    "# You can write up to 20GB to the current directory (/kaggle/working/) that gets preserved as output when you create a version using \"Save & Run All\" \n",
    "# You can also write temporary files to /kaggle/temp/, but they won't be saved outside of the current session"
   ]
  },
  {
   "cell_type": "markdown",
   "id": "a0a02b50",
   "metadata": {
    "papermill": {
     "duration": 0.004482,
     "end_time": "2022-09-08T06:01:48.692076",
     "exception": false,
     "start_time": "2022-09-08T06:01:48.687594",
     "status": "completed"
    },
    "tags": []
   },
   "source": [
    "# L24 - Using different columns names to join"
   ]
  },
  {
   "cell_type": "markdown",
   "id": "2df7237f",
   "metadata": {
    "papermill": {
     "duration": 0.004395,
     "end_time": "2022-09-08T06:01:48.701330",
     "exception": false,
     "start_time": "2022-09-08T06:01:48.696935",
     "status": "completed"
    },
    "tags": []
   },
   "source": [
    "![m](https://i.redd.it/dyqnzpuddxk21.png)"
   ]
  },
  {
   "cell_type": "code",
   "execution_count": 2,
   "id": "9e07cc3d",
   "metadata": {
    "execution": {
     "iopub.execute_input": "2022-09-08T06:01:48.713035Z",
     "iopub.status.busy": "2022-09-08T06:01:48.712492Z",
     "iopub.status.idle": "2022-09-08T06:01:48.746981Z",
     "shell.execute_reply": "2022-09-08T06:01:48.745637Z"
    },
    "papermill": {
     "duration": 0.044113,
     "end_time": "2022-09-08T06:01:48.750116",
     "exception": false,
     "start_time": "2022-09-08T06:01:48.706003",
     "status": "completed"
    },
    "tags": []
   },
   "outputs": [],
   "source": [
    "winter=pd.read_csv(\"../input/olympic-games/winter.csv\",usecols=[\"Athlete\",\"Medal\"])"
   ]
  },
  {
   "cell_type": "code",
   "execution_count": 3,
   "id": "9ce383c7",
   "metadata": {
    "execution": {
     "iopub.execute_input": "2022-09-08T06:01:48.762410Z",
     "iopub.status.busy": "2022-09-08T06:01:48.761849Z",
     "iopub.status.idle": "2022-09-08T06:01:48.848143Z",
     "shell.execute_reply": "2022-09-08T06:01:48.846606Z"
    },
    "papermill": {
     "duration": 0.096514,
     "end_time": "2022-09-08T06:01:48.851514",
     "exception": false,
     "start_time": "2022-09-08T06:01:48.755000",
     "status": "completed"
    },
    "tags": []
   },
   "outputs": [],
   "source": [
    "summer=pd.read_csv(\"../input/olympic-games/summer.csv\",usecols=[\"Athlete\",\"Medal\"])"
   ]
  },
  {
   "cell_type": "code",
   "execution_count": 4,
   "id": "5b0f461b",
   "metadata": {
    "execution": {
     "iopub.execute_input": "2022-09-08T06:01:48.863989Z",
     "iopub.status.busy": "2022-09-08T06:01:48.863446Z",
     "iopub.status.idle": "2022-09-08T06:01:48.876743Z",
     "shell.execute_reply": "2022-09-08T06:01:48.875671Z"
    },
    "papermill": {
     "duration": 0.023032,
     "end_time": "2022-09-08T06:01:48.879646",
     "exception": false,
     "start_time": "2022-09-08T06:01:48.856614",
     "status": "completed"
    },
    "tags": []
   },
   "outputs": [],
   "source": [
    "summer.rename(columns={\"Athlete\":\"Name\"},inplace=True)"
   ]
  },
  {
   "cell_type": "code",
   "execution_count": 5,
   "id": "1ec5918c",
   "metadata": {
    "execution": {
     "iopub.execute_input": "2022-09-08T06:01:48.891857Z",
     "iopub.status.busy": "2022-09-08T06:01:48.891246Z",
     "iopub.status.idle": "2022-09-08T06:01:48.918381Z",
     "shell.execute_reply": "2022-09-08T06:01:48.916833Z"
    },
    "papermill": {
     "duration": 0.037046,
     "end_time": "2022-09-08T06:01:48.921640",
     "exception": false,
     "start_time": "2022-09-08T06:01:48.884594",
     "status": "completed"
    },
    "tags": []
   },
   "outputs": [
    {
     "data": {
      "text/html": [
       "<div>\n",
       "<style scoped>\n",
       "    .dataframe tbody tr th:only-of-type {\n",
       "        vertical-align: middle;\n",
       "    }\n",
       "\n",
       "    .dataframe tbody tr th {\n",
       "        vertical-align: top;\n",
       "    }\n",
       "\n",
       "    .dataframe thead th {\n",
       "        text-align: right;\n",
       "    }\n",
       "</style>\n",
       "<table border=\"1\" class=\"dataframe\">\n",
       "  <thead>\n",
       "    <tr style=\"text-align: right;\">\n",
       "      <th></th>\n",
       "      <th>Name</th>\n",
       "      <th>Medal</th>\n",
       "    </tr>\n",
       "  </thead>\n",
       "  <tbody>\n",
       "    <tr>\n",
       "      <th>0</th>\n",
       "      <td>HAJOS, Alfred</td>\n",
       "      <td>Gold</td>\n",
       "    </tr>\n",
       "    <tr>\n",
       "      <th>1</th>\n",
       "      <td>HERSCHMANN, Otto</td>\n",
       "      <td>Silver</td>\n",
       "    </tr>\n",
       "    <tr>\n",
       "      <th>2</th>\n",
       "      <td>DRIVAS, Dimitrios</td>\n",
       "      <td>Bronze</td>\n",
       "    </tr>\n",
       "    <tr>\n",
       "      <th>3</th>\n",
       "      <td>MALOKINIS, Ioannis</td>\n",
       "      <td>Gold</td>\n",
       "    </tr>\n",
       "    <tr>\n",
       "      <th>4</th>\n",
       "      <td>CHASAPIS, Spiridon</td>\n",
       "      <td>Silver</td>\n",
       "    </tr>\n",
       "    <tr>\n",
       "      <th>...</th>\n",
       "      <td>...</td>\n",
       "      <td>...</td>\n",
       "    </tr>\n",
       "    <tr>\n",
       "      <th>31160</th>\n",
       "      <td>JANIKOWSKI, Damian</td>\n",
       "      <td>Bronze</td>\n",
       "    </tr>\n",
       "    <tr>\n",
       "      <th>31161</th>\n",
       "      <td>REZAEI, Ghasem Gholamreza</td>\n",
       "      <td>Gold</td>\n",
       "    </tr>\n",
       "    <tr>\n",
       "      <th>31162</th>\n",
       "      <td>TOTROV, Rustam</td>\n",
       "      <td>Silver</td>\n",
       "    </tr>\n",
       "    <tr>\n",
       "      <th>31163</th>\n",
       "      <td>ALEKSANYAN, Artur</td>\n",
       "      <td>Bronze</td>\n",
       "    </tr>\n",
       "    <tr>\n",
       "      <th>31164</th>\n",
       "      <td>LIDBERG, Jimmy</td>\n",
       "      <td>Bronze</td>\n",
       "    </tr>\n",
       "  </tbody>\n",
       "</table>\n",
       "<p>31165 rows × 2 columns</p>\n",
       "</div>"
      ],
      "text/plain": [
       "                            Name   Medal\n",
       "0                  HAJOS, Alfred    Gold\n",
       "1               HERSCHMANN, Otto  Silver\n",
       "2              DRIVAS, Dimitrios  Bronze\n",
       "3             MALOKINIS, Ioannis    Gold\n",
       "4             CHASAPIS, Spiridon  Silver\n",
       "...                          ...     ...\n",
       "31160         JANIKOWSKI, Damian  Bronze\n",
       "31161  REZAEI, Ghasem Gholamreza    Gold\n",
       "31162             TOTROV, Rustam  Silver\n",
       "31163          ALEKSANYAN, Artur  Bronze\n",
       "31164             LIDBERG, Jimmy  Bronze\n",
       "\n",
       "[31165 rows x 2 columns]"
      ]
     },
     "execution_count": 5,
     "metadata": {},
     "output_type": "execute_result"
    }
   ],
   "source": [
    "summer"
   ]
  },
  {
   "cell_type": "code",
   "execution_count": 6,
   "id": "e0743613",
   "metadata": {
    "execution": {
     "iopub.execute_input": "2022-09-08T06:01:48.935063Z",
     "iopub.status.busy": "2022-09-08T06:01:48.934482Z",
     "iopub.status.idle": "2022-09-08T06:01:49.001395Z",
     "shell.execute_reply": "2022-09-08T06:01:48.999649Z"
    },
    "papermill": {
     "duration": 0.077769,
     "end_time": "2022-09-08T06:01:49.005093",
     "exception": false,
     "start_time": "2022-09-08T06:01:48.927324",
     "status": "completed"
    },
    "tags": []
   },
   "outputs": [],
   "source": [
    "final=winter.merge(summer,how=\"outer\",left_on=\"Athlete\",right_on=\"Name\",suffixes=(\"_Winter\",\"_Summer\"),indicator=True)"
   ]
  },
  {
   "cell_type": "code",
   "execution_count": 7,
   "id": "d1a78a25",
   "metadata": {
    "execution": {
     "iopub.execute_input": "2022-09-08T06:01:49.018109Z",
     "iopub.status.busy": "2022-09-08T06:01:49.017573Z",
     "iopub.status.idle": "2022-09-08T06:01:49.029540Z",
     "shell.execute_reply": "2022-09-08T06:01:49.028104Z"
    },
    "papermill": {
     "duration": 0.021937,
     "end_time": "2022-09-08T06:01:49.032367",
     "exception": false,
     "start_time": "2022-09-08T06:01:49.010430",
     "status": "completed"
    },
    "tags": []
   },
   "outputs": [
    {
     "data": {
      "text/plain": [
       "70"
      ]
     },
     "execution_count": 7,
     "metadata": {},
     "output_type": "execute_result"
    }
   ],
   "source": [
    "final[\"_merge\"].value_counts().both"
   ]
  },
  {
   "cell_type": "code",
   "execution_count": 8,
   "id": "678ae1ff",
   "metadata": {
    "execution": {
     "iopub.execute_input": "2022-09-08T06:01:49.045658Z",
     "iopub.status.busy": "2022-09-08T06:01:49.045017Z",
     "iopub.status.idle": "2022-09-08T06:01:49.068825Z",
     "shell.execute_reply": "2022-09-08T06:01:49.067663Z"
    },
    "papermill": {
     "duration": 0.034029,
     "end_time": "2022-09-08T06:01:49.071791",
     "exception": false,
     "start_time": "2022-09-08T06:01:49.037762",
     "status": "completed"
    },
    "tags": []
   },
   "outputs": [
    {
     "data": {
      "text/html": [
       "<div>\n",
       "<style scoped>\n",
       "    .dataframe tbody tr th:only-of-type {\n",
       "        vertical-align: middle;\n",
       "    }\n",
       "\n",
       "    .dataframe tbody tr th {\n",
       "        vertical-align: top;\n",
       "    }\n",
       "\n",
       "    .dataframe thead th {\n",
       "        text-align: right;\n",
       "    }\n",
       "</style>\n",
       "<table border=\"1\" class=\"dataframe\">\n",
       "  <thead>\n",
       "    <tr style=\"text-align: right;\">\n",
       "      <th></th>\n",
       "      <th>Athlete</th>\n",
       "      <th>Medal_Winter</th>\n",
       "      <th>Name</th>\n",
       "      <th>Medal_Summer</th>\n",
       "      <th>_merge</th>\n",
       "    </tr>\n",
       "  </thead>\n",
       "  <tbody>\n",
       "    <tr>\n",
       "      <th>26</th>\n",
       "      <td>ANDRE, Georges</td>\n",
       "      <td>Bronze</td>\n",
       "      <td>ANDRE, Georges</td>\n",
       "      <td>Silver</td>\n",
       "      <td>both</td>\n",
       "    </tr>\n",
       "    <tr>\n",
       "      <th>27</th>\n",
       "      <td>ANDRE, Georges</td>\n",
       "      <td>Bronze</td>\n",
       "      <td>ANDRE, Georges</td>\n",
       "      <td>Bronze</td>\n",
       "      <td>both</td>\n",
       "    </tr>\n",
       "    <tr>\n",
       "      <th>48</th>\n",
       "      <td>ANDERSON, William</td>\n",
       "      <td>Bronze</td>\n",
       "      <td>ANDERSON, William</td>\n",
       "      <td>Bronze</td>\n",
       "      <td>both</td>\n",
       "    </tr>\n",
       "    <tr>\n",
       "      <th>78</th>\n",
       "      <td>SYNNOTT, Francis Allen</td>\n",
       "      <td>Silver</td>\n",
       "      <td>SYNNOTT, Francis Allen</td>\n",
       "      <td>Silver</td>\n",
       "      <td>both</td>\n",
       "    </tr>\n",
       "    <tr>\n",
       "      <th>80</th>\n",
       "      <td>GRAFSTRÖM, Gillis</td>\n",
       "      <td>Gold</td>\n",
       "      <td>GRAFSTRÖM, Gillis</td>\n",
       "      <td>Gold</td>\n",
       "      <td>both</td>\n",
       "    </tr>\n",
       "    <tr>\n",
       "      <th>...</th>\n",
       "      <td>...</td>\n",
       "      <td>...</td>\n",
       "      <td>...</td>\n",
       "      <td>...</td>\n",
       "      <td>...</td>\n",
       "    </tr>\n",
       "    <tr>\n",
       "      <th>4311</th>\n",
       "      <td>IVANOV, Mikhail</td>\n",
       "      <td>Gold</td>\n",
       "      <td>IVANOV, Mikhail</td>\n",
       "      <td>Gold</td>\n",
       "      <td>both</td>\n",
       "    </tr>\n",
       "    <tr>\n",
       "      <th>4312</th>\n",
       "      <td>IVANOV, Mikhail</td>\n",
       "      <td>Gold</td>\n",
       "      <td>IVANOV, Mikhail</td>\n",
       "      <td>Bronze</td>\n",
       "      <td>both</td>\n",
       "    </tr>\n",
       "    <tr>\n",
       "      <th>5156</th>\n",
       "      <td>ZHANG, Hui</td>\n",
       "      <td>Gold</td>\n",
       "      <td>ZHANG, Hui</td>\n",
       "      <td>Bronze</td>\n",
       "      <td>both</td>\n",
       "    </tr>\n",
       "    <tr>\n",
       "      <th>5416</th>\n",
       "      <td>WILLIAMS, Lauryn</td>\n",
       "      <td>Silver</td>\n",
       "      <td>WILLIAMS, Lauryn</td>\n",
       "      <td>Silver</td>\n",
       "      <td>both</td>\n",
       "    </tr>\n",
       "    <tr>\n",
       "      <th>5417</th>\n",
       "      <td>WILLIAMS, Lauryn</td>\n",
       "      <td>Silver</td>\n",
       "      <td>WILLIAMS, Lauryn</td>\n",
       "      <td>Gold</td>\n",
       "      <td>both</td>\n",
       "    </tr>\n",
       "  </tbody>\n",
       "</table>\n",
       "<p>70 rows × 5 columns</p>\n",
       "</div>"
      ],
      "text/plain": [
       "                     Athlete Medal_Winter                    Name  \\\n",
       "26            ANDRE, Georges       Bronze          ANDRE, Georges   \n",
       "27            ANDRE, Georges       Bronze          ANDRE, Georges   \n",
       "48         ANDERSON, William       Bronze       ANDERSON, William   \n",
       "78    SYNNOTT, Francis Allen       Silver  SYNNOTT, Francis Allen   \n",
       "80         GRAFSTRÖM, Gillis         Gold       GRAFSTRÖM, Gillis   \n",
       "...                      ...          ...                     ...   \n",
       "4311         IVANOV, Mikhail         Gold         IVANOV, Mikhail   \n",
       "4312         IVANOV, Mikhail         Gold         IVANOV, Mikhail   \n",
       "5156              ZHANG, Hui         Gold              ZHANG, Hui   \n",
       "5416        WILLIAMS, Lauryn       Silver        WILLIAMS, Lauryn   \n",
       "5417        WILLIAMS, Lauryn       Silver        WILLIAMS, Lauryn   \n",
       "\n",
       "     Medal_Summer _merge  \n",
       "26         Silver   both  \n",
       "27         Bronze   both  \n",
       "48         Bronze   both  \n",
       "78         Silver   both  \n",
       "80           Gold   both  \n",
       "...           ...    ...  \n",
       "4311         Gold   both  \n",
       "4312       Bronze   both  \n",
       "5156       Bronze   both  \n",
       "5416       Silver   both  \n",
       "5417         Gold   both  \n",
       "\n",
       "[70 rows x 5 columns]"
      ]
     },
     "execution_count": 8,
     "metadata": {},
     "output_type": "execute_result"
    }
   ],
   "source": [
    "final[final[\"_merge\"]==\"both\"]"
   ]
  },
  {
   "cell_type": "markdown",
   "id": "eb9ccba3",
   "metadata": {
    "papermill": {
     "duration": 0.004646,
     "end_time": "2022-09-08T06:01:49.081583",
     "exception": false,
     "start_time": "2022-09-08T06:01:49.076937",
     "status": "completed"
    },
    "tags": []
   },
   "source": [
    "# Conclusion \n",
    "The Data looks quite dirty now. However, you can remove the unwanted column and use only the relevant ones. You can also treat the null values if wanted"
   ]
  },
  {
   "cell_type": "markdown",
   "id": "53fa8147",
   "metadata": {
    "papermill": {
     "duration": 0.004595,
     "end_time": "2022-09-08T06:01:49.091256",
     "exception": false,
     "start_time": "2022-09-08T06:01:49.086661",
     "status": "completed"
    },
    "tags": []
   },
   "source": [
    "# Using different columns / indexes to join"
   ]
  },
  {
   "cell_type": "code",
   "execution_count": 9,
   "id": "4b53383c",
   "metadata": {
    "execution": {
     "iopub.execute_input": "2022-09-08T06:01:49.103095Z",
     "iopub.status.busy": "2022-09-08T06:01:49.102691Z",
     "iopub.status.idle": "2022-09-08T06:01:49.112441Z",
     "shell.execute_reply": "2022-09-08T06:01:49.111280Z"
    },
    "papermill": {
     "duration": 0.019457,
     "end_time": "2022-09-08T06:01:49.115589",
     "exception": false,
     "start_time": "2022-09-08T06:01:49.096132",
     "status": "completed"
    },
    "tags": []
   },
   "outputs": [
    {
     "name": "stdout",
     "output_type": "stream",
     "text": [
      "   a  b\n",
      "a  0  5\n",
      "b  1  3\n",
      "c  2  6\n",
      "d  3  9\n",
      "e  4  2\n",
      "f  5  4\n"
     ]
    }
   ],
   "source": [
    "df1 = pd.DataFrame({'a':range(6),\n",
    "                    'b':[5,3,6,9,2,4]}, index=list('abcdef'))\n",
    "\n",
    "print (df1)\n",
    "\n",
    "df2 = pd.DataFrame({'c':range(4),\n",
    "                    'd':[10,20,30, 40]}, index=list('abhi'))"
   ]
  },
  {
   "cell_type": "code",
   "execution_count": 10,
   "id": "87c70d0a",
   "metadata": {
    "execution": {
     "iopub.execute_input": "2022-09-08T06:01:49.128471Z",
     "iopub.status.busy": "2022-09-08T06:01:49.127719Z",
     "iopub.status.idle": "2022-09-08T06:01:49.136682Z",
     "shell.execute_reply": "2022-09-08T06:01:49.135923Z"
    },
    "papermill": {
     "duration": 0.017142,
     "end_time": "2022-09-08T06:01:49.138715",
     "exception": false,
     "start_time": "2022-09-08T06:01:49.121573",
     "status": "completed"
    },
    "tags": []
   },
   "outputs": [
    {
     "data": {
      "text/html": [
       "<div>\n",
       "<style scoped>\n",
       "    .dataframe tbody tr th:only-of-type {\n",
       "        vertical-align: middle;\n",
       "    }\n",
       "\n",
       "    .dataframe tbody tr th {\n",
       "        vertical-align: top;\n",
       "    }\n",
       "\n",
       "    .dataframe thead th {\n",
       "        text-align: right;\n",
       "    }\n",
       "</style>\n",
       "<table border=\"1\" class=\"dataframe\">\n",
       "  <thead>\n",
       "    <tr style=\"text-align: right;\">\n",
       "      <th></th>\n",
       "      <th>c</th>\n",
       "      <th>d</th>\n",
       "    </tr>\n",
       "  </thead>\n",
       "  <tbody>\n",
       "    <tr>\n",
       "      <th>a</th>\n",
       "      <td>0</td>\n",
       "      <td>10</td>\n",
       "    </tr>\n",
       "    <tr>\n",
       "      <th>b</th>\n",
       "      <td>1</td>\n",
       "      <td>20</td>\n",
       "    </tr>\n",
       "    <tr>\n",
       "      <th>h</th>\n",
       "      <td>2</td>\n",
       "      <td>30</td>\n",
       "    </tr>\n",
       "    <tr>\n",
       "      <th>i</th>\n",
       "      <td>3</td>\n",
       "      <td>40</td>\n",
       "    </tr>\n",
       "  </tbody>\n",
       "</table>\n",
       "</div>"
      ],
      "text/plain": [
       "   c   d\n",
       "a  0  10\n",
       "b  1  20\n",
       "h  2  30\n",
       "i  3  40"
      ]
     },
     "execution_count": 10,
     "metadata": {},
     "output_type": "execute_result"
    }
   ],
   "source": [
    "df2"
   ]
  },
  {
   "cell_type": "code",
   "execution_count": 11,
   "id": "fda5039a",
   "metadata": {
    "execution": {
     "iopub.execute_input": "2022-09-08T06:01:49.150948Z",
     "iopub.status.busy": "2022-09-08T06:01:49.150335Z",
     "iopub.status.idle": "2022-09-08T06:01:49.159781Z",
     "shell.execute_reply": "2022-09-08T06:01:49.158860Z"
    },
    "papermill": {
     "duration": 0.018364,
     "end_time": "2022-09-08T06:01:49.162172",
     "exception": false,
     "start_time": "2022-09-08T06:01:49.143808",
     "status": "completed"
    },
    "tags": []
   },
   "outputs": [],
   "source": [
    "df3 = pd.merge(df1, df2, left_index=True, right_index=True)"
   ]
  },
  {
   "cell_type": "code",
   "execution_count": 12,
   "id": "aa01fb76",
   "metadata": {
    "execution": {
     "iopub.execute_input": "2022-09-08T06:01:49.175370Z",
     "iopub.status.busy": "2022-09-08T06:01:49.174749Z",
     "iopub.status.idle": "2022-09-08T06:01:49.184149Z",
     "shell.execute_reply": "2022-09-08T06:01:49.183030Z"
    },
    "papermill": {
     "duration": 0.018794,
     "end_time": "2022-09-08T06:01:49.186327",
     "exception": false,
     "start_time": "2022-09-08T06:01:49.167533",
     "status": "completed"
    },
    "tags": []
   },
   "outputs": [
    {
     "data": {
      "text/html": [
       "<div>\n",
       "<style scoped>\n",
       "    .dataframe tbody tr th:only-of-type {\n",
       "        vertical-align: middle;\n",
       "    }\n",
       "\n",
       "    .dataframe tbody tr th {\n",
       "        vertical-align: top;\n",
       "    }\n",
       "\n",
       "    .dataframe thead th {\n",
       "        text-align: right;\n",
       "    }\n",
       "</style>\n",
       "<table border=\"1\" class=\"dataframe\">\n",
       "  <thead>\n",
       "    <tr style=\"text-align: right;\">\n",
       "      <th></th>\n",
       "      <th>a</th>\n",
       "      <th>b</th>\n",
       "      <th>c</th>\n",
       "      <th>d</th>\n",
       "    </tr>\n",
       "  </thead>\n",
       "  <tbody>\n",
       "    <tr>\n",
       "      <th>a</th>\n",
       "      <td>0</td>\n",
       "      <td>5</td>\n",
       "      <td>0</td>\n",
       "      <td>10</td>\n",
       "    </tr>\n",
       "    <tr>\n",
       "      <th>b</th>\n",
       "      <td>1</td>\n",
       "      <td>3</td>\n",
       "      <td>1</td>\n",
       "      <td>20</td>\n",
       "    </tr>\n",
       "  </tbody>\n",
       "</table>\n",
       "</div>"
      ],
      "text/plain": [
       "   a  b  c   d\n",
       "a  0  5  0  10\n",
       "b  1  3  1  20"
      ]
     },
     "execution_count": 12,
     "metadata": {},
     "output_type": "execute_result"
    }
   ],
   "source": [
    "df3"
   ]
  }
 ],
 "metadata": {
  "kernelspec": {
   "display_name": "Python 3",
   "language": "python",
   "name": "python3"
  },
  "language_info": {
   "codemirror_mode": {
    "name": "ipython",
    "version": 3
   },
   "file_extension": ".py",
   "mimetype": "text/x-python",
   "name": "python",
   "nbconvert_exporter": "python",
   "pygments_lexer": "ipython3",
   "version": "3.7.12"
  },
  "papermill": {
   "default_parameters": {},
   "duration": 11.998864,
   "end_time": "2022-09-08T06:01:49.813001",
   "environment_variables": {},
   "exception": null,
   "input_path": "__notebook__.ipynb",
   "output_path": "__notebook__.ipynb",
   "parameters": {},
   "start_time": "2022-09-08T06:01:37.814137",
   "version": "2.3.4"
  }
 },
 "nbformat": 4,
 "nbformat_minor": 5
}
