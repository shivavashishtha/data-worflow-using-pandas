{
 "cells": [
  {
   "cell_type": "markdown",
   "id": "251149d5",
   "metadata": {
    "papermill": {
     "duration": 0.014764,
     "end_time": "2022-02-23T11:24:05.328695",
     "exception": false,
     "start_time": "2022-02-23T11:24:05.313931",
     "status": "completed"
    },
    "tags": []
   },
   "source": [
    "# Introduction \n",
    "\n",
    "Hi Folks,\n",
    "We are starting the Full DataFlow Journey in which we are covering everything like ​​Importing Data, Cleaning Data, Merging, Joining, and Concatenating Data, GroupBy Operations, Reshaping and Pivoting DataFrames, Data Preparation and Feature Creation, etc.<br><br>\n",
    "\n",
    "### Lecture Agenda\n",
    "In this particular lecture we are going to learn how to read Excel files using pd.read_excel and clean it using pandas only\n",
    "\n",
    "\n",
    "#### Technologies Used\n",
    "Python, Pandas\n",
    "\n",
    "\n",
    "### Data Used\n",
    "Covid-19 Excel Dataset with Interactive Dashboard\n",
    "This data contains state wise analysis of the covid data\n",
    "\n",
    "### Getting Started\n",
    "\n",
    "1. What is an Excel File?\n",
    "Add data files from kaggle <br>\n",
    "Excel is a spreadsheet program from Microsoft and a component of its Office product group for business applications. Microsoft Excel enables users to format, organize and calculate data in a spreadsheet.\n",
    "\n",
    "2. Why to clean Excel files?\n",
    "To get appropriate results, the data we are using has to be accurate. If, the data is not accurate it might result in wrong finding. So it is suggested to clean the data using different methods.\n"
   ]
  },
  {
   "cell_type": "code",
   "execution_count": 1,
   "id": "36210b76",
   "metadata": {
    "_cell_guid": "b1076dfc-b9ad-4769-8c92-a6c4dae69d19",
    "_uuid": "8f2839f25d086af736a60e9eeb907d3b93b6e0e5",
    "execution": {
     "iopub.execute_input": "2022-02-23T11:24:05.354639Z",
     "iopub.status.busy": "2022-02-23T11:24:05.353460Z",
     "iopub.status.idle": "2022-02-23T11:24:05.372181Z",
     "shell.execute_reply": "2022-02-23T11:24:05.372814Z",
     "shell.execute_reply.started": "2022-02-23T11:23:20.351589Z"
    },
    "papermill": {
     "duration": 0.033222,
     "end_time": "2022-02-23T11:24:05.373129",
     "exception": false,
     "start_time": "2022-02-23T11:24:05.339907",
     "status": "completed"
    },
    "tags": []
   },
   "outputs": [
    {
     "name": "stdout",
     "output_type": "stream",
     "text": [
      "/kaggle/input/covid19-excel-dataset-with-interactive-dashboard/Covid Dashboard.xlsx\n"
     ]
    }
   ],
   "source": [
    "# This Python 3 environment comes with many helpful analytics libraries installed\n",
    "# It is defined by the kaggle/python Docker image: https://github.com/kaggle/docker-python\n",
    "# For example, here's several helpful packages to load\n",
    "\n",
    "import numpy as np # linear algebra\n",
    "import pandas as pd # data processing, CSV file I/O (e.g. pd.read_csv)\n",
    "\n",
    "# Input data files are available in the read-only \"../input/\" directory\n",
    "# For example, running this (by clicking run or pressing Shift+Enter) will list all files under the input directory\n",
    "\n",
    "import os\n",
    "for dirname, _, filenames in os.walk('/kaggle/input'):\n",
    "    for filename in filenames:\n",
    "        print(os.path.join(dirname, filename))\n",
    "\n",
    "# You can write up to 20GB to the current directory (/kaggle/working/) that gets preserved as output when you create a version using \"Save & Run All\" \n",
    "# You can also write temporary files to /kaggle/temp/, but they won't be saved outside of the current session"
   ]
  },
  {
   "cell_type": "markdown",
   "id": "066aa297",
   "metadata": {
    "papermill": {
     "duration": 0.010507,
     "end_time": "2022-02-23T11:24:05.395051",
     "exception": false,
     "start_time": "2022-02-23T11:24:05.384544",
     "status": "completed"
    },
    "tags": []
   },
   "source": [
    "In order to open Excel file we need openpyxl module to be installed in the environment"
   ]
  },
  {
   "cell_type": "code",
   "execution_count": 2,
   "id": "4bbd52f1",
   "metadata": {
    "execution": {
     "iopub.execute_input": "2022-02-23T11:24:05.418870Z",
     "iopub.status.busy": "2022-02-23T11:24:05.417923Z",
     "iopub.status.idle": "2022-02-23T11:24:16.745483Z",
     "shell.execute_reply": "2022-02-23T11:24:16.744917Z",
     "shell.execute_reply.started": "2022-02-23T11:23:20.373260Z"
    },
    "papermill": {
     "duration": 11.340338,
     "end_time": "2022-02-23T11:24:16.745628",
     "exception": false,
     "start_time": "2022-02-23T11:24:05.405290",
     "status": "completed"
    },
    "tags": []
   },
   "outputs": [
    {
     "name": "stdout",
     "output_type": "stream",
     "text": [
      "Collecting openpyxl\r\n",
      "  Downloading openpyxl-3.0.9-py2.py3-none-any.whl (242 kB)\r\n",
      "     |████████████████████████████████| 242 kB 5.0 MB/s            \r\n",
      "\u001b[?25hCollecting et-xmlfile\r\n",
      "  Downloading et_xmlfile-1.1.0-py3-none-any.whl (4.7 kB)\r\n",
      "Installing collected packages: et-xmlfile, openpyxl\r\n",
      "Successfully installed et-xmlfile-1.1.0 openpyxl-3.0.9\r\n",
      "\u001b[33mWARNING: Running pip as the 'root' user can result in broken permissions and conflicting behaviour with the system package manager. It is recommended to use a virtual environment instead: https://pip.pypa.io/warnings/venv\u001b[0m\r\n"
     ]
    }
   ],
   "source": [
    "!pip install openpyxl"
   ]
  },
  {
   "cell_type": "code",
   "execution_count": 3,
   "id": "5ff9d487",
   "metadata": {
    "execution": {
     "iopub.execute_input": "2022-02-23T11:24:16.776545Z",
     "iopub.status.busy": "2022-02-23T11:24:16.775899Z",
     "iopub.status.idle": "2022-02-23T11:24:17.239055Z",
     "shell.execute_reply": "2022-02-23T11:24:17.238448Z",
     "shell.execute_reply.started": "2022-02-23T11:23:29.839577Z"
    },
    "papermill": {
     "duration": 0.481107,
     "end_time": "2022-02-23T11:24:17.239200",
     "exception": false,
     "start_time": "2022-02-23T11:24:16.758093",
     "status": "completed"
    },
    "tags": []
   },
   "outputs": [],
   "source": [
    "#running again the same command after intalling the dependency module\n",
    "df=pd.read_excel(\"../input/covid19-excel-dataset-with-interactive-dashboard/Covid Dashboard.xlsx\")"
   ]
  },
  {
   "cell_type": "code",
   "execution_count": 4,
   "id": "792643f7",
   "metadata": {
    "execution": {
     "iopub.execute_input": "2022-02-23T11:24:17.273026Z",
     "iopub.status.busy": "2022-02-23T11:24:17.272332Z",
     "iopub.status.idle": "2022-02-23T11:24:17.294194Z",
     "shell.execute_reply": "2022-02-23T11:24:17.293639Z",
     "shell.execute_reply.started": "2022-02-23T11:23:29.910722Z"
    },
    "papermill": {
     "duration": 0.042874,
     "end_time": "2022-02-23T11:24:17.294331",
     "exception": false,
     "start_time": "2022-02-23T11:24:17.251457",
     "status": "completed"
    },
    "tags": []
   },
   "outputs": [
    {
     "data": {
      "text/html": [
       "<div>\n",
       "<style scoped>\n",
       "    .dataframe tbody tr th:only-of-type {\n",
       "        vertical-align: middle;\n",
       "    }\n",
       "\n",
       "    .dataframe tbody tr th {\n",
       "        vertical-align: top;\n",
       "    }\n",
       "\n",
       "    .dataframe thead th {\n",
       "        text-align: right;\n",
       "    }\n",
       "</style>\n",
       "<table border=\"1\" class=\"dataframe\">\n",
       "  <thead>\n",
       "    <tr style=\"text-align: right;\">\n",
       "      <th></th>\n",
       "      <th>State/UTs</th>\n",
       "      <th>Zone</th>\n",
       "      <th>Total Cases</th>\n",
       "      <th>Active</th>\n",
       "      <th>Discharged</th>\n",
       "      <th>Deaths</th>\n",
       "      <th>Active Ratio</th>\n",
       "      <th>Discharge Ratio</th>\n",
       "      <th>Discharge Avg</th>\n",
       "      <th>Death Ratio</th>\n",
       "      <th>Death Avg</th>\n",
       "      <th>Population</th>\n",
       "    </tr>\n",
       "  </thead>\n",
       "  <tbody>\n",
       "    <tr>\n",
       "      <th>0</th>\n",
       "      <td>Andaman and Nicobar</td>\n",
       "      <td>South</td>\n",
       "      <td>7670</td>\n",
       "      <td>7</td>\n",
       "      <td>7534</td>\n",
       "      <td>129</td>\n",
       "      <td>0.09</td>\n",
       "      <td>98.23</td>\n",
       "      <td>Below Average</td>\n",
       "      <td>1.68</td>\n",
       "      <td>Above Average</td>\n",
       "      <td>399001</td>\n",
       "    </tr>\n",
       "    <tr>\n",
       "      <th>1</th>\n",
       "      <td>Andhra Pradesh</td>\n",
       "      <td>South</td>\n",
       "      <td>2069770</td>\n",
       "      <td>3128</td>\n",
       "      <td>2052230</td>\n",
       "      <td>14412</td>\n",
       "      <td>0.15</td>\n",
       "      <td>99.15</td>\n",
       "      <td>Above Average</td>\n",
       "      <td>0.70</td>\n",
       "      <td>Below Average</td>\n",
       "      <td>91702478</td>\n",
       "    </tr>\n",
       "    <tr>\n",
       "      <th>2</th>\n",
       "      <td>Arunachal Pradesh</td>\n",
       "      <td>East</td>\n",
       "      <td>55216</td>\n",
       "      <td>42</td>\n",
       "      <td>54894</td>\n",
       "      <td>280</td>\n",
       "      <td>0.08</td>\n",
       "      <td>99.42</td>\n",
       "      <td>Above Average</td>\n",
       "      <td>0.51</td>\n",
       "      <td>Below Average</td>\n",
       "      <td>1711947</td>\n",
       "    </tr>\n",
       "    <tr>\n",
       "      <th>3</th>\n",
       "      <td>Assam</td>\n",
       "      <td>East</td>\n",
       "      <td>613784</td>\n",
       "      <td>3272</td>\n",
       "      <td>604465</td>\n",
       "      <td>6047</td>\n",
       "      <td>0.53</td>\n",
       "      <td>98.48</td>\n",
       "      <td>Above Average</td>\n",
       "      <td>0.99</td>\n",
       "      <td>Below Average</td>\n",
       "      <td>35998752</td>\n",
       "    </tr>\n",
       "    <tr>\n",
       "      <th>4</th>\n",
       "      <td>Bihar</td>\n",
       "      <td>East</td>\n",
       "      <td>726153</td>\n",
       "      <td>29</td>\n",
       "      <td>716462</td>\n",
       "      <td>9662</td>\n",
       "      <td>0.00</td>\n",
       "      <td>98.67</td>\n",
       "      <td>Above Average</td>\n",
       "      <td>1.33</td>\n",
       "      <td>Above Average</td>\n",
       "      <td>128500364</td>\n",
       "    </tr>\n",
       "  </tbody>\n",
       "</table>\n",
       "</div>"
      ],
      "text/plain": [
       "             State/UTs   Zone  Total Cases  Active  Discharged  Deaths  \\\n",
       "0  Andaman and Nicobar  South         7670       7        7534     129   \n",
       "1       Andhra Pradesh  South      2069770    3128     2052230   14412   \n",
       "2    Arunachal Pradesh   East        55216      42       54894     280   \n",
       "3                Assam   East       613784    3272      604465    6047   \n",
       "4                Bihar   East       726153      29      716462    9662   \n",
       "\n",
       "   Active Ratio  Discharge Ratio  Discharge Avg  Death Ratio      Death Avg  \\\n",
       "0          0.09            98.23  Below Average         1.68  Above Average   \n",
       "1          0.15            99.15  Above Average         0.70  Below Average   \n",
       "2          0.08            99.42  Above Average         0.51  Below Average   \n",
       "3          0.53            98.48  Above Average         0.99  Below Average   \n",
       "4          0.00            98.67  Above Average         1.33  Above Average   \n",
       "\n",
       "   Population  \n",
       "0      399001  \n",
       "1    91702478  \n",
       "2     1711947  \n",
       "3    35998752  \n",
       "4   128500364  "
      ]
     },
     "execution_count": 4,
     "metadata": {},
     "output_type": "execute_result"
    }
   ],
   "source": [
    "df.head()"
   ]
  },
  {
   "cell_type": "code",
   "execution_count": 5,
   "id": "e4daa8fc",
   "metadata": {
    "execution": {
     "iopub.execute_input": "2022-02-23T11:24:17.348773Z",
     "iopub.status.busy": "2022-02-23T11:24:17.346384Z",
     "iopub.status.idle": "2022-02-23T11:24:17.354822Z",
     "shell.execute_reply": "2022-02-23T11:24:17.354059Z",
     "shell.execute_reply.started": "2022-02-23T11:23:29.932912Z"
    },
    "papermill": {
     "duration": 0.047922,
     "end_time": "2022-02-23T11:24:17.355034",
     "exception": false,
     "start_time": "2022-02-23T11:24:17.307112",
     "status": "completed"
    },
    "tags": []
   },
   "outputs": [
    {
     "name": "stdout",
     "output_type": "stream",
     "text": [
      "<class 'pandas.core.frame.DataFrame'>\n",
      "RangeIndex: 36 entries, 0 to 35\n",
      "Data columns (total 12 columns):\n",
      " #   Column           Non-Null Count  Dtype  \n",
      "---  ------           --------------  -----  \n",
      " 0   State/UTs        36 non-null     object \n",
      " 1   Zone             36 non-null     object \n",
      " 2   Total Cases      36 non-null     int64  \n",
      " 3   Active           36 non-null     int64  \n",
      " 4   Discharged       36 non-null     int64  \n",
      " 5   Deaths           36 non-null     int64  \n",
      " 6   Active Ratio     36 non-null     float64\n",
      " 7   Discharge Ratio  36 non-null     float64\n",
      " 8   Discharge Avg    36 non-null     object \n",
      " 9   Death Ratio      36 non-null     float64\n",
      " 10  Death Avg        36 non-null     object \n",
      " 11  Population       36 non-null     int64  \n",
      "dtypes: float64(3), int64(5), object(4)\n",
      "memory usage: 3.5+ KB\n"
     ]
    }
   ],
   "source": [
    "df.info()"
   ]
  },
  {
   "cell_type": "code",
   "execution_count": 6,
   "id": "ba1015d5",
   "metadata": {
    "execution": {
     "iopub.execute_input": "2022-02-23T11:24:17.386524Z",
     "iopub.status.busy": "2022-02-23T11:24:17.385505Z",
     "iopub.status.idle": "2022-02-23T11:24:17.396679Z",
     "shell.execute_reply": "2022-02-23T11:24:17.396147Z",
     "shell.execute_reply.started": "2022-02-23T11:23:29.959641Z"
    },
    "papermill": {
     "duration": 0.027824,
     "end_time": "2022-02-23T11:24:17.396838",
     "exception": false,
     "start_time": "2022-02-23T11:24:17.369014",
     "status": "completed"
    },
    "tags": []
   },
   "outputs": [
    {
     "data": {
      "text/plain": [
       "State/UTs          0\n",
       "Zone               0\n",
       "Total Cases        0\n",
       "Active             0\n",
       "Discharged         0\n",
       "Deaths             0\n",
       "Active Ratio       0\n",
       "Discharge Ratio    0\n",
       "Discharge Avg      0\n",
       "Death Ratio        0\n",
       "Death Avg          0\n",
       "Population         0\n",
       "dtype: int64"
      ]
     },
     "execution_count": 6,
     "metadata": {},
     "output_type": "execute_result"
    }
   ],
   "source": [
    "df.isnull().sum()"
   ]
  },
  {
   "cell_type": "code",
   "execution_count": 7,
   "id": "52ffbed4",
   "metadata": {
    "execution": {
     "iopub.execute_input": "2022-02-23T11:24:17.437445Z",
     "iopub.status.busy": "2022-02-23T11:24:17.436794Z",
     "iopub.status.idle": "2022-02-23T11:24:17.466794Z",
     "shell.execute_reply": "2022-02-23T11:24:17.467302Z",
     "shell.execute_reply.started": "2022-02-23T11:23:29.974164Z"
    },
    "papermill": {
     "duration": 0.054337,
     "end_time": "2022-02-23T11:24:17.467497",
     "exception": false,
     "start_time": "2022-02-23T11:24:17.413160",
     "status": "completed"
    },
    "tags": []
   },
   "outputs": [
    {
     "data": {
      "text/html": [
       "<div>\n",
       "<style scoped>\n",
       "    .dataframe tbody tr th:only-of-type {\n",
       "        vertical-align: middle;\n",
       "    }\n",
       "\n",
       "    .dataframe tbody tr th {\n",
       "        vertical-align: top;\n",
       "    }\n",
       "\n",
       "    .dataframe thead th {\n",
       "        text-align: right;\n",
       "    }\n",
       "</style>\n",
       "<table border=\"1\" class=\"dataframe\">\n",
       "  <thead>\n",
       "    <tr style=\"text-align: right;\">\n",
       "      <th></th>\n",
       "      <th>Total Cases</th>\n",
       "      <th>Active</th>\n",
       "      <th>Discharged</th>\n",
       "      <th>Deaths</th>\n",
       "      <th>Active Ratio</th>\n",
       "      <th>Discharge Ratio</th>\n",
       "      <th>Death Ratio</th>\n",
       "      <th>Population</th>\n",
       "    </tr>\n",
       "  </thead>\n",
       "  <tbody>\n",
       "    <tr>\n",
       "      <th>count</th>\n",
       "      <td>3.600000e+01</td>\n",
       "      <td>36.00000</td>\n",
       "      <td>3.600000e+01</td>\n",
       "      <td>36.000000</td>\n",
       "      <td>36.000000</td>\n",
       "      <td>36.000000</td>\n",
       "      <td>36.000000</td>\n",
       "      <td>3.600000e+01</td>\n",
       "    </tr>\n",
       "    <tr>\n",
       "      <th>mean</th>\n",
       "      <td>9.565919e+05</td>\n",
       "      <td>3775.50000</td>\n",
       "      <td>9.399405e+05</td>\n",
       "      <td>12875.833333</td>\n",
       "      <td>0.363889</td>\n",
       "      <td>98.358056</td>\n",
       "      <td>1.277778</td>\n",
       "      <td>3.971861e+07</td>\n",
       "    </tr>\n",
       "    <tr>\n",
       "      <th>std</th>\n",
       "      <td>1.432317e+06</td>\n",
       "      <td>11756.13309</td>\n",
       "      <td>1.402230e+06</td>\n",
       "      <td>24364.269113</td>\n",
       "      <td>0.747557</td>\n",
       "      <td>0.791010</td>\n",
       "      <td>0.561773</td>\n",
       "      <td>5.050913e+07</td>\n",
       "    </tr>\n",
       "    <tr>\n",
       "      <th>min</th>\n",
       "      <td>7.670000e+03</td>\n",
       "      <td>0.00000</td>\n",
       "      <td>7.534000e+03</td>\n",
       "      <td>4.000000</td>\n",
       "      <td>0.000000</td>\n",
       "      <td>95.250000</td>\n",
       "      <td>0.040000</td>\n",
       "      <td>6.600100e+04</td>\n",
       "    </tr>\n",
       "    <tr>\n",
       "      <th>25%</th>\n",
       "      <td>8.450200e+04</td>\n",
       "      <td>109.50000</td>\n",
       "      <td>8.336750e+04</td>\n",
       "      <td>819.250000</td>\n",
       "      <td>0.030000</td>\n",
       "      <td>97.952500</td>\n",
       "      <td>0.955000</td>\n",
       "      <td>1.695473e+06</td>\n",
       "    </tr>\n",
       "    <tr>\n",
       "      <th>50%</th>\n",
       "      <td>4.758850e+05</td>\n",
       "      <td>246.50000</td>\n",
       "      <td>4.648010e+05</td>\n",
       "      <td>5592.500000</td>\n",
       "      <td>0.150000</td>\n",
       "      <td>98.420000</td>\n",
       "      <td>1.315000</td>\n",
       "      <td>2.410088e+07</td>\n",
       "    </tr>\n",
       "    <tr>\n",
       "      <th>75%</th>\n",
       "      <td>1.016047e+06</td>\n",
       "      <td>2682.50000</td>\n",
       "      <td>1.002956e+06</td>\n",
       "      <td>13794.000000</td>\n",
       "      <td>0.445000</td>\n",
       "      <td>98.720000</td>\n",
       "      <td>1.590000</td>\n",
       "      <td>6.979986e+07</td>\n",
       "    </tr>\n",
       "    <tr>\n",
       "      <th>max</th>\n",
       "      <td>6.623344e+06</td>\n",
       "      <td>69258.00000</td>\n",
       "      <td>6.466913e+06</td>\n",
       "      <td>140565.000000</td>\n",
       "      <td>4.390000</td>\n",
       "      <td>99.960000</td>\n",
       "      <td>2.750000</td>\n",
       "      <td>2.315026e+08</td>\n",
       "    </tr>\n",
       "  </tbody>\n",
       "</table>\n",
       "</div>"
      ],
      "text/plain": [
       "        Total Cases       Active    Discharged         Deaths  Active Ratio  \\\n",
       "count  3.600000e+01     36.00000  3.600000e+01      36.000000     36.000000   \n",
       "mean   9.565919e+05   3775.50000  9.399405e+05   12875.833333      0.363889   \n",
       "std    1.432317e+06  11756.13309  1.402230e+06   24364.269113      0.747557   \n",
       "min    7.670000e+03      0.00000  7.534000e+03       4.000000      0.000000   \n",
       "25%    8.450200e+04    109.50000  8.336750e+04     819.250000      0.030000   \n",
       "50%    4.758850e+05    246.50000  4.648010e+05    5592.500000      0.150000   \n",
       "75%    1.016047e+06   2682.50000  1.002956e+06   13794.000000      0.445000   \n",
       "max    6.623344e+06  69258.00000  6.466913e+06  140565.000000      4.390000   \n",
       "\n",
       "       Discharge Ratio  Death Ratio    Population  \n",
       "count        36.000000    36.000000  3.600000e+01  \n",
       "mean         98.358056     1.277778  3.971861e+07  \n",
       "std           0.791010     0.561773  5.050913e+07  \n",
       "min          95.250000     0.040000  6.600100e+04  \n",
       "25%          97.952500     0.955000  1.695473e+06  \n",
       "50%          98.420000     1.315000  2.410088e+07  \n",
       "75%          98.720000     1.590000  6.979986e+07  \n",
       "max          99.960000     2.750000  2.315026e+08  "
      ]
     },
     "execution_count": 7,
     "metadata": {},
     "output_type": "execute_result"
    }
   ],
   "source": [
    "df.describe()"
   ]
  }
 ],
 "metadata": {
  "kernelspec": {
   "display_name": "Python 3",
   "language": "python",
   "name": "python3"
  },
  "language_info": {
   "codemirror_mode": {
    "name": "ipython",
    "version": 3
   },
   "file_extension": ".py",
   "mimetype": "text/x-python",
   "name": "python",
   "nbconvert_exporter": "python",
   "pygments_lexer": "ipython3",
   "version": "3.7.12"
  },
  "papermill": {
   "default_parameters": {},
   "duration": 23.650428,
   "end_time": "2022-02-23T11:24:18.393954",
   "environment_variables": {},
   "exception": null,
   "input_path": "__notebook__.ipynb",
   "output_path": "__notebook__.ipynb",
   "parameters": {},
   "start_time": "2022-02-23T11:23:54.743526",
   "version": "2.3.3"
  }
 },
 "nbformat": 4,
 "nbformat_minor": 5
}
