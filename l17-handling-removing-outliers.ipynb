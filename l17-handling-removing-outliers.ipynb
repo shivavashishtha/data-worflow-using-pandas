{
 "cells": [
  {
   "cell_type": "code",
   "execution_count": 1,
   "id": "517c5ef8",
   "metadata": {
    "_cell_guid": "b1076dfc-b9ad-4769-8c92-a6c4dae69d19",
    "_uuid": "8f2839f25d086af736a60e9eeb907d3b93b6e0e5",
    "execution": {
     "iopub.execute_input": "2022-03-11T05:41:38.077623Z",
     "iopub.status.busy": "2022-03-11T05:41:38.076970Z",
     "iopub.status.idle": "2022-03-11T05:41:38.089272Z",
     "shell.execute_reply": "2022-03-11T05:41:38.088641Z",
     "shell.execute_reply.started": "2022-03-11T05:28:35.073572Z"
    },
    "papermill": {
     "duration": 0.044367,
     "end_time": "2022-03-11T05:41:38.089467",
     "exception": false,
     "start_time": "2022-03-11T05:41:38.045100",
     "status": "completed"
    },
    "tags": []
   },
   "outputs": [
    {
     "name": "stdout",
     "output_type": "stream",
     "text": [
      "/kaggle/input/titanic-extended/train.csv\n",
      "/kaggle/input/titanic-extended/full.csv\n",
      "/kaggle/input/titanic-extended/test.csv\n"
     ]
    }
   ],
   "source": [
    "# This Python 3 environment comes with many helpful analytics libraries installed\n",
    "# It is defined by the kaggle/python Docker image: https://github.com/kaggle/docker-python\n",
    "# For example, here's several helpful packages to load\n",
    "\n",
    "import numpy as np # linear algebra\n",
    "import pandas as pd # data processing, CSV file I/O (e.g. pd.read_csv)\n",
    "\n",
    "# Input data files are available in the read-only \"../input/\" directory\n",
    "# For example, running this (by clicking run or pressing Shift+Enter) will list all files under the input directory\n",
    "\n",
    "import os\n",
    "for dirname, _, filenames in os.walk('/kaggle/input'):\n",
    "    for filename in filenames:\n",
    "        print(os.path.join(dirname, filename))\n",
    "\n",
    "# You can write up to 20GB to the current directory (/kaggle/working/) that gets preserved as output when you create a version using \"Save & Run All\" \n",
    "# You can also write temporary files to /kaggle/temp/, but they won't be saved outside of the current session"
   ]
  },
  {
   "cell_type": "markdown",
   "id": "a67736ac",
   "metadata": {
    "papermill": {
     "duration": 0.021164,
     "end_time": "2022-03-11T05:41:38.133961",
     "exception": false,
     "start_time": "2022-03-11T05:41:38.112797",
     "status": "completed"
    },
    "tags": []
   },
   "source": [
    "# What is an Outlier?\n",
    "In statistics, an outlier is a data point that differs significantly from other observations. An outlier may be due to variability in the measurement or it may indicate experimental error; the latter are sometimes excluded from the data set. An outlier can cause serious problems in statistical analyses.<br> \n",
    "Source: Wikipedia\n",
    "\n",
    "\n",
    "### Note:\n",
    "Their is no specific fuction or method of finding an outlier as it is a datapoint, it can only be detected via observations."
   ]
  },
  {
   "cell_type": "code",
   "execution_count": 2,
   "id": "b43a2130",
   "metadata": {
    "execution": {
     "iopub.execute_input": "2022-03-11T05:41:38.182983Z",
     "iopub.status.busy": "2022-03-11T05:41:38.182208Z",
     "iopub.status.idle": "2022-03-11T05:41:38.205401Z",
     "shell.execute_reply": "2022-03-11T05:41:38.204862Z",
     "shell.execute_reply.started": "2022-03-11T05:28:35.090575Z"
    },
    "papermill": {
     "duration": 0.05045,
     "end_time": "2022-03-11T05:41:38.205541",
     "exception": false,
     "start_time": "2022-03-11T05:41:38.155091",
     "status": "completed"
    },
    "tags": []
   },
   "outputs": [],
   "source": [
    "df=pd.read_csv(\"../input/titanic-extended/full.csv\",usecols=['PassengerId', 'Survived', 'Pclass', 'Name', 'Sex', 'Age','Fare','SibSp'])"
   ]
  },
  {
   "cell_type": "code",
   "execution_count": 3,
   "id": "13f47cdb",
   "metadata": {
    "execution": {
     "iopub.execute_input": "2022-03-11T05:41:38.261016Z",
     "iopub.status.busy": "2022-03-11T05:41:38.260393Z",
     "iopub.status.idle": "2022-03-11T05:41:38.279066Z",
     "shell.execute_reply": "2022-03-11T05:41:38.279521Z",
     "shell.execute_reply.started": "2022-03-11T05:28:35.120017Z"
    },
    "papermill": {
     "duration": 0.052101,
     "end_time": "2022-03-11T05:41:38.279687",
     "exception": false,
     "start_time": "2022-03-11T05:41:38.227586",
     "status": "completed"
    },
    "tags": []
   },
   "outputs": [
    {
     "data": {
      "text/html": [
       "<div>\n",
       "<style scoped>\n",
       "    .dataframe tbody tr th:only-of-type {\n",
       "        vertical-align: middle;\n",
       "    }\n",
       "\n",
       "    .dataframe tbody tr th {\n",
       "        vertical-align: top;\n",
       "    }\n",
       "\n",
       "    .dataframe thead th {\n",
       "        text-align: right;\n",
       "    }\n",
       "</style>\n",
       "<table border=\"1\" class=\"dataframe\">\n",
       "  <thead>\n",
       "    <tr style=\"text-align: right;\">\n",
       "      <th></th>\n",
       "      <th>PassengerId</th>\n",
       "      <th>Survived</th>\n",
       "      <th>Pclass</th>\n",
       "      <th>Name</th>\n",
       "      <th>Sex</th>\n",
       "      <th>Age</th>\n",
       "      <th>SibSp</th>\n",
       "      <th>Fare</th>\n",
       "    </tr>\n",
       "  </thead>\n",
       "  <tbody>\n",
       "    <tr>\n",
       "      <th>0</th>\n",
       "      <td>1</td>\n",
       "      <td>0.0</td>\n",
       "      <td>3</td>\n",
       "      <td>Braund, Mr. Owen Harris</td>\n",
       "      <td>male</td>\n",
       "      <td>22.0</td>\n",
       "      <td>1</td>\n",
       "      <td>7.2500</td>\n",
       "    </tr>\n",
       "    <tr>\n",
       "      <th>1</th>\n",
       "      <td>2</td>\n",
       "      <td>1.0</td>\n",
       "      <td>1</td>\n",
       "      <td>Cumings, Mrs. John Bradley (Florence Briggs Th...</td>\n",
       "      <td>female</td>\n",
       "      <td>38.0</td>\n",
       "      <td>1</td>\n",
       "      <td>71.2833</td>\n",
       "    </tr>\n",
       "    <tr>\n",
       "      <th>2</th>\n",
       "      <td>3</td>\n",
       "      <td>1.0</td>\n",
       "      <td>3</td>\n",
       "      <td>Heikkinen, Miss. Laina</td>\n",
       "      <td>female</td>\n",
       "      <td>26.0</td>\n",
       "      <td>0</td>\n",
       "      <td>7.9250</td>\n",
       "    </tr>\n",
       "    <tr>\n",
       "      <th>3</th>\n",
       "      <td>4</td>\n",
       "      <td>1.0</td>\n",
       "      <td>1</td>\n",
       "      <td>Futrelle, Mrs. Jacques Heath (Lily May Peel)</td>\n",
       "      <td>female</td>\n",
       "      <td>35.0</td>\n",
       "      <td>1</td>\n",
       "      <td>53.1000</td>\n",
       "    </tr>\n",
       "    <tr>\n",
       "      <th>4</th>\n",
       "      <td>5</td>\n",
       "      <td>0.0</td>\n",
       "      <td>3</td>\n",
       "      <td>Allen, Mr. William Henry</td>\n",
       "      <td>male</td>\n",
       "      <td>35.0</td>\n",
       "      <td>0</td>\n",
       "      <td>8.0500</td>\n",
       "    </tr>\n",
       "    <tr>\n",
       "      <th>...</th>\n",
       "      <td>...</td>\n",
       "      <td>...</td>\n",
       "      <td>...</td>\n",
       "      <td>...</td>\n",
       "      <td>...</td>\n",
       "      <td>...</td>\n",
       "      <td>...</td>\n",
       "      <td>...</td>\n",
       "    </tr>\n",
       "    <tr>\n",
       "      <th>1304</th>\n",
       "      <td>1305</td>\n",
       "      <td>NaN</td>\n",
       "      <td>3</td>\n",
       "      <td>Spector, Mr. Woolf</td>\n",
       "      <td>male</td>\n",
       "      <td>NaN</td>\n",
       "      <td>0</td>\n",
       "      <td>8.0500</td>\n",
       "    </tr>\n",
       "    <tr>\n",
       "      <th>1305</th>\n",
       "      <td>1306</td>\n",
       "      <td>NaN</td>\n",
       "      <td>1</td>\n",
       "      <td>Oliva y Ocana, Dona. Fermina</td>\n",
       "      <td>female</td>\n",
       "      <td>39.0</td>\n",
       "      <td>0</td>\n",
       "      <td>108.9000</td>\n",
       "    </tr>\n",
       "    <tr>\n",
       "      <th>1306</th>\n",
       "      <td>1307</td>\n",
       "      <td>NaN</td>\n",
       "      <td>3</td>\n",
       "      <td>Saether, Mr. Simon Sivertsen</td>\n",
       "      <td>male</td>\n",
       "      <td>38.5</td>\n",
       "      <td>0</td>\n",
       "      <td>7.2500</td>\n",
       "    </tr>\n",
       "    <tr>\n",
       "      <th>1307</th>\n",
       "      <td>1308</td>\n",
       "      <td>NaN</td>\n",
       "      <td>3</td>\n",
       "      <td>Ware, Mr. Frederick</td>\n",
       "      <td>male</td>\n",
       "      <td>NaN</td>\n",
       "      <td>0</td>\n",
       "      <td>8.0500</td>\n",
       "    </tr>\n",
       "    <tr>\n",
       "      <th>1308</th>\n",
       "      <td>1309</td>\n",
       "      <td>NaN</td>\n",
       "      <td>3</td>\n",
       "      <td>Peter, Master. Michael J</td>\n",
       "      <td>male</td>\n",
       "      <td>NaN</td>\n",
       "      <td>1</td>\n",
       "      <td>22.3583</td>\n",
       "    </tr>\n",
       "  </tbody>\n",
       "</table>\n",
       "<p>1309 rows × 8 columns</p>\n",
       "</div>"
      ],
      "text/plain": [
       "      PassengerId  Survived  Pclass  \\\n",
       "0               1       0.0       3   \n",
       "1               2       1.0       1   \n",
       "2               3       1.0       3   \n",
       "3               4       1.0       1   \n",
       "4               5       0.0       3   \n",
       "...           ...       ...     ...   \n",
       "1304         1305       NaN       3   \n",
       "1305         1306       NaN       1   \n",
       "1306         1307       NaN       3   \n",
       "1307         1308       NaN       3   \n",
       "1308         1309       NaN       3   \n",
       "\n",
       "                                                   Name     Sex   Age  SibSp  \\\n",
       "0                               Braund, Mr. Owen Harris    male  22.0      1   \n",
       "1     Cumings, Mrs. John Bradley (Florence Briggs Th...  female  38.0      1   \n",
       "2                                Heikkinen, Miss. Laina  female  26.0      0   \n",
       "3          Futrelle, Mrs. Jacques Heath (Lily May Peel)  female  35.0      1   \n",
       "4                              Allen, Mr. William Henry    male  35.0      0   \n",
       "...                                                 ...     ...   ...    ...   \n",
       "1304                                 Spector, Mr. Woolf    male   NaN      0   \n",
       "1305                       Oliva y Ocana, Dona. Fermina  female  39.0      0   \n",
       "1306                       Saether, Mr. Simon Sivertsen    male  38.5      0   \n",
       "1307                                Ware, Mr. Frederick    male   NaN      0   \n",
       "1308                           Peter, Master. Michael J    male   NaN      1   \n",
       "\n",
       "          Fare  \n",
       "0       7.2500  \n",
       "1      71.2833  \n",
       "2       7.9250  \n",
       "3      53.1000  \n",
       "4       8.0500  \n",
       "...        ...  \n",
       "1304    8.0500  \n",
       "1305  108.9000  \n",
       "1306    7.2500  \n",
       "1307    8.0500  \n",
       "1308   22.3583  \n",
       "\n",
       "[1309 rows x 8 columns]"
      ]
     },
     "execution_count": 3,
     "metadata": {},
     "output_type": "execute_result"
    }
   ],
   "source": [
    "df"
   ]
  },
  {
   "cell_type": "code",
   "execution_count": 4,
   "id": "654e97a0",
   "metadata": {
    "execution": {
     "iopub.execute_input": "2022-03-11T05:41:38.329014Z",
     "iopub.status.busy": "2022-03-11T05:41:38.328111Z",
     "iopub.status.idle": "2022-03-11T05:41:38.348912Z",
     "shell.execute_reply": "2022-03-11T05:41:38.349412Z",
     "shell.execute_reply.started": "2022-03-11T05:28:35.150444Z"
    },
    "papermill": {
     "duration": 0.048017,
     "end_time": "2022-03-11T05:41:38.349577",
     "exception": false,
     "start_time": "2022-03-11T05:41:38.301560",
     "status": "completed"
    },
    "tags": []
   },
   "outputs": [
    {
     "name": "stdout",
     "output_type": "stream",
     "text": [
      "<class 'pandas.core.frame.DataFrame'>\n",
      "RangeIndex: 1309 entries, 0 to 1308\n",
      "Data columns (total 8 columns):\n",
      " #   Column       Non-Null Count  Dtype  \n",
      "---  ------       --------------  -----  \n",
      " 0   PassengerId  1309 non-null   int64  \n",
      " 1   Survived     891 non-null    float64\n",
      " 2   Pclass       1309 non-null   int64  \n",
      " 3   Name         1309 non-null   object \n",
      " 4   Sex          1309 non-null   object \n",
      " 5   Age          1046 non-null   float64\n",
      " 6   SibSp        1309 non-null   int64  \n",
      " 7   Fare         1308 non-null   float64\n",
      "dtypes: float64(3), int64(3), object(2)\n",
      "memory usage: 81.9+ KB\n"
     ]
    }
   ],
   "source": [
    "df.info()"
   ]
  },
  {
   "cell_type": "markdown",
   "id": "55765c5e",
   "metadata": {
    "papermill": {
     "duration": 0.022128,
     "end_time": "2022-03-11T05:41:38.394070",
     "exception": false,
     "start_time": "2022-03-11T05:41:38.371942",
     "status": "completed"
    },
    "tags": []
   },
   "source": [
    "# Corrupting the dataset to learn more\n",
    "\n",
    "Note: New learners please skip this step learn about outliers therefore, we'll learn how I planted those outliers."
   ]
  },
  {
   "cell_type": "code",
   "execution_count": 5,
   "id": "44db03b7",
   "metadata": {
    "execution": {
     "iopub.execute_input": "2022-03-11T05:41:38.452191Z",
     "iopub.status.busy": "2022-03-11T05:41:38.451199Z",
     "iopub.status.idle": "2022-03-11T05:41:38.457266Z",
     "shell.execute_reply": "2022-03-11T05:41:38.457847Z",
     "shell.execute_reply.started": "2022-03-11T05:28:35.174235Z"
    },
    "papermill": {
     "duration": 0.036284,
     "end_time": "2022-03-11T05:41:38.458032",
     "exception": false,
     "start_time": "2022-03-11T05:41:38.421748",
     "status": "completed"
    },
    "tags": []
   },
   "outputs": [],
   "source": [
    "#replacing male with 1 and female with 0 \n",
    "#by doing this the series willl be converted to a integer datatype\n",
    "df[\"Sex\"].replace(to_replace=\"male\",value=1,inplace=True)"
   ]
  },
  {
   "cell_type": "code",
   "execution_count": 6,
   "id": "56d09d9a",
   "metadata": {
    "execution": {
     "iopub.execute_input": "2022-03-11T05:41:38.507614Z",
     "iopub.status.busy": "2022-03-11T05:41:38.506647Z",
     "iopub.status.idle": "2022-03-11T05:41:38.514508Z",
     "shell.execute_reply": "2022-03-11T05:41:38.515001Z",
     "shell.execute_reply.started": "2022-03-11T05:28:35.181922Z"
    },
    "papermill": {
     "duration": 0.033895,
     "end_time": "2022-03-11T05:41:38.515166",
     "exception": false,
     "start_time": "2022-03-11T05:41:38.481271",
     "status": "completed"
    },
    "tags": []
   },
   "outputs": [],
   "source": [
    "df[\"Sex\"].replace(to_replace=\"female\",value=0,inplace=True)"
   ]
  },
  {
   "cell_type": "code",
   "execution_count": 7,
   "id": "0219f0d1",
   "metadata": {
    "execution": {
     "iopub.execute_input": "2022-03-11T05:41:38.569274Z",
     "iopub.status.busy": "2022-03-11T05:41:38.568467Z",
     "iopub.status.idle": "2022-03-11T05:41:38.571584Z",
     "shell.execute_reply": "2022-03-11T05:41:38.571989Z",
     "shell.execute_reply.started": "2022-03-11T05:28:35.193477Z"
    },
    "papermill": {
     "duration": 0.034122,
     "end_time": "2022-03-11T05:41:38.572154",
     "exception": false,
     "start_time": "2022-03-11T05:41:38.538032",
     "status": "completed"
    },
    "tags": []
   },
   "outputs": [
    {
     "data": {
      "text/plain": [
       "PassengerId      0\n",
       "Survived       418\n",
       "Pclass           0\n",
       "Name             0\n",
       "Sex              0\n",
       "Age            263\n",
       "SibSp            0\n",
       "Fare             1\n",
       "dtype: int64"
      ]
     },
     "execution_count": 7,
     "metadata": {},
     "output_type": "execute_result"
    }
   ],
   "source": [
    "df.isna().sum()"
   ]
  },
  {
   "cell_type": "code",
   "execution_count": 8,
   "id": "3f9c9499",
   "metadata": {
    "execution": {
     "iopub.execute_input": "2022-03-11T05:41:38.621340Z",
     "iopub.status.busy": "2022-03-11T05:41:38.620773Z",
     "iopub.status.idle": "2022-03-11T05:41:38.624218Z",
     "shell.execute_reply": "2022-03-11T05:41:38.624665Z",
     "shell.execute_reply.started": "2022-03-11T05:28:35.209463Z"
    },
    "papermill": {
     "duration": 0.029376,
     "end_time": "2022-03-11T05:41:38.624879",
     "exception": false,
     "start_time": "2022-03-11T05:41:38.595503",
     "status": "completed"
    },
    "tags": []
   },
   "outputs": [],
   "source": [
    "#filling all the null values in series Age with 0\n",
    "df[\"Age\"].fillna(0,inplace=True)"
   ]
  },
  {
   "cell_type": "code",
   "execution_count": 9,
   "id": "9801ca1f",
   "metadata": {
    "execution": {
     "iopub.execute_input": "2022-03-11T05:41:38.677549Z",
     "iopub.status.busy": "2022-03-11T05:41:38.676597Z",
     "iopub.status.idle": "2022-03-11T05:41:38.680137Z",
     "shell.execute_reply": "2022-03-11T05:41:38.680605Z",
     "shell.execute_reply.started": "2022-03-11T05:28:35.221089Z"
    },
    "papermill": {
     "duration": 0.032897,
     "end_time": "2022-03-11T05:41:38.680769",
     "exception": false,
     "start_time": "2022-03-11T05:41:38.647872",
     "status": "completed"
    },
    "tags": []
   },
   "outputs": [
    {
     "data": {
      "text/plain": [
       "0       1\n",
       "1       0\n",
       "2       0\n",
       "3       0\n",
       "4       1\n",
       "       ..\n",
       "1304    1\n",
       "1305    0\n",
       "1306    1\n",
       "1307    1\n",
       "1308    1\n",
       "Name: Sex, Length: 1309, dtype: int64"
      ]
     },
     "execution_count": 9,
     "metadata": {},
     "output_type": "execute_result"
    }
   ],
   "source": [
    "df[\"Sex\"].astype(\"int\")"
   ]
  },
  {
   "cell_type": "code",
   "execution_count": 10,
   "id": "f3ad540b",
   "metadata": {
    "_kg_hide-input": true,
    "_kg_hide-output": true,
    "execution": {
     "iopub.execute_input": "2022-03-11T05:41:38.732974Z",
     "iopub.status.busy": "2022-03-11T05:41:38.732275Z",
     "iopub.status.idle": "2022-03-11T05:41:38.734977Z",
     "shell.execute_reply": "2022-03-11T05:41:38.734497Z",
     "shell.execute_reply.started": "2022-03-11T05:28:35.235978Z"
    },
    "papermill": {
     "duration": 0.031211,
     "end_time": "2022-03-11T05:41:38.735108",
     "exception": false,
     "start_time": "2022-03-11T05:41:38.703897",
     "status": "completed"
    },
    "tags": []
   },
   "outputs": [],
   "source": [
    "df.loc[1105,\"Sex\"]=7"
   ]
  },
  {
   "cell_type": "code",
   "execution_count": 11,
   "id": "faacf19e",
   "metadata": {
    "_kg_hide-input": true,
    "execution": {
     "iopub.execute_input": "2022-03-11T05:41:38.786286Z",
     "iopub.status.busy": "2022-03-11T05:41:38.785620Z",
     "iopub.status.idle": "2022-03-11T05:41:38.788052Z",
     "shell.execute_reply": "2022-03-11T05:41:38.788469Z",
     "shell.execute_reply.started": "2022-03-11T05:28:35.248047Z"
    },
    "papermill": {
     "duration": 0.030787,
     "end_time": "2022-03-11T05:41:38.788641",
     "exception": false,
     "start_time": "2022-03-11T05:41:38.757854",
     "status": "completed"
    },
    "tags": []
   },
   "outputs": [],
   "source": [
    "df.loc[1305,\"Age\"]=315"
   ]
  },
  {
   "cell_type": "markdown",
   "id": "fa0c1a93",
   "metadata": {
    "papermill": {
     "duration": 0.022752,
     "end_time": "2022-03-11T05:41:38.834958",
     "exception": false,
     "start_time": "2022-03-11T05:41:38.812206",
     "status": "completed"
    },
    "tags": []
   },
   "source": [
    "# Let's study the Data for Outliers"
   ]
  },
  {
   "cell_type": "code",
   "execution_count": 12,
   "id": "4c34c353",
   "metadata": {
    "execution": {
     "iopub.execute_input": "2022-03-11T05:41:38.883991Z",
     "iopub.status.busy": "2022-03-11T05:41:38.883391Z",
     "iopub.status.idle": "2022-03-11T05:41:38.895134Z",
     "shell.execute_reply": "2022-03-11T05:41:38.895600Z",
     "shell.execute_reply.started": "2022-03-11T05:28:35.260462Z"
    },
    "papermill": {
     "duration": 0.037751,
     "end_time": "2022-03-11T05:41:38.895773",
     "exception": false,
     "start_time": "2022-03-11T05:41:38.858022",
     "status": "completed"
    },
    "tags": []
   },
   "outputs": [
    {
     "name": "stdout",
     "output_type": "stream",
     "text": [
      "<class 'pandas.core.frame.DataFrame'>\n",
      "RangeIndex: 1309 entries, 0 to 1308\n",
      "Data columns (total 8 columns):\n",
      " #   Column       Non-Null Count  Dtype  \n",
      "---  ------       --------------  -----  \n",
      " 0   PassengerId  1309 non-null   int64  \n",
      " 1   Survived     891 non-null    float64\n",
      " 2   Pclass       1309 non-null   int64  \n",
      " 3   Name         1309 non-null   object \n",
      " 4   Sex          1309 non-null   int64  \n",
      " 5   Age          1309 non-null   float64\n",
      " 6   SibSp        1309 non-null   int64  \n",
      " 7   Fare         1308 non-null   float64\n",
      "dtypes: float64(3), int64(4), object(1)\n",
      "memory usage: 81.9+ KB\n"
     ]
    }
   ],
   "source": [
    "df.info()"
   ]
  },
  {
   "cell_type": "markdown",
   "id": "0cb5fff2",
   "metadata": {
    "execution": {
     "iopub.execute_input": "2022-03-11T05:12:31.875761Z",
     "iopub.status.busy": "2022-03-11T05:12:31.875117Z",
     "iopub.status.idle": "2022-03-11T05:12:31.881598Z",
     "shell.execute_reply": "2022-03-11T05:12:31.880094Z",
     "shell.execute_reply.started": "2022-03-11T05:12:31.875727Z"
    },
    "papermill": {
     "duration": 0.030161,
     "end_time": "2022-03-11T05:41:38.953991",
     "exception": false,
     "start_time": "2022-03-11T05:41:38.923830",
     "status": "completed"
    },
    "tags": []
   },
   "source": [
    "# Decribing the data \n",
    "The outliers are mostly founds in numerical data. df.describe() clears the picture to some extent and helps in identifying the outliers"
   ]
  },
  {
   "cell_type": "code",
   "execution_count": 13,
   "id": "c83a1946",
   "metadata": {
    "execution": {
     "iopub.execute_input": "2022-03-11T05:41:39.008578Z",
     "iopub.status.busy": "2022-03-11T05:41:39.007984Z",
     "iopub.status.idle": "2022-03-11T05:41:39.035650Z",
     "shell.execute_reply": "2022-03-11T05:41:39.036237Z",
     "shell.execute_reply.started": "2022-03-11T05:28:35.276731Z"
    },
    "papermill": {
     "duration": 0.05745,
     "end_time": "2022-03-11T05:41:39.036421",
     "exception": false,
     "start_time": "2022-03-11T05:41:38.978971",
     "status": "completed"
    },
    "tags": []
   },
   "outputs": [
    {
     "data": {
      "text/html": [
       "<div>\n",
       "<style scoped>\n",
       "    .dataframe tbody tr th:only-of-type {\n",
       "        vertical-align: middle;\n",
       "    }\n",
       "\n",
       "    .dataframe tbody tr th {\n",
       "        vertical-align: top;\n",
       "    }\n",
       "\n",
       "    .dataframe thead th {\n",
       "        text-align: right;\n",
       "    }\n",
       "</style>\n",
       "<table border=\"1\" class=\"dataframe\">\n",
       "  <thead>\n",
       "    <tr style=\"text-align: right;\">\n",
       "      <th></th>\n",
       "      <th>PassengerId</th>\n",
       "      <th>Survived</th>\n",
       "      <th>Pclass</th>\n",
       "      <th>Sex</th>\n",
       "      <th>Age</th>\n",
       "      <th>SibSp</th>\n",
       "      <th>Fare</th>\n",
       "    </tr>\n",
       "  </thead>\n",
       "  <tbody>\n",
       "    <tr>\n",
       "      <th>count</th>\n",
       "      <td>1309.000000</td>\n",
       "      <td>891.000000</td>\n",
       "      <td>1309.000000</td>\n",
       "      <td>1309.000000</td>\n",
       "      <td>1309.000000</td>\n",
       "      <td>1309.000000</td>\n",
       "      <td>1308.000000</td>\n",
       "    </tr>\n",
       "    <tr>\n",
       "      <th>mean</th>\n",
       "      <td>655.000000</td>\n",
       "      <td>0.383838</td>\n",
       "      <td>2.294882</td>\n",
       "      <td>0.649351</td>\n",
       "      <td>24.088365</td>\n",
       "      <td>0.498854</td>\n",
       "      <td>33.295479</td>\n",
       "    </tr>\n",
       "    <tr>\n",
       "      <th>std</th>\n",
       "      <td>378.020061</td>\n",
       "      <td>0.486592</td>\n",
       "      <td>0.837836</td>\n",
       "      <td>0.509881</td>\n",
       "      <td>19.339437</td>\n",
       "      <td>1.041658</td>\n",
       "      <td>51.758668</td>\n",
       "    </tr>\n",
       "    <tr>\n",
       "      <th>min</th>\n",
       "      <td>1.000000</td>\n",
       "      <td>0.000000</td>\n",
       "      <td>1.000000</td>\n",
       "      <td>0.000000</td>\n",
       "      <td>0.000000</td>\n",
       "      <td>0.000000</td>\n",
       "      <td>0.000000</td>\n",
       "    </tr>\n",
       "    <tr>\n",
       "      <th>25%</th>\n",
       "      <td>328.000000</td>\n",
       "      <td>0.000000</td>\n",
       "      <td>2.000000</td>\n",
       "      <td>0.000000</td>\n",
       "      <td>7.000000</td>\n",
       "      <td>0.000000</td>\n",
       "      <td>7.895800</td>\n",
       "    </tr>\n",
       "    <tr>\n",
       "      <th>50%</th>\n",
       "      <td>655.000000</td>\n",
       "      <td>0.000000</td>\n",
       "      <td>3.000000</td>\n",
       "      <td>1.000000</td>\n",
       "      <td>24.000000</td>\n",
       "      <td>0.000000</td>\n",
       "      <td>14.454200</td>\n",
       "    </tr>\n",
       "    <tr>\n",
       "      <th>75%</th>\n",
       "      <td>982.000000</td>\n",
       "      <td>1.000000</td>\n",
       "      <td>3.000000</td>\n",
       "      <td>1.000000</td>\n",
       "      <td>35.000000</td>\n",
       "      <td>1.000000</td>\n",
       "      <td>31.275000</td>\n",
       "    </tr>\n",
       "    <tr>\n",
       "      <th>max</th>\n",
       "      <td>1309.000000</td>\n",
       "      <td>1.000000</td>\n",
       "      <td>3.000000</td>\n",
       "      <td>7.000000</td>\n",
       "      <td>315.000000</td>\n",
       "      <td>8.000000</td>\n",
       "      <td>512.329200</td>\n",
       "    </tr>\n",
       "  </tbody>\n",
       "</table>\n",
       "</div>"
      ],
      "text/plain": [
       "       PassengerId    Survived       Pclass          Sex          Age  \\\n",
       "count  1309.000000  891.000000  1309.000000  1309.000000  1309.000000   \n",
       "mean    655.000000    0.383838     2.294882     0.649351    24.088365   \n",
       "std     378.020061    0.486592     0.837836     0.509881    19.339437   \n",
       "min       1.000000    0.000000     1.000000     0.000000     0.000000   \n",
       "25%     328.000000    0.000000     2.000000     0.000000     7.000000   \n",
       "50%     655.000000    0.000000     3.000000     1.000000    24.000000   \n",
       "75%     982.000000    1.000000     3.000000     1.000000    35.000000   \n",
       "max    1309.000000    1.000000     3.000000     7.000000   315.000000   \n",
       "\n",
       "             SibSp         Fare  \n",
       "count  1309.000000  1308.000000  \n",
       "mean      0.498854    33.295479  \n",
       "std       1.041658    51.758668  \n",
       "min       0.000000     0.000000  \n",
       "25%       0.000000     7.895800  \n",
       "50%       0.000000    14.454200  \n",
       "75%       1.000000    31.275000  \n",
       "max       8.000000   512.329200  "
      ]
     },
     "execution_count": 13,
     "metadata": {},
     "output_type": "execute_result"
    }
   ],
   "source": [
    "df.describe()"
   ]
  },
  {
   "cell_type": "code",
   "execution_count": 14,
   "id": "56d70749",
   "metadata": {
    "execution": {
     "iopub.execute_input": "2022-03-11T05:41:39.088177Z",
     "iopub.status.busy": "2022-03-11T05:41:39.087567Z",
     "iopub.status.idle": "2022-03-11T05:41:39.365694Z",
     "shell.execute_reply": "2022-03-11T05:41:39.366131Z",
     "shell.execute_reply.started": "2022-03-11T05:28:35.309176Z"
    },
    "papermill": {
     "duration": 0.305597,
     "end_time": "2022-03-11T05:41:39.366289",
     "exception": false,
     "start_time": "2022-03-11T05:41:39.060692",
     "status": "completed"
    },
    "tags": []
   },
   "outputs": [
    {
     "data": {
      "image/png": "[encoded data removed]",
      "text/plain": [
       "<Figure size 1080x648 with 1 Axes>"
      ]
     },
     "metadata": {
      "needs_background": "light"
     },
     "output_type": "display_data"
    }
   ],
   "source": [
    "# plotting all the values \n",
    "# this will help in identifying the outlier in easy way\n",
    "import matplotlib.pyplot as plt\n",
    "plt.figure(figsize=(15,9))\n",
    "df.Age.plot()\n",
    "plt.show()"
   ]
  },
  {
   "cell_type": "code",
   "execution_count": 15,
   "id": "2420aa46",
   "metadata": {
    "execution": {
     "iopub.execute_input": "2022-03-11T05:41:39.422275Z",
     "iopub.status.busy": "2022-03-11T05:41:39.421678Z",
     "iopub.status.idle": "2022-03-11T05:41:39.730497Z",
     "shell.execute_reply": "2022-03-11T05:41:39.729979Z",
     "shell.execute_reply.started": "2022-03-11T05:28:35.541527Z"
    },
    "papermill": {
     "duration": 0.338474,
     "end_time": "2022-03-11T05:41:39.730660",
     "exception": false,
     "start_time": "2022-03-11T05:41:39.392186",
     "status": "completed"
    },
    "tags": []
   },
   "outputs": [
    {
     "data": {
      "image/png": "[encoded data removed]",
      "text/plain": [
       "<Figure size 1080x648 with 1 Axes>"
      ]
     },
     "metadata": {
      "needs_background": "light"
     },
     "output_type": "display_data"
    }
   ],
   "source": [
    "import matplotlib.pyplot as plt\n",
    "plt.figure(figsize=(15,9))\n",
    "df.Sex.plot()\n",
    "plt.show()"
   ]
  },
  {
   "cell_type": "markdown",
   "id": "c1ad3b09",
   "metadata": {
    "papermill": {
     "duration": 0.027681,
     "end_time": "2022-03-11T05:41:39.786697",
     "exception": false,
     "start_time": "2022-03-11T05:41:39.759016",
     "status": "completed"
    },
    "tags": []
   },
   "source": [
    "# Why these values are Outliers?\n",
    "1. Age can not be around 350 (max value of age)\n",
    "2. Sex can either be 1 or 0 can't be 7 (max value of Sex)"
   ]
  },
  {
   "cell_type": "markdown",
   "id": "f32d863d",
   "metadata": {
    "papermill": {
     "duration": 0.027674,
     "end_time": "2022-03-11T05:41:39.841859",
     "exception": false,
     "start_time": "2022-03-11T05:41:39.814185",
     "status": "completed"
    },
    "tags": []
   },
   "source": [
    "# Handling / Removing the Outliers"
   ]
  },
  {
   "cell_type": "code",
   "execution_count": 16,
   "id": "a286842f",
   "metadata": {
    "execution": {
     "iopub.execute_input": "2022-03-11T05:41:39.901037Z",
     "iopub.status.busy": "2022-03-11T05:41:39.900213Z",
     "iopub.status.idle": "2022-03-11T05:41:39.914082Z",
     "shell.execute_reply": "2022-03-11T05:41:39.914831Z",
     "shell.execute_reply.started": "2022-03-11T05:29:59.200367Z"
    },
    "papermill": {
     "duration": 0.045432,
     "end_time": "2022-03-11T05:41:39.915022",
     "exception": false,
     "start_time": "2022-03-11T05:41:39.869590",
     "status": "completed"
    },
    "tags": []
   },
   "outputs": [
    {
     "data": {
      "text/html": [
       "<div>\n",
       "<style scoped>\n",
       "    .dataframe tbody tr th:only-of-type {\n",
       "        vertical-align: middle;\n",
       "    }\n",
       "\n",
       "    .dataframe tbody tr th {\n",
       "        vertical-align: top;\n",
       "    }\n",
       "\n",
       "    .dataframe thead th {\n",
       "        text-align: right;\n",
       "    }\n",
       "</style>\n",
       "<table border=\"1\" class=\"dataframe\">\n",
       "  <thead>\n",
       "    <tr style=\"text-align: right;\">\n",
       "      <th></th>\n",
       "      <th>PassengerId</th>\n",
       "      <th>Survived</th>\n",
       "      <th>Pclass</th>\n",
       "      <th>Name</th>\n",
       "      <th>Sex</th>\n",
       "      <th>Age</th>\n",
       "      <th>SibSp</th>\n",
       "      <th>Fare</th>\n",
       "    </tr>\n",
       "  </thead>\n",
       "  <tbody>\n",
       "    <tr>\n",
       "      <th>1305</th>\n",
       "      <td>1306</td>\n",
       "      <td>NaN</td>\n",
       "      <td>1</td>\n",
       "      <td>Oliva y Ocana, Dona. Fermina</td>\n",
       "      <td>0</td>\n",
       "      <td>315.0</td>\n",
       "      <td>0</td>\n",
       "      <td>108.9</td>\n",
       "    </tr>\n",
       "  </tbody>\n",
       "</table>\n",
       "</div>"
      ],
      "text/plain": [
       "      PassengerId  Survived  Pclass                          Name  Sex    Age  \\\n",
       "1305         1306       NaN       1  Oliva y Ocana, Dona. Fermina    0  315.0   \n",
       "\n",
       "      SibSp   Fare  \n",
       "1305      0  108.9  "
      ]
     },
     "execution_count": 16,
     "metadata": {},
     "output_type": "execute_result"
    }
   ],
   "source": [
    "# printing the rows where the age value is greater than 90\n",
    "df[df[\"Age\"]>90]"
   ]
  },
  {
   "cell_type": "code",
   "execution_count": 17,
   "id": "e6bf8731",
   "metadata": {
    "execution": {
     "iopub.execute_input": "2022-03-11T05:41:39.992886Z",
     "iopub.status.busy": "2022-03-11T05:41:39.987313Z",
     "iopub.status.idle": "2022-03-11T05:41:39.998135Z",
     "shell.execute_reply": "2022-03-11T05:41:39.998663Z",
     "shell.execute_reply.started": "2022-03-11T05:36:06.523081Z"
    },
    "papermill": {
     "duration": 0.052144,
     "end_time": "2022-03-11T05:41:39.998836",
     "exception": false,
     "start_time": "2022-03-11T05:41:39.946692",
     "status": "completed"
    },
    "tags": []
   },
   "outputs": [
    {
     "data": {
      "text/html": [
       "<div>\n",
       "<style scoped>\n",
       "    .dataframe tbody tr th:only-of-type {\n",
       "        vertical-align: middle;\n",
       "    }\n",
       "\n",
       "    .dataframe tbody tr th {\n",
       "        vertical-align: top;\n",
       "    }\n",
       "\n",
       "    .dataframe thead th {\n",
       "        text-align: right;\n",
       "    }\n",
       "</style>\n",
       "<table border=\"1\" class=\"dataframe\">\n",
       "  <thead>\n",
       "    <tr style=\"text-align: right;\">\n",
       "      <th></th>\n",
       "      <th>PassengerId</th>\n",
       "      <th>Survived</th>\n",
       "      <th>Pclass</th>\n",
       "      <th>Name</th>\n",
       "      <th>Sex</th>\n",
       "      <th>Age</th>\n",
       "      <th>SibSp</th>\n",
       "      <th>Fare</th>\n",
       "    </tr>\n",
       "  </thead>\n",
       "  <tbody>\n",
       "    <tr>\n",
       "      <th>1105</th>\n",
       "      <td>1106</td>\n",
       "      <td>NaN</td>\n",
       "      <td>3</td>\n",
       "      <td>Andersson, Miss. Ida Augusta Margareta</td>\n",
       "      <td>7</td>\n",
       "      <td>38.0</td>\n",
       "      <td>4</td>\n",
       "      <td>7.775</td>\n",
       "    </tr>\n",
       "  </tbody>\n",
       "</table>\n",
       "</div>"
      ],
      "text/plain": [
       "      PassengerId  Survived  Pclass                                    Name  \\\n",
       "1105         1106       NaN       3  Andersson, Miss. Ida Augusta Margareta   \n",
       "\n",
       "      Sex   Age  SibSp   Fare  \n",
       "1105    7  38.0      4  7.775  "
      ]
     },
     "execution_count": 17,
     "metadata": {},
     "output_type": "execute_result"
    }
   ],
   "source": [
    "# printing the rows where the value in sex column is greater than 1\n",
    "df[df[\"Sex\"]>1]"
   ]
  },
  {
   "cell_type": "code",
   "execution_count": 18,
   "id": "fbb1174d",
   "metadata": {
    "execution": {
     "iopub.execute_input": "2022-03-11T05:41:40.068584Z",
     "iopub.status.busy": "2022-03-11T05:41:40.067595Z",
     "iopub.status.idle": "2022-03-11T05:41:40.075028Z",
     "shell.execute_reply": "2022-03-11T05:41:40.075477Z",
     "shell.execute_reply.started": "2022-03-11T05:36:16.127632Z"
    },
    "papermill": {
     "duration": 0.042583,
     "end_time": "2022-03-11T05:41:40.075649",
     "exception": false,
     "start_time": "2022-03-11T05:41:40.033066",
     "status": "completed"
    },
    "tags": []
   },
   "outputs": [
    {
     "data": {
      "text/plain": [
       "Int64Index([1105], dtype='int64')"
      ]
     },
     "execution_count": 18,
     "metadata": {},
     "output_type": "execute_result"
    }
   ],
   "source": [
    "#fetching the index value\n",
    "df[df[\"Sex\"]>1].index"
   ]
  },
  {
   "cell_type": "markdown",
   "id": "b39ba818",
   "metadata": {
    "papermill": {
     "duration": 0.028581,
     "end_time": "2022-03-11T05:41:40.133144",
     "exception": false,
     "start_time": "2022-03-11T05:41:40.104563",
     "status": "completed"
    },
    "tags": []
   },
   "source": [
    "# Replacing the values using .loc()"
   ]
  },
  {
   "cell_type": "code",
   "execution_count": 19,
   "id": "a28bac18",
   "metadata": {
    "execution": {
     "iopub.execute_input": "2022-03-11T05:41:40.201993Z",
     "iopub.status.busy": "2022-03-11T05:41:40.201345Z",
     "iopub.status.idle": "2022-03-11T05:41:40.202823Z",
     "shell.execute_reply": "2022-03-11T05:41:40.203237Z",
     "shell.execute_reply.started": "2022-03-11T05:36:31.597934Z"
    },
    "papermill": {
     "duration": 0.037824,
     "end_time": "2022-03-11T05:41:40.203414",
     "exception": false,
     "start_time": "2022-03-11T05:41:40.165590",
     "status": "completed"
    },
    "tags": []
   },
   "outputs": [],
   "source": [
    "df.loc[1105,\"Sex\"]=1"
   ]
  },
  {
   "cell_type": "markdown",
   "id": "dd87172a",
   "metadata": {
    "papermill": {
     "duration": 0.028131,
     "end_time": "2022-03-11T05:41:40.260262",
     "exception": false,
     "start_time": "2022-03-11T05:41:40.232131",
     "status": "completed"
    },
    "tags": []
   },
   "source": [
    "# Dropping the outlier value"
   ]
  },
  {
   "cell_type": "code",
   "execution_count": 20,
   "id": "bdbd599e",
   "metadata": {
    "execution": {
     "iopub.execute_input": "2022-03-11T05:41:40.320418Z",
     "iopub.status.busy": "2022-03-11T05:41:40.319796Z",
     "iopub.status.idle": "2022-03-11T05:41:40.331673Z",
     "shell.execute_reply": "2022-03-11T05:41:40.332169Z",
     "shell.execute_reply.started": "2022-03-11T05:37:33.858359Z"
    },
    "papermill": {
     "duration": 0.043454,
     "end_time": "2022-03-11T05:41:40.332388",
     "exception": false,
     "start_time": "2022-03-11T05:41:40.288934",
     "status": "completed"
    },
    "tags": []
   },
   "outputs": [
    {
     "data": {
      "text/html": [
       "<div>\n",
       "<style scoped>\n",
       "    .dataframe tbody tr th:only-of-type {\n",
       "        vertical-align: middle;\n",
       "    }\n",
       "\n",
       "    .dataframe tbody tr th {\n",
       "        vertical-align: top;\n",
       "    }\n",
       "\n",
       "    .dataframe thead th {\n",
       "        text-align: right;\n",
       "    }\n",
       "</style>\n",
       "<table border=\"1\" class=\"dataframe\">\n",
       "  <thead>\n",
       "    <tr style=\"text-align: right;\">\n",
       "      <th></th>\n",
       "      <th>PassengerId</th>\n",
       "      <th>Survived</th>\n",
       "      <th>Pclass</th>\n",
       "      <th>Name</th>\n",
       "      <th>Sex</th>\n",
       "      <th>Age</th>\n",
       "      <th>SibSp</th>\n",
       "      <th>Fare</th>\n",
       "    </tr>\n",
       "  </thead>\n",
       "  <tbody>\n",
       "    <tr>\n",
       "      <th>1305</th>\n",
       "      <td>1306</td>\n",
       "      <td>NaN</td>\n",
       "      <td>1</td>\n",
       "      <td>Oliva y Ocana, Dona. Fermina</td>\n",
       "      <td>0</td>\n",
       "      <td>315.0</td>\n",
       "      <td>0</td>\n",
       "      <td>108.9</td>\n",
       "    </tr>\n",
       "  </tbody>\n",
       "</table>\n",
       "</div>"
      ],
      "text/plain": [
       "      PassengerId  Survived  Pclass                          Name  Sex    Age  \\\n",
       "1305         1306       NaN       1  Oliva y Ocana, Dona. Fermina    0  315.0   \n",
       "\n",
       "      SibSp   Fare  \n",
       "1305      0  108.9  "
      ]
     },
     "execution_count": 20,
     "metadata": {},
     "output_type": "execute_result"
    }
   ],
   "source": [
    "df[df[\"Age\"]>90]"
   ]
  },
  {
   "cell_type": "code",
   "execution_count": 21,
   "id": "68001493",
   "metadata": {
    "execution": {
     "iopub.execute_input": "2022-03-11T05:41:40.393697Z",
     "iopub.status.busy": "2022-03-11T05:41:40.393032Z",
     "iopub.status.idle": "2022-03-11T05:41:40.399130Z",
     "shell.execute_reply": "2022-03-11T05:41:40.399610Z",
     "shell.execute_reply.started": "2022-03-11T05:37:46.435581Z"
    },
    "papermill": {
     "duration": 0.038178,
     "end_time": "2022-03-11T05:41:40.399779",
     "exception": false,
     "start_time": "2022-03-11T05:41:40.361601",
     "status": "completed"
    },
    "tags": []
   },
   "outputs": [
    {
     "data": {
      "text/plain": [
       "Int64Index([1305], dtype='int64')"
      ]
     },
     "execution_count": 21,
     "metadata": {},
     "output_type": "execute_result"
    }
   ],
   "source": [
    "df[df[\"Age\"]>90].index"
   ]
  },
  {
   "cell_type": "code",
   "execution_count": 22,
   "id": "31e115f0",
   "metadata": {
    "execution": {
     "iopub.execute_input": "2022-03-11T05:41:40.461160Z",
     "iopub.status.busy": "2022-03-11T05:41:40.460467Z",
     "iopub.status.idle": "2022-03-11T05:41:40.464438Z",
     "shell.execute_reply": "2022-03-11T05:41:40.464911Z",
     "shell.execute_reply.started": "2022-03-11T05:38:39.916809Z"
    },
    "papermill": {
     "duration": 0.036223,
     "end_time": "2022-03-11T05:41:40.465079",
     "exception": false,
     "start_time": "2022-03-11T05:41:40.428856",
     "status": "completed"
    },
    "tags": []
   },
   "outputs": [],
   "source": [
    "df.drop(index=1305,inplace=True)"
   ]
  },
  {
   "cell_type": "code",
   "execution_count": 23,
   "id": "7587e720",
   "metadata": {
    "execution": {
     "iopub.execute_input": "2022-03-11T05:41:40.526340Z",
     "iopub.status.busy": "2022-03-11T05:41:40.525773Z",
     "iopub.status.idle": "2022-03-11T05:41:40.534460Z",
     "shell.execute_reply": "2022-03-11T05:41:40.534909Z",
     "shell.execute_reply.started": "2022-03-11T05:38:46.550054Z"
    },
    "papermill": {
     "duration": 0.040888,
     "end_time": "2022-03-11T05:41:40.535068",
     "exception": false,
     "start_time": "2022-03-11T05:41:40.494180",
     "status": "completed"
    },
    "tags": []
   },
   "outputs": [
    {
     "data": {
      "text/html": [
       "<div>\n",
       "<style scoped>\n",
       "    .dataframe tbody tr th:only-of-type {\n",
       "        vertical-align: middle;\n",
       "    }\n",
       "\n",
       "    .dataframe tbody tr th {\n",
       "        vertical-align: top;\n",
       "    }\n",
       "\n",
       "    .dataframe thead th {\n",
       "        text-align: right;\n",
       "    }\n",
       "</style>\n",
       "<table border=\"1\" class=\"dataframe\">\n",
       "  <thead>\n",
       "    <tr style=\"text-align: right;\">\n",
       "      <th></th>\n",
       "      <th>PassengerId</th>\n",
       "      <th>Survived</th>\n",
       "      <th>Pclass</th>\n",
       "      <th>Name</th>\n",
       "      <th>Sex</th>\n",
       "      <th>Age</th>\n",
       "      <th>SibSp</th>\n",
       "      <th>Fare</th>\n",
       "    </tr>\n",
       "  </thead>\n",
       "  <tbody>\n",
       "  </tbody>\n",
       "</table>\n",
       "</div>"
      ],
      "text/plain": [
       "Empty DataFrame\n",
       "Columns: [PassengerId, Survived, Pclass, Name, Sex, Age, SibSp, Fare]\n",
       "Index: []"
      ]
     },
     "execution_count": 23,
     "metadata": {},
     "output_type": "execute_result"
    }
   ],
   "source": [
    "df[df[\"Age\"]>90]"
   ]
  },
  {
   "cell_type": "markdown",
   "id": "649d0eae",
   "metadata": {
    "papermill": {
     "duration": 0.029347,
     "end_time": "2022-03-11T05:41:40.593738",
     "exception": false,
     "start_time": "2022-03-11T05:41:40.564391",
     "status": "completed"
    },
    "tags": []
   },
   "source": [
    "# Conclusion \n",
    "There are many ways to handle the outliers however it totally depends on the user how he wants to handle the outliers. Here, we have used two ways:\n",
    "1. Replacing the Outlier using Index\n",
    "2. Dropping the Outlier using Index"
   ]
  }
 ],
 "metadata": {
  "kernelspec": {
   "display_name": "Python 3",
   "language": "python",
   "name": "python3"
  },
  "language_info": {
   "codemirror_mode": {
    "name": "ipython",
    "version": 3
   },
   "file_extension": ".py",
   "mimetype": "text/x-python",
   "name": "python",
   "nbconvert_exporter": "python",
   "pygments_lexer": "ipython3",
   "version": "3.7.12"
  },
  "papermill": {
   "default_parameters": {},
   "duration": 11.842832,
   "end_time": "2022-03-11T05:41:41.233750",
   "environment_variables": {},
   "exception": null,
   "input_path": "__notebook__.ipynb",
   "output_path": "__notebook__.ipynb",
   "parameters": {},
   "start_time": "2022-03-11T05:41:29.390918",
   "version": "2.3.3"
  }
 },
 "nbformat": 4,
 "nbformat_minor": 5
}
