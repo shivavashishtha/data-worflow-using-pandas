{
 "cells": [
  {
   "cell_type": "code",
   "execution_count": 1,
   "id": "4f0a1ed6",
   "metadata": {
    "_cell_guid": "b1076dfc-b9ad-4769-8c92-a6c4dae69d19",
    "_uuid": "8f2839f25d086af736a60e9eeb907d3b93b6e0e5",
    "execution": {
     "iopub.execute_input": "2022-09-08T06:02:06.929253Z",
     "iopub.status.busy": "2022-09-08T06:02:06.928615Z",
     "iopub.status.idle": "2022-09-08T06:02:06.951754Z",
     "shell.execute_reply": "2022-09-08T06:02:06.950514Z"
    },
    "papermill": {
     "duration": 0.033471,
     "end_time": "2022-09-08T06:02:06.954916",
     "exception": false,
     "start_time": "2022-09-08T06:02:06.921445",
     "status": "completed"
    },
    "tags": []
   },
   "outputs": [
    {
     "name": "stdout",
     "output_type": "stream",
     "text": [
      "/kaggle/input/olympic-games/dictionary.csv\n",
      "/kaggle/input/olympic-games/winter.csv\n",
      "/kaggle/input/olympic-games/summer.csv\n"
     ]
    }
   ],
   "source": [
    "# This Python 3 environment comes with many helpful analytics libraries installed\n",
    "# It is defined by the kaggle/python Docker image: https://github.com/kaggle/docker-python\n",
    "# For example, here's several helpful packages to load\n",
    "\n",
    "import numpy as np # linear algebra\n",
    "import pandas as pd # data processing, CSV file I/O (e.g. pd.read_csv)\n",
    "\n",
    "# Input data files are available in the read-only \"../input/\" directory\n",
    "# For example, running this (by clicking run or pressing Shift+Enter) will list all files under the input directory\n",
    "\n",
    "import os\n",
    "for dirname, _, filenames in os.walk('/kaggle/input'):\n",
    "    for filename in filenames:\n",
    "        print(os.path.join(dirname, filename))\n",
    "\n",
    "# You can write up to 20GB to the current directory (/kaggle/working/) that gets preserved as output when you create a version using \"Save & Run All\" \n",
    "# You can also write temporary files to /kaggle/temp/, but they won't be saved outside of the current session"
   ]
  },
  {
   "cell_type": "markdown",
   "id": "cf541c9b",
   "metadata": {
    "papermill": {
     "duration": 0.003932,
     "end_time": "2022-09-08T06:02:06.963632",
     "exception": false,
     "start_time": "2022-09-08T06:02:06.959700",
     "status": "completed"
    },
    "tags": []
   },
   "source": [
    "# L25 - Joining using multiple columns"
   ]
  },
  {
   "cell_type": "markdown",
   "id": "a45bd115",
   "metadata": {
    "papermill": {
     "duration": 0.00442,
     "end_time": "2022-09-08T06:02:06.972453",
     "exception": false,
     "start_time": "2022-09-08T06:02:06.968033",
     "status": "completed"
    },
    "tags": []
   },
   "source": [
    "![m](https://i.redd.it/dyqnzpuddxk21.png)"
   ]
  },
  {
   "cell_type": "code",
   "execution_count": 2,
   "id": "bca650af",
   "metadata": {
    "execution": {
     "iopub.execute_input": "2022-09-08T06:02:06.982576Z",
     "iopub.status.busy": "2022-09-08T06:02:06.981883Z",
     "iopub.status.idle": "2022-09-08T06:02:07.012953Z",
     "shell.execute_reply": "2022-09-08T06:02:07.011736Z"
    },
    "papermill": {
     "duration": 0.039497,
     "end_time": "2022-09-08T06:02:07.015943",
     "exception": false,
     "start_time": "2022-09-08T06:02:06.976446",
     "status": "completed"
    },
    "tags": []
   },
   "outputs": [],
   "source": [
    "winter=pd.read_csv(\"../input/olympic-games/winter.csv\",usecols=[\"Athlete\",\"Medal\",\"Year\",\"Sport\"])"
   ]
  },
  {
   "cell_type": "code",
   "execution_count": 3,
   "id": "50af990c",
   "metadata": {
    "execution": {
     "iopub.execute_input": "2022-09-08T06:02:07.026413Z",
     "iopub.status.busy": "2022-09-08T06:02:07.025986Z",
     "iopub.status.idle": "2022-09-08T06:02:07.104149Z",
     "shell.execute_reply": "2022-09-08T06:02:07.102892Z"
    },
    "papermill": {
     "duration": 0.086774,
     "end_time": "2022-09-08T06:02:07.107029",
     "exception": false,
     "start_time": "2022-09-08T06:02:07.020255",
     "status": "completed"
    },
    "tags": []
   },
   "outputs": [],
   "source": [
    "summer=pd.read_csv(\"../input/olympic-games/summer.csv\",usecols=[\"Athlete\",\"Medal\",\"Year\",\"Sport\"])"
   ]
  },
  {
   "cell_type": "code",
   "execution_count": 4,
   "id": "ac08449f",
   "metadata": {
    "execution": {
     "iopub.execute_input": "2022-09-08T06:02:07.118074Z",
     "iopub.status.busy": "2022-09-08T06:02:07.117332Z",
     "iopub.status.idle": "2022-09-08T06:02:07.192217Z",
     "shell.execute_reply": "2022-09-08T06:02:07.190754Z"
    },
    "papermill": {
     "duration": 0.083702,
     "end_time": "2022-09-08T06:02:07.195479",
     "exception": false,
     "start_time": "2022-09-08T06:02:07.111777",
     "status": "completed"
    },
    "tags": []
   },
   "outputs": [],
   "source": [
    "final=winter.merge(summer,how=\"outer\",on=[\"Athlete\",\"Sport\"],suffixes=(\"_Winter\",\"_Summer\"),indicator=True)"
   ]
  },
  {
   "cell_type": "code",
   "execution_count": 5,
   "id": "c4b41526",
   "metadata": {
    "execution": {
     "iopub.execute_input": "2022-09-08T06:02:07.206224Z",
     "iopub.status.busy": "2022-09-08T06:02:07.205408Z",
     "iopub.status.idle": "2022-09-08T06:02:07.235434Z",
     "shell.execute_reply": "2022-09-08T06:02:07.234214Z"
    },
    "papermill": {
     "duration": 0.038414,
     "end_time": "2022-09-08T06:02:07.238092",
     "exception": false,
     "start_time": "2022-09-08T06:02:07.199678",
     "status": "completed"
    },
    "tags": []
   },
   "outputs": [
    {
     "data": {
      "text/html": [
       "<div>\n",
       "<style scoped>\n",
       "    .dataframe tbody tr th:only-of-type {\n",
       "        vertical-align: middle;\n",
       "    }\n",
       "\n",
       "    .dataframe tbody tr th {\n",
       "        vertical-align: top;\n",
       "    }\n",
       "\n",
       "    .dataframe thead th {\n",
       "        text-align: right;\n",
       "    }\n",
       "</style>\n",
       "<table border=\"1\" class=\"dataframe\">\n",
       "  <thead>\n",
       "    <tr style=\"text-align: right;\">\n",
       "      <th></th>\n",
       "      <th>Year_Winter</th>\n",
       "      <th>Sport</th>\n",
       "      <th>Athlete</th>\n",
       "      <th>Medal_Winter</th>\n",
       "      <th>Year_Summer</th>\n",
       "      <th>Medal_Summer</th>\n",
       "      <th>_merge</th>\n",
       "    </tr>\n",
       "  </thead>\n",
       "  <tbody>\n",
       "    <tr>\n",
       "      <th>0</th>\n",
       "      <td>1924.0</td>\n",
       "      <td>Biathlon</td>\n",
       "      <td>BERTHET, G.</td>\n",
       "      <td>Bronze</td>\n",
       "      <td>NaN</td>\n",
       "      <td>NaN</td>\n",
       "      <td>left_only</td>\n",
       "    </tr>\n",
       "    <tr>\n",
       "      <th>1</th>\n",
       "      <td>1924.0</td>\n",
       "      <td>Biathlon</td>\n",
       "      <td>MANDRILLON, C.</td>\n",
       "      <td>Bronze</td>\n",
       "      <td>NaN</td>\n",
       "      <td>NaN</td>\n",
       "      <td>left_only</td>\n",
       "    </tr>\n",
       "    <tr>\n",
       "      <th>2</th>\n",
       "      <td>1924.0</td>\n",
       "      <td>Biathlon</td>\n",
       "      <td>MANDRILLON, Maurice</td>\n",
       "      <td>Bronze</td>\n",
       "      <td>NaN</td>\n",
       "      <td>NaN</td>\n",
       "      <td>left_only</td>\n",
       "    </tr>\n",
       "    <tr>\n",
       "      <th>3</th>\n",
       "      <td>1924.0</td>\n",
       "      <td>Biathlon</td>\n",
       "      <td>VANDELLE, André</td>\n",
       "      <td>Bronze</td>\n",
       "      <td>NaN</td>\n",
       "      <td>NaN</td>\n",
       "      <td>left_only</td>\n",
       "    </tr>\n",
       "    <tr>\n",
       "      <th>4</th>\n",
       "      <td>1924.0</td>\n",
       "      <td>Biathlon</td>\n",
       "      <td>AUFDENBLATTEN, Adolf</td>\n",
       "      <td>Gold</td>\n",
       "      <td>NaN</td>\n",
       "      <td>NaN</td>\n",
       "      <td>left_only</td>\n",
       "    </tr>\n",
       "    <tr>\n",
       "      <th>...</th>\n",
       "      <td>...</td>\n",
       "      <td>...</td>\n",
       "      <td>...</td>\n",
       "      <td>...</td>\n",
       "      <td>...</td>\n",
       "      <td>...</td>\n",
       "      <td>...</td>\n",
       "    </tr>\n",
       "    <tr>\n",
       "      <th>36926</th>\n",
       "      <td>NaN</td>\n",
       "      <td>Wrestling</td>\n",
       "      <td>JANIKOWSKI, Damian</td>\n",
       "      <td>NaN</td>\n",
       "      <td>2012.0</td>\n",
       "      <td>Bronze</td>\n",
       "      <td>right_only</td>\n",
       "    </tr>\n",
       "    <tr>\n",
       "      <th>36927</th>\n",
       "      <td>NaN</td>\n",
       "      <td>Wrestling</td>\n",
       "      <td>REZAEI, Ghasem Gholamreza</td>\n",
       "      <td>NaN</td>\n",
       "      <td>2012.0</td>\n",
       "      <td>Gold</td>\n",
       "      <td>right_only</td>\n",
       "    </tr>\n",
       "    <tr>\n",
       "      <th>36928</th>\n",
       "      <td>NaN</td>\n",
       "      <td>Wrestling</td>\n",
       "      <td>TOTROV, Rustam</td>\n",
       "      <td>NaN</td>\n",
       "      <td>2012.0</td>\n",
       "      <td>Silver</td>\n",
       "      <td>right_only</td>\n",
       "    </tr>\n",
       "    <tr>\n",
       "      <th>36929</th>\n",
       "      <td>NaN</td>\n",
       "      <td>Wrestling</td>\n",
       "      <td>ALEKSANYAN, Artur</td>\n",
       "      <td>NaN</td>\n",
       "      <td>2012.0</td>\n",
       "      <td>Bronze</td>\n",
       "      <td>right_only</td>\n",
       "    </tr>\n",
       "    <tr>\n",
       "      <th>36930</th>\n",
       "      <td>NaN</td>\n",
       "      <td>Wrestling</td>\n",
       "      <td>LIDBERG, Jimmy</td>\n",
       "      <td>NaN</td>\n",
       "      <td>2012.0</td>\n",
       "      <td>Bronze</td>\n",
       "      <td>right_only</td>\n",
       "    </tr>\n",
       "  </tbody>\n",
       "</table>\n",
       "<p>36931 rows × 7 columns</p>\n",
       "</div>"
      ],
      "text/plain": [
       "       Year_Winter      Sport                    Athlete Medal_Winter  \\\n",
       "0           1924.0   Biathlon                BERTHET, G.       Bronze   \n",
       "1           1924.0   Biathlon             MANDRILLON, C.       Bronze   \n",
       "2           1924.0   Biathlon        MANDRILLON, Maurice       Bronze   \n",
       "3           1924.0   Biathlon            VANDELLE, André       Bronze   \n",
       "4           1924.0   Biathlon       AUFDENBLATTEN, Adolf         Gold   \n",
       "...            ...        ...                        ...          ...   \n",
       "36926          NaN  Wrestling         JANIKOWSKI, Damian          NaN   \n",
       "36927          NaN  Wrestling  REZAEI, Ghasem Gholamreza          NaN   \n",
       "36928          NaN  Wrestling             TOTROV, Rustam          NaN   \n",
       "36929          NaN  Wrestling          ALEKSANYAN, Artur          NaN   \n",
       "36930          NaN  Wrestling             LIDBERG, Jimmy          NaN   \n",
       "\n",
       "       Year_Summer Medal_Summer      _merge  \n",
       "0              NaN          NaN   left_only  \n",
       "1              NaN          NaN   left_only  \n",
       "2              NaN          NaN   left_only  \n",
       "3              NaN          NaN   left_only  \n",
       "4              NaN          NaN   left_only  \n",
       "...            ...          ...         ...  \n",
       "36926       2012.0       Bronze  right_only  \n",
       "36927       2012.0         Gold  right_only  \n",
       "36928       2012.0       Silver  right_only  \n",
       "36929       2012.0       Bronze  right_only  \n",
       "36930       2012.0       Bronze  right_only  \n",
       "\n",
       "[36931 rows x 7 columns]"
      ]
     },
     "execution_count": 5,
     "metadata": {},
     "output_type": "execute_result"
    }
   ],
   "source": [
    "final"
   ]
  },
  {
   "cell_type": "code",
   "execution_count": 6,
   "id": "19f90a73",
   "metadata": {
    "execution": {
     "iopub.execute_input": "2022-09-08T06:02:07.249232Z",
     "iopub.status.busy": "2022-09-08T06:02:07.248758Z",
     "iopub.status.idle": "2022-09-08T06:02:07.270669Z",
     "shell.execute_reply": "2022-09-08T06:02:07.268998Z"
    },
    "papermill": {
     "duration": 0.030638,
     "end_time": "2022-09-08T06:02:07.273502",
     "exception": false,
     "start_time": "2022-09-08T06:02:07.242864",
     "status": "completed"
    },
    "tags": []
   },
   "outputs": [
    {
     "name": "stdout",
     "output_type": "stream",
     "text": [
      "<class 'pandas.core.frame.DataFrame'>\n",
      "Int64Index: 6 entries, 77 to 98\n",
      "Data columns (total 7 columns):\n",
      " #   Column        Non-Null Count  Dtype   \n",
      "---  ------        --------------  -----   \n",
      " 0   Year_Winter   6 non-null      float64 \n",
      " 1   Sport         6 non-null      object  \n",
      " 2   Athlete       6 non-null      object  \n",
      " 3   Medal_Winter  6 non-null      object  \n",
      " 4   Year_Summer   6 non-null      float64 \n",
      " 5   Medal_Summer  6 non-null      object  \n",
      " 6   _merge        6 non-null      category\n",
      "dtypes: category(1), float64(2), object(4)\n",
      "memory usage: 474.0+ bytes\n"
     ]
    }
   ],
   "source": [
    "final[final[\"_merge\"]==\"both\"].info()"
   ]
  },
  {
   "cell_type": "code",
   "execution_count": 7,
   "id": "b74d436d",
   "metadata": {
    "execution": {
     "iopub.execute_input": "2022-09-08T06:02:07.285319Z",
     "iopub.status.busy": "2022-09-08T06:02:07.284898Z",
     "iopub.status.idle": "2022-09-08T06:02:07.339262Z",
     "shell.execute_reply": "2022-09-08T06:02:07.337997Z"
    },
    "papermill": {
     "duration": 0.063043,
     "end_time": "2022-09-08T06:02:07.341997",
     "exception": false,
     "start_time": "2022-09-08T06:02:07.278954",
     "status": "completed"
    },
    "tags": []
   },
   "outputs": [],
   "source": [
    "final1=winter.merge(summer,how=\"outer\",on=[\"Athlete\"],suffixes=(\"_Winter\",\"_Summer\"),indicator=True)"
   ]
  },
  {
   "cell_type": "code",
   "execution_count": 8,
   "id": "cfbbb18f",
   "metadata": {
    "execution": {
     "iopub.execute_input": "2022-09-08T06:02:07.353203Z",
     "iopub.status.busy": "2022-09-08T06:02:07.352756Z",
     "iopub.status.idle": "2022-09-08T06:02:07.370404Z",
     "shell.execute_reply": "2022-09-08T06:02:07.368746Z"
    },
    "papermill": {
     "duration": 0.026581,
     "end_time": "2022-09-08T06:02:07.373309",
     "exception": false,
     "start_time": "2022-09-08T06:02:07.346728",
     "status": "completed"
    },
    "tags": []
   },
   "outputs": [
    {
     "name": "stdout",
     "output_type": "stream",
     "text": [
      "<class 'pandas.core.frame.DataFrame'>\n",
      "Int64Index: 70 entries, 26 to 5417\n",
      "Data columns (total 8 columns):\n",
      " #   Column        Non-Null Count  Dtype   \n",
      "---  ------        --------------  -----   \n",
      " 0   Year_Winter   70 non-null     float64 \n",
      " 1   Sport_Winter  70 non-null     object  \n",
      " 2   Athlete       70 non-null     object  \n",
      " 3   Medal_Winter  70 non-null     object  \n",
      " 4   Year_Summer   70 non-null     float64 \n",
      " 5   Sport_Summer  70 non-null     object  \n",
      " 6   Medal_Summer  70 non-null     object  \n",
      " 7   _merge        70 non-null     category\n",
      "dtypes: category(1), float64(2), object(5)\n",
      "memory usage: 4.6+ KB\n"
     ]
    }
   ],
   "source": [
    "final1[final1[\"_merge\"]==\"both\"].info()"
   ]
  },
  {
   "cell_type": "code",
   "execution_count": 9,
   "id": "09b46f18",
   "metadata": {
    "execution": {
     "iopub.execute_input": "2022-09-08T06:02:07.384754Z",
     "iopub.status.busy": "2022-09-08T06:02:07.384253Z",
     "iopub.status.idle": "2022-09-08T06:02:07.484251Z",
     "shell.execute_reply": "2022-09-08T06:02:07.483015Z"
    },
    "papermill": {
     "duration": 0.1089,
     "end_time": "2022-09-08T06:02:07.487091",
     "exception": false,
     "start_time": "2022-09-08T06:02:07.378191",
     "status": "completed"
    },
    "tags": []
   },
   "outputs": [],
   "source": [
    "final2=winter.merge(summer,how=\"outer\",on=[\"Sport\"],suffixes=(\"_Winter\",\"_Summer\"),indicator=True)"
   ]
  },
  {
   "cell_type": "code",
   "execution_count": 10,
   "id": "73f4abcc",
   "metadata": {
    "execution": {
     "iopub.execute_input": "2022-09-08T06:02:07.498841Z",
     "iopub.status.busy": "2022-09-08T06:02:07.498266Z",
     "iopub.status.idle": "2022-09-08T06:02:07.537748Z",
     "shell.execute_reply": "2022-09-08T06:02:07.535941Z"
    },
    "papermill": {
     "duration": 0.048228,
     "end_time": "2022-09-08T06:02:07.540502",
     "exception": false,
     "start_time": "2022-09-08T06:02:07.492274",
     "status": "completed"
    },
    "tags": []
   },
   "outputs": [
    {
     "name": "stdout",
     "output_type": "stream",
     "text": [
      "<class 'pandas.core.frame.DataFrame'>\n",
      "Int64Index: 74655 entries, 1044 to 75698\n",
      "Data columns (total 8 columns):\n",
      " #   Column          Non-Null Count  Dtype   \n",
      "---  ------          --------------  -----   \n",
      " 0   Year_Winter     74655 non-null  float64 \n",
      " 1   Sport           74655 non-null  object  \n",
      " 2   Athlete_Winter  74655 non-null  object  \n",
      " 3   Medal_Winter    74655 non-null  object  \n",
      " 4   Year_Summer     74655 non-null  float64 \n",
      " 5   Athlete_Summer  74655 non-null  object  \n",
      " 6   Medal_Summer    74655 non-null  object  \n",
      " 7   _merge          74655 non-null  category\n",
      "dtypes: category(1), float64(2), object(5)\n",
      "memory usage: 4.6+ MB\n"
     ]
    }
   ],
   "source": [
    "final2[final2[\"_merge\"]==\"both\"].info()"
   ]
  },
  {
   "cell_type": "code",
   "execution_count": 11,
   "id": "e994abcc",
   "metadata": {
    "execution": {
     "iopub.execute_input": "2022-09-08T06:02:07.551406Z",
     "iopub.status.busy": "2022-09-08T06:02:07.551001Z",
     "iopub.status.idle": "2022-09-08T06:02:07.573806Z",
     "shell.execute_reply": "2022-09-08T06:02:07.572656Z"
    },
    "papermill": {
     "duration": 0.031362,
     "end_time": "2022-09-08T06:02:07.576473",
     "exception": false,
     "start_time": "2022-09-08T06:02:07.545111",
     "status": "completed"
    },
    "tags": []
   },
   "outputs": [
    {
     "data": {
      "text/html": [
       "<div>\n",
       "<style scoped>\n",
       "    .dataframe tbody tr th:only-of-type {\n",
       "        vertical-align: middle;\n",
       "    }\n",
       "\n",
       "    .dataframe tbody tr th {\n",
       "        vertical-align: top;\n",
       "    }\n",
       "\n",
       "    .dataframe thead th {\n",
       "        text-align: right;\n",
       "    }\n",
       "</style>\n",
       "<table border=\"1\" class=\"dataframe\">\n",
       "  <thead>\n",
       "    <tr style=\"text-align: right;\">\n",
       "      <th></th>\n",
       "      <th>Year_Winter</th>\n",
       "      <th>Sport</th>\n",
       "      <th>Athlete_Winter</th>\n",
       "      <th>Medal_Winter</th>\n",
       "      <th>Year_Summer</th>\n",
       "      <th>Athlete_Summer</th>\n",
       "      <th>Medal_Summer</th>\n",
       "      <th>_merge</th>\n",
       "    </tr>\n",
       "  </thead>\n",
       "  <tbody>\n",
       "    <tr>\n",
       "      <th>0</th>\n",
       "      <td>1924.0</td>\n",
       "      <td>Biathlon</td>\n",
       "      <td>BERTHET, G.</td>\n",
       "      <td>Bronze</td>\n",
       "      <td>NaN</td>\n",
       "      <td>NaN</td>\n",
       "      <td>NaN</td>\n",
       "      <td>left_only</td>\n",
       "    </tr>\n",
       "    <tr>\n",
       "      <th>1</th>\n",
       "      <td>1924.0</td>\n",
       "      <td>Biathlon</td>\n",
       "      <td>MANDRILLON, C.</td>\n",
       "      <td>Bronze</td>\n",
       "      <td>NaN</td>\n",
       "      <td>NaN</td>\n",
       "      <td>NaN</td>\n",
       "      <td>left_only</td>\n",
       "    </tr>\n",
       "    <tr>\n",
       "      <th>2</th>\n",
       "      <td>1924.0</td>\n",
       "      <td>Biathlon</td>\n",
       "      <td>MANDRILLON, Maurice</td>\n",
       "      <td>Bronze</td>\n",
       "      <td>NaN</td>\n",
       "      <td>NaN</td>\n",
       "      <td>NaN</td>\n",
       "      <td>left_only</td>\n",
       "    </tr>\n",
       "    <tr>\n",
       "      <th>3</th>\n",
       "      <td>1924.0</td>\n",
       "      <td>Biathlon</td>\n",
       "      <td>VANDELLE, André</td>\n",
       "      <td>Bronze</td>\n",
       "      <td>NaN</td>\n",
       "      <td>NaN</td>\n",
       "      <td>NaN</td>\n",
       "      <td>left_only</td>\n",
       "    </tr>\n",
       "    <tr>\n",
       "      <th>4</th>\n",
       "      <td>1924.0</td>\n",
       "      <td>Biathlon</td>\n",
       "      <td>AUFDENBLATTEN, Adolf</td>\n",
       "      <td>Gold</td>\n",
       "      <td>NaN</td>\n",
       "      <td>NaN</td>\n",
       "      <td>NaN</td>\n",
       "      <td>left_only</td>\n",
       "    </tr>\n",
       "    <tr>\n",
       "      <th>...</th>\n",
       "      <td>...</td>\n",
       "      <td>...</td>\n",
       "      <td>...</td>\n",
       "      <td>...</td>\n",
       "      <td>...</td>\n",
       "      <td>...</td>\n",
       "      <td>...</td>\n",
       "      <td>...</td>\n",
       "    </tr>\n",
       "    <tr>\n",
       "      <th>108766</th>\n",
       "      <td>NaN</td>\n",
       "      <td>Canoe</td>\n",
       "      <td>NaN</td>\n",
       "      <td>NaN</td>\n",
       "      <td>2012.0</td>\n",
       "      <td>WEBER, Franziska</td>\n",
       "      <td>Silver</td>\n",
       "      <td>right_only</td>\n",
       "    </tr>\n",
       "    <tr>\n",
       "      <th>108767</th>\n",
       "      <td>NaN</td>\n",
       "      <td>Canoe</td>\n",
       "      <td>NaN</td>\n",
       "      <td>NaN</td>\n",
       "      <td>2012.0</td>\n",
       "      <td>KHUDZENKA, Volha</td>\n",
       "      <td>Bronze</td>\n",
       "      <td>right_only</td>\n",
       "    </tr>\n",
       "    <tr>\n",
       "      <th>108768</th>\n",
       "      <td>NaN</td>\n",
       "      <td>Canoe</td>\n",
       "      <td>NaN</td>\n",
       "      <td>NaN</td>\n",
       "      <td>2012.0</td>\n",
       "      <td>PAMIALOVA, Iryna</td>\n",
       "      <td>Bronze</td>\n",
       "      <td>right_only</td>\n",
       "    </tr>\n",
       "    <tr>\n",
       "      <th>108769</th>\n",
       "      <td>NaN</td>\n",
       "      <td>Canoe</td>\n",
       "      <td>NaN</td>\n",
       "      <td>NaN</td>\n",
       "      <td>2012.0</td>\n",
       "      <td>PAPOK, Nadzeya</td>\n",
       "      <td>Bronze</td>\n",
       "      <td>right_only</td>\n",
       "    </tr>\n",
       "    <tr>\n",
       "      <th>108770</th>\n",
       "      <td>NaN</td>\n",
       "      <td>Canoe</td>\n",
       "      <td>NaN</td>\n",
       "      <td>NaN</td>\n",
       "      <td>2012.0</td>\n",
       "      <td>PAUTARAN, Maryna</td>\n",
       "      <td>Bronze</td>\n",
       "      <td>right_only</td>\n",
       "    </tr>\n",
       "  </tbody>\n",
       "</table>\n",
       "<p>108771 rows × 8 columns</p>\n",
       "</div>"
      ],
      "text/plain": [
       "        Year_Winter     Sport        Athlete_Winter Medal_Winter  Year_Summer  \\\n",
       "0            1924.0  Biathlon           BERTHET, G.       Bronze          NaN   \n",
       "1            1924.0  Biathlon        MANDRILLON, C.       Bronze          NaN   \n",
       "2            1924.0  Biathlon   MANDRILLON, Maurice       Bronze          NaN   \n",
       "3            1924.0  Biathlon       VANDELLE, André       Bronze          NaN   \n",
       "4            1924.0  Biathlon  AUFDENBLATTEN, Adolf         Gold          NaN   \n",
       "...             ...       ...                   ...          ...          ...   \n",
       "108766          NaN     Canoe                   NaN          NaN       2012.0   \n",
       "108767          NaN     Canoe                   NaN          NaN       2012.0   \n",
       "108768          NaN     Canoe                   NaN          NaN       2012.0   \n",
       "108769          NaN     Canoe                   NaN          NaN       2012.0   \n",
       "108770          NaN     Canoe                   NaN          NaN       2012.0   \n",
       "\n",
       "          Athlete_Summer Medal_Summer      _merge  \n",
       "0                    NaN          NaN   left_only  \n",
       "1                    NaN          NaN   left_only  \n",
       "2                    NaN          NaN   left_only  \n",
       "3                    NaN          NaN   left_only  \n",
       "4                    NaN          NaN   left_only  \n",
       "...                  ...          ...         ...  \n",
       "108766  WEBER, Franziska       Silver  right_only  \n",
       "108767  KHUDZENKA, Volha       Bronze  right_only  \n",
       "108768  PAMIALOVA, Iryna       Bronze  right_only  \n",
       "108769    PAPOK, Nadzeya       Bronze  right_only  \n",
       "108770  PAUTARAN, Maryna       Bronze  right_only  \n",
       "\n",
       "[108771 rows x 8 columns]"
      ]
     },
     "execution_count": 11,
     "metadata": {},
     "output_type": "execute_result"
    }
   ],
   "source": [
    "final2"
   ]
  },
  {
   "cell_type": "code",
   "execution_count": 12,
   "id": "2a681753",
   "metadata": {
    "execution": {
     "iopub.execute_input": "2022-09-08T06:02:07.588181Z",
     "iopub.status.busy": "2022-09-08T06:02:07.587743Z",
     "iopub.status.idle": "2022-09-08T06:02:07.621104Z",
     "shell.execute_reply": "2022-09-08T06:02:07.619848Z"
    },
    "papermill": {
     "duration": 0.042274,
     "end_time": "2022-09-08T06:02:07.623812",
     "exception": false,
     "start_time": "2022-09-08T06:02:07.581538",
     "status": "completed"
    },
    "tags": []
   },
   "outputs": [
    {
     "data": {
      "text/plain": [
       "Year_Winter       31111\n",
       "Sport                 0\n",
       "Athlete_Winter    31111\n",
       "Medal_Winter      31111\n",
       "Year_Summer        3005\n",
       "Athlete_Summer     3005\n",
       "Medal_Summer       3005\n",
       "_merge                0\n",
       "dtype: int64"
      ]
     },
     "execution_count": 12,
     "metadata": {},
     "output_type": "execute_result"
    }
   ],
   "source": [
    "final2.isnull().sum()"
   ]
  }
 ],
 "metadata": {
  "kernelspec": {
   "display_name": "Python 3",
   "language": "python",
   "name": "python3"
  },
  "language_info": {
   "codemirror_mode": {
    "name": "ipython",
    "version": 3
   },
   "file_extension": ".py",
   "mimetype": "text/x-python",
   "name": "python",
   "nbconvert_exporter": "python",
   "pygments_lexer": "ipython3",
   "version": "3.7.12"
  },
  "papermill": {
   "default_parameters": {},
   "duration": 11.147021,
   "end_time": "2022-09-08T06:02:08.351667",
   "environment_variables": {},
   "exception": null,
   "input_path": "__notebook__.ipynb",
   "output_path": "__notebook__.ipynb",
   "parameters": {},
   "start_time": "2022-09-08T06:01:57.204646",
   "version": "2.3.4"
  }
 },
 "nbformat": 4,
 "nbformat_minor": 5
}
