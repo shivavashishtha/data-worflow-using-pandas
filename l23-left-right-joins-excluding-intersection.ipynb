{
 "cells": [
  {
   "cell_type": "code",
   "execution_count": 1,
   "id": "5e0f94f3",
   "metadata": {
    "_cell_guid": "b1076dfc-b9ad-4769-8c92-a6c4dae69d19",
    "_uuid": "8f2839f25d086af736a60e9eeb907d3b93b6e0e5",
    "execution": {
     "iopub.execute_input": "2022-09-08T03:47:25.133047Z",
     "iopub.status.busy": "2022-09-08T03:47:25.132533Z",
     "iopub.status.idle": "2022-09-08T03:47:25.157314Z",
     "shell.execute_reply": "2022-09-08T03:47:25.155780Z"
    },
    "papermill": {
     "duration": 0.034892,
     "end_time": "2022-09-08T03:47:25.160333",
     "exception": false,
     "start_time": "2022-09-08T03:47:25.125441",
     "status": "completed"
    },
    "tags": []
   },
   "outputs": [
    {
     "name": "stdout",
     "output_type": "stream",
     "text": [
      "/kaggle/input/olympic-games/dictionary.csv\n",
      "/kaggle/input/olympic-games/winter.csv\n",
      "/kaggle/input/olympic-games/summer.csv\n"
     ]
    }
   ],
   "source": [
    "# This Python 3 environment comes with many helpful analytics libraries installed\n",
    "# It is defined by the kaggle/python Docker image: https://github.com/kaggle/docker-python\n",
    "# For example, here's several helpful packages to load\n",
    "\n",
    "import numpy as np # linear algebra\n",
    "import pandas as pd # data processing, CSV file I/O (e.g. pd.read_csv)\n",
    "\n",
    "# Input data files are available in the read-only \"../input/\" directory\n",
    "# For example, running this (by clicking run or pressing Shift+Enter) will list all files under the input directory\n",
    "\n",
    "import os\n",
    "for dirname, _, filenames in os.walk('/kaggle/input'):\n",
    "    for filename in filenames:\n",
    "        print(os.path.join(dirname, filename))\n",
    "\n",
    "# You can write up to 20GB to the current directory (/kaggle/working/) that gets preserved as output when you create a version using \"Save & Run All\" \n",
    "# You can also write temporary files to /kaggle/temp/, but they won't be saved outside of the current session"
   ]
  },
  {
   "cell_type": "markdown",
   "id": "3fddb6ee",
   "metadata": {
    "papermill": {
     "duration": 0.003757,
     "end_time": "2022-09-08T03:47:25.168701",
     "exception": false,
     "start_time": "2022-09-08T03:47:25.164944",
     "status": "completed"
    },
    "tags": []
   },
   "source": [
    "# Left & Right Joins excluding intersection"
   ]
  },
  {
   "cell_type": "markdown",
   "id": "4d77bd1d",
   "metadata": {
    "papermill": {
     "duration": 0.003629,
     "end_time": "2022-09-08T03:47:25.176248",
     "exception": false,
     "start_time": "2022-09-08T03:47:25.172619",
     "status": "completed"
    },
    "tags": []
   },
   "source": [
    "![m](https://i.redd.it/dyqnzpuddxk21.png)"
   ]
  },
  {
   "cell_type": "code",
   "execution_count": 2,
   "id": "95cf55f9",
   "metadata": {
    "execution": {
     "iopub.execute_input": "2022-09-08T03:47:25.185937Z",
     "iopub.status.busy": "2022-09-08T03:47:25.185478Z",
     "iopub.status.idle": "2022-09-08T03:47:25.217920Z",
     "shell.execute_reply": "2022-09-08T03:47:25.216738Z"
    },
    "papermill": {
     "duration": 0.040689,
     "end_time": "2022-09-08T03:47:25.220743",
     "exception": false,
     "start_time": "2022-09-08T03:47:25.180054",
     "status": "completed"
    },
    "tags": []
   },
   "outputs": [],
   "source": [
    "winter=pd.read_csv(\"../input/olympic-games/winter.csv\",usecols=[\"Athlete\",\"Medal\"])"
   ]
  },
  {
   "cell_type": "code",
   "execution_count": 3,
   "id": "24ed4799",
   "metadata": {
    "execution": {
     "iopub.execute_input": "2022-09-08T03:47:25.231215Z",
     "iopub.status.busy": "2022-09-08T03:47:25.230542Z",
     "iopub.status.idle": "2022-09-08T03:47:25.322927Z",
     "shell.execute_reply": "2022-09-08T03:47:25.321757Z"
    },
    "papermill": {
     "duration": 0.100955,
     "end_time": "2022-09-08T03:47:25.325854",
     "exception": false,
     "start_time": "2022-09-08T03:47:25.224899",
     "status": "completed"
    },
    "tags": []
   },
   "outputs": [],
   "source": [
    "summer=pd.read_csv(\"../input/olympic-games/summer.csv\",usecols=[\"Athlete\",\"Medal\"])"
   ]
  },
  {
   "cell_type": "code",
   "execution_count": 4,
   "id": "d2081cd9",
   "metadata": {
    "execution": {
     "iopub.execute_input": "2022-09-08T03:47:25.336643Z",
     "iopub.status.busy": "2022-09-08T03:47:25.335396Z",
     "iopub.status.idle": "2022-09-08T03:47:25.388440Z",
     "shell.execute_reply": "2022-09-08T03:47:25.387318Z"
    },
    "papermill": {
     "duration": 0.060992,
     "end_time": "2022-09-08T03:47:25.391049",
     "exception": false,
     "start_time": "2022-09-08T03:47:25.330057",
     "status": "completed"
    },
    "tags": []
   },
   "outputs": [],
   "source": [
    "left=winter.merge(summer,how=\"left\",on=\"Athlete\",suffixes=(\"_Winter\",\"_Summer\"),indicator=True)"
   ]
  },
  {
   "cell_type": "code",
   "execution_count": 5,
   "id": "b750ac7b",
   "metadata": {
    "execution": {
     "iopub.execute_input": "2022-09-08T03:47:25.401811Z",
     "iopub.status.busy": "2022-09-08T03:47:25.400990Z",
     "iopub.status.idle": "2022-09-08T03:47:25.424075Z",
     "shell.execute_reply": "2022-09-08T03:47:25.423171Z"
    },
    "papermill": {
     "duration": 0.031333,
     "end_time": "2022-09-08T03:47:25.426715",
     "exception": false,
     "start_time": "2022-09-08T03:47:25.395382",
     "status": "completed"
    },
    "tags": []
   },
   "outputs": [
    {
     "data": {
      "text/html": [
       "<div>\n",
       "<style scoped>\n",
       "    .dataframe tbody tr th:only-of-type {\n",
       "        vertical-align: middle;\n",
       "    }\n",
       "\n",
       "    .dataframe tbody tr th {\n",
       "        vertical-align: top;\n",
       "    }\n",
       "\n",
       "    .dataframe thead th {\n",
       "        text-align: right;\n",
       "    }\n",
       "</style>\n",
       "<table border=\"1\" class=\"dataframe\">\n",
       "  <thead>\n",
       "    <tr style=\"text-align: right;\">\n",
       "      <th></th>\n",
       "      <th>Athlete</th>\n",
       "      <th>Medal_Winter</th>\n",
       "      <th>Medal_Summer</th>\n",
       "      <th>_merge</th>\n",
       "    </tr>\n",
       "  </thead>\n",
       "  <tbody>\n",
       "    <tr>\n",
       "      <th>0</th>\n",
       "      <td>BERTHET, G.</td>\n",
       "      <td>Bronze</td>\n",
       "      <td>NaN</td>\n",
       "      <td>left_only</td>\n",
       "    </tr>\n",
       "    <tr>\n",
       "      <th>1</th>\n",
       "      <td>MANDRILLON, C.</td>\n",
       "      <td>Bronze</td>\n",
       "      <td>NaN</td>\n",
       "      <td>left_only</td>\n",
       "    </tr>\n",
       "    <tr>\n",
       "      <th>2</th>\n",
       "      <td>MANDRILLON, Maurice</td>\n",
       "      <td>Bronze</td>\n",
       "      <td>NaN</td>\n",
       "      <td>left_only</td>\n",
       "    </tr>\n",
       "    <tr>\n",
       "      <th>3</th>\n",
       "      <td>VANDELLE, André</td>\n",
       "      <td>Bronze</td>\n",
       "      <td>NaN</td>\n",
       "      <td>left_only</td>\n",
       "    </tr>\n",
       "    <tr>\n",
       "      <th>4</th>\n",
       "      <td>AUFDENBLATTEN, Adolf</td>\n",
       "      <td>Gold</td>\n",
       "      <td>NaN</td>\n",
       "      <td>left_only</td>\n",
       "    </tr>\n",
       "    <tr>\n",
       "      <th>...</th>\n",
       "      <td>...</td>\n",
       "      <td>...</td>\n",
       "      <td>...</td>\n",
       "      <td>...</td>\n",
       "    </tr>\n",
       "    <tr>\n",
       "      <th>5782</th>\n",
       "      <td>JONES, Jenny</td>\n",
       "      <td>Bronze</td>\n",
       "      <td>NaN</td>\n",
       "      <td>left_only</td>\n",
       "    </tr>\n",
       "    <tr>\n",
       "      <th>5783</th>\n",
       "      <td>ANDERSON, Jamie</td>\n",
       "      <td>Gold</td>\n",
       "      <td>NaN</td>\n",
       "      <td>left_only</td>\n",
       "    </tr>\n",
       "    <tr>\n",
       "      <th>5784</th>\n",
       "      <td>MALTAIS, Dominique</td>\n",
       "      <td>Silver</td>\n",
       "      <td>NaN</td>\n",
       "      <td>left_only</td>\n",
       "    </tr>\n",
       "    <tr>\n",
       "      <th>5785</th>\n",
       "      <td>SAMKOVA, Eva</td>\n",
       "      <td>Gold</td>\n",
       "      <td>NaN</td>\n",
       "      <td>left_only</td>\n",
       "    </tr>\n",
       "    <tr>\n",
       "      <th>5786</th>\n",
       "      <td>TRESPEUCH, Chloe</td>\n",
       "      <td>Bronze</td>\n",
       "      <td>NaN</td>\n",
       "      <td>left_only</td>\n",
       "    </tr>\n",
       "  </tbody>\n",
       "</table>\n",
       "<p>5787 rows × 4 columns</p>\n",
       "</div>"
      ],
      "text/plain": [
       "                   Athlete Medal_Winter Medal_Summer     _merge\n",
       "0              BERTHET, G.       Bronze          NaN  left_only\n",
       "1           MANDRILLON, C.       Bronze          NaN  left_only\n",
       "2      MANDRILLON, Maurice       Bronze          NaN  left_only\n",
       "3          VANDELLE, André       Bronze          NaN  left_only\n",
       "4     AUFDENBLATTEN, Adolf         Gold          NaN  left_only\n",
       "...                    ...          ...          ...        ...\n",
       "5782          JONES, Jenny       Bronze          NaN  left_only\n",
       "5783       ANDERSON, Jamie         Gold          NaN  left_only\n",
       "5784    MALTAIS, Dominique       Silver          NaN  left_only\n",
       "5785          SAMKOVA, Eva         Gold          NaN  left_only\n",
       "5786      TRESPEUCH, Chloe       Bronze          NaN  left_only\n",
       "\n",
       "[5787 rows x 4 columns]"
      ]
     },
     "execution_count": 5,
     "metadata": {},
     "output_type": "execute_result"
    }
   ],
   "source": [
    "left"
   ]
  },
  {
   "cell_type": "code",
   "execution_count": 6,
   "id": "5e8f9d66",
   "metadata": {
    "execution": {
     "iopub.execute_input": "2022-09-08T03:47:25.437462Z",
     "iopub.status.busy": "2022-09-08T03:47:25.437008Z",
     "iopub.status.idle": "2022-09-08T03:47:25.448710Z",
     "shell.execute_reply": "2022-09-08T03:47:25.447423Z"
    },
    "papermill": {
     "duration": 0.019903,
     "end_time": "2022-09-08T03:47:25.451136",
     "exception": false,
     "start_time": "2022-09-08T03:47:25.431233",
     "status": "completed"
    },
    "tags": []
   },
   "outputs": [
    {
     "data": {
      "text/plain": [
       "left_only     5717\n",
       "both            70\n",
       "right_only       0\n",
       "Name: _merge, dtype: int64"
      ]
     },
     "execution_count": 6,
     "metadata": {},
     "output_type": "execute_result"
    }
   ],
   "source": [
    "left._merge.value_counts()"
   ]
  },
  {
   "cell_type": "code",
   "execution_count": 7,
   "id": "d1d173b4",
   "metadata": {
    "execution": {
     "iopub.execute_input": "2022-09-08T03:47:25.462765Z",
     "iopub.status.busy": "2022-09-08T03:47:25.462264Z",
     "iopub.status.idle": "2022-09-08T03:47:25.481595Z",
     "shell.execute_reply": "2022-09-08T03:47:25.480373Z"
    },
    "papermill": {
     "duration": 0.027828,
     "end_time": "2022-09-08T03:47:25.484126",
     "exception": false,
     "start_time": "2022-09-08T03:47:25.456298",
     "status": "completed"
    },
    "tags": []
   },
   "outputs": [
    {
     "data": {
      "text/html": [
       "<div>\n",
       "<style scoped>\n",
       "    .dataframe tbody tr th:only-of-type {\n",
       "        vertical-align: middle;\n",
       "    }\n",
       "\n",
       "    .dataframe tbody tr th {\n",
       "        vertical-align: top;\n",
       "    }\n",
       "\n",
       "    .dataframe thead th {\n",
       "        text-align: right;\n",
       "    }\n",
       "</style>\n",
       "<table border=\"1\" class=\"dataframe\">\n",
       "  <thead>\n",
       "    <tr style=\"text-align: right;\">\n",
       "      <th></th>\n",
       "      <th>Athlete</th>\n",
       "      <th>Medal_Winter</th>\n",
       "      <th>Medal_Summer</th>\n",
       "      <th>_merge</th>\n",
       "    </tr>\n",
       "  </thead>\n",
       "  <tbody>\n",
       "    <tr>\n",
       "      <th>26</th>\n",
       "      <td>ANDRE, Georges</td>\n",
       "      <td>Bronze</td>\n",
       "      <td>Silver</td>\n",
       "      <td>both</td>\n",
       "    </tr>\n",
       "    <tr>\n",
       "      <th>27</th>\n",
       "      <td>ANDRE, Georges</td>\n",
       "      <td>Bronze</td>\n",
       "      <td>Bronze</td>\n",
       "      <td>both</td>\n",
       "    </tr>\n",
       "    <tr>\n",
       "      <th>48</th>\n",
       "      <td>ANDERSON, William</td>\n",
       "      <td>Bronze</td>\n",
       "      <td>Bronze</td>\n",
       "      <td>both</td>\n",
       "    </tr>\n",
       "    <tr>\n",
       "      <th>78</th>\n",
       "      <td>SYNNOTT, Francis Allen</td>\n",
       "      <td>Silver</td>\n",
       "      <td>Silver</td>\n",
       "      <td>both</td>\n",
       "    </tr>\n",
       "    <tr>\n",
       "      <th>80</th>\n",
       "      <td>GRAFSTRÖM, Gillis</td>\n",
       "      <td>Gold</td>\n",
       "      <td>Gold</td>\n",
       "      <td>both</td>\n",
       "    </tr>\n",
       "    <tr>\n",
       "      <th>...</th>\n",
       "      <td>...</td>\n",
       "      <td>...</td>\n",
       "      <td>...</td>\n",
       "      <td>...</td>\n",
       "    </tr>\n",
       "    <tr>\n",
       "      <th>4933</th>\n",
       "      <td>ZHANG, Hui</td>\n",
       "      <td>Gold</td>\n",
       "      <td>Bronze</td>\n",
       "      <td>both</td>\n",
       "    </tr>\n",
       "    <tr>\n",
       "      <th>4981</th>\n",
       "      <td>HUGHES, Clara</td>\n",
       "      <td>Bronze</td>\n",
       "      <td>Bronze</td>\n",
       "      <td>both</td>\n",
       "    </tr>\n",
       "    <tr>\n",
       "      <th>4982</th>\n",
       "      <td>HUGHES, Clara</td>\n",
       "      <td>Bronze</td>\n",
       "      <td>Bronze</td>\n",
       "      <td>both</td>\n",
       "    </tr>\n",
       "    <tr>\n",
       "      <th>5257</th>\n",
       "      <td>WILLIAMS, Lauryn</td>\n",
       "      <td>Silver</td>\n",
       "      <td>Silver</td>\n",
       "      <td>both</td>\n",
       "    </tr>\n",
       "    <tr>\n",
       "      <th>5258</th>\n",
       "      <td>WILLIAMS, Lauryn</td>\n",
       "      <td>Silver</td>\n",
       "      <td>Gold</td>\n",
       "      <td>both</td>\n",
       "    </tr>\n",
       "  </tbody>\n",
       "</table>\n",
       "<p>70 rows × 4 columns</p>\n",
       "</div>"
      ],
      "text/plain": [
       "                     Athlete Medal_Winter Medal_Summer _merge\n",
       "26            ANDRE, Georges       Bronze       Silver   both\n",
       "27            ANDRE, Georges       Bronze       Bronze   both\n",
       "48         ANDERSON, William       Bronze       Bronze   both\n",
       "78    SYNNOTT, Francis Allen       Silver       Silver   both\n",
       "80         GRAFSTRÖM, Gillis         Gold         Gold   both\n",
       "...                      ...          ...          ...    ...\n",
       "4933              ZHANG, Hui         Gold       Bronze   both\n",
       "4981           HUGHES, Clara       Bronze       Bronze   both\n",
       "4982           HUGHES, Clara       Bronze       Bronze   both\n",
       "5257        WILLIAMS, Lauryn       Silver       Silver   both\n",
       "5258        WILLIAMS, Lauryn       Silver         Gold   both\n",
       "\n",
       "[70 rows x 4 columns]"
      ]
     },
     "execution_count": 7,
     "metadata": {},
     "output_type": "execute_result"
    }
   ],
   "source": [
    "left[left[\"_merge\"]==\"both\"]"
   ]
  },
  {
   "cell_type": "code",
   "execution_count": 8,
   "id": "a450b2d5",
   "metadata": {
    "execution": {
     "iopub.execute_input": "2022-09-08T03:47:25.496438Z",
     "iopub.status.busy": "2022-09-08T03:47:25.495552Z",
     "iopub.status.idle": "2022-09-08T03:47:25.514506Z",
     "shell.execute_reply": "2022-09-08T03:47:25.513421Z"
    },
    "papermill": {
     "duration": 0.027863,
     "end_time": "2022-09-08T03:47:25.516938",
     "exception": false,
     "start_time": "2022-09-08T03:47:25.489075",
     "status": "completed"
    },
    "tags": []
   },
   "outputs": [
    {
     "data": {
      "text/html": [
       "<div>\n",
       "<style scoped>\n",
       "    .dataframe tbody tr th:only-of-type {\n",
       "        vertical-align: middle;\n",
       "    }\n",
       "\n",
       "    .dataframe tbody tr th {\n",
       "        vertical-align: top;\n",
       "    }\n",
       "\n",
       "    .dataframe thead th {\n",
       "        text-align: right;\n",
       "    }\n",
       "</style>\n",
       "<table border=\"1\" class=\"dataframe\">\n",
       "  <thead>\n",
       "    <tr style=\"text-align: right;\">\n",
       "      <th></th>\n",
       "      <th>Athlete</th>\n",
       "      <th>Medal_Winter</th>\n",
       "      <th>Medal_Summer</th>\n",
       "      <th>_merge</th>\n",
       "    </tr>\n",
       "  </thead>\n",
       "  <tbody>\n",
       "    <tr>\n",
       "      <th>0</th>\n",
       "      <td>BERTHET, G.</td>\n",
       "      <td>Bronze</td>\n",
       "      <td>NaN</td>\n",
       "      <td>left_only</td>\n",
       "    </tr>\n",
       "    <tr>\n",
       "      <th>1</th>\n",
       "      <td>MANDRILLON, C.</td>\n",
       "      <td>Bronze</td>\n",
       "      <td>NaN</td>\n",
       "      <td>left_only</td>\n",
       "    </tr>\n",
       "    <tr>\n",
       "      <th>2</th>\n",
       "      <td>MANDRILLON, Maurice</td>\n",
       "      <td>Bronze</td>\n",
       "      <td>NaN</td>\n",
       "      <td>left_only</td>\n",
       "    </tr>\n",
       "    <tr>\n",
       "      <th>3</th>\n",
       "      <td>VANDELLE, André</td>\n",
       "      <td>Bronze</td>\n",
       "      <td>NaN</td>\n",
       "      <td>left_only</td>\n",
       "    </tr>\n",
       "    <tr>\n",
       "      <th>4</th>\n",
       "      <td>AUFDENBLATTEN, Adolf</td>\n",
       "      <td>Gold</td>\n",
       "      <td>NaN</td>\n",
       "      <td>left_only</td>\n",
       "    </tr>\n",
       "    <tr>\n",
       "      <th>...</th>\n",
       "      <td>...</td>\n",
       "      <td>...</td>\n",
       "      <td>...</td>\n",
       "      <td>...</td>\n",
       "    </tr>\n",
       "    <tr>\n",
       "      <th>5782</th>\n",
       "      <td>JONES, Jenny</td>\n",
       "      <td>Bronze</td>\n",
       "      <td>NaN</td>\n",
       "      <td>left_only</td>\n",
       "    </tr>\n",
       "    <tr>\n",
       "      <th>5783</th>\n",
       "      <td>ANDERSON, Jamie</td>\n",
       "      <td>Gold</td>\n",
       "      <td>NaN</td>\n",
       "      <td>left_only</td>\n",
       "    </tr>\n",
       "    <tr>\n",
       "      <th>5784</th>\n",
       "      <td>MALTAIS, Dominique</td>\n",
       "      <td>Silver</td>\n",
       "      <td>NaN</td>\n",
       "      <td>left_only</td>\n",
       "    </tr>\n",
       "    <tr>\n",
       "      <th>5785</th>\n",
       "      <td>SAMKOVA, Eva</td>\n",
       "      <td>Gold</td>\n",
       "      <td>NaN</td>\n",
       "      <td>left_only</td>\n",
       "    </tr>\n",
       "    <tr>\n",
       "      <th>5786</th>\n",
       "      <td>TRESPEUCH, Chloe</td>\n",
       "      <td>Bronze</td>\n",
       "      <td>NaN</td>\n",
       "      <td>left_only</td>\n",
       "    </tr>\n",
       "  </tbody>\n",
       "</table>\n",
       "<p>5717 rows × 4 columns</p>\n",
       "</div>"
      ],
      "text/plain": [
       "                   Athlete Medal_Winter Medal_Summer     _merge\n",
       "0              BERTHET, G.       Bronze          NaN  left_only\n",
       "1           MANDRILLON, C.       Bronze          NaN  left_only\n",
       "2      MANDRILLON, Maurice       Bronze          NaN  left_only\n",
       "3          VANDELLE, André       Bronze          NaN  left_only\n",
       "4     AUFDENBLATTEN, Adolf         Gold          NaN  left_only\n",
       "...                    ...          ...          ...        ...\n",
       "5782          JONES, Jenny       Bronze          NaN  left_only\n",
       "5783       ANDERSON, Jamie         Gold          NaN  left_only\n",
       "5784    MALTAIS, Dominique       Silver          NaN  left_only\n",
       "5785          SAMKOVA, Eva         Gold          NaN  left_only\n",
       "5786      TRESPEUCH, Chloe       Bronze          NaN  left_only\n",
       "\n",
       "[5717 rows x 4 columns]"
      ]
     },
     "execution_count": 8,
     "metadata": {},
     "output_type": "execute_result"
    }
   ],
   "source": [
    "left[left[\"_merge\"]!=\"both\"]"
   ]
  },
  {
   "cell_type": "code",
   "execution_count": 9,
   "id": "0598e7f9",
   "metadata": {
    "execution": {
     "iopub.execute_input": "2022-09-08T03:47:25.528954Z",
     "iopub.status.busy": "2022-09-08T03:47:25.528498Z",
     "iopub.status.idle": "2022-09-08T03:47:25.569949Z",
     "shell.execute_reply": "2022-09-08T03:47:25.568443Z"
    },
    "papermill": {
     "duration": 0.05085,
     "end_time": "2022-09-08T03:47:25.572910",
     "exception": false,
     "start_time": "2022-09-08T03:47:25.522060",
     "status": "completed"
    },
    "tags": []
   },
   "outputs": [],
   "source": [
    "right=winter.merge(summer,how=\"right\",on=\"Athlete\",suffixes=(\"_Winter\",\"_Summer\"),indicator=True)"
   ]
  },
  {
   "cell_type": "code",
   "execution_count": 10,
   "id": "8027fc3c",
   "metadata": {
    "execution": {
     "iopub.execute_input": "2022-09-08T03:47:25.584921Z",
     "iopub.status.busy": "2022-09-08T03:47:25.584454Z",
     "iopub.status.idle": "2022-09-08T03:47:25.594376Z",
     "shell.execute_reply": "2022-09-08T03:47:25.593427Z"
    },
    "papermill": {
     "duration": 0.018589,
     "end_time": "2022-09-08T03:47:25.596565",
     "exception": false,
     "start_time": "2022-09-08T03:47:25.577976",
     "status": "completed"
    },
    "tags": []
   },
   "outputs": [
    {
     "data": {
      "text/plain": [
       "right_only    31130\n",
       "both             70\n",
       "left_only         0\n",
       "Name: _merge, dtype: int64"
      ]
     },
     "execution_count": 10,
     "metadata": {},
     "output_type": "execute_result"
    }
   ],
   "source": [
    "right._merge.value_counts()"
   ]
  },
  {
   "cell_type": "code",
   "execution_count": 11,
   "id": "89aee37d",
   "metadata": {
    "execution": {
     "iopub.execute_input": "2022-09-08T03:47:25.608940Z",
     "iopub.status.busy": "2022-09-08T03:47:25.608486Z",
     "iopub.status.idle": "2022-09-08T03:47:25.625491Z",
     "shell.execute_reply": "2022-09-08T03:47:25.624460Z"
    },
    "papermill": {
     "duration": 0.026288,
     "end_time": "2022-09-08T03:47:25.627994",
     "exception": false,
     "start_time": "2022-09-08T03:47:25.601706",
     "status": "completed"
    },
    "tags": []
   },
   "outputs": [
    {
     "data": {
      "text/html": [
       "<div>\n",
       "<style scoped>\n",
       "    .dataframe tbody tr th:only-of-type {\n",
       "        vertical-align: middle;\n",
       "    }\n",
       "\n",
       "    .dataframe tbody tr th {\n",
       "        vertical-align: top;\n",
       "    }\n",
       "\n",
       "    .dataframe thead th {\n",
       "        text-align: right;\n",
       "    }\n",
       "</style>\n",
       "<table border=\"1\" class=\"dataframe\">\n",
       "  <thead>\n",
       "    <tr style=\"text-align: right;\">\n",
       "      <th></th>\n",
       "      <th>Athlete</th>\n",
       "      <th>Medal_Winter</th>\n",
       "      <th>Medal_Summer</th>\n",
       "      <th>_merge</th>\n",
       "    </tr>\n",
       "  </thead>\n",
       "  <tbody>\n",
       "    <tr>\n",
       "      <th>26</th>\n",
       "      <td>ANDRE, Georges</td>\n",
       "      <td>Bronze</td>\n",
       "      <td>Silver</td>\n",
       "      <td>both</td>\n",
       "    </tr>\n",
       "    <tr>\n",
       "      <th>27</th>\n",
       "      <td>ANDRE, Georges</td>\n",
       "      <td>Bronze</td>\n",
       "      <td>Bronze</td>\n",
       "      <td>both</td>\n",
       "    </tr>\n",
       "    <tr>\n",
       "      <th>48</th>\n",
       "      <td>ANDERSON, William</td>\n",
       "      <td>Bronze</td>\n",
       "      <td>Bronze</td>\n",
       "      <td>both</td>\n",
       "    </tr>\n",
       "    <tr>\n",
       "      <th>78</th>\n",
       "      <td>SYNNOTT, Francis Allen</td>\n",
       "      <td>Silver</td>\n",
       "      <td>Silver</td>\n",
       "      <td>both</td>\n",
       "    </tr>\n",
       "    <tr>\n",
       "      <th>80</th>\n",
       "      <td>GRAFSTRÖM, Gillis</td>\n",
       "      <td>Gold</td>\n",
       "      <td>Gold</td>\n",
       "      <td>both</td>\n",
       "    </tr>\n",
       "    <tr>\n",
       "      <th>...</th>\n",
       "      <td>...</td>\n",
       "      <td>...</td>\n",
       "      <td>...</td>\n",
       "      <td>...</td>\n",
       "    </tr>\n",
       "    <tr>\n",
       "      <th>4933</th>\n",
       "      <td>ZHANG, Hui</td>\n",
       "      <td>Gold</td>\n",
       "      <td>Bronze</td>\n",
       "      <td>both</td>\n",
       "    </tr>\n",
       "    <tr>\n",
       "      <th>4981</th>\n",
       "      <td>HUGHES, Clara</td>\n",
       "      <td>Bronze</td>\n",
       "      <td>Bronze</td>\n",
       "      <td>both</td>\n",
       "    </tr>\n",
       "    <tr>\n",
       "      <th>4982</th>\n",
       "      <td>HUGHES, Clara</td>\n",
       "      <td>Bronze</td>\n",
       "      <td>Bronze</td>\n",
       "      <td>both</td>\n",
       "    </tr>\n",
       "    <tr>\n",
       "      <th>5257</th>\n",
       "      <td>WILLIAMS, Lauryn</td>\n",
       "      <td>Silver</td>\n",
       "      <td>Silver</td>\n",
       "      <td>both</td>\n",
       "    </tr>\n",
       "    <tr>\n",
       "      <th>5258</th>\n",
       "      <td>WILLIAMS, Lauryn</td>\n",
       "      <td>Silver</td>\n",
       "      <td>Gold</td>\n",
       "      <td>both</td>\n",
       "    </tr>\n",
       "  </tbody>\n",
       "</table>\n",
       "<p>70 rows × 4 columns</p>\n",
       "</div>"
      ],
      "text/plain": [
       "                     Athlete Medal_Winter Medal_Summer _merge\n",
       "26            ANDRE, Georges       Bronze       Silver   both\n",
       "27            ANDRE, Georges       Bronze       Bronze   both\n",
       "48         ANDERSON, William       Bronze       Bronze   both\n",
       "78    SYNNOTT, Francis Allen       Silver       Silver   both\n",
       "80         GRAFSTRÖM, Gillis         Gold         Gold   both\n",
       "...                      ...          ...          ...    ...\n",
       "4933              ZHANG, Hui         Gold       Bronze   both\n",
       "4981           HUGHES, Clara       Bronze       Bronze   both\n",
       "4982           HUGHES, Clara       Bronze       Bronze   both\n",
       "5257        WILLIAMS, Lauryn       Silver       Silver   both\n",
       "5258        WILLIAMS, Lauryn       Silver         Gold   both\n",
       "\n",
       "[70 rows x 4 columns]"
      ]
     },
     "execution_count": 11,
     "metadata": {},
     "output_type": "execute_result"
    }
   ],
   "source": [
    "left[left[\"_merge\"]==\"both\"]"
   ]
  },
  {
   "cell_type": "code",
   "execution_count": 12,
   "id": "6dc6af6c",
   "metadata": {
    "execution": {
     "iopub.execute_input": "2022-09-08T03:47:25.641581Z",
     "iopub.status.busy": "2022-09-08T03:47:25.640306Z",
     "iopub.status.idle": "2022-09-08T03:47:25.659516Z",
     "shell.execute_reply": "2022-09-08T03:47:25.658464Z"
    },
    "papermill": {
     "duration": 0.028387,
     "end_time": "2022-09-08T03:47:25.661820",
     "exception": false,
     "start_time": "2022-09-08T03:47:25.633433",
     "status": "completed"
    },
    "tags": []
   },
   "outputs": [
    {
     "data": {
      "text/html": [
       "<div>\n",
       "<style scoped>\n",
       "    .dataframe tbody tr th:only-of-type {\n",
       "        vertical-align: middle;\n",
       "    }\n",
       "\n",
       "    .dataframe tbody tr th {\n",
       "        vertical-align: top;\n",
       "    }\n",
       "\n",
       "    .dataframe thead th {\n",
       "        text-align: right;\n",
       "    }\n",
       "</style>\n",
       "<table border=\"1\" class=\"dataframe\">\n",
       "  <thead>\n",
       "    <tr style=\"text-align: right;\">\n",
       "      <th></th>\n",
       "      <th>Athlete</th>\n",
       "      <th>Medal_Winter</th>\n",
       "      <th>Medal_Summer</th>\n",
       "      <th>_merge</th>\n",
       "    </tr>\n",
       "  </thead>\n",
       "  <tbody>\n",
       "    <tr>\n",
       "      <th>0</th>\n",
       "      <td>HAJOS, Alfred</td>\n",
       "      <td>NaN</td>\n",
       "      <td>Gold</td>\n",
       "      <td>right_only</td>\n",
       "    </tr>\n",
       "    <tr>\n",
       "      <th>1</th>\n",
       "      <td>HERSCHMANN, Otto</td>\n",
       "      <td>NaN</td>\n",
       "      <td>Silver</td>\n",
       "      <td>right_only</td>\n",
       "    </tr>\n",
       "    <tr>\n",
       "      <th>2</th>\n",
       "      <td>DRIVAS, Dimitrios</td>\n",
       "      <td>NaN</td>\n",
       "      <td>Bronze</td>\n",
       "      <td>right_only</td>\n",
       "    </tr>\n",
       "    <tr>\n",
       "      <th>3</th>\n",
       "      <td>MALOKINIS, Ioannis</td>\n",
       "      <td>NaN</td>\n",
       "      <td>Gold</td>\n",
       "      <td>right_only</td>\n",
       "    </tr>\n",
       "    <tr>\n",
       "      <th>4</th>\n",
       "      <td>CHASAPIS, Spiridon</td>\n",
       "      <td>NaN</td>\n",
       "      <td>Silver</td>\n",
       "      <td>right_only</td>\n",
       "    </tr>\n",
       "    <tr>\n",
       "      <th>...</th>\n",
       "      <td>...</td>\n",
       "      <td>...</td>\n",
       "      <td>...</td>\n",
       "      <td>...</td>\n",
       "    </tr>\n",
       "    <tr>\n",
       "      <th>31195</th>\n",
       "      <td>JANIKOWSKI, Damian</td>\n",
       "      <td>NaN</td>\n",
       "      <td>Bronze</td>\n",
       "      <td>right_only</td>\n",
       "    </tr>\n",
       "    <tr>\n",
       "      <th>31196</th>\n",
       "      <td>REZAEI, Ghasem Gholamreza</td>\n",
       "      <td>NaN</td>\n",
       "      <td>Gold</td>\n",
       "      <td>right_only</td>\n",
       "    </tr>\n",
       "    <tr>\n",
       "      <th>31197</th>\n",
       "      <td>TOTROV, Rustam</td>\n",
       "      <td>NaN</td>\n",
       "      <td>Silver</td>\n",
       "      <td>right_only</td>\n",
       "    </tr>\n",
       "    <tr>\n",
       "      <th>31198</th>\n",
       "      <td>ALEKSANYAN, Artur</td>\n",
       "      <td>NaN</td>\n",
       "      <td>Bronze</td>\n",
       "      <td>right_only</td>\n",
       "    </tr>\n",
       "    <tr>\n",
       "      <th>31199</th>\n",
       "      <td>LIDBERG, Jimmy</td>\n",
       "      <td>NaN</td>\n",
       "      <td>Bronze</td>\n",
       "      <td>right_only</td>\n",
       "    </tr>\n",
       "  </tbody>\n",
       "</table>\n",
       "<p>31130 rows × 4 columns</p>\n",
       "</div>"
      ],
      "text/plain": [
       "                         Athlete Medal_Winter Medal_Summer      _merge\n",
       "0                  HAJOS, Alfred          NaN         Gold  right_only\n",
       "1               HERSCHMANN, Otto          NaN       Silver  right_only\n",
       "2              DRIVAS, Dimitrios          NaN       Bronze  right_only\n",
       "3             MALOKINIS, Ioannis          NaN         Gold  right_only\n",
       "4             CHASAPIS, Spiridon          NaN       Silver  right_only\n",
       "...                          ...          ...          ...         ...\n",
       "31195         JANIKOWSKI, Damian          NaN       Bronze  right_only\n",
       "31196  REZAEI, Ghasem Gholamreza          NaN         Gold  right_only\n",
       "31197             TOTROV, Rustam          NaN       Silver  right_only\n",
       "31198          ALEKSANYAN, Artur          NaN       Bronze  right_only\n",
       "31199             LIDBERG, Jimmy          NaN       Bronze  right_only\n",
       "\n",
       "[31130 rows x 4 columns]"
      ]
     },
     "execution_count": 12,
     "metadata": {},
     "output_type": "execute_result"
    }
   ],
   "source": [
    "right[right[\"_merge\"]!=\"both\"]"
   ]
  }
 ],
 "metadata": {
  "kernelspec": {
   "display_name": "Python 3",
   "language": "python",
   "name": "python3"
  },
  "language_info": {
   "codemirror_mode": {
    "name": "ipython",
    "version": 3
   },
   "file_extension": ".py",
   "mimetype": "text/x-python",
   "name": "python",
   "nbconvert_exporter": "python",
   "pygments_lexer": "ipython3",
   "version": "3.7.12"
  },
  "papermill": {
   "default_parameters": {},
   "duration": 11.372412,
   "end_time": "2022-09-08T03:47:26.591721",
   "environment_variables": {},
   "exception": null,
   "input_path": "__notebook__.ipynb",
   "output_path": "__notebook__.ipynb",
   "parameters": {},
   "start_time": "2022-09-08T03:47:15.219309",
   "version": "2.3.4"
  }
 },
 "nbformat": 4,
 "nbformat_minor": 5
}
