{
 "cells": [
  {
   "cell_type": "code",
   "execution_count": 1,
   "id": "3cc4a707",
   "metadata": {
    "_cell_guid": "b1076dfc-b9ad-4769-8c92-a6c4dae69d19",
    "_uuid": "8f2839f25d086af736a60e9eeb907d3b93b6e0e5",
    "execution": {
     "iopub.execute_input": "2022-03-10T10:28:06.707235Z",
     "iopub.status.busy": "2022-03-10T10:28:06.706594Z",
     "iopub.status.idle": "2022-03-10T10:28:06.719205Z",
     "shell.execute_reply": "2022-03-10T10:28:06.719935Z",
     "shell.execute_reply.started": "2022-03-10T10:02:23.897313Z"
    },
    "papermill": {
     "duration": 0.039359,
     "end_time": "2022-03-10T10:28:06.720330",
     "exception": false,
     "start_time": "2022-03-10T10:28:06.680971",
     "status": "completed"
    },
    "tags": []
   },
   "outputs": [
    {
     "name": "stdout",
     "output_type": "stream",
     "text": [
      "/kaggle/input/2022-ipl-auction-dataset/ipl_2022_dataset.csv\n"
     ]
    }
   ],
   "source": [
    "# This Python 3 environment comes with many helpful analytics libraries installed\n",
    "# It is defined by the kaggle/python Docker image: https://github.com/kaggle/docker-python\n",
    "# For example, here's several helpful packages to load\n",
    "\n",
    "import numpy as np # linear algebra\n",
    "import pandas as pd # data processing, CSV file I/O (e.g. pd.read_csv)\n",
    "\n",
    "# Input data files are available in the read-only \"../input/\" directory\n",
    "# For example, running this (by clicking run or pressing Shift+Enter) will list all files under the input directory\n",
    "\n",
    "import os\n",
    "for dirname, _, filenames in os.walk('/kaggle/input'):\n",
    "    for filename in filenames:\n",
    "        print(os.path.join(dirname, filename))\n",
    "\n",
    "# You can write up to 20GB to the current directory (/kaggle/working/) that gets preserved as output when you create a version using \"Save & Run All\" \n",
    "# You can also write temporary files to /kaggle/temp/, but they won't be saved outside of the current session"
   ]
  },
  {
   "cell_type": "markdown",
   "id": "bb0518c0",
   "metadata": {
    "papermill": {
     "duration": 0.013997,
     "end_time": "2022-03-10T10:28:06.750523",
     "exception": false,
     "start_time": "2022-03-10T10:28:06.736526",
     "status": "completed"
    },
    "tags": []
   },
   "source": [
    "# Reading the 2022 IPL Auction Data"
   ]
  },
  {
   "cell_type": "code",
   "execution_count": 2,
   "id": "5b315876",
   "metadata": {
    "execution": {
     "iopub.execute_input": "2022-03-10T10:28:06.782435Z",
     "iopub.status.busy": "2022-03-10T10:28:06.781771Z",
     "iopub.status.idle": "2022-03-10T10:28:06.805983Z",
     "shell.execute_reply": "2022-03-10T10:28:06.806584Z",
     "shell.execute_reply.started": "2022-03-10T10:05:28.627963Z"
    },
    "papermill": {
     "duration": 0.042004,
     "end_time": "2022-03-10T10:28:06.806763",
     "exception": false,
     "start_time": "2022-03-10T10:28:06.764759",
     "status": "completed"
    },
    "tags": []
   },
   "outputs": [],
   "source": [
    "df=pd.read_csv(\"../input/2022-ipl-auction-dataset/ipl_2022_dataset.csv\",index_col=\"Unnamed: 0\")"
   ]
  },
  {
   "cell_type": "code",
   "execution_count": 3,
   "id": "d89ae708",
   "metadata": {
    "execution": {
     "iopub.execute_input": "2022-03-10T10:28:06.839179Z",
     "iopub.status.busy": "2022-03-10T10:28:06.838507Z",
     "iopub.status.idle": "2022-03-10T10:28:06.863339Z",
     "shell.execute_reply": "2022-03-10T10:28:06.863816Z",
     "shell.execute_reply.started": "2022-03-10T10:05:30.037516Z"
    },
    "papermill": {
     "duration": 0.042323,
     "end_time": "2022-03-10T10:28:06.863977",
     "exception": false,
     "start_time": "2022-03-10T10:28:06.821654",
     "status": "completed"
    },
    "tags": []
   },
   "outputs": [
    {
     "data": {
      "text/html": [
       "<div>\n",
       "<style scoped>\n",
       "    .dataframe tbody tr th:only-of-type {\n",
       "        vertical-align: middle;\n",
       "    }\n",
       "\n",
       "    .dataframe tbody tr th {\n",
       "        vertical-align: top;\n",
       "    }\n",
       "\n",
       "    .dataframe thead th {\n",
       "        text-align: right;\n",
       "    }\n",
       "</style>\n",
       "<table border=\"1\" class=\"dataframe\">\n",
       "  <thead>\n",
       "    <tr style=\"text-align: right;\">\n",
       "      <th></th>\n",
       "      <th>Player</th>\n",
       "      <th>Base Price</th>\n",
       "      <th>TYPE</th>\n",
       "      <th>COST IN ₹ (CR.)</th>\n",
       "      <th>Cost IN $ (000)</th>\n",
       "      <th>2021 Squad</th>\n",
       "      <th>Team</th>\n",
       "    </tr>\n",
       "  </thead>\n",
       "  <tbody>\n",
       "    <tr>\n",
       "      <th>0</th>\n",
       "      <td>Rashid Khan</td>\n",
       "      <td>Draft Pick</td>\n",
       "      <td>BOWLER</td>\n",
       "      <td>15.0</td>\n",
       "      <td>1950.0</td>\n",
       "      <td>SRH</td>\n",
       "      <td>Gujarat Titans</td>\n",
       "    </tr>\n",
       "    <tr>\n",
       "      <th>1</th>\n",
       "      <td>Hardik Pandya</td>\n",
       "      <td>Draft Pick</td>\n",
       "      <td>ALL-ROUNDER</td>\n",
       "      <td>15.0</td>\n",
       "      <td>1950.0</td>\n",
       "      <td>MI</td>\n",
       "      <td>Gujarat Titans</td>\n",
       "    </tr>\n",
       "    <tr>\n",
       "      <th>2</th>\n",
       "      <td>Lockie Ferguson</td>\n",
       "      <td>2 Cr</td>\n",
       "      <td>BOWLER</td>\n",
       "      <td>10.0</td>\n",
       "      <td>1300.0</td>\n",
       "      <td>KKR</td>\n",
       "      <td>Gujarat Titans</td>\n",
       "    </tr>\n",
       "    <tr>\n",
       "      <th>3</th>\n",
       "      <td>Rahul Tewatia</td>\n",
       "      <td>40 Lakh</td>\n",
       "      <td>ALL-ROUNDER</td>\n",
       "      <td>9.0</td>\n",
       "      <td>1170.0</td>\n",
       "      <td>RR</td>\n",
       "      <td>Gujarat Titans</td>\n",
       "    </tr>\n",
       "    <tr>\n",
       "      <th>4</th>\n",
       "      <td>Shubman Gill</td>\n",
       "      <td>Draft Pick</td>\n",
       "      <td>BATTER</td>\n",
       "      <td>8.0</td>\n",
       "      <td>1040.0</td>\n",
       "      <td>KKR</td>\n",
       "      <td>Gujarat Titans</td>\n",
       "    </tr>\n",
       "    <tr>\n",
       "      <th>...</th>\n",
       "      <td>...</td>\n",
       "      <td>...</td>\n",
       "      <td>...</td>\n",
       "      <td>...</td>\n",
       "      <td>...</td>\n",
       "      <td>...</td>\n",
       "      <td>...</td>\n",
       "    </tr>\n",
       "    <tr>\n",
       "      <th>628</th>\n",
       "      <td>Sairaj Patil</td>\n",
       "      <td>20 Lakh</td>\n",
       "      <td>BATTER</td>\n",
       "      <td>NaN</td>\n",
       "      <td>NaN</td>\n",
       "      <td>NaN</td>\n",
       "      <td>Unsold</td>\n",
       "    </tr>\n",
       "    <tr>\n",
       "      <th>629</th>\n",
       "      <td>Monu Singh</td>\n",
       "      <td>20 Lakh</td>\n",
       "      <td>BOWLER</td>\n",
       "      <td>NaN</td>\n",
       "      <td>NaN</td>\n",
       "      <td>NaN</td>\n",
       "      <td>Unsold</td>\n",
       "    </tr>\n",
       "    <tr>\n",
       "      <th>630</th>\n",
       "      <td>Nivethan Radhakrishnan</td>\n",
       "      <td>20 Lakh</td>\n",
       "      <td>BOWLER</td>\n",
       "      <td>NaN</td>\n",
       "      <td>NaN</td>\n",
       "      <td>NaN</td>\n",
       "      <td>Unsold</td>\n",
       "    </tr>\n",
       "    <tr>\n",
       "      <th>631</th>\n",
       "      <td>Lance Morris</td>\n",
       "      <td>20 Lakh</td>\n",
       "      <td>BOWLER</td>\n",
       "      <td>NaN</td>\n",
       "      <td>NaN</td>\n",
       "      <td>NaN</td>\n",
       "      <td>Unsold</td>\n",
       "    </tr>\n",
       "    <tr>\n",
       "      <th>632</th>\n",
       "      <td>Aaron Hardie</td>\n",
       "      <td>20 Lakh</td>\n",
       "      <td>ALL-ROUNDER</td>\n",
       "      <td>NaN</td>\n",
       "      <td>NaN</td>\n",
       "      <td>NaN</td>\n",
       "      <td>Unsold</td>\n",
       "    </tr>\n",
       "  </tbody>\n",
       "</table>\n",
       "<p>633 rows × 7 columns</p>\n",
       "</div>"
      ],
      "text/plain": [
       "                     Player  Base Price         TYPE  COST IN ₹ (CR.)  \\\n",
       "0               Rashid Khan  Draft Pick       BOWLER             15.0   \n",
       "1             Hardik Pandya  Draft Pick  ALL-ROUNDER             15.0   \n",
       "2           Lockie Ferguson        2 Cr       BOWLER             10.0   \n",
       "3             Rahul Tewatia     40 Lakh  ALL-ROUNDER              9.0   \n",
       "4              Shubman Gill  Draft Pick       BATTER              8.0   \n",
       "..                      ...         ...          ...              ...   \n",
       "628            Sairaj Patil     20 Lakh       BATTER              NaN   \n",
       "629              Monu Singh     20 Lakh       BOWLER              NaN   \n",
       "630  Nivethan Radhakrishnan     20 Lakh       BOWLER              NaN   \n",
       "631            Lance Morris     20 Lakh       BOWLER              NaN   \n",
       "632            Aaron Hardie     20 Lakh  ALL-ROUNDER              NaN   \n",
       "\n",
       "     Cost IN $ (000) 2021 Squad            Team  \n",
       "0             1950.0        SRH  Gujarat Titans  \n",
       "1             1950.0         MI  Gujarat Titans  \n",
       "2             1300.0        KKR  Gujarat Titans  \n",
       "3             1170.0         RR  Gujarat Titans  \n",
       "4             1040.0        KKR  Gujarat Titans  \n",
       "..               ...        ...             ...  \n",
       "628              NaN        NaN          Unsold  \n",
       "629              NaN        NaN          Unsold  \n",
       "630              NaN        NaN          Unsold  \n",
       "631              NaN        NaN          Unsold  \n",
       "632              NaN        NaN          Unsold  \n",
       "\n",
       "[633 rows x 7 columns]"
      ]
     },
     "execution_count": 3,
     "metadata": {},
     "output_type": "execute_result"
    }
   ],
   "source": [
    "df"
   ]
  },
  {
   "cell_type": "markdown",
   "id": "31f2e041",
   "metadata": {
    "papermill": {
     "duration": 0.015462,
     "end_time": "2022-03-10T10:28:06.894811",
     "exception": false,
     "start_time": "2022-03-10T10:28:06.879349",
     "status": "completed"
    },
    "tags": []
   },
   "source": [
    "# Checking the info of the dataframe"
   ]
  },
  {
   "cell_type": "code",
   "execution_count": 4,
   "id": "29368574",
   "metadata": {
    "execution": {
     "iopub.execute_input": "2022-03-10T10:28:06.943826Z",
     "iopub.status.busy": "2022-03-10T10:28:06.933694Z",
     "iopub.status.idle": "2022-03-10T10:28:06.946690Z",
     "shell.execute_reply": "2022-03-10T10:28:06.947252Z",
     "shell.execute_reply.started": "2022-03-10T10:21:15.696507Z"
    },
    "papermill": {
     "duration": 0.037253,
     "end_time": "2022-03-10T10:28:06.947421",
     "exception": false,
     "start_time": "2022-03-10T10:28:06.910168",
     "status": "completed"
    },
    "tags": []
   },
   "outputs": [
    {
     "name": "stdout",
     "output_type": "stream",
     "text": [
      "<class 'pandas.core.frame.DataFrame'>\n",
      "Int64Index: 633 entries, 0 to 632\n",
      "Data columns (total 7 columns):\n",
      " #   Column           Non-Null Count  Dtype  \n",
      "---  ------           --------------  -----  \n",
      " 0   Player           633 non-null    object \n",
      " 1   Base Price       633 non-null    object \n",
      " 2   TYPE             633 non-null    object \n",
      " 3   COST IN ₹ (CR.)  237 non-null    float64\n",
      " 4   Cost IN $ (000)  237 non-null    float64\n",
      " 5   2021 Squad       199 non-null    object \n",
      " 6   Team             633 non-null    object \n",
      "dtypes: float64(2), object(5)\n",
      "memory usage: 39.6+ KB\n"
     ]
    }
   ],
   "source": [
    "df.info()"
   ]
  },
  {
   "cell_type": "markdown",
   "id": "e2d26990",
   "metadata": {
    "papermill": {
     "duration": 0.015769,
     "end_time": "2022-03-10T10:28:06.979707",
     "exception": false,
     "start_time": "2022-03-10T10:28:06.963938",
     "status": "completed"
    },
    "tags": []
   },
   "source": [
    "# Checking the null values in each column"
   ]
  },
  {
   "cell_type": "code",
   "execution_count": 5,
   "id": "8274c7fa",
   "metadata": {
    "execution": {
     "iopub.execute_input": "2022-03-10T10:28:07.014248Z",
     "iopub.status.busy": "2022-03-10T10:28:07.013512Z",
     "iopub.status.idle": "2022-03-10T10:28:07.020770Z",
     "shell.execute_reply": "2022-03-10T10:28:07.021372Z",
     "shell.execute_reply.started": "2022-03-10T10:07:24.542709Z"
    },
    "papermill": {
     "duration": 0.026188,
     "end_time": "2022-03-10T10:28:07.021538",
     "exception": false,
     "start_time": "2022-03-10T10:28:06.995350",
     "status": "completed"
    },
    "tags": []
   },
   "outputs": [
    {
     "data": {
      "text/plain": [
       "Player               0\n",
       "Base Price           0\n",
       "TYPE                 0\n",
       "COST IN ₹ (CR.)    396\n",
       "Cost IN $ (000)    396\n",
       "2021 Squad         434\n",
       "Team                 0\n",
       "dtype: int64"
      ]
     },
     "execution_count": 5,
     "metadata": {},
     "output_type": "execute_result"
    }
   ],
   "source": [
    "df.isnull().sum()"
   ]
  },
  {
   "cell_type": "markdown",
   "id": "1738cb30",
   "metadata": {
    "papermill": {
     "duration": 0.016294,
     "end_time": "2022-03-10T10:28:07.053750",
     "exception": false,
     "start_time": "2022-03-10T10:28:07.037456",
     "status": "completed"
    },
    "tags": []
   },
   "source": [
    "# Locating one specific element of the dataframe"
   ]
  },
  {
   "cell_type": "code",
   "execution_count": 6,
   "id": "954f29c5",
   "metadata": {
    "execution": {
     "iopub.execute_input": "2022-03-10T10:28:07.088780Z",
     "iopub.status.busy": "2022-03-10T10:28:07.088167Z",
     "iopub.status.idle": "2022-03-10T10:28:07.093127Z",
     "shell.execute_reply": "2022-03-10T10:28:07.093682Z",
     "shell.execute_reply.started": "2022-03-10T10:09:28.006092Z"
    },
    "papermill": {
     "duration": 0.024006,
     "end_time": "2022-03-10T10:28:07.093845",
     "exception": false,
     "start_time": "2022-03-10T10:28:07.069839",
     "status": "completed"
    },
    "tags": []
   },
   "outputs": [
    {
     "data": {
      "text/plain": [
       "nan"
      ]
     },
     "execution_count": 6,
     "metadata": {},
     "output_type": "execute_result"
    }
   ],
   "source": [
    "df.loc[632,\"2021 Squad\"]"
   ]
  },
  {
   "cell_type": "markdown",
   "id": "9fb56dec",
   "metadata": {
    "papermill": {
     "duration": 0.016111,
     "end_time": "2022-03-10T10:28:07.126422",
     "exception": false,
     "start_time": "2022-03-10T10:28:07.110311",
     "status": "completed"
    },
    "tags": []
   },
   "source": [
    "# Inserting null value in one element manually using core Python"
   ]
  },
  {
   "cell_type": "code",
   "execution_count": 7,
   "id": "c995e2ac",
   "metadata": {
    "execution": {
     "iopub.execute_input": "2022-03-10T10:28:07.167374Z",
     "iopub.status.busy": "2022-03-10T10:28:07.166620Z",
     "iopub.status.idle": "2022-03-10T10:28:07.169302Z",
     "shell.execute_reply": "2022-03-10T10:28:07.169770Z",
     "shell.execute_reply.started": "2022-03-10T10:13:04.657365Z"
    },
    "papermill": {
     "duration": 0.025268,
     "end_time": "2022-03-10T10:28:07.169944",
     "exception": false,
     "start_time": "2022-03-10T10:28:07.144676",
     "status": "completed"
    },
    "tags": []
   },
   "outputs": [],
   "source": [
    "df.loc[632,\"TYPE\"]=None"
   ]
  },
  {
   "cell_type": "markdown",
   "id": "28852659",
   "metadata": {
    "execution": {
     "iopub.execute_input": "2022-03-10T10:23:28.623784Z",
     "iopub.status.busy": "2022-03-10T10:23:28.623483Z",
     "iopub.status.idle": "2022-03-10T10:23:28.629225Z",
     "shell.execute_reply": "2022-03-10T10:23:28.627997Z",
     "shell.execute_reply.started": "2022-03-10T10:23:28.623752Z"
    },
    "papermill": {
     "duration": 0.016076,
     "end_time": "2022-03-10T10:28:07.202754",
     "exception": false,
     "start_time": "2022-03-10T10:28:07.186678",
     "status": "completed"
    },
    "tags": []
   },
   "source": [
    "# Creating one indivisual column containing null values creating using numpy"
   ]
  },
  {
   "cell_type": "code",
   "execution_count": 8,
   "id": "74a36509",
   "metadata": {
    "execution": {
     "iopub.execute_input": "2022-03-10T10:28:07.241191Z",
     "iopub.status.busy": "2022-03-10T10:28:07.240513Z",
     "iopub.status.idle": "2022-03-10T10:28:07.243225Z",
     "shell.execute_reply": "2022-03-10T10:28:07.242687Z",
     "shell.execute_reply.started": "2022-03-10T10:13:15.441456Z"
    },
    "papermill": {
     "duration": 0.02417,
     "end_time": "2022-03-10T10:28:07.243379",
     "exception": false,
     "start_time": "2022-03-10T10:28:07.219209",
     "status": "completed"
    },
    "tags": []
   },
   "outputs": [],
   "source": [
    "df[\"Test\"]=np.nan"
   ]
  },
  {
   "cell_type": "markdown",
   "id": "de57af22",
   "metadata": {
    "papermill": {
     "duration": 0.016156,
     "end_time": "2022-03-10T10:28:07.276078",
     "exception": false,
     "start_time": "2022-03-10T10:28:07.259922",
     "status": "completed"
    },
    "tags": []
   },
   "source": [
    "# Printing the final Dataframe"
   ]
  },
  {
   "cell_type": "code",
   "execution_count": 9,
   "id": "f83b419b",
   "metadata": {
    "execution": {
     "iopub.execute_input": "2022-03-10T10:28:07.329972Z",
     "iopub.status.busy": "2022-03-10T10:28:07.329103Z",
     "iopub.status.idle": "2022-03-10T10:28:07.332650Z",
     "shell.execute_reply": "2022-03-10T10:28:07.333150Z",
     "shell.execute_reply.started": "2022-03-10T10:13:17.577830Z"
    },
    "papermill": {
     "duration": 0.040783,
     "end_time": "2022-03-10T10:28:07.333319",
     "exception": false,
     "start_time": "2022-03-10T10:28:07.292536",
     "status": "completed"
    },
    "tags": []
   },
   "outputs": [
    {
     "data": {
      "text/html": [
       "<div>\n",
       "<style scoped>\n",
       "    .dataframe tbody tr th:only-of-type {\n",
       "        vertical-align: middle;\n",
       "    }\n",
       "\n",
       "    .dataframe tbody tr th {\n",
       "        vertical-align: top;\n",
       "    }\n",
       "\n",
       "    .dataframe thead th {\n",
       "        text-align: right;\n",
       "    }\n",
       "</style>\n",
       "<table border=\"1\" class=\"dataframe\">\n",
       "  <thead>\n",
       "    <tr style=\"text-align: right;\">\n",
       "      <th></th>\n",
       "      <th>Player</th>\n",
       "      <th>Base Price</th>\n",
       "      <th>TYPE</th>\n",
       "      <th>COST IN ₹ (CR.)</th>\n",
       "      <th>Cost IN $ (000)</th>\n",
       "      <th>2021 Squad</th>\n",
       "      <th>Team</th>\n",
       "      <th>Test</th>\n",
       "    </tr>\n",
       "  </thead>\n",
       "  <tbody>\n",
       "    <tr>\n",
       "      <th>0</th>\n",
       "      <td>Rashid Khan</td>\n",
       "      <td>Draft Pick</td>\n",
       "      <td>BOWLER</td>\n",
       "      <td>15.0</td>\n",
       "      <td>1950.0</td>\n",
       "      <td>SRH</td>\n",
       "      <td>Gujarat Titans</td>\n",
       "      <td>NaN</td>\n",
       "    </tr>\n",
       "    <tr>\n",
       "      <th>1</th>\n",
       "      <td>Hardik Pandya</td>\n",
       "      <td>Draft Pick</td>\n",
       "      <td>ALL-ROUNDER</td>\n",
       "      <td>15.0</td>\n",
       "      <td>1950.0</td>\n",
       "      <td>MI</td>\n",
       "      <td>Gujarat Titans</td>\n",
       "      <td>NaN</td>\n",
       "    </tr>\n",
       "    <tr>\n",
       "      <th>2</th>\n",
       "      <td>Lockie Ferguson</td>\n",
       "      <td>2 Cr</td>\n",
       "      <td>BOWLER</td>\n",
       "      <td>10.0</td>\n",
       "      <td>1300.0</td>\n",
       "      <td>KKR</td>\n",
       "      <td>Gujarat Titans</td>\n",
       "      <td>NaN</td>\n",
       "    </tr>\n",
       "    <tr>\n",
       "      <th>3</th>\n",
       "      <td>Rahul Tewatia</td>\n",
       "      <td>40 Lakh</td>\n",
       "      <td>ALL-ROUNDER</td>\n",
       "      <td>9.0</td>\n",
       "      <td>1170.0</td>\n",
       "      <td>RR</td>\n",
       "      <td>Gujarat Titans</td>\n",
       "      <td>NaN</td>\n",
       "    </tr>\n",
       "    <tr>\n",
       "      <th>4</th>\n",
       "      <td>Shubman Gill</td>\n",
       "      <td>Draft Pick</td>\n",
       "      <td>BATTER</td>\n",
       "      <td>8.0</td>\n",
       "      <td>1040.0</td>\n",
       "      <td>KKR</td>\n",
       "      <td>Gujarat Titans</td>\n",
       "      <td>NaN</td>\n",
       "    </tr>\n",
       "    <tr>\n",
       "      <th>...</th>\n",
       "      <td>...</td>\n",
       "      <td>...</td>\n",
       "      <td>...</td>\n",
       "      <td>...</td>\n",
       "      <td>...</td>\n",
       "      <td>...</td>\n",
       "      <td>...</td>\n",
       "      <td>...</td>\n",
       "    </tr>\n",
       "    <tr>\n",
       "      <th>628</th>\n",
       "      <td>Sairaj Patil</td>\n",
       "      <td>20 Lakh</td>\n",
       "      <td>BATTER</td>\n",
       "      <td>NaN</td>\n",
       "      <td>NaN</td>\n",
       "      <td>NaN</td>\n",
       "      <td>Unsold</td>\n",
       "      <td>NaN</td>\n",
       "    </tr>\n",
       "    <tr>\n",
       "      <th>629</th>\n",
       "      <td>Monu Singh</td>\n",
       "      <td>20 Lakh</td>\n",
       "      <td>BOWLER</td>\n",
       "      <td>NaN</td>\n",
       "      <td>NaN</td>\n",
       "      <td>NaN</td>\n",
       "      <td>Unsold</td>\n",
       "      <td>NaN</td>\n",
       "    </tr>\n",
       "    <tr>\n",
       "      <th>630</th>\n",
       "      <td>Nivethan Radhakrishnan</td>\n",
       "      <td>20 Lakh</td>\n",
       "      <td>BOWLER</td>\n",
       "      <td>NaN</td>\n",
       "      <td>NaN</td>\n",
       "      <td>NaN</td>\n",
       "      <td>Unsold</td>\n",
       "      <td>NaN</td>\n",
       "    </tr>\n",
       "    <tr>\n",
       "      <th>631</th>\n",
       "      <td>Lance Morris</td>\n",
       "      <td>20 Lakh</td>\n",
       "      <td>BOWLER</td>\n",
       "      <td>NaN</td>\n",
       "      <td>NaN</td>\n",
       "      <td>NaN</td>\n",
       "      <td>Unsold</td>\n",
       "      <td>NaN</td>\n",
       "    </tr>\n",
       "    <tr>\n",
       "      <th>632</th>\n",
       "      <td>Aaron Hardie</td>\n",
       "      <td>20 Lakh</td>\n",
       "      <td>None</td>\n",
       "      <td>NaN</td>\n",
       "      <td>NaN</td>\n",
       "      <td>NaN</td>\n",
       "      <td>Unsold</td>\n",
       "      <td>NaN</td>\n",
       "    </tr>\n",
       "  </tbody>\n",
       "</table>\n",
       "<p>633 rows × 8 columns</p>\n",
       "</div>"
      ],
      "text/plain": [
       "                     Player  Base Price         TYPE  COST IN ₹ (CR.)  \\\n",
       "0               Rashid Khan  Draft Pick       BOWLER             15.0   \n",
       "1             Hardik Pandya  Draft Pick  ALL-ROUNDER             15.0   \n",
       "2           Lockie Ferguson        2 Cr       BOWLER             10.0   \n",
       "3             Rahul Tewatia     40 Lakh  ALL-ROUNDER              9.0   \n",
       "4              Shubman Gill  Draft Pick       BATTER              8.0   \n",
       "..                      ...         ...          ...              ...   \n",
       "628            Sairaj Patil     20 Lakh       BATTER              NaN   \n",
       "629              Monu Singh     20 Lakh       BOWLER              NaN   \n",
       "630  Nivethan Radhakrishnan     20 Lakh       BOWLER              NaN   \n",
       "631            Lance Morris     20 Lakh       BOWLER              NaN   \n",
       "632            Aaron Hardie     20 Lakh         None              NaN   \n",
       "\n",
       "     Cost IN $ (000) 2021 Squad            Team  Test  \n",
       "0             1950.0        SRH  Gujarat Titans   NaN  \n",
       "1             1950.0         MI  Gujarat Titans   NaN  \n",
       "2             1300.0        KKR  Gujarat Titans   NaN  \n",
       "3             1170.0         RR  Gujarat Titans   NaN  \n",
       "4             1040.0        KKR  Gujarat Titans   NaN  \n",
       "..               ...        ...             ...   ...  \n",
       "628              NaN        NaN          Unsold   NaN  \n",
       "629              NaN        NaN          Unsold   NaN  \n",
       "630              NaN        NaN          Unsold   NaN  \n",
       "631              NaN        NaN          Unsold   NaN  \n",
       "632              NaN        NaN          Unsold   NaN  \n",
       "\n",
       "[633 rows x 8 columns]"
      ]
     },
     "execution_count": 9,
     "metadata": {},
     "output_type": "execute_result"
    }
   ],
   "source": [
    "df"
   ]
  }
 ],
 "metadata": {
  "kernelspec": {
   "display_name": "Python 3",
   "language": "python",
   "name": "python3"
  },
  "language_info": {
   "codemirror_mode": {
    "name": "ipython",
    "version": 3
   },
   "file_extension": ".py",
   "mimetype": "text/x-python",
   "name": "python",
   "nbconvert_exporter": "python",
   "pygments_lexer": "ipython3",
   "version": "3.7.12"
  },
  "papermill": {
   "default_parameters": {},
   "duration": 11.514565,
   "end_time": "2022-03-10T10:28:07.960030",
   "environment_variables": {},
   "exception": null,
   "input_path": "__notebook__.ipynb",
   "output_path": "__notebook__.ipynb",
   "parameters": {},
   "start_time": "2022-03-10T10:27:56.445465",
   "version": "2.3.3"
  }
 },
 "nbformat": 4,
 "nbformat_minor": 5
}
