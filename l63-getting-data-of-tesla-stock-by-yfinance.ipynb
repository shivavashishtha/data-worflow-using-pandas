{
 "cells": [
  {
   "cell_type": "code",
   "execution_count": 1,
   "id": "d5e3bd78",
   "metadata": {
    "_cell_guid": "b1076dfc-b9ad-4769-8c92-a6c4dae69d19",
    "_uuid": "8f2839f25d086af736a60e9eeb907d3b93b6e0e5",
    "execution": {
     "iopub.execute_input": "2022-04-07T10:40:42.568207Z",
     "iopub.status.busy": "2022-04-07T10:40:42.567479Z",
     "iopub.status.idle": "2022-04-07T10:40:42.571260Z",
     "shell.execute_reply": "2022-04-07T10:40:42.571804Z",
     "shell.execute_reply.started": "2022-04-07T10:39:14.345682Z"
    },
    "papermill": {
     "duration": 0.037821,
     "end_time": "2022-04-07T10:40:42.572127",
     "exception": false,
     "start_time": "2022-04-07T10:40:42.534306",
     "status": "completed"
    },
    "tags": []
   },
   "outputs": [],
   "source": [
    "# This Python 3 environment comes with many helpful analytics libraries installed\n",
    "# It is defined by the kaggle/python Docker image: https://github.com/kaggle/docker-python\n",
    "# For example, here's several helpful packages to load\n",
    "\n",
    "import numpy as np # linear algebra\n",
    "import pandas as pd # data processing, CSV file I/O (e.g. pd.read_csv)\n",
    "\n",
    "# Input data files are available in the read-only \"../input/\" directory\n",
    "# For example, running this (by clicking run or pressing Shift+Enter) will list all files under the input directory\n",
    "\n",
    "import os\n",
    "for dirname, _, filenames in os.walk('/kaggle/input'):\n",
    "    for filename in filenames:\n",
    "        print(os.path.join(dirname, filename))\n",
    "\n",
    "# You can write up to 20GB to the current directory (/kaggle/working/) that gets preserved as output when you create a version using \"Save & Run All\" \n",
    "# You can also write temporary files to /kaggle/temp/, but they won't be saved outside of the current session"
   ]
  },
  {
   "cell_type": "code",
   "execution_count": 2,
   "id": "5d1de0e0",
   "metadata": {
    "execution": {
     "iopub.execute_input": "2022-04-07T10:40:42.614492Z",
     "iopub.status.busy": "2022-04-07T10:40:42.613797Z",
     "iopub.status.idle": "2022-04-07T10:40:56.360264Z",
     "shell.execute_reply": "2022-04-07T10:40:56.359659Z",
     "shell.execute_reply.started": "2022-04-07T10:39:14.354672Z"
    },
    "papermill": {
     "duration": 13.767805,
     "end_time": "2022-04-07T10:40:56.360428",
     "exception": false,
     "start_time": "2022-04-07T10:40:42.592623",
     "status": "completed"
    },
    "tags": []
   },
   "outputs": [
    {
     "name": "stdout",
     "output_type": "stream",
     "text": [
      "Collecting yfinance\r\n",
      "  Downloading yfinance-0.1.70-py2.py3-none-any.whl (26 kB)\r\n",
      "Requirement already satisfied: pandas>=0.24.0 in /opt/conda/lib/python3.7/site-packages (from yfinance) (1.3.5)\r\n",
      "Collecting multitasking>=0.0.7\r\n",
      "  Downloading multitasking-0.0.10.tar.gz (8.2 kB)\r\n",
      "  Preparing metadata (setup.py) ... \u001b[?25l-\b \bdone\r\n",
      "\u001b[?25hRequirement already satisfied: numpy>=1.15 in /opt/conda/lib/python3.7/site-packages (from yfinance) (1.20.3)\r\n",
      "Requirement already satisfied: lxml>=4.5.1 in /opt/conda/lib/python3.7/site-packages (from yfinance) (4.8.0)\r\n",
      "Requirement already satisfied: requests>=2.26 in /opt/conda/lib/python3.7/site-packages (from yfinance) (2.26.0)\r\n",
      "Requirement already satisfied: python-dateutil>=2.7.3 in /opt/conda/lib/python3.7/site-packages (from pandas>=0.24.0->yfinance) (2.8.2)\r\n",
      "Requirement already satisfied: pytz>=2017.3 in /opt/conda/lib/python3.7/site-packages (from pandas>=0.24.0->yfinance) (2021.3)\r\n",
      "Requirement already satisfied: charset-normalizer~=2.0.0 in /opt/conda/lib/python3.7/site-packages (from requests>=2.26->yfinance) (2.0.9)\r\n",
      "Requirement already satisfied: urllib3<1.27,>=1.21.1 in /opt/conda/lib/python3.7/site-packages (from requests>=2.26->yfinance) (1.26.7)\r\n",
      "Requirement already satisfied: certifi>=2017.4.17 in /opt/conda/lib/python3.7/site-packages (from requests>=2.26->yfinance) (2021.10.8)\r\n",
      "Requirement already satisfied: idna<4,>=2.5 in /opt/conda/lib/python3.7/site-packages (from requests>=2.26->yfinance) (3.1)\r\n",
      "Requirement already satisfied: six>=1.5 in /opt/conda/lib/python3.7/site-packages (from python-dateutil>=2.7.3->pandas>=0.24.0->yfinance) (1.16.0)\r\n",
      "Building wheels for collected packages: multitasking\r\n",
      "  Building wheel for multitasking (setup.py) ... \u001b[?25l-\b \b\\\b \bdone\r\n",
      "\u001b[?25h  Created wheel for multitasking: filename=multitasking-0.0.10-py3-none-any.whl size=8500 sha256=575734a78db0cec6f3a0a55bd6106f4a546f3790755a7a7cf4d0ad46176ef371\r\n",
      "  Stored in directory: /root/.cache/pip/wheels/34/ba/79/c0260c6f1a03f420ec7673eff9981778f293b9107974679e36\r\n",
      "Successfully built multitasking\r\n",
      "Installing collected packages: multitasking, yfinance\r\n",
      "Successfully installed multitasking-0.0.10 yfinance-0.1.70\r\n",
      "\u001b[33mWARNING: Running pip as the 'root' user can result in broken permissions and conflicting behaviour with the system package manager. It is recommended to use a virtual environment instead: https://pip.pypa.io/warnings/venv\u001b[0m\r\n"
     ]
    }
   ],
   "source": [
    "!pip install yfinance"
   ]
  },
  {
   "cell_type": "markdown",
   "id": "0dddb0bd",
   "metadata": {
    "papermill": {
     "duration": 0.02287,
     "end_time": "2022-04-07T10:40:56.406633",
     "exception": false,
     "start_time": "2022-04-07T10:40:56.383763",
     "status": "completed"
    },
    "tags": []
   },
   "source": [
    "# yfinance\n",
    "yfinance offers a threaded and Pythonic way to download market data from Yahoo!Ⓡ finance."
   ]
  },
  {
   "cell_type": "code",
   "execution_count": 3,
   "id": "f4a1c960",
   "metadata": {
    "execution": {
     "iopub.execute_input": "2022-04-07T10:40:56.459558Z",
     "iopub.status.busy": "2022-04-07T10:40:56.458767Z",
     "iopub.status.idle": "2022-04-07T10:40:56.470308Z",
     "shell.execute_reply": "2022-04-07T10:40:56.469688Z",
     "shell.execute_reply.started": "2022-04-07T10:39:23.169156Z"
    },
    "papermill": {
     "duration": 0.04039,
     "end_time": "2022-04-07T10:40:56.470463",
     "exception": false,
     "start_time": "2022-04-07T10:40:56.430073",
     "status": "completed"
    },
    "tags": []
   },
   "outputs": [],
   "source": [
    "import yfinance as yf"
   ]
  },
  {
   "cell_type": "markdown",
   "id": "49ddb1db",
   "metadata": {
    "papermill": {
     "duration": 0.02174,
     "end_time": "2022-04-07T10:40:56.515938",
     "exception": false,
     "start_time": "2022-04-07T10:40:56.494198",
     "status": "completed"
    },
    "tags": []
   },
   "source": [
    "### Setting up the Ticker"
   ]
  },
  {
   "cell_type": "code",
   "execution_count": 4,
   "id": "6d28e93f",
   "metadata": {
    "execution": {
     "iopub.execute_input": "2022-04-07T10:40:56.564885Z",
     "iopub.status.busy": "2022-04-07T10:40:56.564156Z",
     "iopub.status.idle": "2022-04-07T10:40:56.566559Z",
     "shell.execute_reply": "2022-04-07T10:40:56.565943Z",
     "shell.execute_reply.started": "2022-04-07T10:39:23.181470Z"
    },
    "papermill": {
     "duration": 0.02896,
     "end_time": "2022-04-07T10:40:56.566702",
     "exception": false,
     "start_time": "2022-04-07T10:40:56.537742",
     "status": "completed"
    },
    "tags": []
   },
   "outputs": [],
   "source": [
    "ticker=\"tsla\""
   ]
  },
  {
   "cell_type": "markdown",
   "id": "932020ad",
   "metadata": {
    "papermill": {
     "duration": 0.021528,
     "end_time": "2022-04-07T10:40:56.611524",
     "exception": false,
     "start_time": "2022-04-07T10:40:56.589996",
     "status": "completed"
    },
    "tags": []
   },
   "source": [
    "### Download Market Data"
   ]
  },
  {
   "cell_type": "code",
   "execution_count": 5,
   "id": "311ddef9",
   "metadata": {
    "execution": {
     "iopub.execute_input": "2022-04-07T10:40:56.671180Z",
     "iopub.status.busy": "2022-04-07T10:40:56.663415Z",
     "iopub.status.idle": "2022-04-07T10:40:57.366624Z",
     "shell.execute_reply": "2022-04-07T10:40:57.367154Z",
     "shell.execute_reply.started": "2022-04-07T10:39:23.190448Z"
    },
    "papermill": {
     "duration": 0.732597,
     "end_time": "2022-04-07T10:40:57.367337",
     "exception": false,
     "start_time": "2022-04-07T10:40:56.634740",
     "status": "completed"
    },
    "tags": []
   },
   "outputs": [
    {
     "name": "stdout",
     "output_type": "stream",
     "text": [
      "[*********************100%***********************]  1 of 1 completed\n"
     ]
    }
   ],
   "source": [
    "aapl=yf.download(ticker)"
   ]
  },
  {
   "cell_type": "markdown",
   "id": "c1024006",
   "metadata": {
    "papermill": {
     "duration": 0.023531,
     "end_time": "2022-04-07T10:40:57.414142",
     "exception": false,
     "start_time": "2022-04-07T10:40:57.390611",
     "status": "completed"
    },
    "tags": []
   },
   "source": [
    "### Checking the head()"
   ]
  },
  {
   "cell_type": "code",
   "execution_count": 6,
   "id": "5091906a",
   "metadata": {
    "execution": {
     "iopub.execute_input": "2022-04-07T10:40:57.468121Z",
     "iopub.status.busy": "2022-04-07T10:40:57.467367Z",
     "iopub.status.idle": "2022-04-07T10:40:57.483874Z",
     "shell.execute_reply": "2022-04-07T10:40:57.484392Z",
     "shell.execute_reply.started": "2022-04-07T10:39:23.789926Z"
    },
    "papermill": {
     "duration": 0.047097,
     "end_time": "2022-04-07T10:40:57.484571",
     "exception": false,
     "start_time": "2022-04-07T10:40:57.437474",
     "status": "completed"
    },
    "tags": []
   },
   "outputs": [
    {
     "data": {
      "text/html": [
       "<div>\n",
       "<style scoped>\n",
       "    .dataframe tbody tr th:only-of-type {\n",
       "        vertical-align: middle;\n",
       "    }\n",
       "\n",
       "    .dataframe tbody tr th {\n",
       "        vertical-align: top;\n",
       "    }\n",
       "\n",
       "    .dataframe thead th {\n",
       "        text-align: right;\n",
       "    }\n",
       "</style>\n",
       "<table border=\"1\" class=\"dataframe\">\n",
       "  <thead>\n",
       "    <tr style=\"text-align: right;\">\n",
       "      <th></th>\n",
       "      <th>Open</th>\n",
       "      <th>High</th>\n",
       "      <th>Low</th>\n",
       "      <th>Close</th>\n",
       "      <th>Adj Close</th>\n",
       "      <th>Volume</th>\n",
       "    </tr>\n",
       "    <tr>\n",
       "      <th>Date</th>\n",
       "      <th></th>\n",
       "      <th></th>\n",
       "      <th></th>\n",
       "      <th></th>\n",
       "      <th></th>\n",
       "      <th></th>\n",
       "    </tr>\n",
       "  </thead>\n",
       "  <tbody>\n",
       "    <tr>\n",
       "      <th>2010-06-29</th>\n",
       "      <td>3.800</td>\n",
       "      <td>5.000</td>\n",
       "      <td>3.508</td>\n",
       "      <td>4.778</td>\n",
       "      <td>4.778</td>\n",
       "      <td>93831500</td>\n",
       "    </tr>\n",
       "    <tr>\n",
       "      <th>2010-06-30</th>\n",
       "      <td>5.158</td>\n",
       "      <td>6.084</td>\n",
       "      <td>4.660</td>\n",
       "      <td>4.766</td>\n",
       "      <td>4.766</td>\n",
       "      <td>85935500</td>\n",
       "    </tr>\n",
       "    <tr>\n",
       "      <th>2010-07-01</th>\n",
       "      <td>5.000</td>\n",
       "      <td>5.184</td>\n",
       "      <td>4.054</td>\n",
       "      <td>4.392</td>\n",
       "      <td>4.392</td>\n",
       "      <td>41094000</td>\n",
       "    </tr>\n",
       "    <tr>\n",
       "      <th>2010-07-02</th>\n",
       "      <td>4.600</td>\n",
       "      <td>4.620</td>\n",
       "      <td>3.742</td>\n",
       "      <td>3.840</td>\n",
       "      <td>3.840</td>\n",
       "      <td>25699000</td>\n",
       "    </tr>\n",
       "    <tr>\n",
       "      <th>2010-07-06</th>\n",
       "      <td>4.000</td>\n",
       "      <td>4.000</td>\n",
       "      <td>3.166</td>\n",
       "      <td>3.222</td>\n",
       "      <td>3.222</td>\n",
       "      <td>34334500</td>\n",
       "    </tr>\n",
       "  </tbody>\n",
       "</table>\n",
       "</div>"
      ],
      "text/plain": [
       "             Open   High    Low  Close  Adj Close    Volume\n",
       "Date                                                       \n",
       "2010-06-29  3.800  5.000  3.508  4.778      4.778  93831500\n",
       "2010-06-30  5.158  6.084  4.660  4.766      4.766  85935500\n",
       "2010-07-01  5.000  5.184  4.054  4.392      4.392  41094000\n",
       "2010-07-02  4.600  4.620  3.742  3.840      3.840  25699000\n",
       "2010-07-06  4.000  4.000  3.166  3.222      3.222  34334500"
      ]
     },
     "execution_count": 6,
     "metadata": {},
     "output_type": "execute_result"
    }
   ],
   "source": [
    "aapl.head()"
   ]
  },
  {
   "cell_type": "markdown",
   "id": "8455eeb8",
   "metadata": {
    "papermill": {
     "duration": 0.024143,
     "end_time": "2022-04-07T10:40:57.532605",
     "exception": false,
     "start_time": "2022-04-07T10:40:57.508462",
     "status": "completed"
    },
    "tags": []
   },
   "source": [
    "### Checking the tail()"
   ]
  },
  {
   "cell_type": "code",
   "execution_count": 7,
   "id": "f702cd9e",
   "metadata": {
    "execution": {
     "iopub.execute_input": "2022-04-07T10:40:57.586471Z",
     "iopub.status.busy": "2022-04-07T10:40:57.585402Z",
     "iopub.status.idle": "2022-04-07T10:40:57.599313Z",
     "shell.execute_reply": "2022-04-07T10:40:57.599928Z",
     "shell.execute_reply.started": "2022-04-07T10:39:23.810467Z"
    },
    "papermill": {
     "duration": 0.042425,
     "end_time": "2022-04-07T10:40:57.600112",
     "exception": false,
     "start_time": "2022-04-07T10:40:57.557687",
     "status": "completed"
    },
    "tags": []
   },
   "outputs": [
    {
     "data": {
      "text/html": [
       "<div>\n",
       "<style scoped>\n",
       "    .dataframe tbody tr th:only-of-type {\n",
       "        vertical-align: middle;\n",
       "    }\n",
       "\n",
       "    .dataframe tbody tr th {\n",
       "        vertical-align: top;\n",
       "    }\n",
       "\n",
       "    .dataframe thead th {\n",
       "        text-align: right;\n",
       "    }\n",
       "</style>\n",
       "<table border=\"1\" class=\"dataframe\">\n",
       "  <thead>\n",
       "    <tr style=\"text-align: right;\">\n",
       "      <th></th>\n",
       "      <th>Open</th>\n",
       "      <th>High</th>\n",
       "      <th>Low</th>\n",
       "      <th>Close</th>\n",
       "      <th>Adj Close</th>\n",
       "      <th>Volume</th>\n",
       "    </tr>\n",
       "    <tr>\n",
       "      <th>Date</th>\n",
       "      <th></th>\n",
       "      <th></th>\n",
       "      <th></th>\n",
       "      <th></th>\n",
       "      <th></th>\n",
       "      <th></th>\n",
       "    </tr>\n",
       "  </thead>\n",
       "  <tbody>\n",
       "    <tr>\n",
       "      <th>2022-03-31</th>\n",
       "      <td>1094.569946</td>\n",
       "      <td>1103.140015</td>\n",
       "      <td>1076.640015</td>\n",
       "      <td>1077.599976</td>\n",
       "      <td>1077.599976</td>\n",
       "      <td>16330900</td>\n",
       "    </tr>\n",
       "    <tr>\n",
       "      <th>2022-04-01</th>\n",
       "      <td>1081.150024</td>\n",
       "      <td>1094.750000</td>\n",
       "      <td>1066.640015</td>\n",
       "      <td>1084.589966</td>\n",
       "      <td>1084.589966</td>\n",
       "      <td>18012900</td>\n",
       "    </tr>\n",
       "    <tr>\n",
       "      <th>2022-04-04</th>\n",
       "      <td>1089.380005</td>\n",
       "      <td>1149.910034</td>\n",
       "      <td>1072.530029</td>\n",
       "      <td>1145.449951</td>\n",
       "      <td>1145.449951</td>\n",
       "      <td>27345300</td>\n",
       "    </tr>\n",
       "    <tr>\n",
       "      <th>2022-04-05</th>\n",
       "      <td>1136.300049</td>\n",
       "      <td>1152.869995</td>\n",
       "      <td>1087.300049</td>\n",
       "      <td>1091.260010</td>\n",
       "      <td>1091.260010</td>\n",
       "      <td>26691700</td>\n",
       "    </tr>\n",
       "    <tr>\n",
       "      <th>2022-04-06</th>\n",
       "      <td>1073.469971</td>\n",
       "      <td>1079.000000</td>\n",
       "      <td>1027.699951</td>\n",
       "      <td>1045.760010</td>\n",
       "      <td>1045.760010</td>\n",
       "      <td>29710800</td>\n",
       "    </tr>\n",
       "  </tbody>\n",
       "</table>\n",
       "</div>"
      ],
      "text/plain": [
       "                   Open         High          Low        Close    Adj Close  \\\n",
       "Date                                                                          \n",
       "2022-03-31  1094.569946  1103.140015  1076.640015  1077.599976  1077.599976   \n",
       "2022-04-01  1081.150024  1094.750000  1066.640015  1084.589966  1084.589966   \n",
       "2022-04-04  1089.380005  1149.910034  1072.530029  1145.449951  1145.449951   \n",
       "2022-04-05  1136.300049  1152.869995  1087.300049  1091.260010  1091.260010   \n",
       "2022-04-06  1073.469971  1079.000000  1027.699951  1045.760010  1045.760010   \n",
       "\n",
       "              Volume  \n",
       "Date                  \n",
       "2022-03-31  16330900  \n",
       "2022-04-01  18012900  \n",
       "2022-04-04  27345300  \n",
       "2022-04-05  26691700  \n",
       "2022-04-06  29710800  "
      ]
     },
     "execution_count": 7,
     "metadata": {},
     "output_type": "execute_result"
    }
   ],
   "source": [
    "aapl.tail()"
   ]
  },
  {
   "cell_type": "markdown",
   "id": "086a8b32",
   "metadata": {
    "papermill": {
     "duration": 0.024685,
     "end_time": "2022-04-07T10:40:57.648684",
     "exception": false,
     "start_time": "2022-04-07T10:40:57.623999",
     "status": "completed"
    },
    "tags": []
   },
   "source": [
    "### Checking the info()"
   ]
  },
  {
   "cell_type": "code",
   "execution_count": 8,
   "id": "4e327074",
   "metadata": {
    "execution": {
     "iopub.execute_input": "2022-04-07T10:40:57.703498Z",
     "iopub.status.busy": "2022-04-07T10:40:57.702534Z",
     "iopub.status.idle": "2022-04-07T10:40:57.720199Z",
     "shell.execute_reply": "2022-04-07T10:40:57.720766Z",
     "shell.execute_reply.started": "2022-04-07T10:39:23.826574Z"
    },
    "papermill": {
     "duration": 0.04726,
     "end_time": "2022-04-07T10:40:57.720990",
     "exception": false,
     "start_time": "2022-04-07T10:40:57.673730",
     "status": "completed"
    },
    "tags": []
   },
   "outputs": [
    {
     "name": "stdout",
     "output_type": "stream",
     "text": [
      "<class 'pandas.core.frame.DataFrame'>\n",
      "DatetimeIndex: 2965 entries, 2010-06-29 to 2022-04-06\n",
      "Data columns (total 6 columns):\n",
      " #   Column     Non-Null Count  Dtype  \n",
      "---  ------     --------------  -----  \n",
      " 0   Open       2965 non-null   float64\n",
      " 1   High       2965 non-null   float64\n",
      " 2   Low        2965 non-null   float64\n",
      " 3   Close      2965 non-null   float64\n",
      " 4   Adj Close  2965 non-null   float64\n",
      " 5   Volume     2965 non-null   int64  \n",
      "dtypes: float64(5), int64(1)\n",
      "memory usage: 162.1 KB\n"
     ]
    }
   ],
   "source": [
    "aapl.info()"
   ]
  },
  {
   "cell_type": "markdown",
   "id": "59e382af",
   "metadata": {
    "papermill": {
     "duration": 0.024401,
     "end_time": "2022-04-07T10:40:57.770630",
     "exception": false,
     "start_time": "2022-04-07T10:40:57.746229",
     "status": "completed"
    },
    "tags": []
   },
   "source": [
    "### Checking the describe() to get the stats"
   ]
  },
  {
   "cell_type": "code",
   "execution_count": 9,
   "id": "fe5baed0",
   "metadata": {
    "execution": {
     "iopub.execute_input": "2022-04-07T10:40:57.826256Z",
     "iopub.status.busy": "2022-04-07T10:40:57.825282Z",
     "iopub.status.idle": "2022-04-07T10:40:57.858086Z",
     "shell.execute_reply": "2022-04-07T10:40:57.857398Z",
     "shell.execute_reply.started": "2022-04-07T10:39:23.848010Z"
    },
    "papermill": {
     "duration": 0.062082,
     "end_time": "2022-04-07T10:40:57.858250",
     "exception": false,
     "start_time": "2022-04-07T10:40:57.796168",
     "status": "completed"
    },
    "tags": []
   },
   "outputs": [
    {
     "data": {
      "text/html": [
       "<div>\n",
       "<style scoped>\n",
       "    .dataframe tbody tr th:only-of-type {\n",
       "        vertical-align: middle;\n",
       "    }\n",
       "\n",
       "    .dataframe tbody tr th {\n",
       "        vertical-align: top;\n",
       "    }\n",
       "\n",
       "    .dataframe thead th {\n",
       "        text-align: right;\n",
       "    }\n",
       "</style>\n",
       "<table border=\"1\" class=\"dataframe\">\n",
       "  <thead>\n",
       "    <tr style=\"text-align: right;\">\n",
       "      <th></th>\n",
       "      <th>Open</th>\n",
       "      <th>High</th>\n",
       "      <th>Low</th>\n",
       "      <th>Close</th>\n",
       "      <th>Adj Close</th>\n",
       "      <th>Volume</th>\n",
       "    </tr>\n",
       "  </thead>\n",
       "  <tbody>\n",
       "    <tr>\n",
       "      <th>count</th>\n",
       "      <td>2965.000000</td>\n",
       "      <td>2965.000000</td>\n",
       "      <td>2965.000000</td>\n",
       "      <td>2965.000000</td>\n",
       "      <td>2965.000000</td>\n",
       "      <td>2.965000e+03</td>\n",
       "    </tr>\n",
       "    <tr>\n",
       "      <th>mean</th>\n",
       "      <td>141.557707</td>\n",
       "      <td>144.689689</td>\n",
       "      <td>138.232026</td>\n",
       "      <td>141.626210</td>\n",
       "      <td>141.626210</td>\n",
       "      <td>3.129279e+07</td>\n",
       "    </tr>\n",
       "    <tr>\n",
       "      <th>std</th>\n",
       "      <td>255.020346</td>\n",
       "      <td>260.900470</td>\n",
       "      <td>248.666065</td>\n",
       "      <td>255.088954</td>\n",
       "      <td>255.088954</td>\n",
       "      <td>2.794575e+07</td>\n",
       "    </tr>\n",
       "    <tr>\n",
       "      <th>min</th>\n",
       "      <td>3.228000</td>\n",
       "      <td>3.326000</td>\n",
       "      <td>2.996000</td>\n",
       "      <td>3.160000</td>\n",
       "      <td>3.160000</td>\n",
       "      <td>5.925000e+05</td>\n",
       "    </tr>\n",
       "    <tr>\n",
       "      <th>25%</th>\n",
       "      <td>19.799999</td>\n",
       "      <td>20.573999</td>\n",
       "      <td>19.500000</td>\n",
       "      <td>20.010000</td>\n",
       "      <td>20.010000</td>\n",
       "      <td>1.315000e+07</td>\n",
       "    </tr>\n",
       "    <tr>\n",
       "      <th>50%</th>\n",
       "      <td>46.820000</td>\n",
       "      <td>47.540001</td>\n",
       "      <td>45.846001</td>\n",
       "      <td>46.653999</td>\n",
       "      <td>46.653999</td>\n",
       "      <td>2.488110e+07</td>\n",
       "    </tr>\n",
       "    <tr>\n",
       "      <th>75%</th>\n",
       "      <td>68.300003</td>\n",
       "      <td>69.442001</td>\n",
       "      <td>67.080002</td>\n",
       "      <td>68.269997</td>\n",
       "      <td>68.269997</td>\n",
       "      <td>3.970450e+07</td>\n",
       "    </tr>\n",
       "    <tr>\n",
       "      <th>max</th>\n",
       "      <td>1234.410034</td>\n",
       "      <td>1243.489990</td>\n",
       "      <td>1217.000000</td>\n",
       "      <td>1229.910034</td>\n",
       "      <td>1229.910034</td>\n",
       "      <td>3.046940e+08</td>\n",
       "    </tr>\n",
       "  </tbody>\n",
       "</table>\n",
       "</div>"
      ],
      "text/plain": [
       "              Open         High          Low        Close    Adj Close  \\\n",
       "count  2965.000000  2965.000000  2965.000000  2965.000000  2965.000000   \n",
       "mean    141.557707   144.689689   138.232026   141.626210   141.626210   \n",
       "std     255.020346   260.900470   248.666065   255.088954   255.088954   \n",
       "min       3.228000     3.326000     2.996000     3.160000     3.160000   \n",
       "25%      19.799999    20.573999    19.500000    20.010000    20.010000   \n",
       "50%      46.820000    47.540001    45.846001    46.653999    46.653999   \n",
       "75%      68.300003    69.442001    67.080002    68.269997    68.269997   \n",
       "max    1234.410034  1243.489990  1217.000000  1229.910034  1229.910034   \n",
       "\n",
       "             Volume  \n",
       "count  2.965000e+03  \n",
       "mean   3.129279e+07  \n",
       "std    2.794575e+07  \n",
       "min    5.925000e+05  \n",
       "25%    1.315000e+07  \n",
       "50%    2.488110e+07  \n",
       "75%    3.970450e+07  \n",
       "max    3.046940e+08  "
      ]
     },
     "execution_count": 9,
     "metadata": {},
     "output_type": "execute_result"
    }
   ],
   "source": [
    "aapl.describe()"
   ]
  },
  {
   "cell_type": "markdown",
   "id": "282bb288",
   "metadata": {
    "papermill": {
     "duration": 0.027313,
     "end_time": "2022-04-07T10:40:57.910644",
     "exception": false,
     "start_time": "2022-04-07T10:40:57.883331",
     "status": "completed"
    },
    "tags": []
   },
   "source": [
    "### Plotting market Data using matplotlib "
   ]
  },
  {
   "cell_type": "code",
   "execution_count": 10,
   "id": "1b4c6254",
   "metadata": {
    "execution": {
     "iopub.execute_input": "2022-04-07T10:40:57.966196Z",
     "iopub.status.busy": "2022-04-07T10:40:57.965422Z",
     "iopub.status.idle": "2022-04-07T10:40:57.968640Z",
     "shell.execute_reply": "2022-04-07T10:40:57.969204Z",
     "shell.execute_reply.started": "2022-04-07T10:39:23.883003Z"
    },
    "papermill": {
     "duration": 0.032591,
     "end_time": "2022-04-07T10:40:57.969378",
     "exception": false,
     "start_time": "2022-04-07T10:40:57.936787",
     "status": "completed"
    },
    "tags": []
   },
   "outputs": [],
   "source": [
    "import matplotlib.pyplot as plt"
   ]
  },
  {
   "cell_type": "code",
   "execution_count": 11,
   "id": "5a580640",
   "metadata": {
    "execution": {
     "iopub.execute_input": "2022-04-07T10:40:58.026387Z",
     "iopub.status.busy": "2022-04-07T10:40:58.025675Z",
     "iopub.status.idle": "2022-04-07T10:40:58.329209Z",
     "shell.execute_reply": "2022-04-07T10:40:58.329737Z",
     "shell.execute_reply.started": "2022-04-07T10:39:23.889141Z"
    },
    "papermill": {
     "duration": 0.332916,
     "end_time": "2022-04-07T10:40:58.329931",
     "exception": false,
     "start_time": "2022-04-07T10:40:57.997015",
     "status": "completed"
    },
    "tags": []
   },
   "outputs": [
    {
     "data": {
      "image/png": "[encoded data removed]",
      "text/plain": [
       "<Figure size 1440x480 with 1 Axes>"
      ]
     },
     "metadata": {
      "needs_background": "light"
     },
     "output_type": "display_data"
    }
   ],
   "source": [
    "from matplotlib.pyplot import figure\n",
    "\n",
    "figure(figsize=(18, 6), dpi=80)\n",
    "plt.plot(aapl.Close)\n",
    "plt.show()"
   ]
  }
 ],
 "metadata": {
  "kernelspec": {
   "display_name": "Python 3",
   "language": "python",
   "name": "python3"
  },
  "language_info": {
   "codemirror_mode": {
    "name": "ipython",
    "version": 3
   },
   "file_extension": ".py",
   "mimetype": "text/x-python",
   "name": "python",
   "nbconvert_exporter": "python",
   "pygments_lexer": "ipython3",
   "version": "3.7.12"
  },
  "papermill": {
   "default_parameters": {},
   "duration": 27.666135,
   "end_time": "2022-04-07T10:40:59.069586",
   "environment_variables": {},
   "exception": null,
   "input_path": "__notebook__.ipynb",
   "output_path": "__notebook__.ipynb",
   "parameters": {},
   "start_time": "2022-04-07T10:40:31.403451",
   "version": "2.3.3"
  }
 },
 "nbformat": 4,
 "nbformat_minor": 5
}
