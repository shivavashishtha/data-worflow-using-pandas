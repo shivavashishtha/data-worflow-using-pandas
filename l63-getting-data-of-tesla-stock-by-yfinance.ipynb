{
 "cells": [
  {
   "cell_type": "code",
   "execution_count": 1,
   "id": "f46058a9",
   "metadata": {
    "_cell_guid": "b1076dfc-b9ad-4769-8c92-a6c4dae69d19",
    "_uuid": "8f2839f25d086af736a60e9eeb907d3b93b6e0e5",
    "execution": {
     "iopub.execute_input": "2022-04-07T10:36:53.325705Z",
     "iopub.status.busy": "2022-04-07T10:36:53.324746Z",
     "iopub.status.idle": "2022-04-07T10:36:53.334016Z",
     "shell.execute_reply": "2022-04-07T10:36:53.333025Z",
     "shell.execute_reply.started": "2022-04-07T10:30:17.599424Z"
    },
    "papermill": {
     "duration": 0.034278,
     "end_time": "2022-04-07T10:36:53.334279",
     "exception": false,
     "start_time": "2022-04-07T10:36:53.300001",
     "status": "completed"
    },
    "tags": []
   },
   "outputs": [],
   "source": [
    "# This Python 3 environment comes with many helpful analytics libraries installed\n",
    "# It is defined by the kaggle/python Docker image: https://github.com/kaggle/docker-python\n",
    "# For example, here's several helpful packages to load\n",
    "\n",
    "import numpy as np # linear algebra\n",
    "import pandas as pd # data processing, CSV file I/O (e.g. pd.read_csv)\n",
    "\n",
    "# Input data files are available in the read-only \"../input/\" directory\n",
    "# For example, running this (by clicking run or pressing Shift+Enter) will list all files under the input directory\n",
    "\n",
    "import os\n",
    "for dirname, _, filenames in os.walk('/kaggle/input'):\n",
    "    for filename in filenames:\n",
    "        print(os.path.join(dirname, filename))\n",
    "\n",
    "# You can write up to 20GB to the current directory (/kaggle/working/) that gets preserved as output when you create a version using \"Save & Run All\" \n",
    "# You can also write temporary files to /kaggle/temp/, but they won't be saved outside of the current session"
   ]
  },
  {
   "cell_type": "code",
   "execution_count": 2,
   "id": "85d804dd",
   "metadata": {
    "execution": {
     "iopub.execute_input": "2022-04-07T10:36:53.377702Z",
     "iopub.status.busy": "2022-04-07T10:36:53.376444Z",
     "iopub.status.idle": "2022-04-07T10:37:04.961988Z",
     "shell.execute_reply": "2022-04-07T10:37:04.961480Z",
     "shell.execute_reply.started": "2022-04-07T10:30:17.609254Z"
    },
    "papermill": {
     "duration": 11.609826,
     "end_time": "2022-04-07T10:37:04.962140",
     "exception": false,
     "start_time": "2022-04-07T10:36:53.352314",
     "status": "completed"
    },
    "tags": []
   },
   "outputs": [
    {
     "name": "stdout",
     "output_type": "stream",
     "text": [
      "Collecting yfinance\r\n",
      "  Downloading yfinance-0.1.70-py2.py3-none-any.whl (26 kB)\r\n",
      "Collecting multitasking>=0.0.7\r\n",
      "  Downloading multitasking-0.0.10.tar.gz (8.2 kB)\r\n",
      "  Preparing metadata (setup.py) ... \u001b[?25l-\b \bdone\r\n",
      "\u001b[?25hRequirement already satisfied: pandas>=0.24.0 in /opt/conda/lib/python3.7/site-packages (from yfinance) (1.3.5)\r\n",
      "Requirement already satisfied: lxml>=4.5.1 in /opt/conda/lib/python3.7/site-packages (from yfinance) (4.8.0)\r\n",
      "Requirement already satisfied: requests>=2.26 in /opt/conda/lib/python3.7/site-packages (from yfinance) (2.26.0)\r\n",
      "Requirement already satisfied: numpy>=1.15 in /opt/conda/lib/python3.7/site-packages (from yfinance) (1.20.3)\r\n",
      "Requirement already satisfied: python-dateutil>=2.7.3 in /opt/conda/lib/python3.7/site-packages (from pandas>=0.24.0->yfinance) (2.8.2)\r\n",
      "Requirement already satisfied: pytz>=2017.3 in /opt/conda/lib/python3.7/site-packages (from pandas>=0.24.0->yfinance) (2021.3)\r\n",
      "Requirement already satisfied: urllib3<1.27,>=1.21.1 in /opt/conda/lib/python3.7/site-packages (from requests>=2.26->yfinance) (1.26.7)\r\n",
      "Requirement already satisfied: charset-normalizer~=2.0.0 in /opt/conda/lib/python3.7/site-packages (from requests>=2.26->yfinance) (2.0.9)\r\n",
      "Requirement already satisfied: idna<4,>=2.5 in /opt/conda/lib/python3.7/site-packages (from requests>=2.26->yfinance) (3.1)\r\n",
      "Requirement already satisfied: certifi>=2017.4.17 in /opt/conda/lib/python3.7/site-packages (from requests>=2.26->yfinance) (2021.10.8)\r\n",
      "Requirement already satisfied: six>=1.5 in /opt/conda/lib/python3.7/site-packages (from python-dateutil>=2.7.3->pandas>=0.24.0->yfinance) (1.16.0)\r\n",
      "Building wheels for collected packages: multitasking\r\n",
      "  Building wheel for multitasking (setup.py) ... \u001b[?25l-\b \b\\\b \bdone\r\n",
      "\u001b[?25h  Created wheel for multitasking: filename=multitasking-0.0.10-py3-none-any.whl size=8500 sha256=997b4629a522440740b656df628a9b08aefb4817a4831d3390a1c0b9969f9a47\r\n",
      "  Stored in directory: /root/.cache/pip/wheels/34/ba/79/c0260c6f1a03f420ec7673eff9981778f293b9107974679e36\r\n",
      "Successfully built multitasking\r\n",
      "Installing collected packages: multitasking, yfinance\r\n",
      "Successfully installed multitasking-0.0.10 yfinance-0.1.70\r\n",
      "\u001b[33mWARNING: Running pip as the 'root' user can result in broken permissions and conflicting behaviour with the system package manager. It is recommended to use a virtual environment instead: https://pip.pypa.io/warnings/venv\u001b[0m\r\n"
     ]
    }
   ],
   "source": [
    "!pip install yfinance"
   ]
  },
  {
   "cell_type": "markdown",
   "id": "9f419a5b",
   "metadata": {
    "papermill": {
     "duration": 0.016565,
     "end_time": "2022-04-07T10:37:04.996630",
     "exception": false,
     "start_time": "2022-04-07T10:37:04.980065",
     "status": "completed"
    },
    "tags": []
   },
   "source": [
    "# yfinance\n",
    "yfinance offers a threaded and Pythonic way to download market data from Yahoo!Ⓡ finance."
   ]
  },
  {
   "cell_type": "code",
   "execution_count": 3,
   "id": "0c35d93a",
   "metadata": {
    "execution": {
     "iopub.execute_input": "2022-04-07T10:37:05.038174Z",
     "iopub.status.busy": "2022-04-07T10:37:05.037584Z",
     "iopub.status.idle": "2022-04-07T10:37:05.048793Z",
     "shell.execute_reply": "2022-04-07T10:37:05.049321Z",
     "shell.execute_reply.started": "2022-04-07T10:30:26.462349Z"
    },
    "papermill": {
     "duration": 0.034661,
     "end_time": "2022-04-07T10:37:05.049540",
     "exception": false,
     "start_time": "2022-04-07T10:37:05.014879",
     "status": "completed"
    },
    "tags": []
   },
   "outputs": [],
   "source": [
    "import yfinance as yf"
   ]
  },
  {
   "cell_type": "markdown",
   "id": "fb8931d6",
   "metadata": {
    "papermill": {
     "duration": 0.01632,
     "end_time": "2022-04-07T10:37:05.082580",
     "exception": false,
     "start_time": "2022-04-07T10:37:05.066260",
     "status": "completed"
    },
    "tags": []
   },
   "source": [
    "### Setting up the Ticker"
   ]
  },
  {
   "cell_type": "code",
   "execution_count": 4,
   "id": "b6286653",
   "metadata": {
    "execution": {
     "iopub.execute_input": "2022-04-07T10:37:05.121439Z",
     "iopub.status.busy": "2022-04-07T10:37:05.120491Z",
     "iopub.status.idle": "2022-04-07T10:37:05.124444Z",
     "shell.execute_reply": "2022-04-07T10:37:05.124996Z",
     "shell.execute_reply.started": "2022-04-07T10:30:26.470261Z"
    },
    "papermill": {
     "duration": 0.025465,
     "end_time": "2022-04-07T10:37:05.125174",
     "exception": false,
     "start_time": "2022-04-07T10:37:05.099709",
     "status": "completed"
    },
    "tags": []
   },
   "outputs": [],
   "source": [
    "ticker=\"aapl\""
   ]
  },
  {
   "cell_type": "markdown",
   "id": "048b2b82",
   "metadata": {
    "papermill": {
     "duration": 0.016645,
     "end_time": "2022-04-07T10:37:05.160506",
     "exception": false,
     "start_time": "2022-04-07T10:37:05.143861",
     "status": "completed"
    },
    "tags": []
   },
   "source": [
    "### Download Market Data"
   ]
  },
  {
   "cell_type": "code",
   "execution_count": 5,
   "id": "593081b4",
   "metadata": {
    "execution": {
     "iopub.execute_input": "2022-04-07T10:37:05.197030Z",
     "iopub.status.busy": "2022-04-07T10:37:05.196050Z",
     "iopub.status.idle": "2022-04-07T10:37:05.609703Z",
     "shell.execute_reply": "2022-04-07T10:37:05.610283Z",
     "shell.execute_reply.started": "2022-04-07T10:30:26.481977Z"
    },
    "papermill": {
     "duration": 0.433684,
     "end_time": "2022-04-07T10:37:05.610480",
     "exception": false,
     "start_time": "2022-04-07T10:37:05.176796",
     "status": "completed"
    },
    "tags": []
   },
   "outputs": [
    {
     "name": "stdout",
     "output_type": "stream",
     "text": [
      "[*********************100%***********************]  1 of 1 completed\n"
     ]
    }
   ],
   "source": [
    "aapl=yf.download(ticker)"
   ]
  },
  {
   "cell_type": "markdown",
   "id": "b66bfbcb",
   "metadata": {
    "papermill": {
     "duration": 0.016581,
     "end_time": "2022-04-07T10:37:05.645250",
     "exception": false,
     "start_time": "2022-04-07T10:37:05.628669",
     "status": "completed"
    },
    "tags": []
   },
   "source": [
    "### Checking the head()"
   ]
  },
  {
   "cell_type": "code",
   "execution_count": 6,
   "id": "2ec66ef8",
   "metadata": {
    "execution": {
     "iopub.execute_input": "2022-04-07T10:37:05.683945Z",
     "iopub.status.busy": "2022-04-07T10:37:05.683063Z",
     "iopub.status.idle": "2022-04-07T10:37:05.702724Z",
     "shell.execute_reply": "2022-04-07T10:37:05.703190Z",
     "shell.execute_reply.started": "2022-04-07T10:30:27.286341Z"
    },
    "papermill": {
     "duration": 0.04015,
     "end_time": "2022-04-07T10:37:05.703357",
     "exception": false,
     "start_time": "2022-04-07T10:37:05.663207",
     "status": "completed"
    },
    "tags": []
   },
   "outputs": [
    {
     "data": {
      "text/html": [
       "<div>\n",
       "<style scoped>\n",
       "    .dataframe tbody tr th:only-of-type {\n",
       "        vertical-align: middle;\n",
       "    }\n",
       "\n",
       "    .dataframe tbody tr th {\n",
       "        vertical-align: top;\n",
       "    }\n",
       "\n",
       "    .dataframe thead th {\n",
       "        text-align: right;\n",
       "    }\n",
       "</style>\n",
       "<table border=\"1\" class=\"dataframe\">\n",
       "  <thead>\n",
       "    <tr style=\"text-align: right;\">\n",
       "      <th></th>\n",
       "      <th>Open</th>\n",
       "      <th>High</th>\n",
       "      <th>Low</th>\n",
       "      <th>Close</th>\n",
       "      <th>Adj Close</th>\n",
       "      <th>Volume</th>\n",
       "    </tr>\n",
       "    <tr>\n",
       "      <th>Date</th>\n",
       "      <th></th>\n",
       "      <th></th>\n",
       "      <th></th>\n",
       "      <th></th>\n",
       "      <th></th>\n",
       "      <th></th>\n",
       "    </tr>\n",
       "  </thead>\n",
       "  <tbody>\n",
       "    <tr>\n",
       "      <th>1980-12-12</th>\n",
       "      <td>0.128348</td>\n",
       "      <td>0.128906</td>\n",
       "      <td>0.128348</td>\n",
       "      <td>0.128348</td>\n",
       "      <td>0.100323</td>\n",
       "      <td>469033600</td>\n",
       "    </tr>\n",
       "    <tr>\n",
       "      <th>1980-12-15</th>\n",
       "      <td>0.122210</td>\n",
       "      <td>0.122210</td>\n",
       "      <td>0.121652</td>\n",
       "      <td>0.121652</td>\n",
       "      <td>0.095089</td>\n",
       "      <td>175884800</td>\n",
       "    </tr>\n",
       "    <tr>\n",
       "      <th>1980-12-16</th>\n",
       "      <td>0.113281</td>\n",
       "      <td>0.113281</td>\n",
       "      <td>0.112723</td>\n",
       "      <td>0.112723</td>\n",
       "      <td>0.088110</td>\n",
       "      <td>105728000</td>\n",
       "    </tr>\n",
       "    <tr>\n",
       "      <th>1980-12-17</th>\n",
       "      <td>0.115513</td>\n",
       "      <td>0.116071</td>\n",
       "      <td>0.115513</td>\n",
       "      <td>0.115513</td>\n",
       "      <td>0.090291</td>\n",
       "      <td>86441600</td>\n",
       "    </tr>\n",
       "    <tr>\n",
       "      <th>1980-12-18</th>\n",
       "      <td>0.118862</td>\n",
       "      <td>0.119420</td>\n",
       "      <td>0.118862</td>\n",
       "      <td>0.118862</td>\n",
       "      <td>0.092908</td>\n",
       "      <td>73449600</td>\n",
       "    </tr>\n",
       "  </tbody>\n",
       "</table>\n",
       "</div>"
      ],
      "text/plain": [
       "                Open      High       Low     Close  Adj Close     Volume\n",
       "Date                                                                    \n",
       "1980-12-12  0.128348  0.128906  0.128348  0.128348   0.100323  469033600\n",
       "1980-12-15  0.122210  0.122210  0.121652  0.121652   0.095089  175884800\n",
       "1980-12-16  0.113281  0.113281  0.112723  0.112723   0.088110  105728000\n",
       "1980-12-17  0.115513  0.116071  0.115513  0.115513   0.090291   86441600\n",
       "1980-12-18  0.118862  0.119420  0.118862  0.118862   0.092908   73449600"
      ]
     },
     "execution_count": 6,
     "metadata": {},
     "output_type": "execute_result"
    }
   ],
   "source": [
    "aapl.head()"
   ]
  },
  {
   "cell_type": "markdown",
   "id": "e7410ea0",
   "metadata": {
    "papermill": {
     "duration": 0.017665,
     "end_time": "2022-04-07T10:37:05.738561",
     "exception": false,
     "start_time": "2022-04-07T10:37:05.720896",
     "status": "completed"
    },
    "tags": []
   },
   "source": [
    "### Checking the tail()"
   ]
  },
  {
   "cell_type": "code",
   "execution_count": 7,
   "id": "1c7cbae8",
   "metadata": {
    "execution": {
     "iopub.execute_input": "2022-04-07T10:37:05.777478Z",
     "iopub.status.busy": "2022-04-07T10:37:05.776603Z",
     "iopub.status.idle": "2022-04-07T10:37:05.788126Z",
     "shell.execute_reply": "2022-04-07T10:37:05.788696Z",
     "shell.execute_reply.started": "2022-04-07T10:30:27.304208Z"
    },
    "papermill": {
     "duration": 0.03271,
     "end_time": "2022-04-07T10:37:05.788864",
     "exception": false,
     "start_time": "2022-04-07T10:37:05.756154",
     "status": "completed"
    },
    "tags": []
   },
   "outputs": [
    {
     "data": {
      "text/html": [
       "<div>\n",
       "<style scoped>\n",
       "    .dataframe tbody tr th:only-of-type {\n",
       "        vertical-align: middle;\n",
       "    }\n",
       "\n",
       "    .dataframe tbody tr th {\n",
       "        vertical-align: top;\n",
       "    }\n",
       "\n",
       "    .dataframe thead th {\n",
       "        text-align: right;\n",
       "    }\n",
       "</style>\n",
       "<table border=\"1\" class=\"dataframe\">\n",
       "  <thead>\n",
       "    <tr style=\"text-align: right;\">\n",
       "      <th></th>\n",
       "      <th>Open</th>\n",
       "      <th>High</th>\n",
       "      <th>Low</th>\n",
       "      <th>Close</th>\n",
       "      <th>Adj Close</th>\n",
       "      <th>Volume</th>\n",
       "    </tr>\n",
       "    <tr>\n",
       "      <th>Date</th>\n",
       "      <th></th>\n",
       "      <th></th>\n",
       "      <th></th>\n",
       "      <th></th>\n",
       "      <th></th>\n",
       "      <th></th>\n",
       "    </tr>\n",
       "  </thead>\n",
       "  <tbody>\n",
       "    <tr>\n",
       "      <th>2022-03-31</th>\n",
       "      <td>177.839996</td>\n",
       "      <td>178.029999</td>\n",
       "      <td>174.399994</td>\n",
       "      <td>174.610001</td>\n",
       "      <td>174.610001</td>\n",
       "      <td>103049300</td>\n",
       "    </tr>\n",
       "    <tr>\n",
       "      <th>2022-04-01</th>\n",
       "      <td>174.029999</td>\n",
       "      <td>174.880005</td>\n",
       "      <td>171.940002</td>\n",
       "      <td>174.309998</td>\n",
       "      <td>174.309998</td>\n",
       "      <td>78699800</td>\n",
       "    </tr>\n",
       "    <tr>\n",
       "      <th>2022-04-04</th>\n",
       "      <td>174.570007</td>\n",
       "      <td>178.490005</td>\n",
       "      <td>174.440002</td>\n",
       "      <td>178.440002</td>\n",
       "      <td>178.440002</td>\n",
       "      <td>76468400</td>\n",
       "    </tr>\n",
       "    <tr>\n",
       "      <th>2022-04-05</th>\n",
       "      <td>177.500000</td>\n",
       "      <td>178.300003</td>\n",
       "      <td>174.419998</td>\n",
       "      <td>175.059998</td>\n",
       "      <td>175.059998</td>\n",
       "      <td>73401800</td>\n",
       "    </tr>\n",
       "    <tr>\n",
       "      <th>2022-04-06</th>\n",
       "      <td>172.360001</td>\n",
       "      <td>173.630005</td>\n",
       "      <td>170.130005</td>\n",
       "      <td>171.830002</td>\n",
       "      <td>171.830002</td>\n",
       "      <td>88950300</td>\n",
       "    </tr>\n",
       "  </tbody>\n",
       "</table>\n",
       "</div>"
      ],
      "text/plain": [
       "                  Open        High         Low       Close   Adj Close  \\\n",
       "Date                                                                     \n",
       "2022-03-31  177.839996  178.029999  174.399994  174.610001  174.610001   \n",
       "2022-04-01  174.029999  174.880005  171.940002  174.309998  174.309998   \n",
       "2022-04-04  174.570007  178.490005  174.440002  178.440002  178.440002   \n",
       "2022-04-05  177.500000  178.300003  174.419998  175.059998  175.059998   \n",
       "2022-04-06  172.360001  173.630005  170.130005  171.830002  171.830002   \n",
       "\n",
       "               Volume  \n",
       "Date                   \n",
       "2022-03-31  103049300  \n",
       "2022-04-01   78699800  \n",
       "2022-04-04   76468400  \n",
       "2022-04-05   73401800  \n",
       "2022-04-06   88950300  "
      ]
     },
     "execution_count": 7,
     "metadata": {},
     "output_type": "execute_result"
    }
   ],
   "source": [
    "aapl.tail()"
   ]
  },
  {
   "cell_type": "markdown",
   "id": "c6828260",
   "metadata": {
    "papermill": {
     "duration": 0.019912,
     "end_time": "2022-04-07T10:37:05.826656",
     "exception": false,
     "start_time": "2022-04-07T10:37:05.806744",
     "status": "completed"
    },
    "tags": []
   },
   "source": [
    "### Checking the info()"
   ]
  },
  {
   "cell_type": "code",
   "execution_count": 8,
   "id": "06c1e932",
   "metadata": {
    "execution": {
     "iopub.execute_input": "2022-04-07T10:37:05.873347Z",
     "iopub.status.busy": "2022-04-07T10:37:05.872447Z",
     "iopub.status.idle": "2022-04-07T10:37:05.884854Z",
     "shell.execute_reply": "2022-04-07T10:37:05.885322Z",
     "shell.execute_reply.started": "2022-04-07T10:30:27.329598Z"
    },
    "papermill": {
     "duration": 0.038713,
     "end_time": "2022-04-07T10:37:05.885502",
     "exception": false,
     "start_time": "2022-04-07T10:37:05.846789",
     "status": "completed"
    },
    "tags": []
   },
   "outputs": [
    {
     "name": "stdout",
     "output_type": "stream",
     "text": [
      "<class 'pandas.core.frame.DataFrame'>\n",
      "DatetimeIndex: 10418 entries, 1980-12-12 to 2022-04-06\n",
      "Data columns (total 6 columns):\n",
      " #   Column     Non-Null Count  Dtype  \n",
      "---  ------     --------------  -----  \n",
      " 0   Open       10418 non-null  float64\n",
      " 1   High       10418 non-null  float64\n",
      " 2   Low        10418 non-null  float64\n",
      " 3   Close      10418 non-null  float64\n",
      " 4   Adj Close  10418 non-null  float64\n",
      " 5   Volume     10418 non-null  int64  \n",
      "dtypes: float64(5), int64(1)\n",
      "memory usage: 569.7 KB\n"
     ]
    }
   ],
   "source": [
    "aapl.info()"
   ]
  },
  {
   "cell_type": "markdown",
   "id": "e0652d95",
   "metadata": {
    "papermill": {
     "duration": 0.019213,
     "end_time": "2022-04-07T10:37:05.924284",
     "exception": false,
     "start_time": "2022-04-07T10:37:05.905071",
     "status": "completed"
    },
    "tags": []
   },
   "source": [
    "### Checking the describe() to get the stats"
   ]
  },
  {
   "cell_type": "code",
   "execution_count": 9,
   "id": "ea980804",
   "metadata": {
    "execution": {
     "iopub.execute_input": "2022-04-07T10:37:05.969689Z",
     "iopub.status.busy": "2022-04-07T10:37:05.969062Z",
     "iopub.status.idle": "2022-04-07T10:37:05.997242Z",
     "shell.execute_reply": "2022-04-07T10:37:05.997692Z",
     "shell.execute_reply.started": "2022-04-07T10:30:27.669735Z"
    },
    "papermill": {
     "duration": 0.053966,
     "end_time": "2022-04-07T10:37:05.997860",
     "exception": false,
     "start_time": "2022-04-07T10:37:05.943894",
     "status": "completed"
    },
    "tags": []
   },
   "outputs": [
    {
     "data": {
      "text/html": [
       "<div>\n",
       "<style scoped>\n",
       "    .dataframe tbody tr th:only-of-type {\n",
       "        vertical-align: middle;\n",
       "    }\n",
       "\n",
       "    .dataframe tbody tr th {\n",
       "        vertical-align: top;\n",
       "    }\n",
       "\n",
       "    .dataframe thead th {\n",
       "        text-align: right;\n",
       "    }\n",
       "</style>\n",
       "<table border=\"1\" class=\"dataframe\">\n",
       "  <thead>\n",
       "    <tr style=\"text-align: right;\">\n",
       "      <th></th>\n",
       "      <th>Open</th>\n",
       "      <th>High</th>\n",
       "      <th>Low</th>\n",
       "      <th>Close</th>\n",
       "      <th>Adj Close</th>\n",
       "      <th>Volume</th>\n",
       "    </tr>\n",
       "  </thead>\n",
       "  <tbody>\n",
       "    <tr>\n",
       "      <th>count</th>\n",
       "      <td>10418.000000</td>\n",
       "      <td>10418.000000</td>\n",
       "      <td>10418.000000</td>\n",
       "      <td>10418.000000</td>\n",
       "      <td>10418.000000</td>\n",
       "      <td>1.041800e+04</td>\n",
       "    </tr>\n",
       "    <tr>\n",
       "      <th>mean</th>\n",
       "      <td>14.099279</td>\n",
       "      <td>14.252649</td>\n",
       "      <td>13.947274</td>\n",
       "      <td>14.106477</td>\n",
       "      <td>13.490589</td>\n",
       "      <td>3.319662e+08</td>\n",
       "    </tr>\n",
       "    <tr>\n",
       "      <th>std</th>\n",
       "      <td>30.526517</td>\n",
       "      <td>30.874894</td>\n",
       "      <td>30.189865</td>\n",
       "      <td>30.550531</td>\n",
       "      <td>30.276381</td>\n",
       "      <td>3.392643e+08</td>\n",
       "    </tr>\n",
       "    <tr>\n",
       "      <th>min</th>\n",
       "      <td>0.049665</td>\n",
       "      <td>0.049665</td>\n",
       "      <td>0.049107</td>\n",
       "      <td>0.049107</td>\n",
       "      <td>0.038384</td>\n",
       "      <td>0.000000e+00</td>\n",
       "    </tr>\n",
       "    <tr>\n",
       "      <th>25%</th>\n",
       "      <td>0.282366</td>\n",
       "      <td>0.287946</td>\n",
       "      <td>0.274554</td>\n",
       "      <td>0.281808</td>\n",
       "      <td>0.234799</td>\n",
       "      <td>1.244888e+08</td>\n",
       "    </tr>\n",
       "    <tr>\n",
       "      <th>50%</th>\n",
       "      <td>0.470669</td>\n",
       "      <td>0.478594</td>\n",
       "      <td>0.460179</td>\n",
       "      <td>0.469576</td>\n",
       "      <td>0.387666</td>\n",
       "      <td>2.197104e+08</td>\n",
       "    </tr>\n",
       "    <tr>\n",
       "      <th>75%</th>\n",
       "      <td>14.285714</td>\n",
       "      <td>14.412590</td>\n",
       "      <td>14.118572</td>\n",
       "      <td>14.271874</td>\n",
       "      <td>12.250077</td>\n",
       "      <td>4.123546e+08</td>\n",
       "    </tr>\n",
       "    <tr>\n",
       "      <th>max</th>\n",
       "      <td>182.630005</td>\n",
       "      <td>182.940002</td>\n",
       "      <td>179.119995</td>\n",
       "      <td>182.009995</td>\n",
       "      <td>181.778397</td>\n",
       "      <td>7.421641e+09</td>\n",
       "    </tr>\n",
       "  </tbody>\n",
       "</table>\n",
       "</div>"
      ],
      "text/plain": [
       "               Open          High           Low         Close     Adj Close  \\\n",
       "count  10418.000000  10418.000000  10418.000000  10418.000000  10418.000000   \n",
       "mean      14.099279     14.252649     13.947274     14.106477     13.490589   \n",
       "std       30.526517     30.874894     30.189865     30.550531     30.276381   \n",
       "min        0.049665      0.049665      0.049107      0.049107      0.038384   \n",
       "25%        0.282366      0.287946      0.274554      0.281808      0.234799   \n",
       "50%        0.470669      0.478594      0.460179      0.469576      0.387666   \n",
       "75%       14.285714     14.412590     14.118572     14.271874     12.250077   \n",
       "max      182.630005    182.940002    179.119995    182.009995    181.778397   \n",
       "\n",
       "             Volume  \n",
       "count  1.041800e+04  \n",
       "mean   3.319662e+08  \n",
       "std    3.392643e+08  \n",
       "min    0.000000e+00  \n",
       "25%    1.244888e+08  \n",
       "50%    2.197104e+08  \n",
       "75%    4.123546e+08  \n",
       "max    7.421641e+09  "
      ]
     },
     "execution_count": 9,
     "metadata": {},
     "output_type": "execute_result"
    }
   ],
   "source": [
    "aapl.describe()"
   ]
  },
  {
   "cell_type": "markdown",
   "id": "b9ddd7a7",
   "metadata": {
    "papermill": {
     "duration": 0.019652,
     "end_time": "2022-04-07T10:37:06.038493",
     "exception": false,
     "start_time": "2022-04-07T10:37:06.018841",
     "status": "completed"
    },
    "tags": []
   },
   "source": [
    "### Plotting market Data using matplotlib "
   ]
  },
  {
   "cell_type": "code",
   "execution_count": 10,
   "id": "e205edb9",
   "metadata": {
    "execution": {
     "iopub.execute_input": "2022-04-07T10:37:06.084987Z",
     "iopub.status.busy": "2022-04-07T10:37:06.084309Z",
     "iopub.status.idle": "2022-04-07T10:37:06.087349Z",
     "shell.execute_reply": "2022-04-07T10:37:06.086905Z",
     "shell.execute_reply.started": "2022-04-07T10:30:27.352728Z"
    },
    "papermill": {
     "duration": 0.028899,
     "end_time": "2022-04-07T10:37:06.087536",
     "exception": false,
     "start_time": "2022-04-07T10:37:06.058637",
     "status": "completed"
    },
    "tags": []
   },
   "outputs": [],
   "source": [
    "import matplotlib.pyplot as plt"
   ]
  },
  {
   "cell_type": "code",
   "execution_count": 11,
   "id": "dbde8de6",
   "metadata": {
    "execution": {
     "iopub.execute_input": "2022-04-07T10:37:06.140948Z",
     "iopub.status.busy": "2022-04-07T10:37:06.139948Z",
     "iopub.status.idle": "2022-04-07T10:37:06.430399Z",
     "shell.execute_reply": "2022-04-07T10:37:06.430892Z",
     "shell.execute_reply.started": "2022-04-07T10:30:27.360147Z"
    },
    "papermill": {
     "duration": 0.322444,
     "end_time": "2022-04-07T10:37:06.431284",
     "exception": false,
     "start_time": "2022-04-07T10:37:06.108840",
     "status": "completed"
    },
    "tags": []
   },
   "outputs": [
    {
     "data": {
      "image/png": "[encoded data removed]",
      "text/plain": [
       "<Figure size 1440x480 with 1 Axes>"
      ]
     },
     "metadata": {
      "needs_background": "light"
     },
     "output_type": "display_data"
    }
   ],
   "source": [
    "from matplotlib.pyplot import figure\n",
    "\n",
    "figure(figsize=(18, 6), dpi=80)\n",
    "plt.plot(aapl.Close)\n",
    "plt.show()"
   ]
  }
 ],
 "metadata": {
  "kernelspec": {
   "display_name": "Python 3",
   "language": "python",
   "name": "python3"
  },
  "language_info": {
   "codemirror_mode": {
    "name": "ipython",
    "version": 3
   },
   "file_extension": ".py",
   "mimetype": "text/x-python",
   "name": "python",
   "nbconvert_exporter": "python",
   "pygments_lexer": "ipython3",
   "version": "3.7.12"
  },
  "papermill": {
   "default_parameters": {},
   "duration": 22.962571,
   "end_time": "2022-04-07T10:37:07.164297",
   "environment_variables": {},
   "exception": null,
   "input_path": "__notebook__.ipynb",
   "output_path": "__notebook__.ipynb",
   "parameters": {},
   "start_time": "2022-04-07T10:36:44.201726",
   "version": "2.3.3"
  }
 },
 "nbformat": 4,
 "nbformat_minor": 5
}
