{
 "cells": [
  {
   "cell_type": "code",
   "execution_count": 1,
   "id": "f49c0e49",
   "metadata": {
    "_cell_guid": "b1076dfc-b9ad-4769-8c92-a6c4dae69d19",
    "_uuid": "8f2839f25d086af736a60e9eeb907d3b93b6e0e5",
    "execution": {
     "iopub.execute_input": "2022-03-09T18:10:43.722501Z",
     "iopub.status.busy": "2022-03-09T18:10:43.721686Z",
     "iopub.status.idle": "2022-03-09T18:10:43.734565Z",
     "shell.execute_reply": "2022-03-09T18:10:43.735336Z",
     "shell.execute_reply.started": "2022-03-09T17:57:36.753185Z"
    },
    "papermill": {
     "duration": 0.037237,
     "end_time": "2022-03-09T18:10:43.735738",
     "exception": false,
     "start_time": "2022-03-09T18:10:43.698501",
     "status": "completed"
    },
    "tags": []
   },
   "outputs": [
    {
     "name": "stdout",
     "output_type": "stream",
     "text": [
      "/kaggle/input/big-bang-theory-all-seasons-dataset/dataset.csv\n"
     ]
    }
   ],
   "source": [
    "# This Python 3 environment comes with many helpful analytics libraries installed\n",
    "# It is defined by the kaggle/python Docker image: https://github.com/kaggle/docker-python\n",
    "# For example, here's several helpful packages to load\n",
    "\n",
    "import numpy as np # linear algebra\n",
    "import pandas as pd # data processing, CSV file I/O (e.g. pd.read_csv)\n",
    "\n",
    "# Input data files are available in the read-only \"../input/\" directory\n",
    "# For example, running this (by clicking run or pressing Shift+Enter) will list all files under the input directory\n",
    "\n",
    "import os\n",
    "for dirname, _, filenames in os.walk('/kaggle/input'):\n",
    "    for filename in filenames:\n",
    "        print(os.path.join(dirname, filename))\n",
    "\n",
    "# You can write up to 20GB to the current directory (/kaggle/working/) that gets preserved as output when you create a version using \"Save & Run All\" \n",
    "# You can also write temporary files to /kaggle/temp/, but they won't be saved outside of the current session"
   ]
  },
  {
   "cell_type": "markdown",
   "id": "606bd359",
   "metadata": {
    "papermill": {
     "duration": 0.01099,
     "end_time": "2022-03-09T18:10:43.760004",
     "exception": false,
     "start_time": "2022-03-09T18:10:43.749014",
     "status": "completed"
    },
    "tags": []
   },
   "source": [
    "# Creating a Dataframe"
   ]
  },
  {
   "cell_type": "code",
   "execution_count": 2,
   "id": "66d25bf9",
   "metadata": {
    "execution": {
     "iopub.execute_input": "2022-03-09T18:10:43.793447Z",
     "iopub.status.busy": "2022-03-09T18:10:43.792744Z",
     "iopub.status.idle": "2022-03-09T18:10:43.803722Z",
     "shell.execute_reply": "2022-03-09T18:10:43.804417Z",
     "shell.execute_reply.started": "2022-03-09T18:08:22.856647Z"
    },
    "papermill": {
     "duration": 0.033314,
     "end_time": "2022-03-09T18:10:43.804658",
     "exception": false,
     "start_time": "2022-03-09T18:10:43.771344",
     "status": "completed"
    },
    "tags": []
   },
   "outputs": [
    {
     "name": "stdout",
     "output_type": "stream",
     "text": [
      "      Name  Age     City  Marks\n",
      "0     jack   34   Sydney    155\n",
      "1     Riti   31    Delhi    177\n",
      "2     Aadi   16   Mumbai     81\n",
      "3    Mohit   31    Delhi    167\n",
      "4    Veena   12    Delhi    144\n",
      "5  Shaunak   35   Mumbai    135\n",
      "6    Shaun   35  Colombo    111\n"
     ]
    }
   ],
   "source": [
    "empoyees = [('jack', 34, 'Sydney', 155) ,\n",
    "        ('Riti', 31, 'Delhi' , 177) ,\n",
    "        ('Aadi', 16, 'Mumbai', 81) ,\n",
    "        ('Mohit', 31,'Delhi' , 167) ,\n",
    "        ('Veena', 12, 'Delhi' , 144) ,\n",
    "        ('Shaunak', 35, 'Mumbai', 135 ),\n",
    "        ('Shaun', 35, 'Colombo', 111)\n",
    "        ]\n",
    "# Create a DataFrame object\n",
    "df = pd.DataFrame(empoyees, columns=['Name', 'Age', 'City', 'Marks'])\n",
    "print(df)"
   ]
  },
  {
   "cell_type": "markdown",
   "id": "abe144ea",
   "metadata": {
    "papermill": {
     "duration": 0.011605,
     "end_time": "2022-03-09T18:10:43.828991",
     "exception": false,
     "start_time": "2022-03-09T18:10:43.817386",
     "status": "completed"
    },
    "tags": []
   },
   "source": [
    "# Checking the datatypes of Dataframe"
   ]
  },
  {
   "cell_type": "code",
   "execution_count": 3,
   "id": "c515613f",
   "metadata": {
    "execution": {
     "iopub.execute_input": "2022-03-09T18:10:43.855867Z",
     "iopub.status.busy": "2022-03-09T18:10:43.855209Z",
     "iopub.status.idle": "2022-03-09T18:10:43.860822Z",
     "shell.execute_reply": "2022-03-09T18:10:43.861780Z",
     "shell.execute_reply.started": "2022-03-09T18:08:26.082599Z"
    },
    "papermill": {
     "duration": 0.021412,
     "end_time": "2022-03-09T18:10:43.862101",
     "exception": false,
     "start_time": "2022-03-09T18:10:43.840689",
     "status": "completed"
    },
    "tags": []
   },
   "outputs": [
    {
     "name": "stdout",
     "output_type": "stream",
     "text": [
      "Name     object\n",
      "Age       int64\n",
      "City     object\n",
      "Marks     int64\n",
      "dtype: object\n"
     ]
    }
   ],
   "source": [
    "print(df.dtypes)"
   ]
  },
  {
   "cell_type": "markdown",
   "id": "d9e16653",
   "metadata": {
    "papermill": {
     "duration": 0.011853,
     "end_time": "2022-03-09T18:10:43.887703",
     "exception": false,
     "start_time": "2022-03-09T18:10:43.875850",
     "status": "completed"
    },
    "tags": []
   },
   "source": [
    "# Changing datatype from int to float"
   ]
  },
  {
   "cell_type": "code",
   "execution_count": 4,
   "id": "17fccb53",
   "metadata": {
    "execution": {
     "iopub.execute_input": "2022-03-09T18:10:43.916519Z",
     "iopub.status.busy": "2022-03-09T18:10:43.915877Z",
     "iopub.status.idle": "2022-03-09T18:10:43.922981Z",
     "shell.execute_reply": "2022-03-09T18:10:43.923543Z",
     "shell.execute_reply.started": "2022-03-09T18:02:05.011681Z"
    },
    "papermill": {
     "duration": 0.022973,
     "end_time": "2022-03-09T18:10:43.923714",
     "exception": false,
     "start_time": "2022-03-09T18:10:43.900741",
     "status": "completed"
    },
    "tags": []
   },
   "outputs": [],
   "source": [
    "# Change data type of column 'Marks' from int64 to float64\n",
    "df['Marks'] = df['Marks'].astype('float64')"
   ]
  },
  {
   "cell_type": "markdown",
   "id": "6be8e295",
   "metadata": {
    "papermill": {
     "duration": 0.011968,
     "end_time": "2022-03-09T18:10:43.948004",
     "exception": false,
     "start_time": "2022-03-09T18:10:43.936036",
     "status": "completed"
    },
    "tags": []
   },
   "source": [
    "# Changing datatype from int to Object(string)"
   ]
  },
  {
   "cell_type": "code",
   "execution_count": 5,
   "id": "7078f8d6",
   "metadata": {
    "execution": {
     "iopub.execute_input": "2022-03-09T18:10:43.976896Z",
     "iopub.status.busy": "2022-03-09T18:10:43.976243Z",
     "iopub.status.idle": "2022-03-09T18:10:43.980600Z",
     "shell.execute_reply": "2022-03-09T18:10:43.981167Z",
     "shell.execute_reply.started": "2022-03-09T18:02:39.433467Z"
    },
    "papermill": {
     "duration": 0.021035,
     "end_time": "2022-03-09T18:10:43.981333",
     "exception": false,
     "start_time": "2022-03-09T18:10:43.960298",
     "status": "completed"
    },
    "tags": []
   },
   "outputs": [],
   "source": [
    "df['Age'] = df['Age'].astype('object')"
   ]
  },
  {
   "cell_type": "markdown",
   "id": "c512e37e",
   "metadata": {
    "papermill": {
     "duration": 0.01253,
     "end_time": "2022-03-09T18:10:44.006191",
     "exception": false,
     "start_time": "2022-03-09T18:10:43.993661",
     "status": "completed"
    },
    "tags": []
   },
   "source": [
    "# # Checking the datatypes of Dataframe after typecasting"
   ]
  },
  {
   "cell_type": "code",
   "execution_count": 6,
   "id": "dfac87be",
   "metadata": {
    "execution": {
     "iopub.execute_input": "2022-03-09T18:10:44.033959Z",
     "iopub.status.busy": "2022-03-09T18:10:44.033349Z",
     "iopub.status.idle": "2022-03-09T18:10:44.042293Z",
     "shell.execute_reply": "2022-03-09T18:10:44.042889Z",
     "shell.execute_reply.started": "2022-03-09T18:03:24.939342Z"
    },
    "papermill": {
     "duration": 0.024647,
     "end_time": "2022-03-09T18:10:44.043063",
     "exception": false,
     "start_time": "2022-03-09T18:10:44.018416",
     "status": "completed"
    },
    "tags": []
   },
   "outputs": [
    {
     "data": {
      "text/plain": [
       "Name      object\n",
       "Age       object\n",
       "City      object\n",
       "Marks    float64\n",
       "dtype: object"
      ]
     },
     "execution_count": 6,
     "metadata": {},
     "output_type": "execute_result"
    }
   ],
   "source": [
    "df.dtypes"
   ]
  },
  {
   "cell_type": "code",
   "execution_count": null,
   "id": "d434cb41",
   "metadata": {
    "papermill": {
     "duration": 0.012601,
     "end_time": "2022-03-09T18:10:44.069087",
     "exception": false,
     "start_time": "2022-03-09T18:10:44.056486",
     "status": "completed"
    },
    "tags": []
   },
   "outputs": [],
   "source": []
  }
 ],
 "metadata": {
  "kernelspec": {
   "display_name": "Python 3",
   "language": "python",
   "name": "python3"
  },
  "language_info": {
   "codemirror_mode": {
    "name": "ipython",
    "version": 3
   },
   "file_extension": ".py",
   "mimetype": "text/x-python",
   "name": "python",
   "nbconvert_exporter": "python",
   "pygments_lexer": "ipython3",
   "version": "3.7.12"
  },
  "papermill": {
   "default_parameters": {},
   "duration": 11.199912,
   "end_time": "2022-03-09T18:10:44.691785",
   "environment_variables": {},
   "exception": null,
   "input_path": "__notebook__.ipynb",
   "output_path": "__notebook__.ipynb",
   "parameters": {},
   "start_time": "2022-03-09T18:10:33.491873",
   "version": "2.3.3"
  }
 },
 "nbformat": 4,
 "nbformat_minor": 5
}
